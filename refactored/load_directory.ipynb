{
 "cells": [
  {
   "cell_type": "markdown",
   "metadata": {},
   "source": [
    "# Loading directories with multiple files for each ensemble"
   ]
  },
  {
   "cell_type": "code",
   "execution_count": 1,
   "metadata": {},
   "outputs": [
    {
     "name": "stdout",
     "output_type": "stream",
     "text": [
      "Generating trajectory from directory: C:\\Users\\nikol\\Documents\\test_dir\\folder_\\folder_1.\n",
      "Saving trajectory.\n",
      "Generating trajectory from directory: C:\\Users\\nikol\\Documents\\test_dir\\folder_\\folder_2.\n",
      "Saving trajectory.\n"
     ]
    }
   ],
   "source": [
    "import os\n",
    "from ensemble_analysis import EnsembleAnalysis\n",
    "\n",
    "ens_codes = [\n",
    "    \"folder_1\",\n",
    "    \"folder_2\"\n",
    "]\n",
    "data_dir = 'C:/Users/nikol/Documents/test_dir/folder_'\n",
    "\n",
    "analysis = EnsembleAnalysis(ens_codes, data_dir)\n",
    "analysis.generate_trajectories()"
   ]
  }
 ],
 "metadata": {
  "kernelspec": {
   "display_name": "tensorflowgpu",
   "language": "python",
   "name": "python3"
  },
  "language_info": {
   "codemirror_mode": {
    "name": "ipython",
    "version": 3
   },
   "file_extension": ".py",
   "mimetype": "text/x-python",
   "name": "python",
   "nbconvert_exporter": "python",
   "pygments_lexer": "ipython3",
   "version": "3.10.13"
  }
 },
 "nbformat": 4,
 "nbformat_minor": 2
}
