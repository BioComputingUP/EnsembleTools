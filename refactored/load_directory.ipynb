{
 "cells": [
  {
   "cell_type": "markdown",
   "metadata": {},
   "source": [
    "# Loading directories with multiple files for each ensemble"
   ]
  },
  {
   "cell_type": "code",
   "execution_count": 1,
   "metadata": {},
   "outputs": [
    {
     "name": "stdout",
     "output_type": "stream",
     "text": [
      "Downloading entry 3a1g_B from Atlas.\n",
      "Download complete. Saved to: C:\\Users\\nikol\\Documents\\test_dir\\atlas\\3a1g_B.zip\n",
      "Downloaded file 3a1g_B.zip from Atlas.\n",
      "Extracted directory C:\\Users\\nikol\\Documents\\test_dir\\atlas.\n",
      "Downloading entry 3a1g_A from Atlas.\n",
      "Download complete. Saved to: C:\\Users\\nikol\\Documents\\test_dir\\atlas\\3a1g_A.zip\n",
      "Downloaded file 3a1g_A.zip from Atlas.\n",
      "Extracted directory C:\\Users\\nikol\\Documents\\test_dir\\atlas.\n",
      "Copied and renamed C:\\Users\\nikol\\Documents\\test_dir\\atlas\\3a1g_B.pdb to C:\\Users\\nikol\\Documents\\test_dir\\atlas\\3a1g_B_prod_R1_fit.top.pdb.\n",
      "Copied and renamed C:\\Users\\nikol\\Documents\\test_dir\\atlas\\3a1g_B.pdb to C:\\Users\\nikol\\Documents\\test_dir\\atlas\\3a1g_B_prod_R2_fit.top.pdb.\n",
      "Copied and renamed C:\\Users\\nikol\\Documents\\test_dir\\atlas\\3a1g_B.pdb to C:\\Users\\nikol\\Documents\\test_dir\\atlas\\3a1g_B_prod_R3_fit.top.pdb.\n",
      "Copied and renamed C:\\Users\\nikol\\Documents\\test_dir\\atlas\\3a1g_A.pdb to C:\\Users\\nikol\\Documents\\test_dir\\atlas\\3a1g_A_prod_R1_fit.top.pdb.\n",
      "Copied and renamed C:\\Users\\nikol\\Documents\\test_dir\\atlas\\3a1g_A.pdb to C:\\Users\\nikol\\Documents\\test_dir\\atlas\\3a1g_A_prod_R2_fit.top.pdb.\n",
      "Copied and renamed C:\\Users\\nikol\\Documents\\test_dir\\atlas\\3a1g_A.pdb to C:\\Users\\nikol\\Documents\\test_dir\\atlas\\3a1g_A_prod_R3_fit.top.pdb.\n"
     ]
    }
   ],
   "source": [
    "import os\n",
    "from ensemble_analysis import EnsembleAnalysis\n",
    "\n",
    "ens_codes = [\n",
    "    \"3a1g_B\",\n",
    "    \"3a1g_A\"\n",
    "]\n",
    "data_dir = 'C:/Users/nikol/Documents/test_dir/atlas'\n",
    "traj_top = os.path.join(data_dir, \"3a1g_B.pdb\")\n",
    "\n",
    "analysis = EnsembleAnalysis(ens_codes, data_dir)\n",
    "#analysis.download_from_ped()\n",
    "#analysis.generate_trajectories(traj_top)\n",
    "analysis.download_from_atlas()"
   ]
  }
 ],
 "metadata": {
  "kernelspec": {
   "display_name": "tensorflowgpu",
   "language": "python",
   "name": "python3"
  },
  "language_info": {
   "codemirror_mode": {
    "name": "ipython",
    "version": 3
   },
   "file_extension": ".py",
   "mimetype": "text/x-python",
   "name": "python",
   "nbconvert_exporter": "python",
   "pygments_lexer": "ipython3",
   "version": "3.10.13"
  }
 },
 "nbformat": 4,
 "nbformat_minor": 2
}
