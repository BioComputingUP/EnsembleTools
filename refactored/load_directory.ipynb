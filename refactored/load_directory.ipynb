{
 "cells": [
  {
   "cell_type": "markdown",
   "metadata": {},
   "source": [
    "# Loading directories with multiple files for each ensemble"
   ]
  },
  {
   "cell_type": "code",
   "execution_count": 1,
   "metadata": {},
   "outputs": [
    {
     "name": "stdout",
     "output_type": "stream",
     "text": [
      "Entry folder_1 does not match the pattern and will be skipped.\n",
      "Entry folder_2 does not match the pattern and will be skipped.\n",
      "https://deposition.proteinensemble.org/api/v1/entries/PED00423/ensembles/e001/ensemble-pdb\n",
      "Download complete. Saved to: C:/Users/nikol/Documents/test_dir\\PED00423e001.tar.gz\n",
      "Downloaded file PED00423e001.tar.gz from PED.\n",
      "Extracted file PED00423e001.pdb.\n",
      "https://deposition.proteinensemble.org/api/v1/entries/PED00424/ensembles/e001/ensemble-pdb\n",
      "Download complete. Saved to: C:/Users/nikol/Documents/test_dir\\PED00424e001.tar.gz\n",
      "Downloaded file PED00424e001.tar.gz from PED.\n",
      "Extracted file PED00424e001.pdb.\n",
      "Generating trajectory from directory: C:/Users/nikol/Documents/test_dir\\folder_1.\n",
      "Saving trajectory.\n",
      "Generating trajectory from directory: C:/Users/nikol/Documents/test_dir\\folder_2.\n",
      "Saving trajectory.\n",
      "Generating trajectory from PDB file: C:/Users/nikol/Documents/test_dir\\PED00423e001.pdb.\n",
      "Saving trajectory.\n",
      "Generating trajectory from PDB file: C:/Users/nikol/Documents/test_dir\\PED00424e001.pdb.\n",
      "Saving trajectory.\n"
     ]
    }
   ],
   "source": [
    "from ensemble_analysis import EnsembleAnalysis\n",
    "\n",
    "ens_codes = [\n",
    "    \"folder_1\",\n",
    "    \"folder_2\",\n",
    "    \"PED00423e001\",\n",
    "    \"PED00424e001\"\n",
    "]\n",
    "data_dir = 'C:/Users/nikol/Documents/test_dir'\n",
    "\n",
    "featurization_params = {'featurization': \"ca_dist\", \"seq_sep\": 2, \"normalize\": True}\n",
    "reduce_dim_params = {'method': \"pca\", \"num_dim\":None}\n",
    "\n",
    "analysis = EnsembleAnalysis(ens_codes, data_dir)\n",
    "analysis.download_from_ped()\n",
    "analysis.generate_trajectories()"
   ]
  }
 ],
 "metadata": {
  "kernelspec": {
   "display_name": "tensorflowgpu",
   "language": "python",
   "name": "python3"
  },
  "language_info": {
   "codemirror_mode": {
    "name": "ipython",
    "version": 3
   },
   "file_extension": ".py",
   "mimetype": "text/x-python",
   "name": "python",
   "nbconvert_exporter": "python",
   "pygments_lexer": "ipython3",
   "version": "3.10.13"
  }
 },
 "nbformat": 4,
 "nbformat_minor": 2
}
