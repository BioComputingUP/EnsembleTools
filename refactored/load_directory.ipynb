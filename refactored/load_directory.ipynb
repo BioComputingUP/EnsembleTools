{
 "cells": [
  {
   "cell_type": "markdown",
   "metadata": {},
   "source": [
    "# Loading directories with multiple files for each ensemble"
   ]
  },
  {
   "cell_type": "code",
   "execution_count": 1,
   "metadata": {},
   "outputs": [
    {
     "name": "stdout",
     "output_type": "stream",
     "text": [
      "Entry 3a1g_B_prod_R1_fit does not match the pattern and will be skipped.\n",
      "Entry 3a1g_B_prod_R2_fit does not match the pattern and will be skipped.\n",
      "Entry 3a1g_B_prod_R3_fit does not match the pattern and will be skipped.\n",
      "Trajectory already exists for ensemble 3a1g_B_prod_R1_fit. Loading trajectory.\n",
      "Trajectory already exists for ensemble 3a1g_B_prod_R2_fit. Loading trajectory.\n",
      "Trajectory already exists for ensemble 3a1g_B_prod_R3_fit. Loading trajectory.\n"
     ]
    }
   ],
   "source": [
    "import os\n",
    "from ensemble_analysis import EnsembleAnalysis\n",
    "\n",
    "ens_codes = [\n",
    "    \"3a1g_B_prod_R1_fit\",\n",
    "    \"3a1g_B_prod_R2_fit\",\n",
    "    \"3a1g_B_prod_R3_fit\"\n",
    "]\n",
    "data_dir = 'C:/Users/nikol/Documents/test_dir/3a1g_B'\n",
    "traj_top = os.path.join(data_dir, \"3a1g_B.pdb\")\n",
    "\n",
    "analysis = EnsembleAnalysis(ens_codes, data_dir)\n",
    "analysis.download_from_ped()\n",
    "analysis.generate_trajectories(traj_top)"
   ]
  }
 ],
 "metadata": {
  "kernelspec": {
   "display_name": "tensorflowgpu",
   "language": "python",
   "name": "python3"
  },
  "language_info": {
   "codemirror_mode": {
    "name": "ipython",
    "version": 3
   },
   "file_extension": ".py",
   "mimetype": "text/x-python",
   "name": "python",
   "nbconvert_exporter": "python",
   "pygments_lexer": "ipython3",
   "version": "3.10.13"
  }
 },
 "nbformat": 4,
 "nbformat_minor": 2
}
