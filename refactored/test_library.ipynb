{
 "cells": [
  {
   "cell_type": "code",
   "execution_count": 1,
   "metadata": {},
   "outputs": [],
   "source": [
    "from ensemble_analysis import EnsembleAnalysis\n",
    "from ped_entry import PedEntry"
   ]
  },
  {
   "cell_type": "code",
   "execution_count": 2,
   "metadata": {},
   "outputs": [
    {
     "name": "stdout",
     "output_type": "stream",
     "text": [
      "File PED00423_e001.pdb already exists. Skipping download.\n",
      "File PED00424_e001.pdb already exists. Skipping download.\n"
     ]
    }
   ],
   "source": [
    "# Example usage:\n",
    "ped_entries = [\n",
    "    PedEntry('PED00423', ['e001']),\n",
    "    PedEntry('PED00424', ['e001']),\n",
    "]\n",
    "data_dir = 'C:/Users/nikol/Documents/test_dir'\n",
    "\n",
    "analysis = EnsembleAnalysis(ped_entries, data_dir)\n",
    "analysis.download_from_ped()\n"
   ]
  }
 ],
 "metadata": {
  "kernelspec": {
   "display_name": "tensorflowgpu",
   "language": "python",
   "name": "python3"
  },
  "language_info": {
   "codemirror_mode": {
    "name": "ipython",
    "version": 3
   },
   "file_extension": ".py",
   "mimetype": "text/x-python",
   "name": "python",
   "nbconvert_exporter": "python",
   "pygments_lexer": "ipython3",
   "version": "3.10.13"
  }
 },
 "nbformat": 4,
 "nbformat_minor": 2
}
