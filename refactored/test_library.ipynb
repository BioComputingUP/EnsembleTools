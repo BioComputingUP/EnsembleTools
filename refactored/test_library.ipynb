{
 "cells": [
  {
   "cell_type": "code",
   "execution_count": 1,
   "metadata": {},
   "outputs": [],
   "source": [
    "from ensemble_analysis import EnsembleAnalysis"
   ]
  },
  {
   "cell_type": "code",
   "execution_count": 2,
   "metadata": {},
   "outputs": [
    {
     "name": "stdout",
     "output_type": "stream",
     "text": [
      "Content-Length: 23107820\n",
      "Content-Type: application/gzip\n",
      "Download complete. Saved to: C:/Users/nikol/Documents/test_dir\\PED00423_e001.tar.gz\n",
      "Reading contents of pdbfile.pdb\n"
     ]
    }
   ],
   "source": [
    "ped_id = 'PED00423'\n",
    "ensemble_id = 'e001'\n",
    "data_dir = 'C:/Users/nikol/Documents/test_dir'\n",
    "pipeline = EnsembleAnalysis(ped_id=ped_id,ensemble_id=ensemble_id,data_dir=data_dir)"
   ]
  }
 ],
 "metadata": {
  "kernelspec": {
   "display_name": "tensorflowgpu",
   "language": "python",
   "name": "python3"
  },
  "language_info": {
   "codemirror_mode": {
    "name": "ipython",
    "version": 3
   },
   "file_extension": ".py",
   "mimetype": "text/x-python",
   "name": "python",
   "nbconvert_exporter": "python",
   "pygments_lexer": "ipython3",
   "version": "3.10.13"
  }
 },
 "nbformat": 4,
 "nbformat_minor": 2
}
