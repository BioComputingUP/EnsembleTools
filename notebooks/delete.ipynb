{
 "cells": [
  {
   "cell_type": "code",
   "execution_count": 1,
   "metadata": {},
   "outputs": [
    {
     "name": "stderr",
     "output_type": "stream",
     "text": [
      "c:\\Users\\nikol\\anaconda3\\envs\\tensorflowgpu\\lib\\site-packages\\tqdm\\auto.py:21: TqdmWarning: IProgress not found. Please update jupyter and ipywidgets. See https://ipywidgets.readthedocs.io/en/stable/user_install.html\n",
      "  from .autonotebook import tqdm as notebook_tqdm\n"
     ]
    },
    {
     "name": "stdout",
     "output_type": "stream",
     "text": [
      "File already exists. Skipping download.\n",
      "Extracted file C:\\Users\\nikol\\Documents\\test_dir\\testington\\3a1g_B.zip.\n"
     ]
    },
    {
     "data": {
      "text/plain": [
       "[<dpet.ensemble.Ensemble at 0x19ec68adc00>,\n",
       " <dpet.ensemble.Ensemble at 0x19ec68adcc0>,\n",
       " <dpet.ensemble.Ensemble at 0x19ec68add80>]"
      ]
     },
     "execution_count": 1,
     "metadata": {},
     "output_type": "execute_result"
    }
   ],
   "source": [
    "import sys\n",
    "sys.path.append('C:/Users/nikol/Documents/GitHub/EnsembleTools')\n",
    "\n",
    "from dpet.ensemble import Ensemble\n",
    "from dpet.ensemble_analysis import EnsembleAnalysis\n",
    "\n",
    "ensembles = [\n",
    "    Ensemble(ens_code='3a1g_B'),\n",
    "    #Ensemble(ens_code='PED00157e001')\n",
    "]\n",
    "\n",
    "analysis = EnsembleAnalysis(ensembles=ensembles, data_dir='C:/Users/nikol/Documents/test_dir/testington')\n",
    "analysis.download_from_atlas()\n",
    "#analysis.load_trajectories()"
   ]
  },
  {
   "cell_type": "code",
   "execution_count": 2,
   "metadata": {},
   "outputs": [
    {
     "name": "stdout",
     "output_type": "stream",
     "text": [
      "C:\\Users\\nikol\\Documents\\test_dir\\testington\\3a1g_B_prod_R1_fit.xtc\n",
      "C:\\Users\\nikol\\Documents\\test_dir\\testington\\3a1g_B.pdb\n",
      "C:\\Users\\nikol\\Documents\\test_dir\\testington\\3a1g_B_prod_R2_fit.xtc\n",
      "C:\\Users\\nikol\\Documents\\test_dir\\testington\\3a1g_B.pdb\n",
      "C:\\Users\\nikol\\Documents\\test_dir\\testington\\3a1g_B_prod_R3_fit.xtc\n",
      "C:\\Users\\nikol\\Documents\\test_dir\\testington\\3a1g_B.pdb\n"
     ]
    }
   ],
   "source": [
    "for ens in analysis.ensembles:\n",
    "    print(ens.data_path)\n",
    "    print(ens.top_path)"
   ]
  }
 ],
 "metadata": {
  "kernelspec": {
   "display_name": "tensorflowgpu",
   "language": "python",
   "name": "python3"
  },
  "language_info": {
   "codemirror_mode": {
    "name": "ipython",
    "version": 3
   },
   "file_extension": ".py",
   "mimetype": "text/x-python",
   "name": "python",
   "nbconvert_exporter": "python",
   "pygments_lexer": "ipython3",
   "version": "3.10.13"
  }
 },
 "nbformat": 4,
 "nbformat_minor": 2
}
