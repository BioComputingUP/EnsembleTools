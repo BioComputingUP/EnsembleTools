{
 "cells": [
  {
   "cell_type": "code",
   "execution_count": 1,
   "metadata": {},
   "outputs": [
    {
     "name": "stderr",
     "output_type": "stream",
     "text": [
      "c:\\Users\\nikol\\anaconda3\\envs\\tensorflowgpu\\lib\\site-packages\\tqdm\\auto.py:21: TqdmWarning: IProgress not found. Please update jupyter and ipywidgets. See https://ipywidgets.readthedocs.io/en/stable/user_install.html\n",
      "  from .autonotebook import tqdm as notebook_tqdm\n"
     ]
    },
    {
     "name": "stdout",
     "output_type": "stream",
     "text": [
      "File already exists. Skipping download.\n",
      "Extracted file C:\\Users\\nikol\\Documents\\test_dir\\testington\\3a1g_B.zip.\n",
      "Ensemble PED00157e001 already downloaded. Skipping.\n",
      "File PED00157e001.pdb already exists. Skipping extraction.\n",
      "3a1g_B_prod_R1_fit\n",
      "Trajectory already exists for ensemble 3a1g_B_prod_R1_fit. Loading trajectory.\n",
      "3a1g_B_prod_R2_fit\n",
      "Trajectory already exists for ensemble 3a1g_B_prod_R2_fit. Loading trajectory.\n",
      "3a1g_B_prod_R3_fit\n",
      "Trajectory already exists for ensemble 3a1g_B_prod_R3_fit. Loading trajectory.\n",
      "PED00157e001\n",
      "Generating trajectory from PDB file: C:\\Users\\nikol\\Documents\\test_dir\\testington\\PED00157e001.pdb.\n",
      "Saving trajectory.\n",
      "PED00156e001\n",
      "Generating trajectory from PDB file: C:/Users/nikol/Documents/test_dir/testington/PED00156e001.pdb.\n",
      "Saving trajectory.\n"
     ]
    }
   ],
   "source": [
    "import sys\n",
    "sys.path.append('C:/Users/nikol/Documents/GitHub/EnsembleTools')\n",
    "\n",
    "from dpet.ensemble import Ensemble\n",
    "from dpet.ensemble_analysis import EnsembleAnalysis\n",
    "\n",
    "ensembles = [\n",
    "    Ensemble(ens_code='3a1g_B', database='atlas'),\n",
    "    Ensemble(ens_code='PED00157e001', database='ped'),\n",
    "    Ensemble(ens_code='PED00156e001', data_path='C:/Users/nikol/Documents/test_dir/testington/PED00156e001.pdb')\n",
    "]\n",
    "\n",
    "analysis = EnsembleAnalysis(ensembles=ensembles, data_dir='C:/Users/nikol/Documents/test_dir/testington')\n",
    "#analysis.download_from_atlas()\n",
    "analysis.load_trajectories()"
   ]
  },
  {
   "cell_type": "code",
   "execution_count": 2,
   "metadata": {},
   "outputs": [
    {
     "name": "stdout",
     "output_type": "stream",
     "text": [
      "3a1g_B_prod_R1_fit\n",
      "C:\\Users\\nikol\\Documents\\test_dir\\testington\\3a1g_B_prod_R1_fit.xtc\n",
      "C:\\Users\\nikol\\Documents\\test_dir\\testington\\3a1g_B.pdb\n",
      "3a1g_B_prod_R2_fit\n",
      "C:\\Users\\nikol\\Documents\\test_dir\\testington\\3a1g_B_prod_R2_fit.xtc\n",
      "C:\\Users\\nikol\\Documents\\test_dir\\testington\\3a1g_B.pdb\n",
      "3a1g_B_prod_R3_fit\n",
      "C:\\Users\\nikol\\Documents\\test_dir\\testington\\3a1g_B_prod_R3_fit.xtc\n",
      "C:\\Users\\nikol\\Documents\\test_dir\\testington\\3a1g_B.pdb\n",
      "PED00157e001\n",
      "C:\\Users\\nikol\\Documents\\test_dir\\testington\\PED00157e001.pdb\n",
      "None\n",
      "PED00156e001\n",
      "C:/Users/nikol/Documents/test_dir/testington/PED00156e001.pdb\n",
      "None\n"
     ]
    }
   ],
   "source": [
    "for ens in analysis.ensembles:\n",
    "    print(ens.ens_code)\n",
    "    print(ens.data_path)\n",
    "    print(ens.top_path)"
   ]
  },
  {
   "cell_type": "code",
   "execution_count": null,
   "metadata": {},
   "outputs": [],
   "source": []
  }
 ],
 "metadata": {
  "kernelspec": {
   "display_name": "tensorflowgpu",
   "language": "python",
   "name": "python3"
  },
  "language_info": {
   "codemirror_mode": {
    "name": "ipython",
    "version": 3
   },
   "file_extension": ".py",
   "mimetype": "text/x-python",
   "name": "python",
   "nbconvert_exporter": "python",
   "pygments_lexer": "ipython3",
   "version": "3.10.13"
  }
 },
 "nbformat": 4,
 "nbformat_minor": 2
}
