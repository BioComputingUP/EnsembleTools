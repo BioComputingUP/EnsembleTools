{
 "cells": [
  {
   "cell_type": "code",
   "execution_count": 7,
   "metadata": {},
   "outputs": [
    {
     "name": "stdout",
     "output_type": "stream",
     "text": [
      "File already exists. Skipping download.\n",
      "Extracted file /home/hamid/PED_Data_analysis/nikola/3a1g_B.zip.\n",
      "Ensemble PED00157e001 already downloaded. Skipping.\n",
      "File PED00157e001.pdb already exists. Skipping extraction.\n",
      "Trajectory file already exists for ensemble PED00157e001.\n",
      "Loading trajectory for 3a1g_B_prod_R1_fit...\n",
      "Loading trajectory for 3a1g_B_prod_R2_fit...\n",
      "Loading trajectory for 3a1g_B_prod_R3_fit...\n",
      "Loading trajectory for PED00157e001...\n",
      "test chain ids: ['A']\n",
      "Generating trajectory for test...\n",
      "Generated trajectory saved to /home/hamid/PED_Data_analysis/nikola.\n",
      "Loading trajectory for PED00158e001...\n"
     ]
    },
    {
     "data": {
      "text/plain": [
       "{'3a1g_B_prod_R1_fit': <mdtraj.Trajectory with 10001 frames, 658 atoms, 40 residues, and unitcells at 0x77229b7458d0>,\n",
       " '3a1g_B_prod_R2_fit': <mdtraj.Trajectory with 10001 frames, 658 atoms, 40 residues, and unitcells at 0x77229bbb0050>,\n",
       " '3a1g_B_prod_R3_fit': <mdtraj.Trajectory with 10001 frames, 658 atoms, 40 residues, and unitcells at 0x7722a244b410>,\n",
       " 'PED00157e001': <mdtraj.Trajectory with 100 frames, 939 atoms, 59 residues, without unitcells at 0x7722a1a30490>,\n",
       " 'test': <mdtraj.Trajectory with 1000 frames, 1374 atoms, 92 residues, without unitcells at 0x7722a0d6dbd0>,\n",
       " 'PED00158e001': <mdtraj.Trajectory with 10 frames, 1392 atoms, 92 residues, without unitcells at 0x7722a15b2c10>}"
      ]
     },
     "execution_count": 7,
     "metadata": {},
     "output_type": "execute_result"
    }
   ],
   "source": [
    "import sys\n",
    "sys.path.append('/home/hamid/Desktop/EnsembleTools')\n",
    "\n",
    "from dpet.ensemble import Ensemble\n",
    "from dpet.ensemble_analysis import EnsembleAnalysis\n",
    "\n",
    "ensembles = [\n",
    "    Ensemble('3a1g_B', database='atlas'),\n",
    "    Ensemble('PED00157e001', database='ped'),\n",
    "    Ensemble('test', data_path='/home/hamid/PED_Data_analysis/pdbs/idpcg_pdb'),\n",
    "    Ensemble('PED00158e001', data_path='/home/hamid/PED_Data_analysis/nikola/PED00001e002.dcd', top_path='/home/hamid/PED_Data_analysis/nikola/PED00001e002.pdb')\n",
    "]\n",
    "\n",
    "analysis = EnsembleAnalysis(ensembles=ensembles, output_dir='/home/hamid/PED_Data_analysis/nikola')\n",
    "analysis.load_trajectories()"
   ]
  },
  {
   "cell_type": "code",
   "execution_count": null,
   "metadata": {},
   "outputs": [],
   "source": []
  }
 ],
 "metadata": {
  "kernelspec": {
   "display_name": "ped",
   "language": "python",
   "name": "python3"
  },
  "language_info": {
   "codemirror_mode": {
    "name": "ipython",
    "version": 3
   },
   "file_extension": ".py",
   "mimetype": "text/x-python",
   "name": "python",
   "nbconvert_exporter": "python",
   "pygments_lexer": "ipython3",
   "version": "3.11.5"
  }
 },
 "nbformat": 4,
 "nbformat_minor": 2
}
