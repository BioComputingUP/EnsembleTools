{
 "cells": [
  {
   "cell_type": "markdown",
   "metadata": {},
   "source": [
    "# t-SNE Analysis\n",
    "\n",
    "This notebook illustrate how to analyze IDP ensembles in IDPET via [t-distributed stochastic neighbor embedding](https://www.jmlr.org/papers/volume9/vandermaaten08a/vandermaaten08a.pdf) (t-SNE) implemented in [scikit-learn](https://scikit-learn.org/stable/modules/generated/sklearn.manifold.TSNE.html)."
   ]
  },
  {
   "cell_type": "markdown",
   "metadata": {},
   "source": [
    "## Load data from PED"
   ]
  },
  {
   "cell_type": "code",
   "execution_count": 2,
   "metadata": {},
   "outputs": [
    {
     "name": "stderr",
     "output_type": "stream",
     "text": [
      "Ensemble PED00156e001 already downloaded. Skipping.\n",
      "File PED00156e001.pdb already exists. Skipping extraction.\n",
      "Trajectory file already exists for ensemble PED00156e001.\n",
      "Ensemble PED00157e001 already downloaded. Skipping.\n",
      "File PED00157e001.pdb already exists. Skipping extraction.\n",
      "Trajectory file already exists for ensemble PED00157e001.\n",
      "Ensemble PED00158e001 already downloaded. Skipping.\n",
      "File PED00158e001.pdb already exists. Skipping extraction.\n",
      "Trajectory file already exists for ensemble PED00158e001.\n",
      "Loading trajectory for PED00156e001...\n",
      "Loading trajectory for PED00157e001...\n",
      "Loading trajectory for PED00158e001...\n"
     ]
    },
    {
     "data": {
      "text/plain": [
       "{'PED00156e001': <mdtraj.Trajectory with 100 frames, 941 atoms, 59 residues, without unitcells at 0x760dc4063090>,\n",
       " 'PED00157e001': <mdtraj.Trajectory with 100 frames, 939 atoms, 59 residues, without unitcells at 0x760dc3ba9250>,\n",
       " 'PED00158e001': <mdtraj.Trajectory with 88 frames, 939 atoms, 59 residues, without unitcells at 0x760dc1c2d750>}"
      ]
     },
     "execution_count": 2,
     "metadata": {},
     "output_type": "execute_result"
    }
   ],
   "source": [
    "import numpy as np\n",
    "import matplotlib.pyplot as plt\n",
    "from idpet.ensemble import Ensemble\n",
    "from idpet.ensemble_analysis import EnsembleAnalysis\n",
    "from idpet.visualization import Visualization\n",
    "from idpet.utils import set_verbosity\n",
    "\n",
    "\n",
    "set_verbosity(\"INFO\")  # Change verbosity level to show more information when performing the analysis.\n",
    "\n",
    "np.random.seed(2025)  # Set the random seed for reproducibility.\n",
    "\n",
    "ens_codes = [\n",
    "    Ensemble('PED00156e001', database='ped'),\n",
    "    Ensemble('PED00157e001', database='ped'),\n",
    "    Ensemble('PED00158e001', database='ped') \n",
    "]\n",
    "\n",
    "data_dir = None  # Add the path to a directory you wish in order to save the analysis\n",
    "analysis = EnsembleAnalysis(ens_codes, output_dir=data_dir)\n",
    "analysis.load_trajectories()"
   ]
  },
  {
   "cell_type": "code",
   "execution_count": 3,
   "metadata": {},
   "outputs": [
    {
     "name": "stderr",
     "output_type": "stream",
     "text": [
      "50 conformations sampled from PED00156e001 trajectory.\n",
      "50 conformations sampled from PED00157e001 trajectory.\n",
      "50 conformations sampled from PED00158e001 trajectory.\n"
     ]
    }
   ],
   "source": [
    "# Subsample the ensembles by randomly selecting 50 snapshots from each.\n",
    "analysis.random_sample_trajectories(sample_size=50);"
   ]
  },
  {
   "cell_type": "markdown",
   "metadata": {},
   "source": [
    "## Featurization\n",
    "\n",
    "Represent molecular conformations as their set of Ca-Ca distances."
   ]
  },
  {
   "cell_type": "code",
   "execution_count": 4,
   "metadata": {},
   "outputs": [
    {
     "name": "stderr",
     "output_type": "stream",
     "text": [
      "Performing feature extraction for Ensemble: PED00156e001.\n",
      "Transformed ensemble shape: (50, 1653)\n",
      "Performing feature extraction for Ensemble: PED00157e001.\n",
      "Transformed ensemble shape: (50, 1653)\n",
      "Performing feature extraction for Ensemble: PED00158e001.\n",
      "Transformed ensemble shape: (50, 1653)\n"
     ]
    }
   ],
   "source": [
    "analysis.extract_features(featurization='ca_dist');"
   ]
  },
  {
   "cell_type": "markdown",
   "metadata": {},
   "source": [
    "## Dimensionality Reduction\n",
    "\n",
    "Perform t-SNE."
   ]
  },
  {
   "cell_type": "code",
   "execution_count": 5,
   "metadata": {},
   "outputs": [
    {
     "name": "stderr",
     "output_type": "stream",
     "text": [
      "Concatenated featurized ensemble shape: (150, 1653)\n",
      "tsne is running...\n",
      "Best Perplexity: 20\n",
      "Best Number of Clusters: 3\n",
      "Silhouette Score Low Dimensional: 0.5980519652366638\n",
      "Silhouette Score High Dimensional: 0.25773754715919495\n",
      "Silhouette Score Product: 0.154140442609787\n",
      "Reduced dimensionality ensemble shape: (50, 2)\n",
      "Reduced dimensionality ensemble shape: (50, 2)\n",
      "Reduced dimensionality ensemble shape: (50, 2)\n"
     ]
    }
   ],
   "source": [
    "analysis.reduce_features(\n",
    "    method='tsne',\n",
    "    perplexity_vals=[10, 20,  50, 100],\n",
    "    circular=False,\n",
    "    range_n_clusters=range(2,10,1),\n",
    "    random_state=2025\n",
    ");"
   ]
  },
  {
   "cell_type": "markdown",
   "metadata": {},
   "source": [
    "## Analysis"
   ]
  },
  {
   "cell_type": "code",
   "execution_count": 6,
   "metadata": {},
   "outputs": [],
   "source": [
    "vis = Visualization(analysis)"
   ]
  },
  {
   "cell_type": "markdown",
   "metadata": {},
   "source": [
    "The preferred and comprehensive method for easily visualizing t-SNE results is `dimensionality_reduction_scatter`.\n",
    "\n",
    "It will show three scatterplots where each datapoint represent a conformation embedded in a 2d space. The scatterplots show conformations colored according to:\n",
    "* Their original ensemble (**original labels**).\n",
    "* Their cluster identified during the hyper-parameter selection scheme of t-SNE (**clustering labels**).\n",
    "* The value of one of these molecular features: \"rg\", \"prolateness\", \"asphericity\", \"sasa\", and \"end_to_end\".\n",
    "\n",
    "The method will also show:\n",
    "* A kernel density estimate (KDE) of the distribution of the embedded conformations.\n",
    "* Optional, an interactive 2d plot created with the plotly library with conformations colored according to the selected molecular feature."
   ]
  },
  {
   "cell_type": "code",
   "execution_count": 7,
   "metadata": {},
   "outputs": [
    {
     "data": {
      "application/vnd.plotly.v1+json": {
       "config": {
        "plotlyServerURL": "https://plot.ly"
       },
       "data": [
        {
         "customdata": [
          [
           "model1_PED00156e001"
          ],
          [
           "model2_PED00156e001"
          ],
          [
           "model3_PED00156e001"
          ],
          [
           "model4_PED00156e001"
          ],
          [
           "model5_PED00156e001"
          ],
          [
           "model6_PED00156e001"
          ],
          [
           "model7_PED00156e001"
          ],
          [
           "model8_PED00156e001"
          ],
          [
           "model9_PED00156e001"
          ],
          [
           "model10_PED00156e001"
          ],
          [
           "model11_PED00156e001"
          ],
          [
           "model12_PED00156e001"
          ],
          [
           "model13_PED00156e001"
          ],
          [
           "model14_PED00156e001"
          ],
          [
           "model15_PED00156e001"
          ],
          [
           "model16_PED00156e001"
          ],
          [
           "model17_PED00156e001"
          ],
          [
           "model18_PED00156e001"
          ],
          [
           "model19_PED00156e001"
          ],
          [
           "model20_PED00156e001"
          ],
          [
           "model21_PED00156e001"
          ],
          [
           "model22_PED00156e001"
          ],
          [
           "model23_PED00156e001"
          ],
          [
           "model24_PED00156e001"
          ],
          [
           "model25_PED00156e001"
          ],
          [
           "model26_PED00156e001"
          ],
          [
           "model27_PED00156e001"
          ],
          [
           "model28_PED00156e001"
          ],
          [
           "model29_PED00156e001"
          ],
          [
           "model30_PED00156e001"
          ],
          [
           "model31_PED00156e001"
          ],
          [
           "model32_PED00156e001"
          ],
          [
           "model33_PED00156e001"
          ],
          [
           "model34_PED00156e001"
          ],
          [
           "model35_PED00156e001"
          ],
          [
           "model36_PED00156e001"
          ],
          [
           "model37_PED00156e001"
          ],
          [
           "model38_PED00156e001"
          ],
          [
           "model39_PED00156e001"
          ],
          [
           "model40_PED00156e001"
          ],
          [
           "model41_PED00156e001"
          ],
          [
           "model42_PED00156e001"
          ],
          [
           "model43_PED00156e001"
          ],
          [
           "model44_PED00156e001"
          ],
          [
           "model45_PED00156e001"
          ],
          [
           "model46_PED00156e001"
          ],
          [
           "model47_PED00156e001"
          ],
          [
           "model48_PED00156e001"
          ],
          [
           "model49_PED00156e001"
          ],
          [
           "model50_PED00156e001"
          ],
          [
           "model1_PED00157e001"
          ],
          [
           "model2_PED00157e001"
          ],
          [
           "model3_PED00157e001"
          ],
          [
           "model4_PED00157e001"
          ],
          [
           "model5_PED00157e001"
          ],
          [
           "model6_PED00157e001"
          ],
          [
           "model7_PED00157e001"
          ],
          [
           "model8_PED00157e001"
          ],
          [
           "model9_PED00157e001"
          ],
          [
           "model10_PED00157e001"
          ],
          [
           "model11_PED00157e001"
          ],
          [
           "model12_PED00157e001"
          ],
          [
           "model13_PED00157e001"
          ],
          [
           "model14_PED00157e001"
          ],
          [
           "model15_PED00157e001"
          ],
          [
           "model16_PED00157e001"
          ],
          [
           "model17_PED00157e001"
          ],
          [
           "model18_PED00157e001"
          ],
          [
           "model19_PED00157e001"
          ],
          [
           "model20_PED00157e001"
          ],
          [
           "model21_PED00157e001"
          ],
          [
           "model22_PED00157e001"
          ],
          [
           "model23_PED00157e001"
          ],
          [
           "model24_PED00157e001"
          ],
          [
           "model25_PED00157e001"
          ],
          [
           "model26_PED00157e001"
          ],
          [
           "model27_PED00157e001"
          ],
          [
           "model28_PED00157e001"
          ],
          [
           "model29_PED00157e001"
          ],
          [
           "model30_PED00157e001"
          ],
          [
           "model31_PED00157e001"
          ],
          [
           "model32_PED00157e001"
          ],
          [
           "model33_PED00157e001"
          ],
          [
           "model34_PED00157e001"
          ],
          [
           "model35_PED00157e001"
          ],
          [
           "model36_PED00157e001"
          ],
          [
           "model37_PED00157e001"
          ],
          [
           "model38_PED00157e001"
          ],
          [
           "model39_PED00157e001"
          ],
          [
           "model40_PED00157e001"
          ],
          [
           "model41_PED00157e001"
          ],
          [
           "model42_PED00157e001"
          ],
          [
           "model43_PED00157e001"
          ],
          [
           "model44_PED00157e001"
          ],
          [
           "model45_PED00157e001"
          ],
          [
           "model46_PED00157e001"
          ],
          [
           "model47_PED00157e001"
          ],
          [
           "model48_PED00157e001"
          ],
          [
           "model49_PED00157e001"
          ],
          [
           "model50_PED00157e001"
          ],
          [
           "model1_PED00158e001"
          ],
          [
           "model2_PED00158e001"
          ],
          [
           "model3_PED00158e001"
          ],
          [
           "model4_PED00158e001"
          ],
          [
           "model5_PED00158e001"
          ],
          [
           "model6_PED00158e001"
          ],
          [
           "model7_PED00158e001"
          ],
          [
           "model8_PED00158e001"
          ],
          [
           "model9_PED00158e001"
          ],
          [
           "model10_PED00158e001"
          ],
          [
           "model11_PED00158e001"
          ],
          [
           "model12_PED00158e001"
          ],
          [
           "model13_PED00158e001"
          ],
          [
           "model14_PED00158e001"
          ],
          [
           "model15_PED00158e001"
          ],
          [
           "model16_PED00158e001"
          ],
          [
           "model17_PED00158e001"
          ],
          [
           "model18_PED00158e001"
          ],
          [
           "model19_PED00158e001"
          ],
          [
           "model20_PED00158e001"
          ],
          [
           "model21_PED00158e001"
          ],
          [
           "model22_PED00158e001"
          ],
          [
           "model23_PED00158e001"
          ],
          [
           "model24_PED00158e001"
          ],
          [
           "model25_PED00158e001"
          ],
          [
           "model26_PED00158e001"
          ],
          [
           "model27_PED00158e001"
          ],
          [
           "model28_PED00158e001"
          ],
          [
           "model29_PED00158e001"
          ],
          [
           "model30_PED00158e001"
          ],
          [
           "model31_PED00158e001"
          ],
          [
           "model32_PED00158e001"
          ],
          [
           "model33_PED00158e001"
          ],
          [
           "model34_PED00158e001"
          ],
          [
           "model35_PED00158e001"
          ],
          [
           "model36_PED00158e001"
          ],
          [
           "model37_PED00158e001"
          ],
          [
           "model38_PED00158e001"
          ],
          [
           "model39_PED00158e001"
          ],
          [
           "model40_PED00158e001"
          ],
          [
           "model41_PED00158e001"
          ],
          [
           "model42_PED00158e001"
          ],
          [
           "model43_PED00158e001"
          ],
          [
           "model44_PED00158e001"
          ],
          [
           "model45_PED00158e001"
          ],
          [
           "model46_PED00158e001"
          ],
          [
           "model47_PED00158e001"
          ],
          [
           "model48_PED00158e001"
          ],
          [
           "model49_PED00158e001"
          ],
          [
           "model50_PED00158e001"
          ]
         ],
         "hovertemplate": "t-SNE 1=%{x}<br>t-SNE 2=%{y}<br>index=%{customdata[0]}<br>color=%{marker.color}<extra></extra>",
         "legendgroup": "",
         "marker": {
          "color": [
           3.432922124862671,
           3.0458450317382812,
           4.853924751281738,
           5.420853137969971,
           2.3565127849578857,
           9.262938499450684,
           8.72966194152832,
           2.431206703186035,
           2.661436080932617,
           2.619791030883789,
           10.01131534576416,
           6.142296314239502,
           6.0829010009765625,
           7.1251540184021,
           6.09631872177124,
           2.318725347518921,
           2.2666027545928955,
           3.716123104095459,
           7.532559871673584,
           2.455751895904541,
           3.1768639087677,
           5.827459812164307,
           6.602384090423584,
           4.094866752624512,
           2.0102126598358154,
           2.141697406768799,
           1.9722927808761597,
           2.3792498111724854,
           3.88081955909729,
           7.027379989624023,
           3.085087776184082,
           1.3528329133987427,
           2.342557191848755,
           10.87127685546875,
           2.325228691101074,
           4.151708602905273,
           2.5823495388031006,
           1.721186637878418,
           1.7707527875900269,
           2.291947841644287,
           9.376897811889648,
           5.452112197875977,
           4.58355188369751,
           10.765644073486328,
           3.316622734069824,
           9.274197578430176,
           1.6478610038757324,
           2.249330759048462,
           4.800302028656006,
           5.739815711975098,
           5.16562557220459,
           5.6504011154174805,
           3.6372811794281006,
           5.040911674499512,
           3.7934908866882324,
           4.285119533538818,
           6.506261348724365,
           3.8091628551483154,
           3.1281957626342773,
           6.123628616333008,
           4.373064994812012,
           3.8472039699554443,
           4.391786098480225,
           3.8061840534210205,
           3.7891147136688232,
           3.60791277885437,
           3.7934908866882324,
           5.010615348815918,
           5.171425819396973,
           4.185516834259033,
           5.822049140930176,
           6.62286901473999,
           0.8105339407920837,
           4.053831100463867,
           0.8105339407920837,
           2.5816609859466553,
           5.082697868347168,
           5.9295806884765625,
           4.649118900299072,
           4.259119510650635,
           4.666717529296875,
           2.7948925495147705,
           6.037863254547119,
           3.3043313026428223,
           5.092474460601807,
           7.429993629455566,
           2.518821954727173,
           4.949594020843506,
           0.9445164203643799,
           4.225184917449951,
           6.949528217315674,
           5.075538635253906,
           4.7310662269592285,
           2.8180315494537354,
           3.7208797931671143,
           3.4984381198883057,
           6.351169586181641,
           2.491521120071411,
           6.268089294433594,
           4.0634589195251465,
           3.5528204441070557,
           4.602827072143555,
           5.163606643676758,
           7.0299811363220215,
           3.985785961151123,
           3.81669545173645,
           0.73061603307724,
           6.1908955574035645,
           5.000533103942871,
           4.148596286773682,
           2.101921796798706,
           5.604063987731934,
           4.737968921661377,
           5.054646015167236,
           2.9180030822753906,
           4.689399242401123,
           3.0326077938079834,
           4.025338649749756,
           4.10245418548584,
           2.4502878189086914,
           5.033838272094727,
           3.5130929946899414,
           4.849122047424316,
           4.185516834259033,
           3.899477243423462,
           4.472810745239258,
           5.359138488769531,
           5.135858058929443,
           5.938007831573486,
           4.965817451477051,
           5.516921520233154,
           4.019550800323486,
           3.2389631271362305,
           4.673742771148682,
           4.0294671058654785,
           4.257137298583984,
           4.627098560333252,
           5.015103816986084,
           5.055866718292236,
           3.1531171798706055,
           4.503023624420166,
           5.097296237945557,
           4.822037220001221,
           4.217072010040283,
           1.7610872983932495,
           3.6876940727233887,
           4.8045654296875,
           5.056558609008789,
           5.417111396789551,
           4.286037445068359
          ],
          "coloraxis": "coloraxis",
          "symbol": "circle"
         },
         "mode": "markers",
         "name": "",
         "orientation": "v",
         "showlegend": false,
         "type": "scatter",
         "x": [
          11.059341430664062,
          -4.604668617248535,
          -8.002223014831543,
          -7.695450782775879,
          17.398420333862305,
          -11.240686416625977,
          -10.499608039855957,
          14.746788024902344,
          18.089704513549805,
          18.692607879638672,
          -11.902624130249023,
          1.793120265007019,
          -0.6515496969223022,
          -11.491865158081055,
          -8.986205101013184,
          19.144609451293945,
          16.361812591552734,
          19.491567611694336,
          -10.339681625366211,
          16.18705177307129,
          15.2393798828125,
          -9.849797248840332,
          -9.000235557556152,
          11.942974090576172,
          17.061307907104492,
          11.541693687438965,
          17.245519638061523,
          19.14657211303711,
          12.418827056884766,
          -6.816442489624023,
          16.096511840820312,
          18.262147903442383,
          18.597251892089844,
          -13.02912712097168,
          14.672348022460938,
          13.135138511657715,
          17.903995513916016,
          16.937549591064453,
          13.167080879211426,
          10.726326942443848,
          -12.302450180053711,
          -6.095452308654785,
          -3.6004841327667236,
          -12.24673843383789,
          15.394909858703613,
          -11.353095054626465,
          17.80084228515625,
          17.954059600830078,
          11.142504692077637,
          -2.067272186279297,
          -1.0172476768493652,
          -8.170736312866211,
          8.349959373474121,
          3.418602228164673,
          -3.2002367973327637,
          -5.986044883728027,
          1.7197198867797852,
          -5.168688774108887,
          0.6550721526145935,
          -8.438234329223633,
          6.548587799072266,
          -7.360058784484863,
          -6.004631996154785,
          -2.0195984840393066,
          -3.313232898712158,
          -3.355064630508423,
          -3.2002367973327637,
          -1.2512198686599731,
          -7.088245391845703,
          -8.583268165588379,
          -1.9022586345672607,
          -4.086590766906738,
          -4.2423577308654785,
          -0.1339515745639801,
          -4.2423577308654785,
          -0.758296012878418,
          -4.5583815574646,
          -6.523600101470947,
          -4.141228675842285,
          -7.58949613571167,
          -6.501091480255127,
          -4.704525947570801,
          -9.169926643371582,
          -3.745272397994995,
          -0.39399993419647217,
          -8.005071640014648,
          14.577606201171875,
          -6.308082580566406,
          13.201070785522461,
          -0.762804388999939,
          -9.407140731811523,
          2.367493152618408,
          5.144634246826172,
          -3.1640477180480957,
          6.814035415649414,
          1.1726154088974,
          -9.1220703125,
          8.381028175354004,
          -10.53632926940918,
          -3.1317434310913086,
          4.159674644470215,
          -0.4070534408092499,
          -5.5105366706848145,
          -7.168111801147461,
          -6.467759132385254,
          5.138803482055664,
          15.07726001739502,
          -6.452627658843994,
          -6.845866680145264,
          4.652283668518066,
          19.717073440551758,
          -8.872516632080078,
          -6.560201168060303,
          2.215653419494629,
          7.783618450164795,
          -2.3621206283569336,
          -5.51027774810791,
          -2.8474371433258057,
          -5.187161922454834,
          1.3238312005996704,
          0.2384725958108902,
          -1.832641363143921,
          3.535753011703491,
          -8.58331298828125,
          -6.922658920288086,
          -1.877346158027649,
          -3.655111789703369,
          -1.446276307106018,
          5.728369235992432,
          2.2023961544036865,
          -1.059496283531189,
          -1.9264581203460693,
          6.137052059173584,
          -2.767159938812256,
          -1.5206035375595093,
          10.841093063354492,
          -7.035706520080566,
          -0.3128982186317444,
          2.1730144023895264,
          -4.555572986602783,
          5.539374351501465,
          -6.226410865783691,
          2.377263069152832,
          -1.4490329027175903,
          13.747282981872559,
          -6.898701190948486,
          -5.110191345214844,
          -1.3569072484970093,
          4.349601745605469,
          -1.9110487699508667
         ],
         "xaxis": "x",
         "y": [
          2.67918062210083,
          8.218718528747559,
          13.8644380569458,
          -11.047271728515625,
          11.581734657287598,
          -14.807271003723145,
          -13.449256896972656,
          7.471358776092529,
          7.801145553588867,
          8.890093803405762,
          -13.900534629821777,
          -3.796351432800293,
          -2.420943021774292,
          11.287979125976562,
          -7.941965103149414,
          6.993020057678223,
          8.423272132873535,
          8.099273681640625,
          -12.65357780456543,
          6.494081974029541,
          11.317078590393066,
          -9.47856616973877,
          -9.129317283630371,
          6.492067813873291,
          7.623425483703613,
          8.954598426818848,
          9.782608985900879,
          11.347147941589355,
          10.135231018066406,
          -9.569719314575195,
          12.107867240905762,
          10.078598022460938,
          5.589663982391357,
          -14.407906532287598,
          8.785759925842285,
          6.991364002227783,
          6.1493377685546875,
          8.948890686035156,
          2.359341621398926,
          2.1967999935150146,
          -15.059953689575195,
          -8.848652839660645,
          6.324677467346191,
          -12.99858570098877,
          10.132734298706055,
          -12.512971878051758,
          8.653656005859375,
          12.02438735961914,
          9.950538635253906,
          -10.334057807922363,
          -8.569478034973145,
          -6.5658159255981445,
          -5.015076160430908,
          -6.192650318145752,
          -7.136723518371582,
          -7.2568488121032715,
          -2.4177920818328857,
          -0.6049842834472656,
          -10.727171897888184,
          15.281917572021484,
          -4.026724815368652,
          10.151834487915039,
          7.196028232574463,
          6.444222927093506,
          11.70482349395752,
          -1.0710872411727905,
          -7.136723518371582,
          15.279376029968262,
          14.74742603302002,
          -0.2660493552684784,
          -8.744402885437012,
          -9.384791374206543,
          3.1784205436706543,
          -10.570515632629395,
          3.1784205436706543,
          12.814144134521484,
          -3.691701650619507,
          -12.65312385559082,
          -6.289670467376709,
          -0.8504900336265564,
          11.954574584960938,
          15.429655075073242,
          -2.499316930770874,
          16.037141799926758,
          -3.2015278339385986,
          -12.631155014038086,
          5.273248672485352,
          15.201485633850098,
          1.8255492448806763,
          17.021682739257812,
          14.597709655761719,
          -8.410355567932129,
          -3.8379945755004883,
          9.259928703308105,
          -4.844923973083496,
          -6.142617702484131,
          -1.654288411140442,
          -1.9757009744644165,
          14.047425270080566,
          14.911471366882324,
          -7.773489952087402,
          16.401702880859375,
          13.605406761169434,
          -10.22140121459961,
          8.602543830871582,
          -5.281887531280518,
          13.238678932189941,
          -11.15513801574707,
          16.976806640625,
          -6.776340961456299,
          10.089241981506348,
          12.727696418762207,
          12.605895042419434,
          -5.462510108947754,
          -2.368462562561035,
          12.381929397583008,
          9.398323059082031,
          -5.504549026489258,
          -1.3892532587051392,
          -11.046806335449219,
          -5.073442459106445,
          10.288228988647461,
          -2.4254164695739746,
          -0.26610973477363586,
          7.915955543518066,
          8.971076011657715,
          -1.81062650680542,
          0.22216811776161194,
          -9.350993156433105,
          -8.756802558898926,
          3.2281858921051025,
          4.9035773277282715,
          -6.6734514236450195,
          5.4490203857421875,
          5.754230499267578,
          11.020658493041992,
          11.948598861694336,
          -7.588705539703369,
          -5.490467548370361,
          16.41583824157715,
          -7.766971111297607,
          16.28523063659668,
          -6.979604244232178,
          17.048051834106445,
          13.773889541625977,
          10.243386268615723,
          13.273959159851074,
          -1.0235989093780518,
          -2.5068180561065674,
          -6.628786563873291
         ],
         "yaxis": "y"
        }
       ],
       "layout": {
        "coloraxis": {
         "colorbar": {
          "title": {
           "text": "end_to_end [nm]"
          }
         },
         "colorscale": [
          [
           0,
           "#0d0887"
          ],
          [
           0.1111111111111111,
           "#46039f"
          ],
          [
           0.2222222222222222,
           "#7201a8"
          ],
          [
           0.3333333333333333,
           "#9c179e"
          ],
          [
           0.4444444444444444,
           "#bd3786"
          ],
          [
           0.5555555555555556,
           "#d8576b"
          ],
          [
           0.6666666666666666,
           "#ed7953"
          ],
          [
           0.7777777777777778,
           "#fb9f3a"
          ],
          [
           0.8888888888888888,
           "#fdca26"
          ],
          [
           1,
           "#f0f921"
          ]
         ]
        },
        "legend": {
         "tracegroupgap": 0
        },
        "margin": {
         "t": 60
        },
        "template": {
         "data": {
          "bar": [
           {
            "error_x": {
             "color": "#2a3f5f"
            },
            "error_y": {
             "color": "#2a3f5f"
            },
            "marker": {
             "line": {
              "color": "#E5ECF6",
              "width": 0.5
             },
             "pattern": {
              "fillmode": "overlay",
              "size": 10,
              "solidity": 0.2
             }
            },
            "type": "bar"
           }
          ],
          "barpolar": [
           {
            "marker": {
             "line": {
              "color": "#E5ECF6",
              "width": 0.5
             },
             "pattern": {
              "fillmode": "overlay",
              "size": 10,
              "solidity": 0.2
             }
            },
            "type": "barpolar"
           }
          ],
          "carpet": [
           {
            "aaxis": {
             "endlinecolor": "#2a3f5f",
             "gridcolor": "white",
             "linecolor": "white",
             "minorgridcolor": "white",
             "startlinecolor": "#2a3f5f"
            },
            "baxis": {
             "endlinecolor": "#2a3f5f",
             "gridcolor": "white",
             "linecolor": "white",
             "minorgridcolor": "white",
             "startlinecolor": "#2a3f5f"
            },
            "type": "carpet"
           }
          ],
          "choropleth": [
           {
            "colorbar": {
             "outlinewidth": 0,
             "ticks": ""
            },
            "type": "choropleth"
           }
          ],
          "contour": [
           {
            "colorbar": {
             "outlinewidth": 0,
             "ticks": ""
            },
            "colorscale": [
             [
              0,
              "#0d0887"
             ],
             [
              0.1111111111111111,
              "#46039f"
             ],
             [
              0.2222222222222222,
              "#7201a8"
             ],
             [
              0.3333333333333333,
              "#9c179e"
             ],
             [
              0.4444444444444444,
              "#bd3786"
             ],
             [
              0.5555555555555556,
              "#d8576b"
             ],
             [
              0.6666666666666666,
              "#ed7953"
             ],
             [
              0.7777777777777778,
              "#fb9f3a"
             ],
             [
              0.8888888888888888,
              "#fdca26"
             ],
             [
              1,
              "#f0f921"
             ]
            ],
            "type": "contour"
           }
          ],
          "contourcarpet": [
           {
            "colorbar": {
             "outlinewidth": 0,
             "ticks": ""
            },
            "type": "contourcarpet"
           }
          ],
          "heatmap": [
           {
            "colorbar": {
             "outlinewidth": 0,
             "ticks": ""
            },
            "colorscale": [
             [
              0,
              "#0d0887"
             ],
             [
              0.1111111111111111,
              "#46039f"
             ],
             [
              0.2222222222222222,
              "#7201a8"
             ],
             [
              0.3333333333333333,
              "#9c179e"
             ],
             [
              0.4444444444444444,
              "#bd3786"
             ],
             [
              0.5555555555555556,
              "#d8576b"
             ],
             [
              0.6666666666666666,
              "#ed7953"
             ],
             [
              0.7777777777777778,
              "#fb9f3a"
             ],
             [
              0.8888888888888888,
              "#fdca26"
             ],
             [
              1,
              "#f0f921"
             ]
            ],
            "type": "heatmap"
           }
          ],
          "heatmapgl": [
           {
            "colorbar": {
             "outlinewidth": 0,
             "ticks": ""
            },
            "colorscale": [
             [
              0,
              "#0d0887"
             ],
             [
              0.1111111111111111,
              "#46039f"
             ],
             [
              0.2222222222222222,
              "#7201a8"
             ],
             [
              0.3333333333333333,
              "#9c179e"
             ],
             [
              0.4444444444444444,
              "#bd3786"
             ],
             [
              0.5555555555555556,
              "#d8576b"
             ],
             [
              0.6666666666666666,
              "#ed7953"
             ],
             [
              0.7777777777777778,
              "#fb9f3a"
             ],
             [
              0.8888888888888888,
              "#fdca26"
             ],
             [
              1,
              "#f0f921"
             ]
            ],
            "type": "heatmapgl"
           }
          ],
          "histogram": [
           {
            "marker": {
             "pattern": {
              "fillmode": "overlay",
              "size": 10,
              "solidity": 0.2
             }
            },
            "type": "histogram"
           }
          ],
          "histogram2d": [
           {
            "colorbar": {
             "outlinewidth": 0,
             "ticks": ""
            },
            "colorscale": [
             [
              0,
              "#0d0887"
             ],
             [
              0.1111111111111111,
              "#46039f"
             ],
             [
              0.2222222222222222,
              "#7201a8"
             ],
             [
              0.3333333333333333,
              "#9c179e"
             ],
             [
              0.4444444444444444,
              "#bd3786"
             ],
             [
              0.5555555555555556,
              "#d8576b"
             ],
             [
              0.6666666666666666,
              "#ed7953"
             ],
             [
              0.7777777777777778,
              "#fb9f3a"
             ],
             [
              0.8888888888888888,
              "#fdca26"
             ],
             [
              1,
              "#f0f921"
             ]
            ],
            "type": "histogram2d"
           }
          ],
          "histogram2dcontour": [
           {
            "colorbar": {
             "outlinewidth": 0,
             "ticks": ""
            },
            "colorscale": [
             [
              0,
              "#0d0887"
             ],
             [
              0.1111111111111111,
              "#46039f"
             ],
             [
              0.2222222222222222,
              "#7201a8"
             ],
             [
              0.3333333333333333,
              "#9c179e"
             ],
             [
              0.4444444444444444,
              "#bd3786"
             ],
             [
              0.5555555555555556,
              "#d8576b"
             ],
             [
              0.6666666666666666,
              "#ed7953"
             ],
             [
              0.7777777777777778,
              "#fb9f3a"
             ],
             [
              0.8888888888888888,
              "#fdca26"
             ],
             [
              1,
              "#f0f921"
             ]
            ],
            "type": "histogram2dcontour"
           }
          ],
          "mesh3d": [
           {
            "colorbar": {
             "outlinewidth": 0,
             "ticks": ""
            },
            "type": "mesh3d"
           }
          ],
          "parcoords": [
           {
            "line": {
             "colorbar": {
              "outlinewidth": 0,
              "ticks": ""
             }
            },
            "type": "parcoords"
           }
          ],
          "pie": [
           {
            "automargin": true,
            "type": "pie"
           }
          ],
          "scatter": [
           {
            "fillpattern": {
             "fillmode": "overlay",
             "size": 10,
             "solidity": 0.2
            },
            "type": "scatter"
           }
          ],
          "scatter3d": [
           {
            "line": {
             "colorbar": {
              "outlinewidth": 0,
              "ticks": ""
             }
            },
            "marker": {
             "colorbar": {
              "outlinewidth": 0,
              "ticks": ""
             }
            },
            "type": "scatter3d"
           }
          ],
          "scattercarpet": [
           {
            "marker": {
             "colorbar": {
              "outlinewidth": 0,
              "ticks": ""
             }
            },
            "type": "scattercarpet"
           }
          ],
          "scattergeo": [
           {
            "marker": {
             "colorbar": {
              "outlinewidth": 0,
              "ticks": ""
             }
            },
            "type": "scattergeo"
           }
          ],
          "scattergl": [
           {
            "marker": {
             "colorbar": {
              "outlinewidth": 0,
              "ticks": ""
             }
            },
            "type": "scattergl"
           }
          ],
          "scattermapbox": [
           {
            "marker": {
             "colorbar": {
              "outlinewidth": 0,
              "ticks": ""
             }
            },
            "type": "scattermapbox"
           }
          ],
          "scatterpolar": [
           {
            "marker": {
             "colorbar": {
              "outlinewidth": 0,
              "ticks": ""
             }
            },
            "type": "scatterpolar"
           }
          ],
          "scatterpolargl": [
           {
            "marker": {
             "colorbar": {
              "outlinewidth": 0,
              "ticks": ""
             }
            },
            "type": "scatterpolargl"
           }
          ],
          "scatterternary": [
           {
            "marker": {
             "colorbar": {
              "outlinewidth": 0,
              "ticks": ""
             }
            },
            "type": "scatterternary"
           }
          ],
          "surface": [
           {
            "colorbar": {
             "outlinewidth": 0,
             "ticks": ""
            },
            "colorscale": [
             [
              0,
              "#0d0887"
             ],
             [
              0.1111111111111111,
              "#46039f"
             ],
             [
              0.2222222222222222,
              "#7201a8"
             ],
             [
              0.3333333333333333,
              "#9c179e"
             ],
             [
              0.4444444444444444,
              "#bd3786"
             ],
             [
              0.5555555555555556,
              "#d8576b"
             ],
             [
              0.6666666666666666,
              "#ed7953"
             ],
             [
              0.7777777777777778,
              "#fb9f3a"
             ],
             [
              0.8888888888888888,
              "#fdca26"
             ],
             [
              1,
              "#f0f921"
             ]
            ],
            "type": "surface"
           }
          ],
          "table": [
           {
            "cells": {
             "fill": {
              "color": "#EBF0F8"
             },
             "line": {
              "color": "white"
             }
            },
            "header": {
             "fill": {
              "color": "#C8D4E3"
             },
             "line": {
              "color": "white"
             }
            },
            "type": "table"
           }
          ]
         },
         "layout": {
          "annotationdefaults": {
           "arrowcolor": "#2a3f5f",
           "arrowhead": 0,
           "arrowwidth": 1
          },
          "autotypenumbers": "strict",
          "coloraxis": {
           "colorbar": {
            "outlinewidth": 0,
            "ticks": ""
           }
          },
          "colorscale": {
           "diverging": [
            [
             0,
             "#8e0152"
            ],
            [
             0.1,
             "#c51b7d"
            ],
            [
             0.2,
             "#de77ae"
            ],
            [
             0.3,
             "#f1b6da"
            ],
            [
             0.4,
             "#fde0ef"
            ],
            [
             0.5,
             "#f7f7f7"
            ],
            [
             0.6,
             "#e6f5d0"
            ],
            [
             0.7,
             "#b8e186"
            ],
            [
             0.8,
             "#7fbc41"
            ],
            [
             0.9,
             "#4d9221"
            ],
            [
             1,
             "#276419"
            ]
           ],
           "sequential": [
            [
             0,
             "#0d0887"
            ],
            [
             0.1111111111111111,
             "#46039f"
            ],
            [
             0.2222222222222222,
             "#7201a8"
            ],
            [
             0.3333333333333333,
             "#9c179e"
            ],
            [
             0.4444444444444444,
             "#bd3786"
            ],
            [
             0.5555555555555556,
             "#d8576b"
            ],
            [
             0.6666666666666666,
             "#ed7953"
            ],
            [
             0.7777777777777778,
             "#fb9f3a"
            ],
            [
             0.8888888888888888,
             "#fdca26"
            ],
            [
             1,
             "#f0f921"
            ]
           ],
           "sequentialminus": [
            [
             0,
             "#0d0887"
            ],
            [
             0.1111111111111111,
             "#46039f"
            ],
            [
             0.2222222222222222,
             "#7201a8"
            ],
            [
             0.3333333333333333,
             "#9c179e"
            ],
            [
             0.4444444444444444,
             "#bd3786"
            ],
            [
             0.5555555555555556,
             "#d8576b"
            ],
            [
             0.6666666666666666,
             "#ed7953"
            ],
            [
             0.7777777777777778,
             "#fb9f3a"
            ],
            [
             0.8888888888888888,
             "#fdca26"
            ],
            [
             1,
             "#f0f921"
            ]
           ]
          },
          "colorway": [
           "#636efa",
           "#EF553B",
           "#00cc96",
           "#ab63fa",
           "#FFA15A",
           "#19d3f3",
           "#FF6692",
           "#B6E880",
           "#FF97FF",
           "#FECB52"
          ],
          "font": {
           "color": "#2a3f5f"
          },
          "geo": {
           "bgcolor": "white",
           "lakecolor": "white",
           "landcolor": "#E5ECF6",
           "showlakes": true,
           "showland": true,
           "subunitcolor": "white"
          },
          "hoverlabel": {
           "align": "left"
          },
          "hovermode": "closest",
          "mapbox": {
           "style": "light"
          },
          "paper_bgcolor": "white",
          "plot_bgcolor": "#E5ECF6",
          "polar": {
           "angularaxis": {
            "gridcolor": "white",
            "linecolor": "white",
            "ticks": ""
           },
           "bgcolor": "#E5ECF6",
           "radialaxis": {
            "gridcolor": "white",
            "linecolor": "white",
            "ticks": ""
           }
          },
          "scene": {
           "xaxis": {
            "backgroundcolor": "#E5ECF6",
            "gridcolor": "white",
            "gridwidth": 2,
            "linecolor": "white",
            "showbackground": true,
            "ticks": "",
            "zerolinecolor": "white"
           },
           "yaxis": {
            "backgroundcolor": "#E5ECF6",
            "gridcolor": "white",
            "gridwidth": 2,
            "linecolor": "white",
            "showbackground": true,
            "ticks": "",
            "zerolinecolor": "white"
           },
           "zaxis": {
            "backgroundcolor": "#E5ECF6",
            "gridcolor": "white",
            "gridwidth": 2,
            "linecolor": "white",
            "showbackground": true,
            "ticks": "",
            "zerolinecolor": "white"
           }
          },
          "shapedefaults": {
           "line": {
            "color": "#2a3f5f"
           }
          },
          "ternary": {
           "aaxis": {
            "gridcolor": "white",
            "linecolor": "white",
            "ticks": ""
           },
           "baxis": {
            "gridcolor": "white",
            "linecolor": "white",
            "ticks": ""
           },
           "bgcolor": "#E5ECF6",
           "caxis": {
            "gridcolor": "white",
            "linecolor": "white",
            "ticks": ""
           }
          },
          "title": {
           "x": 0.05
          },
          "xaxis": {
           "automargin": true,
           "gridcolor": "white",
           "linecolor": "white",
           "ticks": "",
           "title": {
            "standoff": 15
           },
           "zerolinecolor": "white",
           "zerolinewidth": 2
          },
          "yaxis": {
           "automargin": true,
           "gridcolor": "white",
           "linecolor": "white",
           "ticks": "",
           "title": {
            "standoff": 15
           },
           "zerolinecolor": "white",
           "zerolinewidth": 2
          }
         }
        },
        "xaxis": {
         "anchor": "y",
         "domain": [
          0,
          1
         ],
         "title": {
          "text": "t-SNE 1"
         }
        },
        "yaxis": {
         "anchor": "x",
         "domain": [
          0,
          1
         ],
         "title": {
          "text": "t-SNE 2"
         }
        }
       }
      }
     },
     "metadata": {},
     "output_type": "display_data"
    },
    {
     "data": {
      "image/png": "[encoded data removed]",
      "text/plain": [
       "<Figure size 1920x480 with 5 Axes>"
      ]
     },
     "metadata": {},
     "output_type": "display_data"
    }
   ],
   "source": [
    "vis.dimensionality_reduction_scatter(\n",
    "    color_by=\"end_to_end\",  # Color the snapshots according to a molecular feature, here end-to-end distance.\n",
    "    kde_by_ensemble=True,   # In the subplot with KDE, show data for the individual ensembles. \n",
    "    plotly=True             # Interactive visualization using plotly.\n",
    ");"
   ]
  },
  {
   "cell_type": "markdown",
   "metadata": {},
   "source": [
    "We can also directly access the t-SNE features, in case we want to produce custom plots.\n",
    "\n",
    "We illustrate this scenario below."
   ]
  },
  {
   "cell_type": "code",
   "execution_count": 8,
   "metadata": {},
   "outputs": [
    {
     "data": {
      "image/png": "[encoded data removed]",
      "text/plain": [
       "<Figure size 900x300 with 3 Axes>"
      ]
     },
     "metadata": {},
     "output_type": "display_data"
    }
   ],
   "source": [
    "# Create a custom plot with the t-SNE features calculated via the IDPET API.\n",
    "num_ensembles = len(analysis.ensembles)\n",
    "\n",
    "fig, ax = plt.subplots(1, len(analysis.ensembles), figsize=(num_ensembles*3, 3))\n",
    "concat_ens = np.concatenate([e.reduce_dim_data for e in analysis.ensembles], axis=0)\n",
    "margin = 1.0\n",
    "for i, ensemble in enumerate(analysis.ensembles):\n",
    "    tsne_data = ensemble.reduce_dim_data\n",
    "    ax[i].scatter(tsne_data[:,0], tsne_data[:,1], marker=\".\", color=f\"C{i}\")\n",
    "    ax[i].set_title(ensemble.code)\n",
    "    ax[i].set_xlabel(\"t-SNE dim 1\")\n",
    "    if i == 0:\n",
    "        ax[i].set_ylabel(\"t-SNE dim 2\")\n",
    "    ax[i].set_xlim(concat_ens[:,0].min()-margin, concat_ens[:,0].max()+margin)\n",
    "    ax[i].set_ylim(concat_ens[:,1].min()-margin, concat_ens[:,1].max()+margin)\n",
    "plt.tight_layout()\n",
    "plt.show()"
   ]
  }
 ],
 "metadata": {
  "kernelspec": {
   "display_name": "ped",
   "language": "python",
   "name": "python3"
  },
  "language_info": {
   "codemirror_mode": {
    "name": "ipython",
    "version": 3
   },
   "file_extension": ".py",
   "mimetype": "text/x-python",
   "name": "python",
   "nbconvert_exporter": "python",
   "pygments_lexer": "ipython3",
   "version": "3.11.5"
  }
 },
 "nbformat": 4,
 "nbformat_minor": 4
}
