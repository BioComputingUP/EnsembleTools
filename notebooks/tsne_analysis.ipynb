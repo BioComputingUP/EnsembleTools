{
 "cells": [
  {
   "cell_type": "markdown",
   "metadata": {},
   "source": [
    "# TSNE Analysis"
   ]
  },
  {
   "cell_type": "code",
   "execution_count": 1,
   "metadata": {},
   "outputs": [],
   "source": [
    "import sys\n",
    "sys.path.append('/home/hamid/Desktop/EnsembleTools')"
   ]
  },
  {
   "cell_type": "code",
   "execution_count": 2,
   "metadata": {},
   "outputs": [
    {
     "name": "stderr",
     "output_type": "stream",
     "text": [
      "/home/hamid/anaconda3/envs/ped/lib/python3.11/site-packages/neo_force_scheme/distances.py:1086: NumbaDeprecationWarning: \u001b[1mThe 'nopython' keyword argument was not supplied to the 'numba.jit' decorator. The implicit default value for this argument is currently False, but it will be changed to True in Numba 0.59.0. See https://numba.readthedocs.io/en/stable/reference/deprecation.html#deprecation-of-object-mode-fall-back-behaviour-when-using-jit for details.\u001b[0m\n",
      "  @numba.jit()\n"
     ]
    },
    {
     "name": "stdout",
     "output_type": "stream",
     "text": [
      "Ensemble PED00156e001 already downloaded. Skipping.\n",
      "File PED00156e001.pdb already exists. Skipping extraction.\n",
      "Trajectory file already exists for ensemble PED00156e001.\n",
      "Ensemble PED00157e001 already downloaded. Skipping.\n",
      "File PED00157e001.pdb already exists. Skipping extraction.\n",
      "Trajectory file already exists for ensemble PED00157e001.\n",
      "Ensemble PED00158e001 already downloaded. Skipping.\n",
      "File PED00158e001.pdb already exists. Skipping extraction.\n",
      "Trajectory file already exists for ensemble PED00158e001.\n",
      "Loading trajectory for PED00156e001...\n",
      "Loading trajectory for PED00157e001...\n",
      "Loading trajectory for PED00158e001...\n"
     ]
    },
    {
     "data": {
      "text/plain": [
       "{'PED00156e001': <mdtraj.Trajectory with 100 frames, 941 atoms, 59 residues, without unitcells at 0x70960573cb10>,\n",
       " 'PED00157e001': <mdtraj.Trajectory with 100 frames, 939 atoms, 59 residues, without unitcells at 0x7096064e6010>,\n",
       " 'PED00158e001': <mdtraj.Trajectory with 88 frames, 939 atoms, 59 residues, without unitcells at 0x7096064dea10>}"
      ]
     },
     "execution_count": 2,
     "metadata": {},
     "output_type": "execute_result"
    }
   ],
   "source": [
    "from dpet.ensemble import Ensemble\n",
    "from dpet.ensemble_analysis import EnsembleAnalysis\n",
    "from dpet.visualization import *\n",
    "\n",
    "ens_codes = [\n",
    "\n",
    "    Ensemble('PED00156e001', database='ped'),\n",
    "    Ensemble('PED00157e001', database='ped'),\n",
    "    Ensemble('PED00158e001', database='ped') \n",
    "]\n",
    "data_dir = '/home/hamid/PED_Data_analysis/nikola'\n",
    "\n",
    "analysis = EnsembleAnalysis(ens_codes, data_dir)\n",
    "analysis.load_trajectories()"
   ]
  },
  {
   "cell_type": "markdown",
   "metadata": {},
   "source": [
    "## Download from Atlas and Load Data"
   ]
  },
  {
   "cell_type": "code",
   "execution_count": 3,
   "metadata": {},
   "outputs": [
    {
     "name": "stdout",
     "output_type": "stream",
     "text": [
      "50 conformations sampled from PED00156e001 trajectory.\n",
      "50 conformations sampled from PED00157e001 trajectory.\n",
      "50 conformations sampled from PED00158e001 trajectory.\n"
     ]
    },
    {
     "data": {
      "text/plain": [
       "{'PED00156e001': <mdtraj.Trajectory with 50 frames, 941 atoms, 59 residues, without unitcells at 0x70964c728750>,\n",
       " 'PED00157e001': <mdtraj.Trajectory with 50 frames, 939 atoms, 59 residues, without unitcells at 0x7096064cf510>,\n",
       " 'PED00158e001': <mdtraj.Trajectory with 50 frames, 939 atoms, 59 residues, without unitcells at 0x7096067a9090>}"
      ]
     },
     "execution_count": 3,
     "metadata": {},
     "output_type": "execute_result"
    }
   ],
   "source": [
    "analysis.random_sample_trajectories(sample_size=50)"
   ]
  },
  {
   "cell_type": "markdown",
   "metadata": {},
   "source": [
    "## Featurization"
   ]
  },
  {
   "cell_type": "code",
   "execution_count": 4,
   "metadata": {},
   "outputs": [
    {
     "name": "stdout",
     "output_type": "stream",
     "text": [
      "Performing feature extraction for Ensemble: PED00156e001.\n",
      "Transformed ensemble shape: (50, 1653)\n",
      "Performing feature extraction for Ensemble: PED00157e001.\n",
      "Transformed ensemble shape: (50, 1653)\n",
      "Performing feature extraction for Ensemble: PED00158e001.\n",
      "Transformed ensemble shape: (50, 1653)\n",
      "Feature names: ['MET1-ALA3', 'MET1-ILE4', 'MET1-ALA5', 'MET1-LYS6', 'MET1-HIS7', 'MET1-ASP8', 'MET1-PHE9', 'MET1-SER10', 'MET1-ALA11', 'MET1-THR12', 'MET1-ALA13', 'MET1-ASP14', 'MET1-ASP15', 'MET1-GLU16', 'MET1-LEU17', 'MET1-SER18', 'MET1-PHE19', 'MET1-ARG20', 'MET1-LYS21', 'MET1-THR22', 'MET1-GLN23', 'MET1-ILE24', 'MET1-LEU25', 'MET1-LYS26', 'MET1-ILE27', 'MET1-LEU28', 'MET1-ASN29', 'MET1-MET30', 'MET1-GLU31', 'MET1-ASP32', 'MET1-ASP33', 'MET1-SER34', 'MET1-ASN35', 'MET1-TRP36', 'MET1-TYR37', 'MET1-ARG38', 'MET1-ALA39', 'MET1-GLU40', 'MET1-LEU41', 'MET1-ASP42', 'MET1-GLY43', 'MET1-LYS44', 'MET1-GLU45', 'MET1-GLY46', 'MET1-LEU47', 'MET1-ILE48', 'MET1-PRO49', 'MET1-SER50', 'MET1-ASN51', 'MET1-TYR52', 'MET1-ILE53', 'MET1-GLU54', 'MET1-MET55', 'MET1-LYS56', 'MET1-ASN57', 'MET1-HIS58', 'MET1-ASP59', 'GLU2-ILE4', 'GLU2-ALA5', 'GLU2-LYS6', 'GLU2-HIS7', 'GLU2-ASP8', 'GLU2-PHE9', 'GLU2-SER10', 'GLU2-ALA11', 'GLU2-THR12', 'GLU2-ALA13', 'GLU2-ASP14', 'GLU2-ASP15', 'GLU2-GLU16', 'GLU2-LEU17', 'GLU2-SER18', 'GLU2-PHE19', 'GLU2-ARG20', 'GLU2-LYS21', 'GLU2-THR22', 'GLU2-GLN23', 'GLU2-ILE24', 'GLU2-LEU25', 'GLU2-LYS26', 'GLU2-ILE27', 'GLU2-LEU28', 'GLU2-ASN29', 'GLU2-MET30', 'GLU2-GLU31', 'GLU2-ASP32', 'GLU2-ASP33', 'GLU2-SER34', 'GLU2-ASN35', 'GLU2-TRP36', 'GLU2-TYR37', 'GLU2-ARG38', 'GLU2-ALA39', 'GLU2-GLU40', 'GLU2-LEU41', 'GLU2-ASP42', 'GLU2-GLY43', 'GLU2-LYS44', 'GLU2-GLU45', 'GLU2-GLY46', 'GLU2-LEU47', 'GLU2-ILE48', 'GLU2-PRO49', 'GLU2-SER50', 'GLU2-ASN51', 'GLU2-TYR52', 'GLU2-ILE53', 'GLU2-GLU54', 'GLU2-MET55', 'GLU2-LYS56', 'GLU2-ASN57', 'GLU2-HIS58', 'GLU2-ASP59', 'ALA3-ALA5', 'ALA3-LYS6', 'ALA3-HIS7', 'ALA3-ASP8', 'ALA3-PHE9', 'ALA3-SER10', 'ALA3-ALA11', 'ALA3-THR12', 'ALA3-ALA13', 'ALA3-ASP14', 'ALA3-ASP15', 'ALA3-GLU16', 'ALA3-LEU17', 'ALA3-SER18', 'ALA3-PHE19', 'ALA3-ARG20', 'ALA3-LYS21', 'ALA3-THR22', 'ALA3-GLN23', 'ALA3-ILE24', 'ALA3-LEU25', 'ALA3-LYS26', 'ALA3-ILE27', 'ALA3-LEU28', 'ALA3-ASN29', 'ALA3-MET30', 'ALA3-GLU31', 'ALA3-ASP32', 'ALA3-ASP33', 'ALA3-SER34', 'ALA3-ASN35', 'ALA3-TRP36', 'ALA3-TYR37', 'ALA3-ARG38', 'ALA3-ALA39', 'ALA3-GLU40', 'ALA3-LEU41', 'ALA3-ASP42', 'ALA3-GLY43', 'ALA3-LYS44', 'ALA3-GLU45', 'ALA3-GLY46', 'ALA3-LEU47', 'ALA3-ILE48', 'ALA3-PRO49', 'ALA3-SER50', 'ALA3-ASN51', 'ALA3-TYR52', 'ALA3-ILE53', 'ALA3-GLU54', 'ALA3-MET55', 'ALA3-LYS56', 'ALA3-ASN57', 'ALA3-HIS58', 'ALA3-ASP59', 'ILE4-LYS6', 'ILE4-HIS7', 'ILE4-ASP8', 'ILE4-PHE9', 'ILE4-SER10', 'ILE4-ALA11', 'ILE4-THR12', 'ILE4-ALA13', 'ILE4-ASP14', 'ILE4-ASP15', 'ILE4-GLU16', 'ILE4-LEU17', 'ILE4-SER18', 'ILE4-PHE19', 'ILE4-ARG20', 'ILE4-LYS21', 'ILE4-THR22', 'ILE4-GLN23', 'ILE4-ILE24', 'ILE4-LEU25', 'ILE4-LYS26', 'ILE4-ILE27', 'ILE4-LEU28', 'ILE4-ASN29', 'ILE4-MET30', 'ILE4-GLU31', 'ILE4-ASP32', 'ILE4-ASP33', 'ILE4-SER34', 'ILE4-ASN35', 'ILE4-TRP36', 'ILE4-TYR37', 'ILE4-ARG38', 'ILE4-ALA39', 'ILE4-GLU40', 'ILE4-LEU41', 'ILE4-ASP42', 'ILE4-GLY43', 'ILE4-LYS44', 'ILE4-GLU45', 'ILE4-GLY46', 'ILE4-LEU47', 'ILE4-ILE48', 'ILE4-PRO49', 'ILE4-SER50', 'ILE4-ASN51', 'ILE4-TYR52', 'ILE4-ILE53', 'ILE4-GLU54', 'ILE4-MET55', 'ILE4-LYS56', 'ILE4-ASN57', 'ILE4-HIS58', 'ILE4-ASP59', 'ALA5-HIS7', 'ALA5-ASP8', 'ALA5-PHE9', 'ALA5-SER10', 'ALA5-ALA11', 'ALA5-THR12', 'ALA5-ALA13', 'ALA5-ASP14', 'ALA5-ASP15', 'ALA5-GLU16', 'ALA5-LEU17', 'ALA5-SER18', 'ALA5-PHE19', 'ALA5-ARG20', 'ALA5-LYS21', 'ALA5-THR22', 'ALA5-GLN23', 'ALA5-ILE24', 'ALA5-LEU25', 'ALA5-LYS26', 'ALA5-ILE27', 'ALA5-LEU28', 'ALA5-ASN29', 'ALA5-MET30', 'ALA5-GLU31', 'ALA5-ASP32', 'ALA5-ASP33', 'ALA5-SER34', 'ALA5-ASN35', 'ALA5-TRP36', 'ALA5-TYR37', 'ALA5-ARG38', 'ALA5-ALA39', 'ALA5-GLU40', 'ALA5-LEU41', 'ALA5-ASP42', 'ALA5-GLY43', 'ALA5-LYS44', 'ALA5-GLU45', 'ALA5-GLY46', 'ALA5-LEU47', 'ALA5-ILE48', 'ALA5-PRO49', 'ALA5-SER50', 'ALA5-ASN51', 'ALA5-TYR52', 'ALA5-ILE53', 'ALA5-GLU54', 'ALA5-MET55', 'ALA5-LYS56', 'ALA5-ASN57', 'ALA5-HIS58', 'ALA5-ASP59', 'LYS6-ASP8', 'LYS6-PHE9', 'LYS6-SER10', 'LYS6-ALA11', 'LYS6-THR12', 'LYS6-ALA13', 'LYS6-ASP14', 'LYS6-ASP15', 'LYS6-GLU16', 'LYS6-LEU17', 'LYS6-SER18', 'LYS6-PHE19', 'LYS6-ARG20', 'LYS6-LYS21', 'LYS6-THR22', 'LYS6-GLN23', 'LYS6-ILE24', 'LYS6-LEU25', 'LYS6-LYS26', 'LYS6-ILE27', 'LYS6-LEU28', 'LYS6-ASN29', 'LYS6-MET30', 'LYS6-GLU31', 'LYS6-ASP32', 'LYS6-ASP33', 'LYS6-SER34', 'LYS6-ASN35', 'LYS6-TRP36', 'LYS6-TYR37', 'LYS6-ARG38', 'LYS6-ALA39', 'LYS6-GLU40', 'LYS6-LEU41', 'LYS6-ASP42', 'LYS6-GLY43', 'LYS6-LYS44', 'LYS6-GLU45', 'LYS6-GLY46', 'LYS6-LEU47', 'LYS6-ILE48', 'LYS6-PRO49', 'LYS6-SER50', 'LYS6-ASN51', 'LYS6-TYR52', 'LYS6-ILE53', 'LYS6-GLU54', 'LYS6-MET55', 'LYS6-LYS56', 'LYS6-ASN57', 'LYS6-HIS58', 'LYS6-ASP59', 'HIS7-PHE9', 'HIS7-SER10', 'HIS7-ALA11', 'HIS7-THR12', 'HIS7-ALA13', 'HIS7-ASP14', 'HIS7-ASP15', 'HIS7-GLU16', 'HIS7-LEU17', 'HIS7-SER18', 'HIS7-PHE19', 'HIS7-ARG20', 'HIS7-LYS21', 'HIS7-THR22', 'HIS7-GLN23', 'HIS7-ILE24', 'HIS7-LEU25', 'HIS7-LYS26', 'HIS7-ILE27', 'HIS7-LEU28', 'HIS7-ASN29', 'HIS7-MET30', 'HIS7-GLU31', 'HIS7-ASP32', 'HIS7-ASP33', 'HIS7-SER34', 'HIS7-ASN35', 'HIS7-TRP36', 'HIS7-TYR37', 'HIS7-ARG38', 'HIS7-ALA39', 'HIS7-GLU40', 'HIS7-LEU41', 'HIS7-ASP42', 'HIS7-GLY43', 'HIS7-LYS44', 'HIS7-GLU45', 'HIS7-GLY46', 'HIS7-LEU47', 'HIS7-ILE48', 'HIS7-PRO49', 'HIS7-SER50', 'HIS7-ASN51', 'HIS7-TYR52', 'HIS7-ILE53', 'HIS7-GLU54', 'HIS7-MET55', 'HIS7-LYS56', 'HIS7-ASN57', 'HIS7-HIS58', 'HIS7-ASP59', 'ASP8-SER10', 'ASP8-ALA11', 'ASP8-THR12', 'ASP8-ALA13', 'ASP8-ASP14', 'ASP8-ASP15', 'ASP8-GLU16', 'ASP8-LEU17', 'ASP8-SER18', 'ASP8-PHE19', 'ASP8-ARG20', 'ASP8-LYS21', 'ASP8-THR22', 'ASP8-GLN23', 'ASP8-ILE24', 'ASP8-LEU25', 'ASP8-LYS26', 'ASP8-ILE27', 'ASP8-LEU28', 'ASP8-ASN29', 'ASP8-MET30', 'ASP8-GLU31', 'ASP8-ASP32', 'ASP8-ASP33', 'ASP8-SER34', 'ASP8-ASN35', 'ASP8-TRP36', 'ASP8-TYR37', 'ASP8-ARG38', 'ASP8-ALA39', 'ASP8-GLU40', 'ASP8-LEU41', 'ASP8-ASP42', 'ASP8-GLY43', 'ASP8-LYS44', 'ASP8-GLU45', 'ASP8-GLY46', 'ASP8-LEU47', 'ASP8-ILE48', 'ASP8-PRO49', 'ASP8-SER50', 'ASP8-ASN51', 'ASP8-TYR52', 'ASP8-ILE53', 'ASP8-GLU54', 'ASP8-MET55', 'ASP8-LYS56', 'ASP8-ASN57', 'ASP8-HIS58', 'ASP8-ASP59', 'PHE9-ALA11', 'PHE9-THR12', 'PHE9-ALA13', 'PHE9-ASP14', 'PHE9-ASP15', 'PHE9-GLU16', 'PHE9-LEU17', 'PHE9-SER18', 'PHE9-PHE19', 'PHE9-ARG20', 'PHE9-LYS21', 'PHE9-THR22', 'PHE9-GLN23', 'PHE9-ILE24', 'PHE9-LEU25', 'PHE9-LYS26', 'PHE9-ILE27', 'PHE9-LEU28', 'PHE9-ASN29', 'PHE9-MET30', 'PHE9-GLU31', 'PHE9-ASP32', 'PHE9-ASP33', 'PHE9-SER34', 'PHE9-ASN35', 'PHE9-TRP36', 'PHE9-TYR37', 'PHE9-ARG38', 'PHE9-ALA39', 'PHE9-GLU40', 'PHE9-LEU41', 'PHE9-ASP42', 'PHE9-GLY43', 'PHE9-LYS44', 'PHE9-GLU45', 'PHE9-GLY46', 'PHE9-LEU47', 'PHE9-ILE48', 'PHE9-PRO49', 'PHE9-SER50', 'PHE9-ASN51', 'PHE9-TYR52', 'PHE9-ILE53', 'PHE9-GLU54', 'PHE9-MET55', 'PHE9-LYS56', 'PHE9-ASN57', 'PHE9-HIS58', 'PHE9-ASP59', 'SER10-THR12', 'SER10-ALA13', 'SER10-ASP14', 'SER10-ASP15', 'SER10-GLU16', 'SER10-LEU17', 'SER10-SER18', 'SER10-PHE19', 'SER10-ARG20', 'SER10-LYS21', 'SER10-THR22', 'SER10-GLN23', 'SER10-ILE24', 'SER10-LEU25', 'SER10-LYS26', 'SER10-ILE27', 'SER10-LEU28', 'SER10-ASN29', 'SER10-MET30', 'SER10-GLU31', 'SER10-ASP32', 'SER10-ASP33', 'SER10-SER34', 'SER10-ASN35', 'SER10-TRP36', 'SER10-TYR37', 'SER10-ARG38', 'SER10-ALA39', 'SER10-GLU40', 'SER10-LEU41', 'SER10-ASP42', 'SER10-GLY43', 'SER10-LYS44', 'SER10-GLU45', 'SER10-GLY46', 'SER10-LEU47', 'SER10-ILE48', 'SER10-PRO49', 'SER10-SER50', 'SER10-ASN51', 'SER10-TYR52', 'SER10-ILE53', 'SER10-GLU54', 'SER10-MET55', 'SER10-LYS56', 'SER10-ASN57', 'SER10-HIS58', 'SER10-ASP59', 'ALA11-ALA13', 'ALA11-ASP14', 'ALA11-ASP15', 'ALA11-GLU16', 'ALA11-LEU17', 'ALA11-SER18', 'ALA11-PHE19', 'ALA11-ARG20', 'ALA11-LYS21', 'ALA11-THR22', 'ALA11-GLN23', 'ALA11-ILE24', 'ALA11-LEU25', 'ALA11-LYS26', 'ALA11-ILE27', 'ALA11-LEU28', 'ALA11-ASN29', 'ALA11-MET30', 'ALA11-GLU31', 'ALA11-ASP32', 'ALA11-ASP33', 'ALA11-SER34', 'ALA11-ASN35', 'ALA11-TRP36', 'ALA11-TYR37', 'ALA11-ARG38', 'ALA11-ALA39', 'ALA11-GLU40', 'ALA11-LEU41', 'ALA11-ASP42', 'ALA11-GLY43', 'ALA11-LYS44', 'ALA11-GLU45', 'ALA11-GLY46', 'ALA11-LEU47', 'ALA11-ILE48', 'ALA11-PRO49', 'ALA11-SER50', 'ALA11-ASN51', 'ALA11-TYR52', 'ALA11-ILE53', 'ALA11-GLU54', 'ALA11-MET55', 'ALA11-LYS56', 'ALA11-ASN57', 'ALA11-HIS58', 'ALA11-ASP59', 'THR12-ASP14', 'THR12-ASP15', 'THR12-GLU16', 'THR12-LEU17', 'THR12-SER18', 'THR12-PHE19', 'THR12-ARG20', 'THR12-LYS21', 'THR12-THR22', 'THR12-GLN23', 'THR12-ILE24', 'THR12-LEU25', 'THR12-LYS26', 'THR12-ILE27', 'THR12-LEU28', 'THR12-ASN29', 'THR12-MET30', 'THR12-GLU31', 'THR12-ASP32', 'THR12-ASP33', 'THR12-SER34', 'THR12-ASN35', 'THR12-TRP36', 'THR12-TYR37', 'THR12-ARG38', 'THR12-ALA39', 'THR12-GLU40', 'THR12-LEU41', 'THR12-ASP42', 'THR12-GLY43', 'THR12-LYS44', 'THR12-GLU45', 'THR12-GLY46', 'THR12-LEU47', 'THR12-ILE48', 'THR12-PRO49', 'THR12-SER50', 'THR12-ASN51', 'THR12-TYR52', 'THR12-ILE53', 'THR12-GLU54', 'THR12-MET55', 'THR12-LYS56', 'THR12-ASN57', 'THR12-HIS58', 'THR12-ASP59', 'ALA13-ASP15', 'ALA13-GLU16', 'ALA13-LEU17', 'ALA13-SER18', 'ALA13-PHE19', 'ALA13-ARG20', 'ALA13-LYS21', 'ALA13-THR22', 'ALA13-GLN23', 'ALA13-ILE24', 'ALA13-LEU25', 'ALA13-LYS26', 'ALA13-ILE27', 'ALA13-LEU28', 'ALA13-ASN29', 'ALA13-MET30', 'ALA13-GLU31', 'ALA13-ASP32', 'ALA13-ASP33', 'ALA13-SER34', 'ALA13-ASN35', 'ALA13-TRP36', 'ALA13-TYR37', 'ALA13-ARG38', 'ALA13-ALA39', 'ALA13-GLU40', 'ALA13-LEU41', 'ALA13-ASP42', 'ALA13-GLY43', 'ALA13-LYS44', 'ALA13-GLU45', 'ALA13-GLY46', 'ALA13-LEU47', 'ALA13-ILE48', 'ALA13-PRO49', 'ALA13-SER50', 'ALA13-ASN51', 'ALA13-TYR52', 'ALA13-ILE53', 'ALA13-GLU54', 'ALA13-MET55', 'ALA13-LYS56', 'ALA13-ASN57', 'ALA13-HIS58', 'ALA13-ASP59', 'ASP14-GLU16', 'ASP14-LEU17', 'ASP14-SER18', 'ASP14-PHE19', 'ASP14-ARG20', 'ASP14-LYS21', 'ASP14-THR22', 'ASP14-GLN23', 'ASP14-ILE24', 'ASP14-LEU25', 'ASP14-LYS26', 'ASP14-ILE27', 'ASP14-LEU28', 'ASP14-ASN29', 'ASP14-MET30', 'ASP14-GLU31', 'ASP14-ASP32', 'ASP14-ASP33', 'ASP14-SER34', 'ASP14-ASN35', 'ASP14-TRP36', 'ASP14-TYR37', 'ASP14-ARG38', 'ASP14-ALA39', 'ASP14-GLU40', 'ASP14-LEU41', 'ASP14-ASP42', 'ASP14-GLY43', 'ASP14-LYS44', 'ASP14-GLU45', 'ASP14-GLY46', 'ASP14-LEU47', 'ASP14-ILE48', 'ASP14-PRO49', 'ASP14-SER50', 'ASP14-ASN51', 'ASP14-TYR52', 'ASP14-ILE53', 'ASP14-GLU54', 'ASP14-MET55', 'ASP14-LYS56', 'ASP14-ASN57', 'ASP14-HIS58', 'ASP14-ASP59', 'ASP15-LEU17', 'ASP15-SER18', 'ASP15-PHE19', 'ASP15-ARG20', 'ASP15-LYS21', 'ASP15-THR22', 'ASP15-GLN23', 'ASP15-ILE24', 'ASP15-LEU25', 'ASP15-LYS26', 'ASP15-ILE27', 'ASP15-LEU28', 'ASP15-ASN29', 'ASP15-MET30', 'ASP15-GLU31', 'ASP15-ASP32', 'ASP15-ASP33', 'ASP15-SER34', 'ASP15-ASN35', 'ASP15-TRP36', 'ASP15-TYR37', 'ASP15-ARG38', 'ASP15-ALA39', 'ASP15-GLU40', 'ASP15-LEU41', 'ASP15-ASP42', 'ASP15-GLY43', 'ASP15-LYS44', 'ASP15-GLU45', 'ASP15-GLY46', 'ASP15-LEU47', 'ASP15-ILE48', 'ASP15-PRO49', 'ASP15-SER50', 'ASP15-ASN51', 'ASP15-TYR52', 'ASP15-ILE53', 'ASP15-GLU54', 'ASP15-MET55', 'ASP15-LYS56', 'ASP15-ASN57', 'ASP15-HIS58', 'ASP15-ASP59', 'GLU16-SER18', 'GLU16-PHE19', 'GLU16-ARG20', 'GLU16-LYS21', 'GLU16-THR22', 'GLU16-GLN23', 'GLU16-ILE24', 'GLU16-LEU25', 'GLU16-LYS26', 'GLU16-ILE27', 'GLU16-LEU28', 'GLU16-ASN29', 'GLU16-MET30', 'GLU16-GLU31', 'GLU16-ASP32', 'GLU16-ASP33', 'GLU16-SER34', 'GLU16-ASN35', 'GLU16-TRP36', 'GLU16-TYR37', 'GLU16-ARG38', 'GLU16-ALA39', 'GLU16-GLU40', 'GLU16-LEU41', 'GLU16-ASP42', 'GLU16-GLY43', 'GLU16-LYS44', 'GLU16-GLU45', 'GLU16-GLY46', 'GLU16-LEU47', 'GLU16-ILE48', 'GLU16-PRO49', 'GLU16-SER50', 'GLU16-ASN51', 'GLU16-TYR52', 'GLU16-ILE53', 'GLU16-GLU54', 'GLU16-MET55', 'GLU16-LYS56', 'GLU16-ASN57', 'GLU16-HIS58', 'GLU16-ASP59', 'LEU17-PHE19', 'LEU17-ARG20', 'LEU17-LYS21', 'LEU17-THR22', 'LEU17-GLN23', 'LEU17-ILE24', 'LEU17-LEU25', 'LEU17-LYS26', 'LEU17-ILE27', 'LEU17-LEU28', 'LEU17-ASN29', 'LEU17-MET30', 'LEU17-GLU31', 'LEU17-ASP32', 'LEU17-ASP33', 'LEU17-SER34', 'LEU17-ASN35', 'LEU17-TRP36', 'LEU17-TYR37', 'LEU17-ARG38', 'LEU17-ALA39', 'LEU17-GLU40', 'LEU17-LEU41', 'LEU17-ASP42', 'LEU17-GLY43', 'LEU17-LYS44', 'LEU17-GLU45', 'LEU17-GLY46', 'LEU17-LEU47', 'LEU17-ILE48', 'LEU17-PRO49', 'LEU17-SER50', 'LEU17-ASN51', 'LEU17-TYR52', 'LEU17-ILE53', 'LEU17-GLU54', 'LEU17-MET55', 'LEU17-LYS56', 'LEU17-ASN57', 'LEU17-HIS58', 'LEU17-ASP59', 'SER18-ARG20', 'SER18-LYS21', 'SER18-THR22', 'SER18-GLN23', 'SER18-ILE24', 'SER18-LEU25', 'SER18-LYS26', 'SER18-ILE27', 'SER18-LEU28', 'SER18-ASN29', 'SER18-MET30', 'SER18-GLU31', 'SER18-ASP32', 'SER18-ASP33', 'SER18-SER34', 'SER18-ASN35', 'SER18-TRP36', 'SER18-TYR37', 'SER18-ARG38', 'SER18-ALA39', 'SER18-GLU40', 'SER18-LEU41', 'SER18-ASP42', 'SER18-GLY43', 'SER18-LYS44', 'SER18-GLU45', 'SER18-GLY46', 'SER18-LEU47', 'SER18-ILE48', 'SER18-PRO49', 'SER18-SER50', 'SER18-ASN51', 'SER18-TYR52', 'SER18-ILE53', 'SER18-GLU54', 'SER18-MET55', 'SER18-LYS56', 'SER18-ASN57', 'SER18-HIS58', 'SER18-ASP59', 'PHE19-LYS21', 'PHE19-THR22', 'PHE19-GLN23', 'PHE19-ILE24', 'PHE19-LEU25', 'PHE19-LYS26', 'PHE19-ILE27', 'PHE19-LEU28', 'PHE19-ASN29', 'PHE19-MET30', 'PHE19-GLU31', 'PHE19-ASP32', 'PHE19-ASP33', 'PHE19-SER34', 'PHE19-ASN35', 'PHE19-TRP36', 'PHE19-TYR37', 'PHE19-ARG38', 'PHE19-ALA39', 'PHE19-GLU40', 'PHE19-LEU41', 'PHE19-ASP42', 'PHE19-GLY43', 'PHE19-LYS44', 'PHE19-GLU45', 'PHE19-GLY46', 'PHE19-LEU47', 'PHE19-ILE48', 'PHE19-PRO49', 'PHE19-SER50', 'PHE19-ASN51', 'PHE19-TYR52', 'PHE19-ILE53', 'PHE19-GLU54', 'PHE19-MET55', 'PHE19-LYS56', 'PHE19-ASN57', 'PHE19-HIS58', 'PHE19-ASP59', 'ARG20-THR22', 'ARG20-GLN23', 'ARG20-ILE24', 'ARG20-LEU25', 'ARG20-LYS26', 'ARG20-ILE27', 'ARG20-LEU28', 'ARG20-ASN29', 'ARG20-MET30', 'ARG20-GLU31', 'ARG20-ASP32', 'ARG20-ASP33', 'ARG20-SER34', 'ARG20-ASN35', 'ARG20-TRP36', 'ARG20-TYR37', 'ARG20-ARG38', 'ARG20-ALA39', 'ARG20-GLU40', 'ARG20-LEU41', 'ARG20-ASP42', 'ARG20-GLY43', 'ARG20-LYS44', 'ARG20-GLU45', 'ARG20-GLY46', 'ARG20-LEU47', 'ARG20-ILE48', 'ARG20-PRO49', 'ARG20-SER50', 'ARG20-ASN51', 'ARG20-TYR52', 'ARG20-ILE53', 'ARG20-GLU54', 'ARG20-MET55', 'ARG20-LYS56', 'ARG20-ASN57', 'ARG20-HIS58', 'ARG20-ASP59', 'LYS21-GLN23', 'LYS21-ILE24', 'LYS21-LEU25', 'LYS21-LYS26', 'LYS21-ILE27', 'LYS21-LEU28', 'LYS21-ASN29', 'LYS21-MET30', 'LYS21-GLU31', 'LYS21-ASP32', 'LYS21-ASP33', 'LYS21-SER34', 'LYS21-ASN35', 'LYS21-TRP36', 'LYS21-TYR37', 'LYS21-ARG38', 'LYS21-ALA39', 'LYS21-GLU40', 'LYS21-LEU41', 'LYS21-ASP42', 'LYS21-GLY43', 'LYS21-LYS44', 'LYS21-GLU45', 'LYS21-GLY46', 'LYS21-LEU47', 'LYS21-ILE48', 'LYS21-PRO49', 'LYS21-SER50', 'LYS21-ASN51', 'LYS21-TYR52', 'LYS21-ILE53', 'LYS21-GLU54', 'LYS21-MET55', 'LYS21-LYS56', 'LYS21-ASN57', 'LYS21-HIS58', 'LYS21-ASP59', 'THR22-ILE24', 'THR22-LEU25', 'THR22-LYS26', 'THR22-ILE27', 'THR22-LEU28', 'THR22-ASN29', 'THR22-MET30', 'THR22-GLU31', 'THR22-ASP32', 'THR22-ASP33', 'THR22-SER34', 'THR22-ASN35', 'THR22-TRP36', 'THR22-TYR37', 'THR22-ARG38', 'THR22-ALA39', 'THR22-GLU40', 'THR22-LEU41', 'THR22-ASP42', 'THR22-GLY43', 'THR22-LYS44', 'THR22-GLU45', 'THR22-GLY46', 'THR22-LEU47', 'THR22-ILE48', 'THR22-PRO49', 'THR22-SER50', 'THR22-ASN51', 'THR22-TYR52', 'THR22-ILE53', 'THR22-GLU54', 'THR22-MET55', 'THR22-LYS56', 'THR22-ASN57', 'THR22-HIS58', 'THR22-ASP59', 'GLN23-LEU25', 'GLN23-LYS26', 'GLN23-ILE27', 'GLN23-LEU28', 'GLN23-ASN29', 'GLN23-MET30', 'GLN23-GLU31', 'GLN23-ASP32', 'GLN23-ASP33', 'GLN23-SER34', 'GLN23-ASN35', 'GLN23-TRP36', 'GLN23-TYR37', 'GLN23-ARG38', 'GLN23-ALA39', 'GLN23-GLU40', 'GLN23-LEU41', 'GLN23-ASP42', 'GLN23-GLY43', 'GLN23-LYS44', 'GLN23-GLU45', 'GLN23-GLY46', 'GLN23-LEU47', 'GLN23-ILE48', 'GLN23-PRO49', 'GLN23-SER50', 'GLN23-ASN51', 'GLN23-TYR52', 'GLN23-ILE53', 'GLN23-GLU54', 'GLN23-MET55', 'GLN23-LYS56', 'GLN23-ASN57', 'GLN23-HIS58', 'GLN23-ASP59', 'ILE24-LYS26', 'ILE24-ILE27', 'ILE24-LEU28', 'ILE24-ASN29', 'ILE24-MET30', 'ILE24-GLU31', 'ILE24-ASP32', 'ILE24-ASP33', 'ILE24-SER34', 'ILE24-ASN35', 'ILE24-TRP36', 'ILE24-TYR37', 'ILE24-ARG38', 'ILE24-ALA39', 'ILE24-GLU40', 'ILE24-LEU41', 'ILE24-ASP42', 'ILE24-GLY43', 'ILE24-LYS44', 'ILE24-GLU45', 'ILE24-GLY46', 'ILE24-LEU47', 'ILE24-ILE48', 'ILE24-PRO49', 'ILE24-SER50', 'ILE24-ASN51', 'ILE24-TYR52', 'ILE24-ILE53', 'ILE24-GLU54', 'ILE24-MET55', 'ILE24-LYS56', 'ILE24-ASN57', 'ILE24-HIS58', 'ILE24-ASP59', 'LEU25-ILE27', 'LEU25-LEU28', 'LEU25-ASN29', 'LEU25-MET30', 'LEU25-GLU31', 'LEU25-ASP32', 'LEU25-ASP33', 'LEU25-SER34', 'LEU25-ASN35', 'LEU25-TRP36', 'LEU25-TYR37', 'LEU25-ARG38', 'LEU25-ALA39', 'LEU25-GLU40', 'LEU25-LEU41', 'LEU25-ASP42', 'LEU25-GLY43', 'LEU25-LYS44', 'LEU25-GLU45', 'LEU25-GLY46', 'LEU25-LEU47', 'LEU25-ILE48', 'LEU25-PRO49', 'LEU25-SER50', 'LEU25-ASN51', 'LEU25-TYR52', 'LEU25-ILE53', 'LEU25-GLU54', 'LEU25-MET55', 'LEU25-LYS56', 'LEU25-ASN57', 'LEU25-HIS58', 'LEU25-ASP59', 'LYS26-LEU28', 'LYS26-ASN29', 'LYS26-MET30', 'LYS26-GLU31', 'LYS26-ASP32', 'LYS26-ASP33', 'LYS26-SER34', 'LYS26-ASN35', 'LYS26-TRP36', 'LYS26-TYR37', 'LYS26-ARG38', 'LYS26-ALA39', 'LYS26-GLU40', 'LYS26-LEU41', 'LYS26-ASP42', 'LYS26-GLY43', 'LYS26-LYS44', 'LYS26-GLU45', 'LYS26-GLY46', 'LYS26-LEU47', 'LYS26-ILE48', 'LYS26-PRO49', 'LYS26-SER50', 'LYS26-ASN51', 'LYS26-TYR52', 'LYS26-ILE53', 'LYS26-GLU54', 'LYS26-MET55', 'LYS26-LYS56', 'LYS26-ASN57', 'LYS26-HIS58', 'LYS26-ASP59', 'ILE27-ASN29', 'ILE27-MET30', 'ILE27-GLU31', 'ILE27-ASP32', 'ILE27-ASP33', 'ILE27-SER34', 'ILE27-ASN35', 'ILE27-TRP36', 'ILE27-TYR37', 'ILE27-ARG38', 'ILE27-ALA39', 'ILE27-GLU40', 'ILE27-LEU41', 'ILE27-ASP42', 'ILE27-GLY43', 'ILE27-LYS44', 'ILE27-GLU45', 'ILE27-GLY46', 'ILE27-LEU47', 'ILE27-ILE48', 'ILE27-PRO49', 'ILE27-SER50', 'ILE27-ASN51', 'ILE27-TYR52', 'ILE27-ILE53', 'ILE27-GLU54', 'ILE27-MET55', 'ILE27-LYS56', 'ILE27-ASN57', 'ILE27-HIS58', 'ILE27-ASP59', 'LEU28-MET30', 'LEU28-GLU31', 'LEU28-ASP32', 'LEU28-ASP33', 'LEU28-SER34', 'LEU28-ASN35', 'LEU28-TRP36', 'LEU28-TYR37', 'LEU28-ARG38', 'LEU28-ALA39', 'LEU28-GLU40', 'LEU28-LEU41', 'LEU28-ASP42', 'LEU28-GLY43', 'LEU28-LYS44', 'LEU28-GLU45', 'LEU28-GLY46', 'LEU28-LEU47', 'LEU28-ILE48', 'LEU28-PRO49', 'LEU28-SER50', 'LEU28-ASN51', 'LEU28-TYR52', 'LEU28-ILE53', 'LEU28-GLU54', 'LEU28-MET55', 'LEU28-LYS56', 'LEU28-ASN57', 'LEU28-HIS58', 'LEU28-ASP59', 'ASN29-GLU31', 'ASN29-ASP32', 'ASN29-ASP33', 'ASN29-SER34', 'ASN29-ASN35', 'ASN29-TRP36', 'ASN29-TYR37', 'ASN29-ARG38', 'ASN29-ALA39', 'ASN29-GLU40', 'ASN29-LEU41', 'ASN29-ASP42', 'ASN29-GLY43', 'ASN29-LYS44', 'ASN29-GLU45', 'ASN29-GLY46', 'ASN29-LEU47', 'ASN29-ILE48', 'ASN29-PRO49', 'ASN29-SER50', 'ASN29-ASN51', 'ASN29-TYR52', 'ASN29-ILE53', 'ASN29-GLU54', 'ASN29-MET55', 'ASN29-LYS56', 'ASN29-ASN57', 'ASN29-HIS58', 'ASN29-ASP59', 'MET30-ASP32', 'MET30-ASP33', 'MET30-SER34', 'MET30-ASN35', 'MET30-TRP36', 'MET30-TYR37', 'MET30-ARG38', 'MET30-ALA39', 'MET30-GLU40', 'MET30-LEU41', 'MET30-ASP42', 'MET30-GLY43', 'MET30-LYS44', 'MET30-GLU45', 'MET30-GLY46', 'MET30-LEU47', 'MET30-ILE48', 'MET30-PRO49', 'MET30-SER50', 'MET30-ASN51', 'MET30-TYR52', 'MET30-ILE53', 'MET30-GLU54', 'MET30-MET55', 'MET30-LYS56', 'MET30-ASN57', 'MET30-HIS58', 'MET30-ASP59', 'GLU31-ASP33', 'GLU31-SER34', 'GLU31-ASN35', 'GLU31-TRP36', 'GLU31-TYR37', 'GLU31-ARG38', 'GLU31-ALA39', 'GLU31-GLU40', 'GLU31-LEU41', 'GLU31-ASP42', 'GLU31-GLY43', 'GLU31-LYS44', 'GLU31-GLU45', 'GLU31-GLY46', 'GLU31-LEU47', 'GLU31-ILE48', 'GLU31-PRO49', 'GLU31-SER50', 'GLU31-ASN51', 'GLU31-TYR52', 'GLU31-ILE53', 'GLU31-GLU54', 'GLU31-MET55', 'GLU31-LYS56', 'GLU31-ASN57', 'GLU31-HIS58', 'GLU31-ASP59', 'ASP32-SER34', 'ASP32-ASN35', 'ASP32-TRP36', 'ASP32-TYR37', 'ASP32-ARG38', 'ASP32-ALA39', 'ASP32-GLU40', 'ASP32-LEU41', 'ASP32-ASP42', 'ASP32-GLY43', 'ASP32-LYS44', 'ASP32-GLU45', 'ASP32-GLY46', 'ASP32-LEU47', 'ASP32-ILE48', 'ASP32-PRO49', 'ASP32-SER50', 'ASP32-ASN51', 'ASP32-TYR52', 'ASP32-ILE53', 'ASP32-GLU54', 'ASP32-MET55', 'ASP32-LYS56', 'ASP32-ASN57', 'ASP32-HIS58', 'ASP32-ASP59', 'ASP33-ASN35', 'ASP33-TRP36', 'ASP33-TYR37', 'ASP33-ARG38', 'ASP33-ALA39', 'ASP33-GLU40', 'ASP33-LEU41', 'ASP33-ASP42', 'ASP33-GLY43', 'ASP33-LYS44', 'ASP33-GLU45', 'ASP33-GLY46', 'ASP33-LEU47', 'ASP33-ILE48', 'ASP33-PRO49', 'ASP33-SER50', 'ASP33-ASN51', 'ASP33-TYR52', 'ASP33-ILE53', 'ASP33-GLU54', 'ASP33-MET55', 'ASP33-LYS56', 'ASP33-ASN57', 'ASP33-HIS58', 'ASP33-ASP59', 'SER34-TRP36', 'SER34-TYR37', 'SER34-ARG38', 'SER34-ALA39', 'SER34-GLU40', 'SER34-LEU41', 'SER34-ASP42', 'SER34-GLY43', 'SER34-LYS44', 'SER34-GLU45', 'SER34-GLY46', 'SER34-LEU47', 'SER34-ILE48', 'SER34-PRO49', 'SER34-SER50', 'SER34-ASN51', 'SER34-TYR52', 'SER34-ILE53', 'SER34-GLU54', 'SER34-MET55', 'SER34-LYS56', 'SER34-ASN57', 'SER34-HIS58', 'SER34-ASP59', 'ASN35-TYR37', 'ASN35-ARG38', 'ASN35-ALA39', 'ASN35-GLU40', 'ASN35-LEU41', 'ASN35-ASP42', 'ASN35-GLY43', 'ASN35-LYS44', 'ASN35-GLU45', 'ASN35-GLY46', 'ASN35-LEU47', 'ASN35-ILE48', 'ASN35-PRO49', 'ASN35-SER50', 'ASN35-ASN51', 'ASN35-TYR52', 'ASN35-ILE53', 'ASN35-GLU54', 'ASN35-MET55', 'ASN35-LYS56', 'ASN35-ASN57', 'ASN35-HIS58', 'ASN35-ASP59', 'TRP36-ARG38', 'TRP36-ALA39', 'TRP36-GLU40', 'TRP36-LEU41', 'TRP36-ASP42', 'TRP36-GLY43', 'TRP36-LYS44', 'TRP36-GLU45', 'TRP36-GLY46', 'TRP36-LEU47', 'TRP36-ILE48', 'TRP36-PRO49', 'TRP36-SER50', 'TRP36-ASN51', 'TRP36-TYR52', 'TRP36-ILE53', 'TRP36-GLU54', 'TRP36-MET55', 'TRP36-LYS56', 'TRP36-ASN57', 'TRP36-HIS58', 'TRP36-ASP59', 'TYR37-ALA39', 'TYR37-GLU40', 'TYR37-LEU41', 'TYR37-ASP42', 'TYR37-GLY43', 'TYR37-LYS44', 'TYR37-GLU45', 'TYR37-GLY46', 'TYR37-LEU47', 'TYR37-ILE48', 'TYR37-PRO49', 'TYR37-SER50', 'TYR37-ASN51', 'TYR37-TYR52', 'TYR37-ILE53', 'TYR37-GLU54', 'TYR37-MET55', 'TYR37-LYS56', 'TYR37-ASN57', 'TYR37-HIS58', 'TYR37-ASP59', 'ARG38-GLU40', 'ARG38-LEU41', 'ARG38-ASP42', 'ARG38-GLY43', 'ARG38-LYS44', 'ARG38-GLU45', 'ARG38-GLY46', 'ARG38-LEU47', 'ARG38-ILE48', 'ARG38-PRO49', 'ARG38-SER50', 'ARG38-ASN51', 'ARG38-TYR52', 'ARG38-ILE53', 'ARG38-GLU54', 'ARG38-MET55', 'ARG38-LYS56', 'ARG38-ASN57', 'ARG38-HIS58', 'ARG38-ASP59', 'ALA39-LEU41', 'ALA39-ASP42', 'ALA39-GLY43', 'ALA39-LYS44', 'ALA39-GLU45', 'ALA39-GLY46', 'ALA39-LEU47', 'ALA39-ILE48', 'ALA39-PRO49', 'ALA39-SER50', 'ALA39-ASN51', 'ALA39-TYR52', 'ALA39-ILE53', 'ALA39-GLU54', 'ALA39-MET55', 'ALA39-LYS56', 'ALA39-ASN57', 'ALA39-HIS58', 'ALA39-ASP59', 'GLU40-ASP42', 'GLU40-GLY43', 'GLU40-LYS44', 'GLU40-GLU45', 'GLU40-GLY46', 'GLU40-LEU47', 'GLU40-ILE48', 'GLU40-PRO49', 'GLU40-SER50', 'GLU40-ASN51', 'GLU40-TYR52', 'GLU40-ILE53', 'GLU40-GLU54', 'GLU40-MET55', 'GLU40-LYS56', 'GLU40-ASN57', 'GLU40-HIS58', 'GLU40-ASP59', 'LEU41-GLY43', 'LEU41-LYS44', 'LEU41-GLU45', 'LEU41-GLY46', 'LEU41-LEU47', 'LEU41-ILE48', 'LEU41-PRO49', 'LEU41-SER50', 'LEU41-ASN51', 'LEU41-TYR52', 'LEU41-ILE53', 'LEU41-GLU54', 'LEU41-MET55', 'LEU41-LYS56', 'LEU41-ASN57', 'LEU41-HIS58', 'LEU41-ASP59', 'ASP42-LYS44', 'ASP42-GLU45', 'ASP42-GLY46', 'ASP42-LEU47', 'ASP42-ILE48', 'ASP42-PRO49', 'ASP42-SER50', 'ASP42-ASN51', 'ASP42-TYR52', 'ASP42-ILE53', 'ASP42-GLU54', 'ASP42-MET55', 'ASP42-LYS56', 'ASP42-ASN57', 'ASP42-HIS58', 'ASP42-ASP59', 'GLY43-GLU45', 'GLY43-GLY46', 'GLY43-LEU47', 'GLY43-ILE48', 'GLY43-PRO49', 'GLY43-SER50', 'GLY43-ASN51', 'GLY43-TYR52', 'GLY43-ILE53', 'GLY43-GLU54', 'GLY43-MET55', 'GLY43-LYS56', 'GLY43-ASN57', 'GLY43-HIS58', 'GLY43-ASP59', 'LYS44-GLY46', 'LYS44-LEU47', 'LYS44-ILE48', 'LYS44-PRO49', 'LYS44-SER50', 'LYS44-ASN51', 'LYS44-TYR52', 'LYS44-ILE53', 'LYS44-GLU54', 'LYS44-MET55', 'LYS44-LYS56', 'LYS44-ASN57', 'LYS44-HIS58', 'LYS44-ASP59', 'GLU45-LEU47', 'GLU45-ILE48', 'GLU45-PRO49', 'GLU45-SER50', 'GLU45-ASN51', 'GLU45-TYR52', 'GLU45-ILE53', 'GLU45-GLU54', 'GLU45-MET55', 'GLU45-LYS56', 'GLU45-ASN57', 'GLU45-HIS58', 'GLU45-ASP59', 'GLY46-ILE48', 'GLY46-PRO49', 'GLY46-SER50', 'GLY46-ASN51', 'GLY46-TYR52', 'GLY46-ILE53', 'GLY46-GLU54', 'GLY46-MET55', 'GLY46-LYS56', 'GLY46-ASN57', 'GLY46-HIS58', 'GLY46-ASP59', 'LEU47-PRO49', 'LEU47-SER50', 'LEU47-ASN51', 'LEU47-TYR52', 'LEU47-ILE53', 'LEU47-GLU54', 'LEU47-MET55', 'LEU47-LYS56', 'LEU47-ASN57', 'LEU47-HIS58', 'LEU47-ASP59', 'ILE48-SER50', 'ILE48-ASN51', 'ILE48-TYR52', 'ILE48-ILE53', 'ILE48-GLU54', 'ILE48-MET55', 'ILE48-LYS56', 'ILE48-ASN57', 'ILE48-HIS58', 'ILE48-ASP59', 'PRO49-ASN51', 'PRO49-TYR52', 'PRO49-ILE53', 'PRO49-GLU54', 'PRO49-MET55', 'PRO49-LYS56', 'PRO49-ASN57', 'PRO49-HIS58', 'PRO49-ASP59', 'SER50-TYR52', 'SER50-ILE53', 'SER50-GLU54', 'SER50-MET55', 'SER50-LYS56', 'SER50-ASN57', 'SER50-HIS58', 'SER50-ASP59', 'ASN51-ILE53', 'ASN51-GLU54', 'ASN51-MET55', 'ASN51-LYS56', 'ASN51-ASN57', 'ASN51-HIS58', 'ASN51-ASP59', 'TYR52-GLU54', 'TYR52-MET55', 'TYR52-LYS56', 'TYR52-ASN57', 'TYR52-HIS58', 'TYR52-ASP59', 'ILE53-MET55', 'ILE53-LYS56', 'ILE53-ASN57', 'ILE53-HIS58', 'ILE53-ASP59', 'GLU54-LYS56', 'GLU54-ASN57', 'GLU54-HIS58', 'GLU54-ASP59', 'MET55-ASN57', 'MET55-HIS58', 'MET55-ASP59', 'LYS56-HIS58', 'LYS56-ASP59', 'ASN57-ASP59']\n"
     ]
    },
    {
     "data": {
      "text/plain": [
       "{'PED00156e001': array([[0.5687673 , 0.5285205 , 0.6456276 , ..., 0.66305345, 0.96905786,\n",
       "         0.6745613 ],\n",
       "        [0.58550507, 0.8509589 , 1.0959796 , ..., 0.5325418 , 0.539001  ,\n",
       "         0.63170296],\n",
       "        [0.61816657, 0.5848142 , 0.5319582 , ..., 0.5708492 , 0.8553404 ,\n",
       "         0.5177114 ],\n",
       "        ...,\n",
       "        [0.62179464, 0.8957052 , 1.2247868 , ..., 0.60477006, 0.9569237 ,\n",
       "         0.66563815],\n",
       "        [0.6663374 , 0.93249786, 1.300304  , ..., 0.5492629 , 0.6179835 ,\n",
       "         0.6371168 ],\n",
       "        [0.57238317, 0.68313426, 0.9524447 , ..., 0.50012326, 0.44726157,\n",
       "         0.58926785]], dtype=float32),\n",
       " 'PED00157e001': array([[0.5080859 , 0.67766374, 0.88780785, ..., 0.71410066, 0.8800467 ,\n",
       "         0.6577556 ],\n",
       "        [0.61922514, 0.89435095, 0.93977153, ..., 0.7174825 , 0.85039765,\n",
       "         0.5540449 ],\n",
       "        [0.59928095, 0.7604963 , 1.0995255 , ..., 0.62417346, 0.77708054,\n",
       "         0.56702864],\n",
       "        ...,\n",
       "        [0.5140302 , 0.4622924 , 0.6651751 , ..., 0.5530799 , 0.64983565,\n",
       "         0.6454074 ],\n",
       "        [0.6023486 , 0.63549155, 0.6104062 , ..., 0.67566687, 0.96151644,\n",
       "         0.60895115],\n",
       "        [0.5350295 , 0.54246897, 0.6111113 , ..., 0.6685936 , 0.97319436,\n",
       "         0.60963315]], dtype=float32),\n",
       " 'PED00158e001': array([[0.5337302 , 0.5430537 , 0.893222  , ..., 0.62715816, 0.99196094,\n",
       "         0.6863055 ],\n",
       "        [0.71710575, 0.92170286, 0.78879756, ..., 0.6643764 , 0.76129335,\n",
       "         0.646028  ],\n",
       "        [0.5309329 , 0.7352935 , 1.0777471 , ..., 0.58634317, 0.7989207 ,\n",
       "         0.52983344],\n",
       "        ...,\n",
       "        [0.57742816, 0.556339  , 0.7497508 , ..., 0.68102354, 0.8843146 ,\n",
       "         0.5294112 ],\n",
       "        [0.568254  , 0.7362539 , 0.66459495, ..., 0.7140875 , 0.895827  ,\n",
       "         0.65088195],\n",
       "        [0.6166926 , 0.9074621 , 0.85439134, ..., 0.72726864, 0.9364801 ,\n",
       "         0.57959974]], dtype=float32)}"
      ]
     },
     "execution_count": 4,
     "metadata": {},
     "output_type": "execute_result"
    }
   ],
   "source": [
    "analysis.extract_features(featurization='ca_dist')"
   ]
  },
  {
   "cell_type": "markdown",
   "metadata": {},
   "source": [
    "## Dimensionality Reduction"
   ]
  },
  {
   "cell_type": "code",
   "execution_count": 5,
   "metadata": {},
   "outputs": [
    {
     "name": "stdout",
     "output_type": "stream",
     "text": [
      "Concatenated featurized ensemble shape: (150, 1653)\n",
      "tsne is running...\n",
      "Best Perplexity: 100\n",
      "Best Number of Clusters: 4\n",
      "Silhouette Score Low Dimensional: 0.50396425\n",
      "Silhouette Score High Dimensional: 0.29182327\n",
      "Silhouette Score Product 0.14706849\n"
     ]
    },
    {
     "data": {
      "text/plain": [
       "array([[ 8.27532   ,  2.2361357 ],\n",
       "       [ 6.318415  , -0.4294145 ],\n",
       "       [ 6.289388  , -0.05551816],\n",
       "       [ 6.286375  , -0.14872915],\n",
       "       [ 6.671764  , -0.08882248],\n",
       "       [ 6.625122  , -0.41031504],\n",
       "       [10.305081  ,  2.618228  ],\n",
       "       [ 6.340727  , -0.21013139],\n",
       "       [ 6.4239464 , -0.05192661],\n",
       "       [ 6.1813226 ,  0.03116161],\n",
       "       [10.392733  ,  2.7419603 ],\n",
       "       [ 9.277212  ,  1.554272  ],\n",
       "       [ 6.448775  ,  0.6920828 ],\n",
       "       [ 6.2616177 ,  0.28532887],\n",
       "       [10.226814  ,  2.4655333 ],\n",
       "       [10.37357   ,  2.6047356 ],\n",
       "       [ 9.047119  ,  1.478578  ],\n",
       "       [ 6.5525002 , -0.35413295],\n",
       "       [10.323682  ,  2.3638837 ],\n",
       "       [ 9.011322  ,  1.0480171 ],\n",
       "       [ 9.120744  ,  1.4731957 ],\n",
       "       [ 8.7214775 ,  1.5608418 ],\n",
       "       [ 7.7020674 ,  0.5240724 ],\n",
       "       [ 7.5091853 ,  0.14312929],\n",
       "       [ 9.069931  ,  1.8125415 ],\n",
       "       [ 6.4991064 , -0.1686687 ],\n",
       "       [10.239872  ,  2.1504333 ],\n",
       "       [10.256021  ,  1.9483533 ],\n",
       "       [ 9.542697  ,  1.3232508 ],\n",
       "       [ 7.404405  , -0.3119796 ],\n",
       "       [ 6.2925005 , -0.21398115],\n",
       "       [10.236879  ,  2.188234  ],\n",
       "       [ 6.53676   , -0.15584832],\n",
       "       [ 9.6569    ,  1.7164847 ],\n",
       "       [ 6.195178  , -0.25115493],\n",
       "       [ 6.5667443 ,  0.43684152],\n",
       "       [ 6.2388    , -0.23824754],\n",
       "       [ 6.623979  , -0.15702553],\n",
       "       [ 6.362019  , -0.25049612],\n",
       "       [ 6.502193  , -0.10111848],\n",
       "       [ 7.088277  ,  0.5047853 ],\n",
       "       [ 6.6350913 , -0.17521846],\n",
       "       [ 8.133221  ,  2.9335494 ],\n",
       "       [ 9.121175  ,  2.0118911 ],\n",
       "       [10.417226  ,  2.5926101 ],\n",
       "       [ 6.262176  ,  0.42068857],\n",
       "       [10.290493  ,  2.2834284 ],\n",
       "       [ 6.421471  , -0.29917324],\n",
       "       [ 8.626776  ,  0.04728385],\n",
       "       [ 9.694105  ,  1.9704587 ],\n",
       "       [ 8.760763  ,  2.5303657 ],\n",
       "       [ 9.538417  ,  1.3055323 ],\n",
       "       [ 7.7023387 ,  1.604582  ],\n",
       "       [ 8.9164    ,  2.3276846 ],\n",
       "       [ 6.773247  ,  1.7586935 ],\n",
       "       [ 6.9490666 ,  2.350774  ],\n",
       "       [ 7.496751  ,  1.8082311 ],\n",
       "       [ 7.3901176 , -0.42127404],\n",
       "       [ 8.573736  ,  0.75619596],\n",
       "       [ 9.4973955 ,  1.705661  ],\n",
       "       [ 9.261166  ,  0.51126206],\n",
       "       [ 9.065519  ,  0.5285122 ],\n",
       "       [ 8.137216  ,  0.6789702 ],\n",
       "       [ 9.361414  ,  1.0868992 ],\n",
       "       [ 7.7425838 ,  1.2211347 ],\n",
       "       [ 9.479454  ,  1.2144452 ],\n",
       "       [ 8.575385  ,  1.8391292 ],\n",
       "       [ 6.631034  ,  1.6270102 ],\n",
       "       [ 7.0148067 ,  1.7800887 ],\n",
       "       [ 6.653855  ,  1.4447976 ],\n",
       "       [ 7.4155393 ,  1.7207967 ],\n",
       "       [10.11436   ,  1.8776761 ],\n",
       "       [ 6.252093  ,  1.155077  ],\n",
       "       [ 8.875136  ,  0.69867545],\n",
       "       [ 9.044784  ,  1.6034582 ],\n",
       "       [ 8.581409  ,  2.295459  ],\n",
       "       [ 8.219152  ,  2.6526809 ],\n",
       "       [ 9.948155  ,  1.3191283 ],\n",
       "       [ 9.407702  ,  1.0889226 ],\n",
       "       [ 9.004143  ,  0.5264503 ],\n",
       "       [ 6.505057  ,  1.4801046 ],\n",
       "       [ 6.4166636 ,  1.3012153 ],\n",
       "       [ 7.142583  ,  1.36312   ],\n",
       "       [ 7.7516856 ,  1.7908155 ],\n",
       "       [ 6.4805675 ,  1.8256793 ],\n",
       "       [ 9.764669  ,  0.92913544],\n",
       "       [ 9.053821  ,  1.6377351 ],\n",
       "       [ 7.8599586 ,  1.9520209 ],\n",
       "       [ 7.3989797 ,  2.0479527 ],\n",
       "       [ 7.289182  ,  2.375923  ],\n",
       "       [ 7.867364  ,  1.7641726 ],\n",
       "       [ 9.2113085 ,  1.3222669 ],\n",
       "       [ 9.44365   ,  0.147993  ],\n",
       "       [ 7.911118  ,  2.0103724 ],\n",
       "       [ 7.7417526 , -0.3212551 ],\n",
       "       [ 9.06236   ,  1.0117682 ],\n",
       "       [ 9.006911  ,  2.0962229 ],\n",
       "       [ 8.605543  ,  0.8131825 ],\n",
       "       [ 8.678694  ,  1.0441196 ],\n",
       "       [ 9.0596    ,  1.1048962 ],\n",
       "       [ 8.86664   ,  0.53310245],\n",
       "       [ 7.514262  ,  2.2052906 ],\n",
       "       [ 6.6026936 ,  1.8530933 ],\n",
       "       [ 9.580194  ,  0.45621717],\n",
       "       [ 8.980754  ,  0.7420695 ],\n",
       "       [ 8.780506  ,  0.43956158],\n",
       "       [ 6.7801533 ,  1.7107776 ],\n",
       "       [ 7.9420657 ,  0.9859508 ],\n",
       "       [ 5.8864703 ,  0.65443707],\n",
       "       [ 7.837082  ,  1.2424322 ],\n",
       "       [ 9.230753  ,  0.55152065],\n",
       "       [ 7.2891817 ,  2.375923  ],\n",
       "       [ 8.763484  ,  2.1835577 ],\n",
       "       [ 8.292955  ,  1.7638628 ],\n",
       "       [ 8.852828  ,  0.27628985],\n",
       "       [ 8.409172  ,  1.4546518 ],\n",
       "       [ 7.267197  ,  1.2398733 ],\n",
       "       [ 7.172432  ,  1.9356807 ],\n",
       "       [ 9.332863  ,  0.18600635],\n",
       "       [ 5.9431686 ,  0.22991276],\n",
       "       [ 7.295924  ,  2.163646  ],\n",
       "       [ 6.653157  ,  1.5880251 ],\n",
       "       [ 7.758069  ,  0.949536  ],\n",
       "       [ 9.131265  ,  1.1534451 ],\n",
       "       [ 6.096632  , -0.21137194],\n",
       "       [ 8.720248  ,  2.2753277 ],\n",
       "       [ 9.609677  ,  0.73815584],\n",
       "       [ 9.059915  ,  0.925112  ],\n",
       "       [ 7.415567  ,  1.7207292 ],\n",
       "       [ 7.200373  ,  1.4530789 ],\n",
       "       [ 6.8824973 ,  2.189094  ],\n",
       "       [ 7.14267   ,  1.479767  ],\n",
       "       [ 8.419039  ,  1.5736413 ],\n",
       "       [ 6.7853727 ,  2.2849536 ],\n",
       "       [ 7.599179  ,  2.2038138 ],\n",
       "       [ 6.9894514 ,  1.8637342 ],\n",
       "       [ 9.172517  ,  0.48817033],\n",
       "       [ 8.606065  ,  0.4855822 ],\n",
       "       [ 7.1774235 ,  2.1571088 ],\n",
       "       [ 8.980573  ,  0.73703873],\n",
       "       [ 6.480567  ,  1.8256795 ],\n",
       "       [ 9.227722  ,  0.5847222 ],\n",
       "       [ 7.623357  ,  1.3135955 ],\n",
       "       [ 7.0921793 ,  2.068608  ],\n",
       "       [ 7.689336  ,  1.2088482 ],\n",
       "       [ 6.2659197 ,  0.7865166 ],\n",
       "       [ 9.016247  ,  0.125408  ],\n",
       "       [ 8.586029  ,  0.7840147 ],\n",
       "       [ 7.78981   ,  2.2902083 ],\n",
       "       [ 8.443051  ,  0.5789175 ]], dtype=float32)"
      ]
     },
     "execution_count": 5,
     "metadata": {},
     "output_type": "execute_result"
    }
   ],
   "source": [
    "analysis.reduce_features(method='tsne', perplexity_vals = [10, 20,  50, 100], circular=False, range_n_clusters=range(2,10,1))"
   ]
  },
  {
   "cell_type": "markdown",
   "metadata": {},
   "source": [
    "## Analysis"
   ]
  },
  {
   "cell_type": "code",
   "execution_count": 6,
   "metadata": {},
   "outputs": [],
   "source": [
    "from matplotlib import pyplot as plt\n",
    "from dpet.visualization import Visualization\n",
    "\n",
    "\n",
    "vis = Visualization(analysis)\n",
    "\n",
    "\n"
   ]
  },
  {
   "cell_type": "code",
   "execution_count": 7,
   "metadata": {},
   "outputs": [
    {
     "data": {
      "text/plain": [
       "{'PED00156e001': array([[-1.0514201 , -1.2517244 , -1.3804163 , ...,  1.9285852 ,\n",
       "          2.7286372 ,  2.403263  ],\n",
       "        [-1.3948162 , -2.7970872 , -2.1043153 , ...,  2.10606   ,\n",
       "         -0.5932995 , -1.2692754 ],\n",
       "        [-2.1873307 , -1.2105315 , -1.6749195 , ...,  1.9040998 ,\n",
       "          1.0738877 ,  0.6134716 ],\n",
       "        ...,\n",
       "        [-2.2073655 , -1.4585584 , -2.3322067 , ..., -0.6513363 ,\n",
       "         -1.0166417 ,  2.075375  ],\n",
       "        [-1.6637403 , -1.6206732 , -1.7940581 , ..., -0.19010225,\n",
       "          0.6998877 ,  1.7117194 ],\n",
       "        [-1.3756931 , -1.9858394 , -1.2259734 , ..., -0.51324004,\n",
       "         -0.776476  ,  1.6189235 ]], dtype=float32),\n",
       " 'PED00157e001': array([[-1.0641882 , -1.2343924 , -1.813927  , ..., -2.9098735 ,\n",
       "         -3.0744824 ,  2.7964265 ],\n",
       "        [ 3.0242426 , -1.2952259 , -1.1229024 , ...,  2.4418864 ,\n",
       "         -2.897522  , -0.66710645],\n",
       "        [-0.9922045 , -0.999937  , -1.9366667 , ...,  2.9987833 ,\n",
       "          0.18309718,  0.15849403],\n",
       "        ...,\n",
       "        [-1.2804592 , -1.2485764 , -1.8292195 , ...,  2.4587963 ,\n",
       "         -0.85596883,  2.0799978 ],\n",
       "        [-1.5628695 , -1.185353  , -1.1232009 , ..., -0.43285525,\n",
       "         -2.6464052 , -1.0290296 ],\n",
       "        [-1.1229545 , -1.1070263 , -1.0440576 , ...,  2.5995834 ,\n",
       "          2.7723227 ,  0.6521075 ]], dtype=float32),\n",
       " 'PED00158e001': array([[-1.2397155 , -1.9708191 , -0.9293139 , ..., -0.57927513,\n",
       "          2.2618046 ,  2.6236653 ],\n",
       "        [-2.81707   , -1.6594149 , -1.3417468 , ...,  2.527097  ,\n",
       "         -2.652667  ,  2.2235308 ],\n",
       "        [-1.0733532 , -1.2756327 , -2.40124   , ..., -1.0856733 ,\n",
       "          0.5538002 , -0.5140226 ],\n",
       "        ...,\n",
       "        [-1.775176  , -1.7385414 , -2.509595  , ..., -0.586825  ,\n",
       "          2.3115022 , -0.5511516 ],\n",
       "        [-1.1828902 , -1.0464036 , -0.85703236, ...,  1.6982958 ,\n",
       "         -3.0706031 ,  2.5842435 ],\n",
       "        [-1.5940694 , -1.6100634 , -1.5787642 , ..., -0.8562517 ,\n",
       "          2.6461244 , -0.9817197 ]], dtype=float32)}"
      ]
     },
     "execution_count": 7,
     "metadata": {},
     "output_type": "execute_result"
    }
   ],
   "source": [
    "analysis.get_features('phi_psi')"
   ]
  },
  {
   "cell_type": "code",
   "execution_count": 8,
   "metadata": {},
   "outputs": [
    {
     "data": {
      "application/vnd.plotly.v1+json": {
       "config": {
        "plotlyServerURL": "https://plot.ly"
       },
       "data": [
        {
         "customdata": [
          [
           "model1_PED00156e001"
          ],
          [
           "model2_PED00156e001"
          ],
          [
           "model3_PED00156e001"
          ],
          [
           "model4_PED00156e001"
          ],
          [
           "model5_PED00156e001"
          ],
          [
           "model6_PED00156e001"
          ],
          [
           "model7_PED00156e001"
          ],
          [
           "model8_PED00156e001"
          ],
          [
           "model9_PED00156e001"
          ],
          [
           "model10_PED00156e001"
          ],
          [
           "model11_PED00156e001"
          ],
          [
           "model12_PED00156e001"
          ],
          [
           "model13_PED00156e001"
          ],
          [
           "model14_PED00156e001"
          ],
          [
           "model15_PED00156e001"
          ],
          [
           "model16_PED00156e001"
          ],
          [
           "model17_PED00156e001"
          ],
          [
           "model18_PED00156e001"
          ],
          [
           "model19_PED00156e001"
          ],
          [
           "model20_PED00156e001"
          ],
          [
           "model21_PED00156e001"
          ],
          [
           "model22_PED00156e001"
          ],
          [
           "model23_PED00156e001"
          ],
          [
           "model24_PED00156e001"
          ],
          [
           "model25_PED00156e001"
          ],
          [
           "model26_PED00156e001"
          ],
          [
           "model27_PED00156e001"
          ],
          [
           "model28_PED00156e001"
          ],
          [
           "model29_PED00156e001"
          ],
          [
           "model30_PED00156e001"
          ],
          [
           "model31_PED00156e001"
          ],
          [
           "model32_PED00156e001"
          ],
          [
           "model33_PED00156e001"
          ],
          [
           "model34_PED00156e001"
          ],
          [
           "model35_PED00156e001"
          ],
          [
           "model36_PED00156e001"
          ],
          [
           "model37_PED00156e001"
          ],
          [
           "model38_PED00156e001"
          ],
          [
           "model39_PED00156e001"
          ],
          [
           "model40_PED00156e001"
          ],
          [
           "model41_PED00156e001"
          ],
          [
           "model42_PED00156e001"
          ],
          [
           "model43_PED00156e001"
          ],
          [
           "model44_PED00156e001"
          ],
          [
           "model45_PED00156e001"
          ],
          [
           "model46_PED00156e001"
          ],
          [
           "model47_PED00156e001"
          ],
          [
           "model48_PED00156e001"
          ],
          [
           "model49_PED00156e001"
          ],
          [
           "model50_PED00156e001"
          ],
          [
           "model1_PED00157e001"
          ],
          [
           "model2_PED00157e001"
          ],
          [
           "model3_PED00157e001"
          ],
          [
           "model4_PED00157e001"
          ],
          [
           "model5_PED00157e001"
          ],
          [
           "model6_PED00157e001"
          ],
          [
           "model7_PED00157e001"
          ],
          [
           "model8_PED00157e001"
          ],
          [
           "model9_PED00157e001"
          ],
          [
           "model10_PED00157e001"
          ],
          [
           "model11_PED00157e001"
          ],
          [
           "model12_PED00157e001"
          ],
          [
           "model13_PED00157e001"
          ],
          [
           "model14_PED00157e001"
          ],
          [
           "model15_PED00157e001"
          ],
          [
           "model16_PED00157e001"
          ],
          [
           "model17_PED00157e001"
          ],
          [
           "model18_PED00157e001"
          ],
          [
           "model19_PED00157e001"
          ],
          [
           "model20_PED00157e001"
          ],
          [
           "model21_PED00157e001"
          ],
          [
           "model22_PED00157e001"
          ],
          [
           "model23_PED00157e001"
          ],
          [
           "model24_PED00157e001"
          ],
          [
           "model25_PED00157e001"
          ],
          [
           "model26_PED00157e001"
          ],
          [
           "model27_PED00157e001"
          ],
          [
           "model28_PED00157e001"
          ],
          [
           "model29_PED00157e001"
          ],
          [
           "model30_PED00157e001"
          ],
          [
           "model31_PED00157e001"
          ],
          [
           "model32_PED00157e001"
          ],
          [
           "model33_PED00157e001"
          ],
          [
           "model34_PED00157e001"
          ],
          [
           "model35_PED00157e001"
          ],
          [
           "model36_PED00157e001"
          ],
          [
           "model37_PED00157e001"
          ],
          [
           "model38_PED00157e001"
          ],
          [
           "model39_PED00157e001"
          ],
          [
           "model40_PED00157e001"
          ],
          [
           "model41_PED00157e001"
          ],
          [
           "model42_PED00157e001"
          ],
          [
           "model43_PED00157e001"
          ],
          [
           "model44_PED00157e001"
          ],
          [
           "model45_PED00157e001"
          ],
          [
           "model46_PED00157e001"
          ],
          [
           "model47_PED00157e001"
          ],
          [
           "model48_PED00157e001"
          ],
          [
           "model49_PED00157e001"
          ],
          [
           "model50_PED00157e001"
          ],
          [
           "model1_PED00158e001"
          ],
          [
           "model2_PED00158e001"
          ],
          [
           "model3_PED00158e001"
          ],
          [
           "model4_PED00158e001"
          ],
          [
           "model5_PED00158e001"
          ],
          [
           "model6_PED00158e001"
          ],
          [
           "model7_PED00158e001"
          ],
          [
           "model8_PED00158e001"
          ],
          [
           "model9_PED00158e001"
          ],
          [
           "model10_PED00158e001"
          ],
          [
           "model11_PED00158e001"
          ],
          [
           "model12_PED00158e001"
          ],
          [
           "model13_PED00158e001"
          ],
          [
           "model14_PED00158e001"
          ],
          [
           "model15_PED00158e001"
          ],
          [
           "model16_PED00158e001"
          ],
          [
           "model17_PED00158e001"
          ],
          [
           "model18_PED00158e001"
          ],
          [
           "model19_PED00158e001"
          ],
          [
           "model20_PED00158e001"
          ],
          [
           "model21_PED00158e001"
          ],
          [
           "model22_PED00158e001"
          ],
          [
           "model23_PED00158e001"
          ],
          [
           "model24_PED00158e001"
          ],
          [
           "model25_PED00158e001"
          ],
          [
           "model26_PED00158e001"
          ],
          [
           "model27_PED00158e001"
          ],
          [
           "model28_PED00158e001"
          ],
          [
           "model29_PED00158e001"
          ],
          [
           "model30_PED00158e001"
          ],
          [
           "model31_PED00158e001"
          ],
          [
           "model32_PED00158e001"
          ],
          [
           "model33_PED00158e001"
          ],
          [
           "model34_PED00158e001"
          ],
          [
           "model35_PED00158e001"
          ],
          [
           "model36_PED00158e001"
          ],
          [
           "model37_PED00158e001"
          ],
          [
           "model38_PED00158e001"
          ],
          [
           "model39_PED00158e001"
          ],
          [
           "model40_PED00158e001"
          ],
          [
           "model41_PED00158e001"
          ],
          [
           "model42_PED00158e001"
          ],
          [
           "model43_PED00158e001"
          ],
          [
           "model44_PED00158e001"
          ],
          [
           "model45_PED00158e001"
          ],
          [
           "model46_PED00158e001"
          ],
          [
           "model47_PED00158e001"
          ],
          [
           "model48_PED00158e001"
          ],
          [
           "model49_PED00158e001"
          ],
          [
           "model50_PED00158e001"
          ]
         ],
         "hovertemplate": "x=%{x}<br>y=%{y}<br>index=%{customdata[0]}<br>color=%{marker.color}<extra></extra>",
         "legendgroup": "",
         "marker": {
          "color": [
           5.827362537384033,
           1.474345326423645,
           3.085087776184082,
           1.3528329133987427,
           1.7693804502487183,
           2.342557191848755,
           10.765644073486328,
           2.4169421195983887,
           1.0321934223175049,
           2.420119285583496,
           10.87127685546875,
           6.26338005065918,
           3.241089105606079,
           3.5915253162384033,
           9.274197578430176,
           10.01131534576416,
           5.0537261962890625,
           2.5823495388031006,
           7.649317264556885,
           6.142296314239502,
           6.217304229736328,
           6.104151248931885,
           3.4306952953338623,
           4.094866752624512,
           5.452112197875977,
           2.833906650543213,
           7.1925368309021,
           7.835146427154541,
           5.739815711975098,
           3.1144251823425293,
           1.9331951141357422,
           7.24831485748291,
           1.9967728853225708,
           5.420853137969971,
           1.833823323249817,
           3.88081955909729,
           2.2666027545928955,
           1.7174415588378906,
           2.4005355834960938,
           2.325228691101074,
           3.415863275527954,
           0.9376845955848694,
           7.1251540184021,
           7.027379989624023,
           9.262938499450684,
           2.2085912227630615,
           7.532559871673584,
           1.9150763750076294,
           3.2013182640075684,
           6.602384090423584,
           6.351169586181641,
           6.62286901473999,
           3.57888126373291,
           5.653336524963379,
           3.587782144546509,
           6.123628616333008,
           5.1512131690979,
           0.9445164203643799,
           3.78764009475708,
           6.323606491088867,
           5.075538635253906,
           4.391900062561035,
           3.4378883838653564,
           3.813781499862671,
           3.8061840534210205,
           3.7934908866882324,
           5.082697868347168,
           3.3043313026428223,
           4.318039894104004,
           4.0634589195251465,
           5.260847091674805,
           7.429993629455566,
           2.5816609859466553,
           4.331608772277832,
           4.285119533538818,
           4.259119510650635,
           4.5035786628723145,
           5.9295806884765625,
           5.092474460601807,
           5.040911674499512,
           5.010615348815918,
           2.2137537002563477,
           2.8180315494537354,
           4.205707550048828,
           3.6411221027374268,
           6.082874298095703,
           4.307735919952393,
           5.059165000915527,
           3.8472039699554443,
           3.645932912826538,
           4.391786098480225,
           5.822049140930176,
           5.007540225982666,
           3.8504676818847656,
           0.9580614566802979,
           6.506261348724365,
           6.057563781738281,
           3.4984381198883057,
           5.731420993804932,
           5.16562557220459,
           4.822037220001221,
           5.604063987731934,
           3.1531171798706055,
           3.2389631271362305,
           5.055866718292236,
           3.467832088470459,
           4.689399242401123,
           5.135858058929443,
           1.2345592975616455,
           4.673742771148682,
           4.135467052459717,
           3.645932912826538,
           5.0250244140625,
           5.359138488769531,
           4.849122047424316,
           5.250472068786621,
           4.786027431488037,
           4.319131851196289,
           4.680558204650879,
           0.73061603307724,
           3.6876940727233887,
           4.602827072143555,
           4.019550800323486,
           5.015103816986084,
           1.9747523069381714,
           5.680154800415039,
           5.938007831573486,
           4.171229839324951,
           5.260847091674805,
           4.295997619628906,
           4.949594020843506,
           4.961030960083008,
           4.10245418548584,
           5.097296237945557,
           3.985785961151123,
           4.8045654296875,
           4.8095598220825195,
           3.536623954772949,
           5.2437920570373535,
           5.054646015167236,
           3.6411221027374268,
           4.148596286773682,
           3.451212167739868,
           5.163606643676758,
           4.0294671058654785,
           4.257137298583984,
           4.701589584350586,
           4.121710300445557,
           3.899477243423462,
           2.4502878189086914
          ],
          "coloraxis": "coloraxis",
          "symbol": "circle"
         },
         "mode": "markers",
         "name": "",
         "orientation": "v",
         "showlegend": false,
         "type": "scatter",
         "x": [
          8.275320053100586,
          6.31841516494751,
          6.289388179779053,
          6.286375045776367,
          6.671763896942139,
          6.6251220703125,
          10.305081367492676,
          6.340726852416992,
          6.423946380615234,
          6.1813225746154785,
          10.392732620239258,
          9.277212142944336,
          6.448774814605713,
          6.261617660522461,
          10.226814270019531,
          10.373570442199707,
          9.047119140625,
          6.552500247955322,
          10.323681831359863,
          9.011322021484375,
          9.120743751525879,
          8.721477508544922,
          7.7020673751831055,
          7.509185314178467,
          9.069931030273438,
          6.499106407165527,
          10.239871978759766,
          10.256020545959473,
          9.542696952819824,
          7.404405117034912,
          6.2925004959106445,
          10.236879348754883,
          6.536759853363037,
          9.656900405883789,
          6.195178031921387,
          6.566744327545166,
          6.238800048828125,
          6.623979091644287,
          6.362019062042236,
          6.502192974090576,
          7.0882768630981445,
          6.635091304779053,
          8.133220672607422,
          9.121174812316895,
          10.41722583770752,
          6.262176036834717,
          10.29049301147461,
          6.421471118927002,
          8.626775741577148,
          9.69410514831543,
          8.760763168334961,
          9.538416862487793,
          7.702338695526123,
          8.916399955749512,
          6.773246765136719,
          6.949066638946533,
          7.496750831604004,
          7.390117645263672,
          8.573736190795898,
          9.497395515441895,
          9.261165618896484,
          9.065519332885742,
          8.137215614318848,
          9.361413955688477,
          7.742583751678467,
          9.479454040527344,
          8.575385093688965,
          6.631033897399902,
          7.014806747436523,
          6.653854846954346,
          7.415539264678955,
          10.114359855651855,
          6.2520928382873535,
          8.875136375427246,
          9.044783592224121,
          8.581409454345703,
          8.219152450561523,
          9.948155403137207,
          9.407702445983887,
          9.004142761230469,
          6.505056858062744,
          6.416663646697998,
          7.142582893371582,
          7.751685619354248,
          6.480567455291748,
          9.764669418334961,
          9.053820610046387,
          7.859958648681641,
          7.398979663848877,
          7.289182186126709,
          7.867363929748535,
          9.211308479309082,
          9.443650245666504,
          7.911118030548096,
          7.741752624511719,
          9.062359809875488,
          9.006911277770996,
          8.60554313659668,
          8.678693771362305,
          9.059599876403809,
          8.866640090942383,
          7.5142621994018555,
          6.602693557739258,
          9.580194473266602,
          8.980753898620605,
          8.780506134033203,
          6.780153274536133,
          7.942065715789795,
          5.886470317840576,
          7.8370819091796875,
          9.230752944946289,
          7.289181709289551,
          8.763484001159668,
          8.29295539855957,
          8.852828025817871,
          8.409172058105469,
          7.267197132110596,
          7.172431945800781,
          9.332862854003906,
          5.943168640136719,
          7.295924186706543,
          6.6531572341918945,
          7.758069038391113,
          9.131264686584473,
          6.09663200378418,
          8.720248222351074,
          9.6096773147583,
          9.059914588928223,
          7.415566921234131,
          7.20037317276001,
          6.882497310638428,
          7.142670154571533,
          8.419038772583008,
          6.785372734069824,
          7.599178791046143,
          6.9894514083862305,
          9.172516822814941,
          8.606064796447754,
          7.177423477172852,
          8.980572700500488,
          6.48056697845459,
          9.22772216796875,
          7.623356819152832,
          7.092179298400879,
          7.689335823059082,
          6.2659196853637695,
          9.016246795654297,
          8.586029052734375,
          7.7898101806640625,
          8.4430513381958
         ],
         "xaxis": "x",
         "y": [
          2.236135721206665,
          -0.4294145107269287,
          -0.05551816150546074,
          -0.148729145526886,
          -0.08882248401641846,
          -0.41031503677368164,
          2.618227958679199,
          -0.21013139188289642,
          -0.051926612854003906,
          0.031161606311798096,
          2.741960287094116,
          1.5542720556259155,
          0.6920828223228455,
          0.28532886505126953,
          2.4655332565307617,
          2.6047356128692627,
          1.478577971458435,
          -0.3541329503059387,
          2.3638837337493896,
          1.048017144203186,
          1.4731956720352173,
          1.5608417987823486,
          0.5240724086761475,
          0.14312928915023804,
          1.8125414848327637,
          -0.1686687022447586,
          2.150433301925659,
          1.9483532905578613,
          1.3232507705688477,
          -0.31197959184646606,
          -0.21398115158081055,
          2.1882340908050537,
          -0.15584832429885864,
          1.7164846658706665,
          -0.25115492939949036,
          0.43684151768684387,
          -0.23824754357337952,
          -0.1570255309343338,
          -0.25049611926078796,
          -0.10111847519874573,
          0.5047852993011475,
          -0.17521846294403076,
          2.933549404144287,
          2.0118911266326904,
          2.5926101207733154,
          0.42068856954574585,
          2.283428430557251,
          -0.2991732358932495,
          0.047283850610256195,
          1.970458745956421,
          2.5303657054901123,
          1.3055323362350464,
          1.6045819520950317,
          2.3276846408843994,
          1.7586934566497803,
          2.350774049758911,
          1.8082311153411865,
          -0.4212740361690521,
          0.7561959624290466,
          1.7056610584259033,
          0.511262059211731,
          0.528512179851532,
          0.678970217704773,
          1.0868991613388062,
          1.2211346626281738,
          1.2144452333450317,
          1.8391292095184326,
          1.6270102262496948,
          1.7800886631011963,
          1.4447976350784302,
          1.7207967042922974,
          1.8776761293411255,
          1.1550769805908203,
          0.6986754536628723,
          1.6034581661224365,
          2.295459032058716,
          2.6526808738708496,
          1.3191282749176025,
          1.0889226198196411,
          0.5264502763748169,
          1.4801045656204224,
          1.3012152910232544,
          1.3631199598312378,
          1.7908154726028442,
          1.8256793022155762,
          0.9291354417800903,
          1.63773512840271,
          1.9520208835601807,
          2.047952651977539,
          2.375922918319702,
          1.7641725540161133,
          1.322266936302185,
          0.14799299836158752,
          2.0103724002838135,
          -0.321255087852478,
          1.0117682218551636,
          2.0962228775024414,
          0.8131824731826782,
          1.0441195964813232,
          1.1048961877822876,
          0.5331024527549744,
          2.2052905559539795,
          1.8530932664871216,
          0.4562171697616577,
          0.7420694828033447,
          0.4395615756511688,
          1.7107776403427124,
          0.9859508275985718,
          0.6544370651245117,
          1.2424322366714478,
          0.5515206456184387,
          2.375922918319702,
          2.1835577487945557,
          1.7638628482818604,
          0.27628985047340393,
          1.4546518325805664,
          1.2398732900619507,
          1.9356807470321655,
          0.1860063523054123,
          0.22991275787353516,
          2.1636459827423096,
          1.5880250930786133,
          0.9495360255241394,
          1.1534451246261597,
          -0.21137194335460663,
          2.275327682495117,
          0.7381558418273926,
          0.9251120090484619,
          1.7207292318344116,
          1.4530788660049438,
          2.189094066619873,
          1.4797669649124146,
          1.573641300201416,
          2.2849535942077637,
          2.2038137912750244,
          1.863734245300293,
          0.488170325756073,
          0.4855822026729584,
          2.157108783721924,
          0.7370387315750122,
          1.8256795406341553,
          0.5847222208976746,
          1.3135955333709717,
          2.068608045578003,
          1.208848237991333,
          0.7865166068077087,
          0.12540799379348755,
          0.7840147018432617,
          2.290208339691162,
          0.5789175033569336
         ],
         "yaxis": "y"
        }
       ],
       "layout": {
        "coloraxis": {
         "colorbar": {
          "title": {
           "text": "end_to_end"
          }
         },
         "colorscale": [
          [
           0,
           "#0d0887"
          ],
          [
           0.1111111111111111,
           "#46039f"
          ],
          [
           0.2222222222222222,
           "#7201a8"
          ],
          [
           0.3333333333333333,
           "#9c179e"
          ],
          [
           0.4444444444444444,
           "#bd3786"
          ],
          [
           0.5555555555555556,
           "#d8576b"
          ],
          [
           0.6666666666666666,
           "#ed7953"
          ],
          [
           0.7777777777777778,
           "#fb9f3a"
          ],
          [
           0.8888888888888888,
           "#fdca26"
          ],
          [
           1,
           "#f0f921"
          ]
         ]
        },
        "legend": {
         "tracegroupgap": 0
        },
        "margin": {
         "t": 60
        },
        "template": {
         "data": {
          "bar": [
           {
            "error_x": {
             "color": "#2a3f5f"
            },
            "error_y": {
             "color": "#2a3f5f"
            },
            "marker": {
             "line": {
              "color": "#E5ECF6",
              "width": 0.5
             },
             "pattern": {
              "fillmode": "overlay",
              "size": 10,
              "solidity": 0.2
             }
            },
            "type": "bar"
           }
          ],
          "barpolar": [
           {
            "marker": {
             "line": {
              "color": "#E5ECF6",
              "width": 0.5
             },
             "pattern": {
              "fillmode": "overlay",
              "size": 10,
              "solidity": 0.2
             }
            },
            "type": "barpolar"
           }
          ],
          "carpet": [
           {
            "aaxis": {
             "endlinecolor": "#2a3f5f",
             "gridcolor": "white",
             "linecolor": "white",
             "minorgridcolor": "white",
             "startlinecolor": "#2a3f5f"
            },
            "baxis": {
             "endlinecolor": "#2a3f5f",
             "gridcolor": "white",
             "linecolor": "white",
             "minorgridcolor": "white",
             "startlinecolor": "#2a3f5f"
            },
            "type": "carpet"
           }
          ],
          "choropleth": [
           {
            "colorbar": {
             "outlinewidth": 0,
             "ticks": ""
            },
            "type": "choropleth"
           }
          ],
          "contour": [
           {
            "colorbar": {
             "outlinewidth": 0,
             "ticks": ""
            },
            "colorscale": [
             [
              0,
              "#0d0887"
             ],
             [
              0.1111111111111111,
              "#46039f"
             ],
             [
              0.2222222222222222,
              "#7201a8"
             ],
             [
              0.3333333333333333,
              "#9c179e"
             ],
             [
              0.4444444444444444,
              "#bd3786"
             ],
             [
              0.5555555555555556,
              "#d8576b"
             ],
             [
              0.6666666666666666,
              "#ed7953"
             ],
             [
              0.7777777777777778,
              "#fb9f3a"
             ],
             [
              0.8888888888888888,
              "#fdca26"
             ],
             [
              1,
              "#f0f921"
             ]
            ],
            "type": "contour"
           }
          ],
          "contourcarpet": [
           {
            "colorbar": {
             "outlinewidth": 0,
             "ticks": ""
            },
            "type": "contourcarpet"
           }
          ],
          "heatmap": [
           {
            "colorbar": {
             "outlinewidth": 0,
             "ticks": ""
            },
            "colorscale": [
             [
              0,
              "#0d0887"
             ],
             [
              0.1111111111111111,
              "#46039f"
             ],
             [
              0.2222222222222222,
              "#7201a8"
             ],
             [
              0.3333333333333333,
              "#9c179e"
             ],
             [
              0.4444444444444444,
              "#bd3786"
             ],
             [
              0.5555555555555556,
              "#d8576b"
             ],
             [
              0.6666666666666666,
              "#ed7953"
             ],
             [
              0.7777777777777778,
              "#fb9f3a"
             ],
             [
              0.8888888888888888,
              "#fdca26"
             ],
             [
              1,
              "#f0f921"
             ]
            ],
            "type": "heatmap"
           }
          ],
          "heatmapgl": [
           {
            "colorbar": {
             "outlinewidth": 0,
             "ticks": ""
            },
            "colorscale": [
             [
              0,
              "#0d0887"
             ],
             [
              0.1111111111111111,
              "#46039f"
             ],
             [
              0.2222222222222222,
              "#7201a8"
             ],
             [
              0.3333333333333333,
              "#9c179e"
             ],
             [
              0.4444444444444444,
              "#bd3786"
             ],
             [
              0.5555555555555556,
              "#d8576b"
             ],
             [
              0.6666666666666666,
              "#ed7953"
             ],
             [
              0.7777777777777778,
              "#fb9f3a"
             ],
             [
              0.8888888888888888,
              "#fdca26"
             ],
             [
              1,
              "#f0f921"
             ]
            ],
            "type": "heatmapgl"
           }
          ],
          "histogram": [
           {
            "marker": {
             "pattern": {
              "fillmode": "overlay",
              "size": 10,
              "solidity": 0.2
             }
            },
            "type": "histogram"
           }
          ],
          "histogram2d": [
           {
            "colorbar": {
             "outlinewidth": 0,
             "ticks": ""
            },
            "colorscale": [
             [
              0,
              "#0d0887"
             ],
             [
              0.1111111111111111,
              "#46039f"
             ],
             [
              0.2222222222222222,
              "#7201a8"
             ],
             [
              0.3333333333333333,
              "#9c179e"
             ],
             [
              0.4444444444444444,
              "#bd3786"
             ],
             [
              0.5555555555555556,
              "#d8576b"
             ],
             [
              0.6666666666666666,
              "#ed7953"
             ],
             [
              0.7777777777777778,
              "#fb9f3a"
             ],
             [
              0.8888888888888888,
              "#fdca26"
             ],
             [
              1,
              "#f0f921"
             ]
            ],
            "type": "histogram2d"
           }
          ],
          "histogram2dcontour": [
           {
            "colorbar": {
             "outlinewidth": 0,
             "ticks": ""
            },
            "colorscale": [
             [
              0,
              "#0d0887"
             ],
             [
              0.1111111111111111,
              "#46039f"
             ],
             [
              0.2222222222222222,
              "#7201a8"
             ],
             [
              0.3333333333333333,
              "#9c179e"
             ],
             [
              0.4444444444444444,
              "#bd3786"
             ],
             [
              0.5555555555555556,
              "#d8576b"
             ],
             [
              0.6666666666666666,
              "#ed7953"
             ],
             [
              0.7777777777777778,
              "#fb9f3a"
             ],
             [
              0.8888888888888888,
              "#fdca26"
             ],
             [
              1,
              "#f0f921"
             ]
            ],
            "type": "histogram2dcontour"
           }
          ],
          "mesh3d": [
           {
            "colorbar": {
             "outlinewidth": 0,
             "ticks": ""
            },
            "type": "mesh3d"
           }
          ],
          "parcoords": [
           {
            "line": {
             "colorbar": {
              "outlinewidth": 0,
              "ticks": ""
             }
            },
            "type": "parcoords"
           }
          ],
          "pie": [
           {
            "automargin": true,
            "type": "pie"
           }
          ],
          "scatter": [
           {
            "fillpattern": {
             "fillmode": "overlay",
             "size": 10,
             "solidity": 0.2
            },
            "type": "scatter"
           }
          ],
          "scatter3d": [
           {
            "line": {
             "colorbar": {
              "outlinewidth": 0,
              "ticks": ""
             }
            },
            "marker": {
             "colorbar": {
              "outlinewidth": 0,
              "ticks": ""
             }
            },
            "type": "scatter3d"
           }
          ],
          "scattercarpet": [
           {
            "marker": {
             "colorbar": {
              "outlinewidth": 0,
              "ticks": ""
             }
            },
            "type": "scattercarpet"
           }
          ],
          "scattergeo": [
           {
            "marker": {
             "colorbar": {
              "outlinewidth": 0,
              "ticks": ""
             }
            },
            "type": "scattergeo"
           }
          ],
          "scattergl": [
           {
            "marker": {
             "colorbar": {
              "outlinewidth": 0,
              "ticks": ""
             }
            },
            "type": "scattergl"
           }
          ],
          "scattermapbox": [
           {
            "marker": {
             "colorbar": {
              "outlinewidth": 0,
              "ticks": ""
             }
            },
            "type": "scattermapbox"
           }
          ],
          "scatterpolar": [
           {
            "marker": {
             "colorbar": {
              "outlinewidth": 0,
              "ticks": ""
             }
            },
            "type": "scatterpolar"
           }
          ],
          "scatterpolargl": [
           {
            "marker": {
             "colorbar": {
              "outlinewidth": 0,
              "ticks": ""
             }
            },
            "type": "scatterpolargl"
           }
          ],
          "scatterternary": [
           {
            "marker": {
             "colorbar": {
              "outlinewidth": 0,
              "ticks": ""
             }
            },
            "type": "scatterternary"
           }
          ],
          "surface": [
           {
            "colorbar": {
             "outlinewidth": 0,
             "ticks": ""
            },
            "colorscale": [
             [
              0,
              "#0d0887"
             ],
             [
              0.1111111111111111,
              "#46039f"
             ],
             [
              0.2222222222222222,
              "#7201a8"
             ],
             [
              0.3333333333333333,
              "#9c179e"
             ],
             [
              0.4444444444444444,
              "#bd3786"
             ],
             [
              0.5555555555555556,
              "#d8576b"
             ],
             [
              0.6666666666666666,
              "#ed7953"
             ],
             [
              0.7777777777777778,
              "#fb9f3a"
             ],
             [
              0.8888888888888888,
              "#fdca26"
             ],
             [
              1,
              "#f0f921"
             ]
            ],
            "type": "surface"
           }
          ],
          "table": [
           {
            "cells": {
             "fill": {
              "color": "#EBF0F8"
             },
             "line": {
              "color": "white"
             }
            },
            "header": {
             "fill": {
              "color": "#C8D4E3"
             },
             "line": {
              "color": "white"
             }
            },
            "type": "table"
           }
          ]
         },
         "layout": {
          "annotationdefaults": {
           "arrowcolor": "#2a3f5f",
           "arrowhead": 0,
           "arrowwidth": 1
          },
          "autotypenumbers": "strict",
          "coloraxis": {
           "colorbar": {
            "outlinewidth": 0,
            "ticks": ""
           }
          },
          "colorscale": {
           "diverging": [
            [
             0,
             "#8e0152"
            ],
            [
             0.1,
             "#c51b7d"
            ],
            [
             0.2,
             "#de77ae"
            ],
            [
             0.3,
             "#f1b6da"
            ],
            [
             0.4,
             "#fde0ef"
            ],
            [
             0.5,
             "#f7f7f7"
            ],
            [
             0.6,
             "#e6f5d0"
            ],
            [
             0.7,
             "#b8e186"
            ],
            [
             0.8,
             "#7fbc41"
            ],
            [
             0.9,
             "#4d9221"
            ],
            [
             1,
             "#276419"
            ]
           ],
           "sequential": [
            [
             0,
             "#0d0887"
            ],
            [
             0.1111111111111111,
             "#46039f"
            ],
            [
             0.2222222222222222,
             "#7201a8"
            ],
            [
             0.3333333333333333,
             "#9c179e"
            ],
            [
             0.4444444444444444,
             "#bd3786"
            ],
            [
             0.5555555555555556,
             "#d8576b"
            ],
            [
             0.6666666666666666,
             "#ed7953"
            ],
            [
             0.7777777777777778,
             "#fb9f3a"
            ],
            [
             0.8888888888888888,
             "#fdca26"
            ],
            [
             1,
             "#f0f921"
            ]
           ],
           "sequentialminus": [
            [
             0,
             "#0d0887"
            ],
            [
             0.1111111111111111,
             "#46039f"
            ],
            [
             0.2222222222222222,
             "#7201a8"
            ],
            [
             0.3333333333333333,
             "#9c179e"
            ],
            [
             0.4444444444444444,
             "#bd3786"
            ],
            [
             0.5555555555555556,
             "#d8576b"
            ],
            [
             0.6666666666666666,
             "#ed7953"
            ],
            [
             0.7777777777777778,
             "#fb9f3a"
            ],
            [
             0.8888888888888888,
             "#fdca26"
            ],
            [
             1,
             "#f0f921"
            ]
           ]
          },
          "colorway": [
           "#636efa",
           "#EF553B",
           "#00cc96",
           "#ab63fa",
           "#FFA15A",
           "#19d3f3",
           "#FF6692",
           "#B6E880",
           "#FF97FF",
           "#FECB52"
          ],
          "font": {
           "color": "#2a3f5f"
          },
          "geo": {
           "bgcolor": "white",
           "lakecolor": "white",
           "landcolor": "#E5ECF6",
           "showlakes": true,
           "showland": true,
           "subunitcolor": "white"
          },
          "hoverlabel": {
           "align": "left"
          },
          "hovermode": "closest",
          "mapbox": {
           "style": "light"
          },
          "paper_bgcolor": "white",
          "plot_bgcolor": "#E5ECF6",
          "polar": {
           "angularaxis": {
            "gridcolor": "white",
            "linecolor": "white",
            "ticks": ""
           },
           "bgcolor": "#E5ECF6",
           "radialaxis": {
            "gridcolor": "white",
            "linecolor": "white",
            "ticks": ""
           }
          },
          "scene": {
           "xaxis": {
            "backgroundcolor": "#E5ECF6",
            "gridcolor": "white",
            "gridwidth": 2,
            "linecolor": "white",
            "showbackground": true,
            "ticks": "",
            "zerolinecolor": "white"
           },
           "yaxis": {
            "backgroundcolor": "#E5ECF6",
            "gridcolor": "white",
            "gridwidth": 2,
            "linecolor": "white",
            "showbackground": true,
            "ticks": "",
            "zerolinecolor": "white"
           },
           "zaxis": {
            "backgroundcolor": "#E5ECF6",
            "gridcolor": "white",
            "gridwidth": 2,
            "linecolor": "white",
            "showbackground": true,
            "ticks": "",
            "zerolinecolor": "white"
           }
          },
          "shapedefaults": {
           "line": {
            "color": "#2a3f5f"
           }
          },
          "ternary": {
           "aaxis": {
            "gridcolor": "white",
            "linecolor": "white",
            "ticks": ""
           },
           "baxis": {
            "gridcolor": "white",
            "linecolor": "white",
            "ticks": ""
           },
           "bgcolor": "#E5ECF6",
           "caxis": {
            "gridcolor": "white",
            "linecolor": "white",
            "ticks": ""
           }
          },
          "title": {
           "x": 0.05
          },
          "xaxis": {
           "automargin": true,
           "gridcolor": "white",
           "linecolor": "white",
           "ticks": "",
           "title": {
            "standoff": 15
           },
           "zerolinecolor": "white",
           "zerolinewidth": 2
          },
          "yaxis": {
           "automargin": true,
           "gridcolor": "white",
           "linecolor": "white",
           "ticks": "",
           "title": {
            "standoff": 15
           },
           "zerolinecolor": "white",
           "zerolinewidth": 2
          }
         }
        },
        "xaxis": {
         "anchor": "y",
         "domain": [
          0,
          1
         ],
         "title": {
          "text": "x"
         }
        },
        "yaxis": {
         "anchor": "x",
         "domain": [
          0,
          1
         ],
         "title": {
          "text": "y"
         }
        }
       }
      }
     },
     "metadata": {},
     "output_type": "display_data"
    },
    {
     "data": {
      "image/png": "[encoded data removed]",
      "text/plain": [
       "<Figure size 1800x400 with 5 Axes>"
      ]
     },
     "metadata": {},
     "output_type": "display_data"
    }
   ],
   "source": [
    "vis.dimensionality_reduction_scatter(color_by=\"end_to_end\", save=False, kde_by_ensemble=True, plotly=True)"
   ]
  },
  {
   "cell_type": "code",
   "execution_count": null,
   "metadata": {},
   "outputs": [],
   "source": []
  },
  {
   "cell_type": "code",
   "execution_count": null,
   "metadata": {},
   "outputs": [],
   "source": []
  }
 ],
 "metadata": {
  "kernelspec": {
   "display_name": "ped",
   "language": "python",
   "name": "python3"
  },
  "language_info": {
   "codemirror_mode": {
    "name": "ipython",
    "version": 3
   },
   "file_extension": ".py",
   "mimetype": "text/x-python",
   "name": "python",
   "nbconvert_exporter": "python",
   "pygments_lexer": "ipython3",
   "version": "3.11.5"
  }
 },
 "nbformat": 4,
 "nbformat_minor": 2
}
