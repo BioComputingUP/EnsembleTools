{
 "cells": [
  {
   "cell_type": "markdown",
   "metadata": {},
   "source": [
    "# TSNE Analysis"
   ]
  },
  {
   "cell_type": "code",
   "execution_count": 1,
   "metadata": {},
   "outputs": [],
   "source": [
    "import sys\n",
    "sys.path.append('C:/Users/nikol/Documents/GitHub/EnsembleTools')"
   ]
  },
  {
   "cell_type": "code",
   "execution_count": 2,
   "metadata": {},
   "outputs": [],
   "source": [
    "from dpet.ensemble_analysis import EnsembleAnalysis\n",
    "import os\n",
    "os.environ[\"LOKY_MAX_CPU_COUNT\"] = \"8\""
   ]
  },
  {
   "cell_type": "markdown",
   "metadata": {},
   "source": [
    "## Download from Atlas and Load Data"
   ]
  },
  {
   "cell_type": "code",
   "execution_count": 3,
   "metadata": {},
   "outputs": [],
   "source": [
    "ens_codes = [\n",
    "    \"3a1g_B\"\n",
    "]\n",
    "data_dir = 'C:/Users/nikol/Documents/test_dir/atlas'\n",
    "\n",
    "analysis = EnsembleAnalysis(ens_codes, data_dir)\n",
    "analysis.download_from_database(database='atlas')"
   ]
  },
  {
   "cell_type": "code",
   "execution_count": 4,
   "metadata": {},
   "outputs": [
    {
     "name": "stdout",
     "output_type": "stream",
     "text": [
      "File or directory for ensemble 3a1g_B doesn't exist.\n"
     ]
    }
   ],
   "source": [
    "analysis.generate_trajectories()"
   ]
  },
  {
   "cell_type": "code",
   "execution_count": 5,
   "metadata": {},
   "outputs": [
    {
     "name": "stdout",
     "output_type": "stream",
     "text": [
      "10001\n",
      "10001\n",
      "10001\n"
     ]
    }
   ],
   "source": [
    "analysis.random_sample_trajectories(sample_size=200)"
   ]
  },
  {
   "cell_type": "markdown",
   "metadata": {},
   "source": [
    "## Featurization"
   ]
  },
  {
   "cell_type": "code",
   "execution_count": 6,
   "metadata": {},
   "outputs": [
    {
     "name": "stdout",
     "output_type": "stream",
     "text": [
      "Performing feature extraction for Ensemble: 3a1g_B_prod_R1_fit.\n",
      "Transformed ensemble shape: (200, 78)\n",
      "Performing feature extraction for Ensemble: 3a1g_B_prod_R2_fit.\n",
      "Transformed ensemble shape: (200, 78)\n",
      "Performing feature extraction for Ensemble: 3a1g_B_prod_R3_fit.\n",
      "Transformed ensemble shape: (200, 78)\n",
      "Feature names: ['GLY2-PHI', 'SER3-PHI', 'MET4-PHI', 'GLU5-PHI', 'ARG6-PHI', 'ILE7-PHI', 'LYS8-PHI', 'GLU9-PHI', 'LEU10-PHI', 'ARG11-PHI', 'ASN12-PHI', 'LEU13-PHI', 'MET14-PHI', 'SER15-PHI', 'GLN16-PHI', 'SER17-PHI', 'ARG18-PHI', 'THR19-PHI', 'ARG20-PHI', 'GLU21-PHI', 'ILE22-PHI', 'LEU23-PHI', 'THR24-PHI', 'LYS25-PHI', 'THR26-PHI', 'THR27-PHI', 'VAL28-PHI', 'ASP29-PHI', 'HIS30-PHI', 'MET31-PHI', 'ALA32-PHI', 'ILE33-PHI', 'ILE34-PHI', 'LYS35-PHI', 'LYS36-PHI', 'TYR37-PHI', 'THR38-PHI', 'SER39-PHI', 'GLY40-PHI', 'GLY1-PSI', 'GLY2-PSI', 'SER3-PSI', 'MET4-PSI', 'GLU5-PSI', 'ARG6-PSI', 'ILE7-PSI', 'LYS8-PSI', 'GLU9-PSI', 'LEU10-PSI', 'ARG11-PSI', 'ASN12-PSI', 'LEU13-PSI', 'MET14-PSI', 'SER15-PSI', 'GLN16-PSI', 'SER17-PSI', 'ARG18-PSI', 'THR19-PSI', 'ARG20-PSI', 'GLU21-PSI', 'ILE22-PSI', 'LEU23-PSI', 'THR24-PSI', 'LYS25-PSI', 'THR26-PSI', 'THR27-PSI', 'VAL28-PSI', 'ASP29-PSI', 'HIS30-PSI', 'MET31-PSI', 'ALA32-PSI', 'ILE33-PSI', 'ILE34-PSI', 'LYS35-PSI', 'LYS36-PSI', 'TYR37-PSI', 'THR38-PSI', 'SER39-PSI']\n",
      "Concatenated featurized ensemble shape: (600, 78)\n"
     ]
    }
   ],
   "source": [
    "analysis.perform_feature_extraction(featurization='phi_psi')"
   ]
  },
  {
   "cell_type": "code",
   "execution_count": 7,
   "metadata": {},
   "outputs": [
    {
     "data": {
      "text/plain": [
       "600"
      ]
     },
     "execution_count": 7,
     "metadata": {},
     "output_type": "execute_result"
    }
   ],
   "source": [
    "rg = analysis.rg_calculator()\n",
    "len(rg)"
   ]
  },
  {
   "cell_type": "markdown",
   "metadata": {},
   "source": [
    "## Dimensionality Reduction"
   ]
  },
  {
   "cell_type": "code",
   "execution_count": 8,
   "metadata": {},
   "outputs": [
    {
     "name": "stdout",
     "output_type": "stream",
     "text": [
      "tsne is running...\n"
     ]
    },
    {
     "name": "stderr",
     "output_type": "stream",
     "text": [
      "c:\\Users\\nikol\\anaconda3\\envs\\tensorflowgpu\\lib\\site-packages\\sklearn\\cluster\\_kmeans.py:1446: UserWarning: KMeans is known to have a memory leak on Windows with MKL, when there are less chunks than available threads. You can avoid it by setting the environment variable OMP_NUM_THREADS=3.\n",
      "  warnings.warn(\n",
      "c:\\Users\\nikol\\anaconda3\\envs\\tensorflowgpu\\lib\\site-packages\\sklearn\\cluster\\_kmeans.py:1446: UserWarning: KMeans is known to have a memory leak on Windows with MKL, when there are less chunks than available threads. You can avoid it by setting the environment variable OMP_NUM_THREADS=3.\n",
      "  warnings.warn(\n",
      "c:\\Users\\nikol\\anaconda3\\envs\\tensorflowgpu\\lib\\site-packages\\sklearn\\cluster\\_kmeans.py:1446: UserWarning: KMeans is known to have a memory leak on Windows with MKL, when there are less chunks than available threads. You can avoid it by setting the environment variable OMP_NUM_THREADS=3.\n",
      "  warnings.warn(\n",
      "c:\\Users\\nikol\\anaconda3\\envs\\tensorflowgpu\\lib\\site-packages\\sklearn\\cluster\\_kmeans.py:1446: UserWarning: KMeans is known to have a memory leak on Windows with MKL, when there are less chunks than available threads. You can avoid it by setting the environment variable OMP_NUM_THREADS=3.\n",
      "  warnings.warn(\n",
      "c:\\Users\\nikol\\anaconda3\\envs\\tensorflowgpu\\lib\\site-packages\\sklearn\\cluster\\_kmeans.py:1446: UserWarning: KMeans is known to have a memory leak on Windows with MKL, when there are less chunks than available threads. You can avoid it by setting the environment variable OMP_NUM_THREADS=3.\n",
      "  warnings.warn(\n",
      "c:\\Users\\nikol\\anaconda3\\envs\\tensorflowgpu\\lib\\site-packages\\sklearn\\cluster\\_kmeans.py:1446: UserWarning: KMeans is known to have a memory leak on Windows with MKL, when there are less chunks than available threads. You can avoid it by setting the environment variable OMP_NUM_THREADS=3.\n",
      "  warnings.warn(\n",
      "c:\\Users\\nikol\\anaconda3\\envs\\tensorflowgpu\\lib\\site-packages\\sklearn\\cluster\\_kmeans.py:1446: UserWarning: KMeans is known to have a memory leak on Windows with MKL, when there are less chunks than available threads. You can avoid it by setting the environment variable OMP_NUM_THREADS=3.\n",
      "  warnings.warn(\n",
      "c:\\Users\\nikol\\anaconda3\\envs\\tensorflowgpu\\lib\\site-packages\\sklearn\\cluster\\_kmeans.py:1446: UserWarning: KMeans is known to have a memory leak on Windows with MKL, when there are less chunks than available threads. You can avoid it by setting the environment variable OMP_NUM_THREADS=3.\n",
      "  warnings.warn(\n",
      "c:\\Users\\nikol\\anaconda3\\envs\\tensorflowgpu\\lib\\site-packages\\sklearn\\cluster\\_kmeans.py:1446: UserWarning: KMeans is known to have a memory leak on Windows with MKL, when there are less chunks than available threads. You can avoid it by setting the environment variable OMP_NUM_THREADS=3.\n",
      "  warnings.warn(\n",
      "c:\\Users\\nikol\\anaconda3\\envs\\tensorflowgpu\\lib\\site-packages\\sklearn\\cluster\\_kmeans.py:1446: UserWarning: KMeans is known to have a memory leak on Windows with MKL, when there are less chunks than available threads. You can avoid it by setting the environment variable OMP_NUM_THREADS=3.\n",
      "  warnings.warn(\n",
      "c:\\Users\\nikol\\anaconda3\\envs\\tensorflowgpu\\lib\\site-packages\\sklearn\\cluster\\_kmeans.py:1446: UserWarning: KMeans is known to have a memory leak on Windows with MKL, when there are less chunks than available threads. You can avoid it by setting the environment variable OMP_NUM_THREADS=3.\n",
      "  warnings.warn(\n",
      "c:\\Users\\nikol\\anaconda3\\envs\\tensorflowgpu\\lib\\site-packages\\sklearn\\cluster\\_kmeans.py:1446: UserWarning: KMeans is known to have a memory leak on Windows with MKL, when there are less chunks than available threads. You can avoid it by setting the environment variable OMP_NUM_THREADS=3.\n",
      "  warnings.warn(\n",
      "c:\\Users\\nikol\\anaconda3\\envs\\tensorflowgpu\\lib\\site-packages\\sklearn\\cluster\\_kmeans.py:1446: UserWarning: KMeans is known to have a memory leak on Windows with MKL, when there are less chunks than available threads. You can avoid it by setting the environment variable OMP_NUM_THREADS=3.\n",
      "  warnings.warn(\n",
      "c:\\Users\\nikol\\anaconda3\\envs\\tensorflowgpu\\lib\\site-packages\\sklearn\\cluster\\_kmeans.py:1446: UserWarning: KMeans is known to have a memory leak on Windows with MKL, when there are less chunks than available threads. You can avoid it by setting the environment variable OMP_NUM_THREADS=3.\n",
      "  warnings.warn(\n",
      "c:\\Users\\nikol\\anaconda3\\envs\\tensorflowgpu\\lib\\site-packages\\sklearn\\cluster\\_kmeans.py:1446: UserWarning: KMeans is known to have a memory leak on Windows with MKL, when there are less chunks than available threads. You can avoid it by setting the environment variable OMP_NUM_THREADS=3.\n",
      "  warnings.warn(\n",
      "c:\\Users\\nikol\\anaconda3\\envs\\tensorflowgpu\\lib\\site-packages\\sklearn\\cluster\\_kmeans.py:1446: UserWarning: KMeans is known to have a memory leak on Windows with MKL, when there are less chunks than available threads. You can avoid it by setting the environment variable OMP_NUM_THREADS=3.\n",
      "  warnings.warn(\n"
     ]
    },
    {
     "name": "stdout",
     "output_type": "stream",
     "text": [
      "Best Perplexity: 10\n",
      "Best Number of Clusters: 4\n"
     ]
    },
    {
     "name": "stderr",
     "output_type": "stream",
     "text": [
      "c:\\Users\\nikol\\anaconda3\\envs\\tensorflowgpu\\lib\\site-packages\\sklearn\\cluster\\_kmeans.py:1446: UserWarning: KMeans is known to have a memory leak on Windows with MKL, when there are less chunks than available threads. You can avoid it by setting the environment variable OMP_NUM_THREADS=3.\n",
      "  warnings.warn(\n",
      "c:\\Users\\nikol\\anaconda3\\envs\\tensorflowgpu\\lib\\site-packages\\sklearn\\cluster\\_kmeans.py:1446: UserWarning: KMeans is known to have a memory leak on Windows with MKL, when there are less chunks than available threads. You can avoid it by setting the environment variable OMP_NUM_THREADS=3.\n",
      "  warnings.warn(\n",
      "c:\\Users\\nikol\\anaconda3\\envs\\tensorflowgpu\\lib\\site-packages\\sklearn\\cluster\\_kmeans.py:1446: UserWarning: KMeans is known to have a memory leak on Windows with MKL, when there are less chunks than available threads. You can avoid it by setting the environment variable OMP_NUM_THREADS=3.\n",
      "  warnings.warn(\n",
      "c:\\Users\\nikol\\anaconda3\\envs\\tensorflowgpu\\lib\\site-packages\\sklearn\\cluster\\_kmeans.py:1446: UserWarning: KMeans is known to have a memory leak on Windows with MKL, when there are less chunks than available threads. You can avoid it by setting the environment variable OMP_NUM_THREADS=3.\n",
      "  warnings.warn(\n",
      "c:\\Users\\nikol\\anaconda3\\envs\\tensorflowgpu\\lib\\site-packages\\sklearn\\cluster\\_kmeans.py:1446: UserWarning: KMeans is known to have a memory leak on Windows with MKL, when there are less chunks than available threads. You can avoid it by setting the environment variable OMP_NUM_THREADS=3.\n",
      "  warnings.warn(\n",
      "c:\\Users\\nikol\\anaconda3\\envs\\tensorflowgpu\\lib\\site-packages\\sklearn\\cluster\\_kmeans.py:1446: UserWarning: KMeans is known to have a memory leak on Windows with MKL, when there are less chunks than available threads. You can avoid it by setting the environment variable OMP_NUM_THREADS=3.\n",
      "  warnings.warn(\n",
      "c:\\Users\\nikol\\anaconda3\\envs\\tensorflowgpu\\lib\\site-packages\\sklearn\\cluster\\_kmeans.py:1446: UserWarning: KMeans is known to have a memory leak on Windows with MKL, when there are less chunks than available threads. You can avoid it by setting the environment variable OMP_NUM_THREADS=3.\n",
      "  warnings.warn(\n",
      "c:\\Users\\nikol\\anaconda3\\envs\\tensorflowgpu\\lib\\site-packages\\sklearn\\cluster\\_kmeans.py:1446: UserWarning: KMeans is known to have a memory leak on Windows with MKL, when there are less chunks than available threads. You can avoid it by setting the environment variable OMP_NUM_THREADS=3.\n",
      "  warnings.warn(\n"
     ]
    }
   ],
   "source": [
    "analysis.fit_dimensionality_reduction(method='tsne', perplexity_vals = [10, 50, 90], circular=True, range_n_clusters=range(2,10,1))"
   ]
  },
  {
   "cell_type": "markdown",
   "metadata": {},
   "source": [
    "## Analysis"
   ]
  },
  {
   "cell_type": "code",
   "execution_count": 9,
   "metadata": {},
   "outputs": [
    {
     "name": "stdout",
     "output_type": "stream",
     "text": [
      "[400 402 403 404 405 406 408 410 411 412 413 414 415 416 417 419 420 422\n",
      " 423 425 426 427 428 429 430 431 432 433 434 436 437 438 439 440 441 442\n",
      " 445 447 448 449 450 451 452 453 454 455 456 457 458 459 460 462 463 465\n",
      " 466 467 468 469 470 472 473 474 475 477 481 482 483 484 485 486 487 488\n",
      " 489 492 493 494 495 498 499 501 502 503 504 505 507 508 509 510 512 513\n",
      " 517 518 520 521 522 524 525 527 529 530 531 535 539 540 541 542 544 547\n",
      " 548 549 553 554 555 557 558 560 561 562 564 565 567 568 569 570 571 572\n",
      " 573 574 575 576 578 579 580 581 582 583 584 586 587 588 589 590 591 593\n",
      " 594 595 597] 0\n",
      "[  7   8  10  12  13  15  19  27  29  30  37  43  48  52  53  60  68  69\n",
      "  70  71  74  85  86  87  89  92  94 100 111 129 134 142 144 146 150 152\n",
      " 155 162 164 166 169 170 175 176 177 185 187 196 198 401 407 409 418 421\n",
      " 424 435 443 444 446 461 464 471 476 478 479 480 490 491 496 497 500 506\n",
      " 511 514 515 516 519 523 526 528 532 533 534 536 537 538 543 545 546 550\n",
      " 551 552 556 559 563 566 577 585 592 596 598 599] 1\n"
     ]
    },
    {
     "data": {
      "image/png": "[encoded data removed]",
      "text/plain": [
       "<Figure size 1000x500 with 2 Axes>"
      ]
     },
     "metadata": {},
     "output_type": "display_data"
    }
   ],
   "source": [
    "analysis.tsne_ramachandran_plot()"
   ]
  },
  {
   "cell_type": "code",
   "execution_count": 10,
   "metadata": {},
   "outputs": [
    {
     "name": "stdout",
     "output_type": "stream",
     "text": [
      "[400 402 403 404 405 406 408 410 411 412 413 414 415 416 417 419 420 422\n",
      " 423 425 426 427 428 429 430 431 432 433 434 436 437 438 439 440 441 442\n",
      " 445 447 448 449 450 451 452 453 454 455 456 457 458 459 460 462 463 465\n",
      " 466 467 468 469 470 472 473 474 475 477 481 482 483 484 485 486 487 488\n",
      " 489 492 493 494 495 498 499 501 502 503 504 505 507 508 509 510 512 513\n",
      " 517 518 520 521 522 524 525 527 529 530 531 535 539 540 541 542 544 547\n",
      " 548 549 553 554 555 557 558 560 561 562 564 565 567 568 569 570 571 572\n",
      " 573 574 575 576 578 579 580 581 582 583 584 586 587 588 589 590 591 593\n",
      " 594 595 597]\n",
      "[  7   8  10  12  13  15  19  27  29  30  37  43  48  52  53  60  68  69\n",
      "  70  71  74  85  86  87  89  92  94 100 111 129 134 142 144 146 150 152\n",
      " 155 162 164 166 169 170 175 176 177 185 187 196 198 401 407 409 418 421\n",
      " 424 435 443 444 446 461 464 471 476 478 479 480 490 491 496 497 500 506\n",
      " 511 514 515 516 519 523 526 528 532 533 534 536 537 538 543 545 546 550\n",
      " 551 552 556 559 563 566 577 585 592 596 598 599]\n"
     ]
    },
    {
     "data": {
      "image/png": "[encoded data removed]",
      "text/plain": [
       "<Figure size 1000x500 with 4 Axes>"
      ]
     },
     "metadata": {},
     "output_type": "display_data"
    }
   ],
   "source": [
    "analysis.tsne_ramachandran_plot_density()"
   ]
  },
  {
   "cell_type": "code",
   "execution_count": 11,
   "metadata": {},
   "outputs": [
    {
     "data": {
      "image/png": "[encoded data removed]",
      "text/plain": [
       "<Figure size 1400x400 with 5 Axes>"
      ]
     },
     "metadata": {},
     "output_type": "display_data"
    }
   ],
   "source": [
    "analysis.tsne_scatter_plot()"
   ]
  },
  {
   "cell_type": "code",
   "execution_count": 12,
   "metadata": {},
   "outputs": [
    {
     "data": {
      "application/vnd.plotly.v1+json": {
       "config": {
        "plotlyServerURL": "https://plot.ly"
       },
       "data": [
        {
         "customdata": [
          [
           0
          ],
          [
           1
          ],
          [
           2
          ],
          [
           3
          ],
          [
           4
          ],
          [
           5
          ],
          [
           6
          ],
          [
           7
          ],
          [
           8
          ],
          [
           9
          ],
          [
           10
          ],
          [
           11
          ],
          [
           12
          ],
          [
           13
          ],
          [
           14
          ],
          [
           15
          ],
          [
           16
          ],
          [
           17
          ],
          [
           18
          ],
          [
           19
          ],
          [
           20
          ],
          [
           21
          ],
          [
           22
          ],
          [
           23
          ],
          [
           24
          ],
          [
           25
          ],
          [
           26
          ],
          [
           27
          ],
          [
           28
          ],
          [
           29
          ],
          [
           30
          ],
          [
           31
          ],
          [
           32
          ],
          [
           33
          ],
          [
           34
          ],
          [
           35
          ],
          [
           36
          ],
          [
           37
          ],
          [
           38
          ],
          [
           39
          ],
          [
           40
          ],
          [
           41
          ],
          [
           42
          ],
          [
           43
          ],
          [
           44
          ],
          [
           45
          ],
          [
           46
          ],
          [
           47
          ],
          [
           48
          ],
          [
           49
          ],
          [
           50
          ],
          [
           51
          ],
          [
           52
          ],
          [
           53
          ],
          [
           54
          ],
          [
           55
          ],
          [
           56
          ],
          [
           57
          ],
          [
           58
          ],
          [
           59
          ],
          [
           60
          ],
          [
           61
          ],
          [
           62
          ],
          [
           63
          ],
          [
           64
          ],
          [
           65
          ],
          [
           66
          ],
          [
           67
          ],
          [
           68
          ],
          [
           69
          ],
          [
           70
          ],
          [
           71
          ],
          [
           72
          ],
          [
           73
          ],
          [
           74
          ],
          [
           75
          ],
          [
           76
          ],
          [
           77
          ],
          [
           78
          ],
          [
           79
          ],
          [
           80
          ],
          [
           81
          ],
          [
           82
          ],
          [
           83
          ],
          [
           84
          ],
          [
           85
          ],
          [
           86
          ],
          [
           87
          ],
          [
           88
          ],
          [
           89
          ],
          [
           90
          ],
          [
           91
          ],
          [
           92
          ],
          [
           93
          ],
          [
           94
          ],
          [
           95
          ],
          [
           96
          ],
          [
           97
          ],
          [
           98
          ],
          [
           99
          ],
          [
           100
          ],
          [
           101
          ],
          [
           102
          ],
          [
           103
          ],
          [
           104
          ],
          [
           105
          ],
          [
           106
          ],
          [
           107
          ],
          [
           108
          ],
          [
           109
          ],
          [
           110
          ],
          [
           111
          ],
          [
           112
          ],
          [
           113
          ],
          [
           114
          ],
          [
           115
          ],
          [
           116
          ],
          [
           117
          ],
          [
           118
          ],
          [
           119
          ],
          [
           120
          ],
          [
           121
          ],
          [
           122
          ],
          [
           123
          ],
          [
           124
          ],
          [
           125
          ],
          [
           126
          ],
          [
           127
          ],
          [
           128
          ],
          [
           129
          ],
          [
           130
          ],
          [
           131
          ],
          [
           132
          ],
          [
           133
          ],
          [
           134
          ],
          [
           135
          ],
          [
           136
          ],
          [
           137
          ],
          [
           138
          ],
          [
           139
          ],
          [
           140
          ],
          [
           141
          ],
          [
           142
          ],
          [
           143
          ],
          [
           144
          ],
          [
           145
          ],
          [
           146
          ],
          [
           147
          ],
          [
           148
          ],
          [
           149
          ],
          [
           150
          ],
          [
           151
          ],
          [
           152
          ],
          [
           153
          ],
          [
           154
          ],
          [
           155
          ],
          [
           156
          ],
          [
           157
          ],
          [
           158
          ],
          [
           159
          ],
          [
           160
          ],
          [
           161
          ],
          [
           162
          ],
          [
           163
          ],
          [
           164
          ],
          [
           165
          ],
          [
           166
          ],
          [
           167
          ],
          [
           168
          ],
          [
           169
          ],
          [
           170
          ],
          [
           171
          ],
          [
           172
          ],
          [
           173
          ],
          [
           174
          ],
          [
           175
          ],
          [
           176
          ],
          [
           177
          ],
          [
           178
          ],
          [
           179
          ],
          [
           180
          ],
          [
           181
          ],
          [
           182
          ],
          [
           183
          ],
          [
           184
          ],
          [
           185
          ],
          [
           186
          ],
          [
           187
          ],
          [
           188
          ],
          [
           189
          ],
          [
           190
          ],
          [
           191
          ],
          [
           192
          ],
          [
           193
          ],
          [
           194
          ],
          [
           195
          ],
          [
           196
          ],
          [
           197
          ],
          [
           198
          ],
          [
           199
          ],
          [
           200
          ],
          [
           201
          ],
          [
           202
          ],
          [
           203
          ],
          [
           204
          ],
          [
           205
          ],
          [
           206
          ],
          [
           207
          ],
          [
           208
          ],
          [
           209
          ],
          [
           210
          ],
          [
           211
          ],
          [
           212
          ],
          [
           213
          ],
          [
           214
          ],
          [
           215
          ],
          [
           216
          ],
          [
           217
          ],
          [
           218
          ],
          [
           219
          ],
          [
           220
          ],
          [
           221
          ],
          [
           222
          ],
          [
           223
          ],
          [
           224
          ],
          [
           225
          ],
          [
           226
          ],
          [
           227
          ],
          [
           228
          ],
          [
           229
          ],
          [
           230
          ],
          [
           231
          ],
          [
           232
          ],
          [
           233
          ],
          [
           234
          ],
          [
           235
          ],
          [
           236
          ],
          [
           237
          ],
          [
           238
          ],
          [
           239
          ],
          [
           240
          ],
          [
           241
          ],
          [
           242
          ],
          [
           243
          ],
          [
           244
          ],
          [
           245
          ],
          [
           246
          ],
          [
           247
          ],
          [
           248
          ],
          [
           249
          ],
          [
           250
          ],
          [
           251
          ],
          [
           252
          ],
          [
           253
          ],
          [
           254
          ],
          [
           255
          ],
          [
           256
          ],
          [
           257
          ],
          [
           258
          ],
          [
           259
          ],
          [
           260
          ],
          [
           261
          ],
          [
           262
          ],
          [
           263
          ],
          [
           264
          ],
          [
           265
          ],
          [
           266
          ],
          [
           267
          ],
          [
           268
          ],
          [
           269
          ],
          [
           270
          ],
          [
           271
          ],
          [
           272
          ],
          [
           273
          ],
          [
           274
          ],
          [
           275
          ],
          [
           276
          ],
          [
           277
          ],
          [
           278
          ],
          [
           279
          ],
          [
           280
          ],
          [
           281
          ],
          [
           282
          ],
          [
           283
          ],
          [
           284
          ],
          [
           285
          ],
          [
           286
          ],
          [
           287
          ],
          [
           288
          ],
          [
           289
          ],
          [
           290
          ],
          [
           291
          ],
          [
           292
          ],
          [
           293
          ],
          [
           294
          ],
          [
           295
          ],
          [
           296
          ],
          [
           297
          ],
          [
           298
          ],
          [
           299
          ],
          [
           300
          ],
          [
           301
          ],
          [
           302
          ],
          [
           303
          ],
          [
           304
          ],
          [
           305
          ],
          [
           306
          ],
          [
           307
          ],
          [
           308
          ],
          [
           309
          ],
          [
           310
          ],
          [
           311
          ],
          [
           312
          ],
          [
           313
          ],
          [
           314
          ],
          [
           315
          ],
          [
           316
          ],
          [
           317
          ],
          [
           318
          ],
          [
           319
          ],
          [
           320
          ],
          [
           321
          ],
          [
           322
          ],
          [
           323
          ],
          [
           324
          ],
          [
           325
          ],
          [
           326
          ],
          [
           327
          ],
          [
           328
          ],
          [
           329
          ],
          [
           330
          ],
          [
           331
          ],
          [
           332
          ],
          [
           333
          ],
          [
           334
          ],
          [
           335
          ],
          [
           336
          ],
          [
           337
          ],
          [
           338
          ],
          [
           339
          ],
          [
           340
          ],
          [
           341
          ],
          [
           342
          ],
          [
           343
          ],
          [
           344
          ],
          [
           345
          ],
          [
           346
          ],
          [
           347
          ],
          [
           348
          ],
          [
           349
          ],
          [
           350
          ],
          [
           351
          ],
          [
           352
          ],
          [
           353
          ],
          [
           354
          ],
          [
           355
          ],
          [
           356
          ],
          [
           357
          ],
          [
           358
          ],
          [
           359
          ],
          [
           360
          ],
          [
           361
          ],
          [
           362
          ],
          [
           363
          ],
          [
           364
          ],
          [
           365
          ],
          [
           366
          ],
          [
           367
          ],
          [
           368
          ],
          [
           369
          ],
          [
           370
          ],
          [
           371
          ],
          [
           372
          ],
          [
           373
          ],
          [
           374
          ],
          [
           375
          ],
          [
           376
          ],
          [
           377
          ],
          [
           378
          ],
          [
           379
          ],
          [
           380
          ],
          [
           381
          ],
          [
           382
          ],
          [
           383
          ],
          [
           384
          ],
          [
           385
          ],
          [
           386
          ],
          [
           387
          ],
          [
           388
          ],
          [
           389
          ],
          [
           390
          ],
          [
           391
          ],
          [
           392
          ],
          [
           393
          ],
          [
           394
          ],
          [
           395
          ],
          [
           396
          ],
          [
           397
          ],
          [
           398
          ],
          [
           399
          ],
          [
           400
          ],
          [
           401
          ],
          [
           402
          ],
          [
           403
          ],
          [
           404
          ],
          [
           405
          ],
          [
           406
          ],
          [
           407
          ],
          [
           408
          ],
          [
           409
          ],
          [
           410
          ],
          [
           411
          ],
          [
           412
          ],
          [
           413
          ],
          [
           414
          ],
          [
           415
          ],
          [
           416
          ],
          [
           417
          ],
          [
           418
          ],
          [
           419
          ],
          [
           420
          ],
          [
           421
          ],
          [
           422
          ],
          [
           423
          ],
          [
           424
          ],
          [
           425
          ],
          [
           426
          ],
          [
           427
          ],
          [
           428
          ],
          [
           429
          ],
          [
           430
          ],
          [
           431
          ],
          [
           432
          ],
          [
           433
          ],
          [
           434
          ],
          [
           435
          ],
          [
           436
          ],
          [
           437
          ],
          [
           438
          ],
          [
           439
          ],
          [
           440
          ],
          [
           441
          ],
          [
           442
          ],
          [
           443
          ],
          [
           444
          ],
          [
           445
          ],
          [
           446
          ],
          [
           447
          ],
          [
           448
          ],
          [
           449
          ],
          [
           450
          ],
          [
           451
          ],
          [
           452
          ],
          [
           453
          ],
          [
           454
          ],
          [
           455
          ],
          [
           456
          ],
          [
           457
          ],
          [
           458
          ],
          [
           459
          ],
          [
           460
          ],
          [
           461
          ],
          [
           462
          ],
          [
           463
          ],
          [
           464
          ],
          [
           465
          ],
          [
           466
          ],
          [
           467
          ],
          [
           468
          ],
          [
           469
          ],
          [
           470
          ],
          [
           471
          ],
          [
           472
          ],
          [
           473
          ],
          [
           474
          ],
          [
           475
          ],
          [
           476
          ],
          [
           477
          ],
          [
           478
          ],
          [
           479
          ],
          [
           480
          ],
          [
           481
          ],
          [
           482
          ],
          [
           483
          ],
          [
           484
          ],
          [
           485
          ],
          [
           486
          ],
          [
           487
          ],
          [
           488
          ],
          [
           489
          ],
          [
           490
          ],
          [
           491
          ],
          [
           492
          ],
          [
           493
          ],
          [
           494
          ],
          [
           495
          ],
          [
           496
          ],
          [
           497
          ],
          [
           498
          ],
          [
           499
          ],
          [
           500
          ],
          [
           501
          ],
          [
           502
          ],
          [
           503
          ],
          [
           504
          ],
          [
           505
          ],
          [
           506
          ],
          [
           507
          ],
          [
           508
          ],
          [
           509
          ],
          [
           510
          ],
          [
           511
          ],
          [
           512
          ],
          [
           513
          ],
          [
           514
          ],
          [
           515
          ],
          [
           516
          ],
          [
           517
          ],
          [
           518
          ],
          [
           519
          ],
          [
           520
          ],
          [
           521
          ],
          [
           522
          ],
          [
           523
          ],
          [
           524
          ],
          [
           525
          ],
          [
           526
          ],
          [
           527
          ],
          [
           528
          ],
          [
           529
          ],
          [
           530
          ],
          [
           531
          ],
          [
           532
          ],
          [
           533
          ],
          [
           534
          ],
          [
           535
          ],
          [
           536
          ],
          [
           537
          ],
          [
           538
          ],
          [
           539
          ],
          [
           540
          ],
          [
           541
          ],
          [
           542
          ],
          [
           543
          ],
          [
           544
          ],
          [
           545
          ],
          [
           546
          ],
          [
           547
          ],
          [
           548
          ],
          [
           549
          ],
          [
           550
          ],
          [
           551
          ],
          [
           552
          ],
          [
           553
          ],
          [
           554
          ],
          [
           555
          ],
          [
           556
          ],
          [
           557
          ],
          [
           558
          ],
          [
           559
          ],
          [
           560
          ],
          [
           561
          ],
          [
           562
          ],
          [
           563
          ],
          [
           564
          ],
          [
           565
          ],
          [
           566
          ],
          [
           567
          ],
          [
           568
          ],
          [
           569
          ],
          [
           570
          ],
          [
           571
          ],
          [
           572
          ],
          [
           573
          ],
          [
           574
          ],
          [
           575
          ],
          [
           576
          ],
          [
           577
          ],
          [
           578
          ],
          [
           579
          ],
          [
           580
          ],
          [
           581
          ],
          [
           582
          ],
          [
           583
          ],
          [
           584
          ],
          [
           585
          ],
          [
           586
          ],
          [
           587
          ],
          [
           588
          ],
          [
           589
          ],
          [
           590
          ],
          [
           591
          ],
          [
           592
          ],
          [
           593
          ],
          [
           594
          ],
          [
           595
          ],
          [
           596
          ],
          [
           597
          ],
          [
           598
          ],
          [
           599
          ]
         ],
         "hovertemplate": "x=%{x}<br>y=%{y}<br>Row=%{customdata[0]}<br>Rg Labels=%{marker.color}<extra></extra>",
         "legendgroup": "",
         "marker": {
          "color": [
           11.180018443988075,
           10.894051499342964,
           11.183074159412591,
           11.338853308189474,
           11.431426180776969,
           11.513631942936584,
           11.283985585382613,
           10.858856402290167,
           10.623705111322003,
           11.102701300396705,
           10.091001304448675,
           11.442489552180351,
           10.521637612098138,
           10.473477607921067,
           11.426399765549164,
           10.554738270530144,
           11.108618186199848,
           10.454613466803572,
           11.717616091889989,
           10.713817366359917,
           10.372667364609454,
           11.322652366989846,
           11.490862675108342,
           12.263501918473578,
           11.74499352863678,
           10.811844797282664,
           10.86964686177306,
           10.071832980626237,
           10.223503759115626,
           10.177442408154535,
           10.044707994763574,
           11.12740550494853,
           11.885421683534247,
           11.258056453391955,
           12.381465787566476,
           11.402925620546412,
           10.958564399070951,
           10.611488079922589,
           11.617983934081996,
           10.477918926535407,
           12.024382334141574,
           11.591336916765645,
           11.698213670462339,
           10.807856906439444,
           11.413594536683938,
           11.5473979137345,
           10.685703091912691,
           11.444191003668196,
           10.71906012671214,
           11.517778748475223,
           11.199234705434245,
           11.126790796469097,
           10.9964072316407,
           10.792606232150327,
           12.402561907586149,
           11.473222580276573,
           10.49174133695104,
           10.40145959734339,
           11.672961997647352,
           10.838433986166878,
           10.829302949364209,
           12.273890892970325,
           11.73167012438556,
           10.685591558692822,
           10.783361525008065,
           10.569265986212875,
           11.392812867117016,
           10.715780828052404,
           10.452560641570468,
           9.857329647963404,
           10.680440248565546,
           10.410557399460272,
           10.804552882607403,
           10.694899712564895,
           13.874447092438558,
           11.748163431069958,
           11.610657612056484,
           11.698722019567981,
           11.590945654173945,
           10.493472943175195,
           10.82069311389197,
           11.38566601157448,
           11.686111311519387,
           11.588876809924184,
           11.076592581503393,
           10.484275712592328,
           10.478194923428228,
           10.539822440962167,
           10.808956773780915,
           10.658898002355189,
           12.089694696177888,
           11.199322890866313,
           10.46029267558847,
           10.143987697999943,
           10.591401293081123,
           11.123797431582087,
           11.663288085234152,
           11.477917903387166,
           11.506854240793203,
           10.392209849513172,
           10.531388045724137,
           10.666916010504204,
           11.686277408536306,
           10.581229900561786,
           11.651517165293923,
           11.409942727150773,
           10.930536612552242,
           11.886197071546025,
           11.001674310813168,
           11.854825057948204,
           11.485725369180118,
           11.403309613572976,
           11.493297580865587,
           10.923245586138549,
           11.48791730192946,
           12.458927913476927,
           11.808702932506336,
           11.823227658884337,
           10.24439589257527,
           12.47262361355913,
           10.401791895463678,
           11.590913308096786,
           11.319413735347105,
           10.941651161041131,
           10.292661166213344,
           12.449561103214448,
           10.260839643208541,
           11.539881463884416,
           11.23742443855943,
           10.59716878032678,
           10.572973505595485,
           11.011261314209552,
           11.371799623362769,
           11.751151898784432,
           10.435119039934804,
           11.29471958938035,
           10.104331836880643,
           10.196333012634803,
           11.038339349439779,
           11.727146101871014,
           11.916043198817025,
           10.510607928512052,
           10.416894213096343,
           12.138926030449586,
           10.518419813273637,
           11.687318552266781,
           10.839580591713034,
           10.909635152562338,
           11.934074281979992,
           11.620209591972074,
           10.485689958541942,
           10.982201752956449,
           10.121589125226105,
           10.385012684370409,
           12.13182727640963,
           10.69010472504419,
           11.71607540769379,
           11.520169512606653,
           11.020851681709235,
           11.518769961646793,
           10.683707799036888,
           11.27458858482588,
           10.440953617997888,
           11.389302806358387,
           10.629301756940684,
           11.200195350694983,
           10.422834168050985,
           10.84619480181155,
           11.248516795585282,
           10.495547284901628,
           10.902535454335789,
           10.587171535547164,
           11.47057491753748,
           10.668598880310435,
           10.312939240451733,
           10.491109175084684,
           10.499432429439944,
           10.613969550668989,
           11.261540834447635,
           11.314730290173902,
           11.761994130808768,
           11.493706303802778,
           12.006227338099203,
           11.29553097541379,
           10.125745677930759,
           10.880599446313294,
           10.46986992507431,
           10.47517598326976,
           11.459215015168041,
           10.498570214664396,
           10.546290463374444,
           10.416580446276814,
           10.944129452860121,
           10.297405917143633,
           11.39806906437839,
           11.506821521225861,
           10.854715606241987,
           11.96240432795092,
           10.147933752107331,
           10.429867817151482,
           11.030790415641079,
           10.513740009077337,
           10.829986197725443,
           11.17708137545123,
           10.861310099964136,
           10.959920794984841,
           11.247396371748577,
           10.706184079940686,
           11.389364300083917,
           10.748472060180667,
           11.210933424369205,
           11.152000572802798,
           11.702312812511282,
           11.30676198824412,
           11.050863617771757,
           11.19156907835844,
           10.508961373271617,
           11.312904483077029,
           11.129858936647674,
           11.462328063766542,
           10.581981776771771,
           10.440065108324635,
           10.562575541579932,
           11.655696840377065,
           11.47594851181964,
           10.327898829116691,
           11.433891742200029,
           11.452014271059491,
           11.129193186204445,
           10.62105465128425,
           11.167861011331578,
           10.949014941848281,
           10.985686818504256,
           11.18058793983596,
           11.105175993920968,
           11.375114454120965,
           10.297971221864445,
           10.596671959484667,
           11.437573968565633,
           10.980527382174447,
           10.479676295097462,
           10.75241734050109,
           11.355043329682772,
           10.770466557170664,
           10.72672039090741,
           11.160871224313611,
           11.195534143509551,
           11.053692205520136,
           11.03716469333056,
           11.296799834167077,
           10.994285626636879,
           10.642371651443955,
           10.532598494943446,
           10.432590862335932,
           11.111555515817484,
           11.08972444834751,
           10.591918764699477,
           10.968448706483294,
           10.663756656100274,
           11.40130794918903,
           11.170676303592046,
           11.333955002702417,
           11.078665609830175,
           11.018243804455139,
           10.415512246269767,
           11.066501926699724,
           11.196606036572302,
           11.057966218979615,
           10.342826293362727,
           11.133194600744824,
           11.141829038564381,
           11.385693776695511,
           11.406464985887045,
           11.465266863215032,
           11.161582850907807,
           10.936132023234244,
           10.389971621366607,
           10.775130775169345,
           10.647164407024523,
           11.287299825264759,
           11.008319512725784,
           10.606726141867258,
           10.88849892938365,
           10.654012015984947,
           10.858557246022674,
           11.231032518569997,
           11.091636444952396,
           10.433186990436088,
           11.27956284465279,
           10.976704694669712,
           11.483352211594882,
           11.236012619622915,
           11.281196523696712,
           11.179160197254618,
           11.009127698949023,
           11.331101487109487,
           10.657323494703943,
           10.700522077895336,
           11.185383388154273,
           10.428660955975502,
           10.899268967726668,
           11.4027833921451,
           11.245468422012335,
           11.485360831526744,
           10.851509067231612,
           10.67928400845246,
           10.67268622840885,
           10.96300591160616,
           10.646204113838376,
           11.031979986381161,
           11.245020771237193,
           11.065158945731739,
           10.789872632367945,
           11.6519291884752,
           11.071741405859072,
           11.498313254846693,
           10.431036323805714,
           11.173748742738157,
           11.555213247636605,
           10.923373973446441,
           10.767799611383019,
           10.854999566329473,
           10.841840597569492,
           11.440710561574623,
           10.711607513419029,
           10.655791004103337,
           11.395557087285566,
           10.755355749691947,
           11.063167515800309,
           11.205145920482904,
           10.5253506610017,
           11.133500132220352,
           11.060724433082152,
           11.129542822820868,
           11.020997751990091,
           11.274417286026466,
           11.468588061196625,
           10.752644773159613,
           11.021175511201314,
           11.297519004771848,
           11.171341232209473,
           10.971170191240764,
           11.37473121822017,
           11.044834370968069,
           10.554550630500025,
           11.349822378883585,
           10.337006888500945,
           11.385025005104435,
           11.234296635971152,
           11.45803761839601,
           10.593778374544161,
           11.117754698392075,
           11.480150180814746,
           10.873992394734062,
           11.111907987449595,
           11.24737361892636,
           10.928243097546966,
           10.869138602436074,
           10.741900335786346,
           11.06236635942814,
           10.641373027517353,
           11.11441757645808,
           10.676314134800185,
           10.823892745442784,
           11.025809911479886,
           11.135339395521385,
           10.680332112603706,
           11.134994922219168,
           10.374684763007167,
           10.567997251928636,
           11.50935057301875,
           11.692790448662013,
           11.356577539113484,
           11.533594831429667,
           11.076456770286603,
           11.129947923836081,
           11.143529397121988,
           11.326576380446037,
           10.441432592996522,
           10.305573380810621,
           11.453578109638103,
           11.028222362736093,
           10.490118315077968,
           11.13776555880607,
           11.194862832567363,
           10.974022224481034,
           10.8939101922975,
           11.063380372305005,
           10.795475559166775,
           10.287923718806699,
           10.838818928741539,
           10.698595075383281,
           11.190314299741841,
           11.338469148078536,
           11.144858810739285,
           11.341564274420545,
           11.03880193280256,
           11.08956414134868,
           11.072188670901596,
           11.489454837553957,
           11.250614707298105,
           11.259764135748773,
           11.070247139671302,
           11.204171093403868,
           10.852384770394394,
           10.974010693879155,
           10.824450992381522,
           11.568844862444568,
           11.090839396508061,
           14.246553804767249,
           11.115087111762199,
           11.080150363800875,
           11.410255721060263,
           11.166090274783354,
           11.369419493479562,
           11.351009484992199,
           11.155830344919195,
           11.209903541275263,
           11.255780945235777,
           11.236930705159825,
           10.804849563584604,
           11.17086806581279,
           11.163817602457618,
           10.643523429022114,
           11.453954263783512,
           10.852272212606325,
           11.031902714883852,
           11.28974746568538,
           10.931097228831401,
           11.196860083084578,
           10.986585258037266,
           11.362995712335218,
           10.750808297032322,
           11.131433200425198,
           11.094487990419415,
           13.322752276833906,
           11.037210373045511,
           11.01288409118348,
           10.781688326761294,
           11.068713807251864,
           11.23229484452973,
           10.967102007856814,
           10.838843683314172,
           11.06354619709605,
           14.551437268009458,
           11.19468692890526,
           11.218640580548726,
           11.078923166972313,
           11.0369641417971,
           11.006422188798108,
           10.987602493109836,
           11.155809642131821,
           11.415179492194738,
           11.126641531542877,
           11.12985348519391,
           10.830622348168719,
           10.746544161598317,
           11.16456535526046,
           10.85527193581905,
           11.234246306419815,
           10.959048360659212,
           11.003631385967523,
           10.824045811929047,
           11.12315691538461,
           11.372147660233464,
           10.964666400673213,
           11.334632544650969,
           11.044713142835805,
           11.266620851165644,
           11.068129662933508,
           10.627990635032887,
           16.316093974040143,
           10.981626350375668,
           11.03741120137264,
           11.294856556684499,
           11.225555689561661,
           11.767989423211295,
           11.199700164831945,
           14.313010683608223,
           11.110713488488695,
           11.509745809523274,
           11.13465069645645,
           11.166806539894473,
           11.011850395298202,
           11.199857296284897,
           11.22434618273811,
           10.872119545007648,
           10.997382502861033,
           11.112778530328061,
           10.87472405491409,
           10.840120629175868,
           11.051200333471574,
           10.704423200025541,
           11.19214895059584,
           11.077159991972987,
           10.883939915999543,
           11.12644856544863,
           11.524546195028426,
           11.380578979669892,
           11.218266362779058,
           11.398093642409371,
           11.19764286166408,
           11.395859821783787,
           11.097874664845286,
           11.20566162703141,
           10.504819077810154,
           11.496595087990048,
           10.951503187560265,
           10.780616138948389,
           10.560960662632597,
           11.037717804259401,
           12.290794775808314,
           10.953843648831016,
           10.806921538005517,
           11.191494545416557,
           10.900241005650887,
           11.410377449664214,
           11.179532023114227,
           11.084694834565024,
           11.003848305137797,
           10.955314224004285,
           11.156704908934074,
           11.08765255458247,
           11.130915947553838,
           10.848925857897685,
           10.856231842552642,
           11.247030142472145,
           10.975190815497838,
           14.918339603672594,
           10.735336019946601,
           10.97713911009423,
           11.062219426578464,
           14.676324403231453,
           11.491768918451722,
           11.357889014977413,
           11.17325384875368,
           11.43285568459477,
           11.195323201829284,
           11.15727634779989,
           10.984067446242612,
           11.039760387112711,
           11.516420030623687,
           11.187131112667153,
           11.128299387222643,
           11.162949050195198,
           11.225634893122848,
           11.344473438086524,
           11.059992634606285,
           11.212454634483336,
           11.153720315637422,
           11.65104699980995,
           11.630148784951992,
           11.657174931465498,
           10.96523665485847,
           10.910753812896711,
           11.31926064664949,
           11.041839012878086,
           11.488554039996117,
           11.051088594072203,
           13.232065856750186,
           11.287959748513888,
           10.902425209852975,
           10.75925862797154,
           11.92639816799579,
           11.33883260336364,
           11.143744574448103,
           12.826008550896981,
           10.585332892871557,
           10.933133198585615,
           10.925238807078753,
           11.118708659788183,
           10.921222823685124,
           10.900342516847644,
           10.829040198762092,
           10.892577159373872,
           11.25135669047343,
           11.035508957905424,
           11.231920123457693,
           10.759590695729297,
           11.06569866425281,
           10.978173760400399,
           11.102955257911702,
           10.921349918178917,
           10.98091042360631,
           10.64931361430978,
           14.477045612728269,
           11.13341545154357,
           10.990530723121237,
           10.907775974869118,
           11.232004041165318,
           11.089796666224053,
           10.60982269811477,
           10.924258573392539,
           11.090431692546947,
           10.97042693581779,
           10.847616611576882,
           11.041264239995726,
           11.005167441117717,
           11.802574719319775,
           10.757528996716538
          ],
          "coloraxis": "coloraxis",
          "symbol": "circle"
         },
         "mode": "markers",
         "name": "",
         "orientation": "v",
         "showlegend": false,
         "type": "scatter",
         "x": [
          -52.25273513793945,
          -60.41270065307617,
          -75.37150573730469,
          -43.80554962158203,
          -33.35711669921875,
          -57.072757720947266,
          -49.54414367675781,
          -35.65293884277344,
          -37.45988845825195,
          -73.34969329833984,
          -31.1925048828125,
          -32.43566131591797,
          -37.323875427246094,
          -36.682376861572266,
          -58.197078704833984,
          -39.77638626098633,
          -29.902334213256836,
          -51.22594451904297,
          -28.717845916748047,
          -36.14522933959961,
          -57.19870376586914,
          -48.45829391479492,
          -34.604434967041016,
          -39.96487045288086,
          -37.5727653503418,
          -76.15896606445312,
          -62.37240219116211,
          -31.33481216430664,
          -51.114784240722656,
          -31.76936149597168,
          -32.03898239135742,
          -46.42604064941406,
          -41.034122467041016,
          -51.945499420166016,
          -55.61553955078125,
          -40.16242980957031,
          -77.30110931396484,
          -34.848167419433594,
          -39.28248596191406,
          -52.837406158447266,
          -47.609764099121094,
          -33.211002349853516,
          -34.446651458740234,
          -31.864728927612305,
          -39.41429901123047,
          -31.520591735839844,
          -51.90867233276367,
          -47.31428909301758,
          -26.293601989746094,
          -45.60660934448242,
          -29.712955474853516,
          -52.125892639160156,
          -21.68809700012207,
          -37.774837493896484,
          -55.98187255859375,
          -34.15400695800781,
          -61.80173873901367,
          -59.188995361328125,
          -30.344562530517578,
          -59.941246032714844,
          -36.958045959472656,
          -53.7244758605957,
          -58.15485382080078,
          -76.78153228759766,
          -74.45365905761719,
          -58.72849655151367,
          -53.909366607666016,
          -75.11016082763672,
          -37.725807189941406,
          -32.32550048828125,
          -32.86846923828125,
          -23.775678634643555,
          -78.30938720703125,
          -61.0434455871582,
          -20.590478897094727,
          -51.71005630493164,
          -36.4766731262207,
          -37.24113845825195,
          -28.062976837158203,
          -53.80765151977539,
          -80.7886962890625,
          -34.276702880859375,
          -37.229942321777344,
          -34.943119049072266,
          -35.692466735839844,
          -39.212379455566406,
          -37.1358757019043,
          -36.09096908569336,
          -73.98224639892578,
          -35.93178176879883,
          -57.21905517578125,
          -45.8414192199707,
          -34.61252212524414,
          -53.69150924682617,
          -33.73237991333008,
          -29.387298583984375,
          -40.152137756347656,
          -38.415802001953125,
          -43.0662727355957,
          -56.95515823364258,
          -29.56463050842285,
          -77.26487731933594,
          -36.90948486328125,
          -39.99892807006836,
          -35.716304779052734,
          -36.644248962402344,
          -75.60165405273438,
          -55.46975326538086,
          -78.81070709228516,
          -27.735605239868164,
          -36.78397750854492,
          -23.23826789855957,
          -27.521263122558594,
          -77.48363494873047,
          -37.832740783691406,
          -38.920719146728516,
          -52.13148498535156,
          -38.047019958496094,
          -60.60224151611328,
          -39.5851936340332,
          -52.9390754699707,
          -38.14105224609375,
          -26.997846603393555,
          -80.22723388671875,
          -56.35911178588867,
          -56.495147705078125,
          -50.0395393371582,
          -30.468801498413086,
          -31.14048194885254,
          -27.799909591674805,
          -76.04666137695312,
          -76.87754821777344,
          -41.56473922729492,
          -30.57640838623047,
          -29.29766082763672,
          -29.742290496826172,
          -37.25156784057617,
          -38.151119232177734,
          -62.00835418701172,
          -37.40146255493164,
          -34.38528060913086,
          -51.157737731933594,
          -28.79670524597168,
          -47.405025482177734,
          -30.21833038330078,
          -39.62538146972656,
          -27.0708065032959,
          -60.789737701416016,
          -53.8891487121582,
          -30.388126373291016,
          -37.313846588134766,
          -79.44345092773438,
          -33.88729476928711,
          -59.388790130615234,
          -54.74160385131836,
          -36.292232513427734,
          -37.75264358520508,
          -47.57707977294922,
          -80.3830795288086,
          -39.424434661865234,
          -59.231929779052734,
          -51.7264404296875,
          -37.1394157409668,
          -49.73752975463867,
          -36.07063674926758,
          -28.04363250732422,
          -37.39842987060547,
          -81.95667266845703,
          -32.2833251953125,
          -29.24116325378418,
          -34.74031066894531,
          -77.16641235351562,
          -31.051328659057617,
          -52.88170623779297,
          -38.758216857910156,
          -33.425228118896484,
          -39.07571792602539,
          -36.34380340576172,
          -48.995033264160156,
          -44.454952239990234,
          -35.78804016113281,
          -59.06745910644531,
          -52.397705078125,
          -30.80000877380371,
          -36.263118743896484,
          -35.13600540161133,
          -55.72897720336914,
          -38.201419830322266,
          -34.872291564941406,
          -72.3462142944336,
          -52.71067810058594,
          -60.38689041137695,
          -61.496849060058594,
          -50.91278076171875,
          -38.50829315185547,
          -49.22563934326172,
          -26.596872329711914,
          -54.37964630126953,
          -35.99681854248047,
          -51.13871765136719,
          12.582093238830566,
          -20.77614974975586,
          -21.38247299194336,
          18.945476531982422,
          3.4479289054870605,
          27.504371643066406,
          18.52798843383789,
          -0.9289767742156982,
          21.946266174316406,
          6.419163703918457,
          25.125444412231445,
          19.53960418701172,
          29.99787712097168,
          51.99427795410156,
          26.918209075927734,
          26.418289184570312,
          -17.090557098388672,
          45.577064514160156,
          46.744632720947266,
          37.74946975708008,
          -6.822292804718018,
          -2.510345220565796,
          -0.43492066860198975,
          29.27672576904297,
          28.480154037475586,
          -3.520739793777466,
          30.550817489624023,
          36.61912155151367,
          -8.100249290466309,
          -16.388145446777344,
          26.835424423217773,
          3.8439414501190186,
          41.91177749633789,
          44.49858474731445,
          21.002317428588867,
          29.9221134185791,
          -3.481942653656006,
          -19.303274154663086,
          30.518566131591797,
          17.826377868652344,
          -16.47469711303711,
          -1.5595693588256836,
          24.174013137817383,
          5.58889102935791,
          28.196657180786133,
          44.7142333984375,
          4.519434928894043,
          -2.4907400608062744,
          44.47222137451172,
          33.502044677734375,
          50.6576042175293,
          -2.7707502841949463,
          2.501189947128296,
          -3.1891210079193115,
          -5.0552167892456055,
          27.04421043395996,
          -7.354087829589844,
          33.8901481628418,
          -16.653249740600586,
          47.355594635009766,
          -2.6947007179260254,
          31.588764190673828,
          -7.3154616355896,
          -17.500062942504883,
          -4.884670257568359,
          29.60589027404785,
          41.809967041015625,
          -8.238283157348633,
          3.0289740562438965,
          -6.2152485847473145,
          -3.5423903465270996,
          22.83681869506836,
          27.798114776611328,
          21.233713150024414,
          19.048337936401367,
          42.96027374267578,
          -0.735268771648407,
          2.0856757164001465,
          -13.756599426269531,
          34.86581039428711,
          23.989320755004883,
          -5.398712158203125,
          21.360809326171875,
          -12.334148406982422,
          43.75724411010742,
          31.411277770996094,
          26.71938133239746,
          -22.586286544799805,
          3.527089834213257,
          42.9865837097168,
          24.346847534179688,
          -8.215470314025879,
          -5.025425910949707,
          50.98127746582031,
          28.2587947845459,
          25.660457611083984,
          28.32008934020996,
          -14.768902778625488,
          30.17169189453125,
          2.047090768814087,
          0.17771540582180023,
          29.297697067260742,
          20.484699249267578,
          -17.62266731262207,
          -19.475830078125,
          -19.562419891357422,
          3.613292932510376,
          44.04381561279297,
          -17.772483825683594,
          -18.234722137451172,
          -7.770312309265137,
          -5.6392059326171875,
          4.433672904968262,
          36.70574188232422,
          52.91421890258789,
          36.162288665771484,
          3.2275161743164062,
          -6.5094218254089355,
          24.825258255004883,
          29.280960083007812,
          -18.213497161865234,
          -0.614112913608551,
          32.802921295166016,
          26.630409240722656,
          -4.813878536224365,
          6.79849910736084,
          -4.288386344909668,
          11.068724632263184,
          -5.581989765167236,
          44.78526306152344,
          -19.19661521911621,
          23.840688705444336,
          -6.575881004333496,
          25.25226402282715,
          43.51248550415039,
          39.53097152709961,
          26.245798110961914,
          -18.057674407958984,
          1.687009572982788,
          30.020875930786133,
          49.484619140625,
          20.800920486450195,
          1.833566427230835,
          1.279831886291504,
          -18.42591094970703,
          35.03041076660156,
          -12.981345176696777,
          45.491580963134766,
          -3.6216111183166504,
          30.793100357055664,
          -18.08062744140625,
          41.836822509765625,
          27.299541473388672,
          2.0918376445770264,
          51.0676155090332,
          17.847448348999023,
          20.873394012451172,
          13.40438175201416,
          -17.922306060791016,
          -6.297760486602783,
          -21.573984146118164,
          26.059654235839844,
          -2.183852195739746,
          11.469376564025879,
          40.72459411621094,
          -9.799819946289062,
          -6.713722229003906,
          27.6427059173584,
          -3.322892427444458,
          -1.6662441492080688,
          26.72842788696289,
          42.819339752197266,
          23.959190368652344,
          24.575557708740234,
          -5.652055740356445,
          -0.09966643899679184,
          45.724788665771484,
          34.07522201538086,
          -2.0574774742126465,
          -3.0351779460906982,
          45.652950286865234,
          -3.164313554763794,
          3.9257404804229736,
          46.051513671875,
          30.010732650756836,
          17.381311416625977,
          -19.307048797607422,
          -17.785181045532227,
          -13.57763957977295,
          -3.5697455406188965,
          -20.438623428344727,
          -15.774340629577637,
          50.33951950073242,
          -6.4692606925964355,
          40.403602600097656,
          26.829116821289062,
          44.886573791503906,
          -8.785150527954102,
          31.267911911010742,
          27.492630004882812,
          58.234127044677734,
          -7.704870700836182,
          31.515031814575195,
          31.19643211364746,
          38.666908264160156,
          56.85834503173828,
          39.76802444458008,
          -4.491209030151367,
          41.002479553222656,
          -4.452935695648193,
          28.751558303833008,
          26.328449249267578,
          13.57244873046875,
          33.12093734741211,
          35.11680603027344,
          33.74929428100586,
          25.401920318603516,
          20.505390167236328,
          -11.079075813293457,
          21.238435745239258,
          56.68270492553711,
          -12.935699462890625,
          28.0244083404541,
          43.71995544433594,
          0.027058694511651993,
          40.80780029296875,
          28.58201026916504,
          19.48987579345703,
          26.316102981567383,
          31.312042236328125,
          61.29695510864258,
          42.06765365600586,
          44.230350494384766,
          40.08665466308594,
          42.793609619140625,
          -0.5015044808387756,
          60.41515350341797,
          27.714143753051758,
          44.40077590942383,
          26.145795822143555,
          23.098997116088867,
          39.79982376098633,
          59.01475524902344,
          -4.493403434753418,
          -12.629791259765625,
          29.700847625732422,
          -7.884741306304932,
          22.927040100097656,
          43.02780532836914,
          38.699546813964844,
          33.463199615478516,
          34.173030853271484,
          24.383089065551758,
          30.630298614501953,
          25.226545333862305,
          38.40271759033203,
          37.48350143432617,
          34.07585906982422,
          38.68606948852539,
          49.03815460205078,
          27.746870040893555,
          -8.107999801635742,
          40.092384338378906,
          29.742034912109375,
          -9.479031562805176,
          32.890933990478516,
          31.16216278076172,
          28.712430953979492,
          16.416086196899414,
          55.26987838745117,
          54.475006103515625,
          -12.214016914367676,
          25.918333053588867,
          23.386394500732422,
          28.447160720825195,
          38.002479553222656,
          -4.197338104248047,
          30.51189422607422,
          -0.9988961219787598,
          -9.65716552734375,
          -13.093859672546387,
          45.53905487060547,
          31.48444938659668,
          42.421897888183594,
          39.70100402832031,
          21.21458625793457,
          32.86271286010742,
          30.31218147277832,
          33.27085494995117,
          55.83789825439453,
          -7.2656731605529785,
          -9.051517486572266,
          47.418399810791016,
          24.241836547851562,
          38.91838836669922,
          48.43327713012695,
          -11.903080940246582,
          -7.0082316398620605,
          31.11819076538086,
          21.771026611328125,
          0.16801561415195465,
          39.26096725463867,
          22.633237838745117,
          35.08403778076172,
          31.915674209594727,
          55.529483795166016,
          -5.8124918937683105,
          48.33274841308594,
          40.4102897644043,
          44.55394744873047,
          32.70072937011719,
          -7.56838321685791,
          40.75242614746094,
          38.91018295288086,
          -2.3367693424224854,
          -11.976717948913574,
          -8.60192584991455,
          28.77544593811035,
          55.896881103515625,
          -6.81785249710083,
          20.707386016845703,
          37.873870849609375,
          60.27007293701172,
          -0.5535235404968262,
          44.226646423339844,
          25.693464279174805,
          -11.02667236328125,
          27.59415626525879,
          -13.084745407104492,
          37.74928665161133,
          28.77364158630371,
          58.192230224609375,
          -11.61176586151123,
          -6.9573588371276855,
          -2.7571895122528076,
          45.25199890136719,
          -2.5154263973236084,
          -11.008753776550293,
          -8.283930778503418,
          38.19107437133789,
          35.76880645751953,
          32.72065353393555,
          31.67443084716797,
          -7.833658695220947,
          46.76625442504883,
          -1.9871023893356323,
          -5.810862064361572,
          24.579666137695312,
          32.76336669921875,
          58.96478271484375,
          -5.00374698638916,
          -5.937112331390381,
          -4.795337677001953,
          33.56532287597656,
          32.87546920776367,
          22.636497497558594,
          -2.3484256267547607,
          41.37864303588867,
          29.235258102416992,
          -1.8026196956634521,
          22.084749221801758,
          49.26401901245117,
          45.47166061401367,
          -7.274478435516357,
          25.18865966796875,
          19.902854919433594,
          -4.0727362632751465,
          56.22780990600586,
          30.413944244384766,
          37.024723052978516,
          31.26752471923828,
          27.496313095092773,
          40.895931243896484,
          37.49861145019531,
          38.13203430175781,
          42.63243103027344,
          32.45466995239258,
          -10.38062572479248,
          41.64607620239258,
          13.369379043579102,
          24.941299438476562,
          43.919700622558594,
          27.404531478881836,
          30.23853302001953,
          47.840858459472656,
          -5.239120006561279,
          58.58188247680664,
          38.580474853515625,
          29.242921829223633,
          34.084659576416016,
          59.50453186035156,
          42.05669021606445,
          -4.7780280113220215,
          22.949033737182617,
          29.660886764526367,
          44.839664459228516,
          -9.25468635559082,
          41.944969177246094,
          -5.630434036254883,
          -12.838452339172363
         ],
         "xaxis": "x",
         "y": [
          34.188838958740234,
          4.672943115234375,
          3.8330249786376953,
          46.62846374511719,
          45.68067932128906,
          36.89879608154297,
          41.13410186767578,
          -19.169475555419922,
          -11.161961555480957,
          2.0120036602020264,
          -3.5810954570770264,
          33.909908294677734,
          -23.9274959564209,
          1.5274380445480347,
          41.482173919677734,
          -25.03128433227539,
          50.17683410644531,
          22.69411849975586,
          42.22825622558594,
          -10.719001770019531,
          7.274292469024658,
          43.012386322021484,
          39.93838882446289,
          50.088623046875,
          32.1538200378418,
          1.7349541187286377,
          5.88762092590332,
          -4.377792835235596,
          19.649887084960938,
          -5.776638031005859,
          -4.286149978637695,
          45.145729064941406,
          41.22105026245117,
          36.462764739990234,
          37.04220962524414,
          36.479618072509766,
          2.6919078826904297,
          -18.180028915405273,
          35.33727264404297,
          15.217041015625,
          36.3511962890625,
          40.470359802246094,
          42.21878433227539,
          -18.86469841003418,
          26.214767456054688,
          42.06039810180664,
          14.883500099182129,
          34.54428482055664,
          -12.2118558883667,
          35.81743240356445,
          39.45725631713867,
          35.998985290527344,
          -19.794918060302734,
          -23.315513610839844,
          44.217018127441406,
          34.711204528808594,
          10.90375804901123,
          15.853545188903809,
          35.02302551269531,
          6.304396629333496,
          -16.80901527404785,
          40.50001907348633,
          43.17331314086914,
          -1.317563772201538,
          0.2387653887271881,
          14.560928344726562,
          33.76744079589844,
          0.6839077472686768,
          -25.21692657470703,
          -1.941331148147583,
          -18.655498504638672,
          -19.665586471557617,
          -1.1760239601135254,
          4.333088397979736,
          -19.955989837646484,
          38.47637939453125,
          42.67558288574219,
          45.194786071777344,
          39.46923065185547,
          9.270862579345703,
          -0.12267893552780151,
          32.56216049194336,
          41.805416107177734,
          42.99448776245117,
          28.595603942871094,
          -26.476530075073242,
          -10.28303337097168,
          -26.296539306640625,
          3.659402370452881,
          -25.02752113342285,
          43.3403434753418,
          45.20415496826172,
          -1.633780598640442,
          12.53514289855957,
          -17.97565460205078,
          33.86034393310547,
          41.399940490722656,
          41.09750747680664,
          44.496768951416016,
          12.673483848571777,
          -5.231489181518555,
          0.33689549565315247,
          41.095462799072266,
          25.412626266479492,
          47.7578239440918,
          36.02755355834961,
          5.04152250289917,
          43.47410583496094,
          1.3544340133666992,
          43.47125244140625,
          37.02891540527344,
          -19.654226303100586,
          37.98349380493164,
          5.038479328155518,
          50.67567443847656,
          47.70684051513672,
          37.88814926147461,
          37.550498962402344,
          12.565507888793945,
          49.935203552246094,
          10.107712745666504,
          26.495445251464844,
          35.16151428222656,
          -0.24547168612480164,
          12.604106903076172,
          45.92605972290039,
          15.383676528930664,
          47.67863464355469,
          31.218429565429688,
          -13.625726699829102,
          3.008939743041992,
          -2.1095597743988037,
          33.907840728759766,
          37.60443878173828,
          -18.139415740966797,
          50.8055534362793,
          15.375676155090332,
          15.59995174407959,
          4.727862358093262,
          37.969669342041016,
          44.9647102355957,
          10.00418472290039,
          -5.270774841308594,
          35.74428176879883,
          -15.839251518249512,
          42.97585678100586,
          -11.62232780456543,
          6.7870073318481445,
          43.77738952636719,
          47.1119384765625,
          -27.012788772583008,
          4.57296085357666,
          -1.6928904056549072,
          11.320337295532227,
          36.79564666748047,
          -16.26851463317871,
          34.44118881225586,
          33.04800796508789,
          -1.4577945470809937,
          38.15916061401367,
          14.2081880569458,
          33.11955642700195,
          -12.833550453186035,
          34.33696365356445,
          -19.66508674621582,
          35.66084671020508,
          2.694654941558838,
          1.075631856918335,
          40.513668060302734,
          -15.708355903625488,
          -15.567063331604004,
          1.0311658382415771,
          34.954490661621094,
          12.42046070098877,
          15.785120010375977,
          -19.780221939086914,
          -24.183500289916992,
          -13.569292068481445,
          42.29364013671875,
          45.4541130065918,
          44.3972282409668,
          43.394500732421875,
          40.424896240234375,
          39.37636184692383,
          15.199268341064453,
          -11.472465515136719,
          13.286839485168457,
          -25.128835678100586,
          34.33523178100586,
          4.255062580108643,
          11.07614803314209,
          11.473250389099121,
          7.185723781585693,
          17.768117904663086,
          34.55967712402344,
          34.823158264160156,
          -11.509071350097656,
          38.72260284423828,
          -1.6931335926055908,
          20.064542770385742,
          -65.54607391357422,
          -51.65509796142578,
          -48.67646408081055,
          -43.107887268066406,
          -55.295143127441406,
          -41.03662872314453,
          -42.709007263183594,
          -58.275638580322266,
          -40.824798583984375,
          -68.8949966430664,
          -30.00563621520996,
          -36.73308181762695,
          -38.07301330566406,
          -43.848724365234375,
          -57.38447570800781,
          -31.88079261779785,
          -53.890689849853516,
          -49.90503692626953,
          -45.29652404785156,
          -54.49583435058594,
          -53.04008483886719,
          -55.99605178833008,
          -54.18561553955078,
          -34.49633026123047,
          -42.25059509277344,
          -49.868408203125,
          -48.089141845703125,
          -57.56010818481445,
          -67.96575164794922,
          -49.37306594848633,
          -57.92636489868164,
          -73.28392028808594,
          -47.093753814697266,
          -46.00718688964844,
          -39.82954025268555,
          -33.91835021972656,
          -52.57786560058594,
          -49.580196380615234,
          -50.707035064697266,
          -36.38130187988281,
          -48.50223922729492,
          -56.65285110473633,
          -50.48411560058594,
          -72.96607208251953,
          -39.33555221557617,
          -44.62630844116211,
          -72.67587280273438,
          -67.69831848144531,
          -52.79533004760742,
          -36.90382385253906,
          -42.4940299987793,
          -47.13974380493164,
          -40.916847229003906,
          -51.089599609375,
          -69.0679702758789,
          -39.96373748779297,
          -51.787384033203125,
          -36.911720275878906,
          -54.175636291503906,
          -46.50021743774414,
          -68.8305892944336,
          -53.55744552612305,
          -71.85363006591797,
          -63.46965026855469,
          -49.08956527709961,
          -42.59603500366211,
          -43.81419372558594,
          -63.31663131713867,
          -42.95383071899414,
          -65.68537139892578,
          -61.574729919433594,
          -40.853294372558594,
          -31.40578842163086,
          -43.92654037475586,
          -36.27695846557617,
          -47.56706619262695,
          -52.42214584350586,
          -54.55516052246094,
          -45.406620025634766,
          -49.186195373535156,
          -41.823509216308594,
          -54.733192443847656,
          -33.40239715576172,
          -50.50977325439453,
          -54.652313232421875,
          -30.54599380493164,
          -54.12664794921875,
          -50.85750198364258,
          -69.33833312988281,
          -45.31517791748047,
          -48.4417724609375,
          -57.13985824584961,
          -66.26470947265625,
          -45.086692810058594,
          -57.9107780456543,
          -49.768367767333984,
          -48.63870620727539,
          -48.38580322265625,
          -48.46611404418945,
          -57.12607955932617,
          -50.43959045410156,
          -31.282793045043945,
          -41.763999938964844,
          -61.27095413208008,
          -63.339599609375,
          -50.585506439208984,
          -40.759544372558594,
          -47.388633728027344,
          -49.66252136230469,
          -59.045143127441406,
          -65.82124328613281,
          -55.658355712890625,
          -71.87447357177734,
          -56.02681350708008,
          -43.3708381652832,
          -55.692691802978516,
          -42.3876838684082,
          -67.575439453125,
          -52.515602111816406,
          -52.31134796142578,
          -47.25929641723633,
          -69.71620178222656,
          -31.709257125854492,
          -51.72808837890625,
          -50.2469367980957,
          -68.81578826904297,
          -64.5833511352539,
          -66.58804321289062,
          -71.16793823242188,
          -50.75924301147461,
          -53.831451416015625,
          -35.27680969238281,
          -71.4136734008789,
          -28.83792495727539,
          -50.76980972290039,
          -52.17380905151367,
          -46.0844612121582,
          -48.66026306152344,
          -69.1462631225586,
          -30.779998779296875,
          -44.35268783569336,
          -36.66523742675781,
          -55.23897933959961,
          -69.52816009521484,
          -51.71813201904297,
          -55.088443756103516,
          -51.41923522949219,
          -46.860591888427734,
          -65.73328399658203,
          -35.55794906616211,
          -56.94536209106445,
          -52.00285339355469,
          -52.915611267089844,
          -58.325103759765625,
          -45.7008056640625,
          -35.12698745727539,
          -33.60905456542969,
          -64.46288299560547,
          -63.814300537109375,
          -64.79812622070312,
          -47.52701187133789,
          -39.256778717041016,
          -49.615516662597656,
          -66.31118774414062,
          -48.09431076049805,
          -64.25251770019531,
          -49.09571838378906,
          -53.479793548583984,
          -58.014251708984375,
          -54.63026428222656,
          -50.262413024902344,
          -55.775638580322266,
          -37.14716720581055,
          -37.521751403808594,
          -67.77241516113281,
          -67.84230041503906,
          -51.52630615234375,
          -49.62405776977539,
          -52.577049255371094,
          -53.84526443481445,
          -43.33625793457031,
          -66.64424133300781,
          -43.55282974243164,
          -54.09585952758789,
          -50.85352325439453,
          -37.46406936645508,
          -48.35470199584961,
          -60.15423583984375,
          -45.30815887451172,
          -56.70826721191406,
          -62.935081481933594,
          -52.23823165893555,
          -43.93571472167969,
          -56.62126541137695,
          -47.5661735534668,
          -48.764156341552734,
          -54.06718063354492,
          -71.00299072265625,
          -35.32249069213867,
          -35.17190170288086,
          11.155166625976562,
          1.0108627080917358,
          23.518815994262695,
          32.34382629394531,
          52.94996643066406,
          13.199921607971191,
          51.63455581665039,
          11.2844820022583,
          37.84208679199219,
          -13.234574317932129,
          7.250608444213867,
          23.217823028564453,
          13.318053245544434,
          18.736835479736328,
          18.740522384643555,
          21.896102905273438,
          24.123746871948242,
          24.160886764526367,
          1.06657075881958,
          54.00203323364258,
          9.063353538513184,
          4.435480117797852,
          51.915191650390625,
          12.05650520324707,
          -1.5095490217208862,
          36.553016662597656,
          37.78225326538086,
          16.15799903869629,
          53.132965087890625,
          17.522918701171875,
          11.614168167114258,
          37.90842819213867,
          40.846641540527344,
          39.32761001586914,
          35.40385437011719,
          -13.972247123718262,
          14.215484619140625,
          53.96346664428711,
          17.6165714263916,
          51.35688400268555,
          51.65741729736328,
          16.3034610748291,
          9.786879539489746,
          0.5636619329452515,
          -11.821367263793945,
          20.018247604370117,
          7.045024871826172,
          22.773916244506836,
          39.58082580566406,
          22.880321502685547,
          19.177907943725586,
          16.594341278076172,
          54.75824737548828,
          33.79103088378906,
          16.391359329223633,
          36.45423889160156,
          50.074642181396484,
          35.2739143371582,
          52.124961853027344,
          19.50381088256836,
          26.493566513061523,
          -8.33253288269043,
          53.177154541015625,
          61.436126708984375,
          9.169438362121582,
          39.025245666503906,
          31.263805389404297,
          26.357715606689453,
          14.626044273376465,
          13.17569637298584,
          10.029537200927734,
          -9.536564826965332,
          52.627471923828125,
          19.193042755126953,
          33.10032653808594,
          40.363380432128906,
          12.02127742767334,
          61.029052734375,
          -14.289212226867676,
          1.0721135139465332,
          1.3201159238815308,
          21.478805541992188,
          62.3854866027832,
          39.99445724487305,
          38.400360107421875,
          51.0893440246582,
          30.1973819732666,
          59.246551513671875,
          23.126968383789062,
          13.636486053466797,
          -9.69255542755127,
          3.780269145965576,
          13.782083511352539,
          20.19602394104004,
          46.34020233154297,
          20.67935562133789,
          2.5225915908813477,
          -6.577286720275879,
          20.25160789489746,
          54.23434829711914,
          1.1551337242126465,
          23.082317352294922,
          52.78962326049805,
          34.769203186035156,
          15.927946090698242,
          10.978111267089844,
          11.445091247558594,
          19.3856201171875,
          16.48575210571289,
          12.742283821105957,
          39.023860931396484,
          -11.712108612060547,
          49.94686508178711,
          50.8614501953125,
          -0.6385260820388794,
          7.3996500968933105,
          5.665142059326172,
          7.184803485870361,
          14.899974822998047,
          3.265183448791504,
          24.569351196289062,
          41.502994537353516,
          10.749424934387207,
          -1.0962358713150024,
          18.1690673828125,
          22.900325775146484,
          7.306899547576904,
          36.291439056396484,
          -11.643733978271484,
          52.916133880615234,
          35.53780746459961,
          13.693086624145508,
          -12.639348983764648,
          -6.9723896980285645,
          3.4629855155944824,
          20.784923553466797,
          2.5260562896728516,
          4.4222588539123535,
          3.726365327835083,
          42.55622863769531,
          31.99367904663086,
          15.123652458190918,
          22.188152313232422,
          2.2119147777557373,
          19.682735443115234,
          0.6159791350364685,
          1.1847012042999268,
          52.8551139831543,
          17.22678565979004,
          11.772826194763184,
          13.49132251739502,
          12.420437812805176,
          5.054594993591309,
          32.391876220703125,
          32.853790283203125,
          51.85377502441406,
          4.92067813873291,
          22.249662399291992,
          22.96894073486328,
          -13.930601119995117,
          24.93369483947754,
          17.69133949279785,
          13.071043014526367,
          -11.222648620605469,
          16.389144897460938,
          16.379066467285156,
          -13.066431045532227,
          9.985172271728516,
          59.971275329589844,
          51.8174934387207,
          21.253141403198242,
          38.44978332519531,
          39.45981216430664,
          46.00946807861328,
          46.502689361572266,
          18.88888168334961,
          31.988222122192383,
          6.30914831161499,
          53.8753662109375,
          13.22572135925293,
          21.82770538330078,
          38.22195053100586,
          27.024999618530273,
          62.006099700927734,
          14.1426420211792,
          -11.748847961425781,
          14.843308448791504,
          23.830692291259766,
          34.23869705200195,
          14.725685119628906,
          12.95785140991211,
          41.98705291748047,
          -6.192085266113281,
          21.480863571166992,
          38.281002044677734,
          16.87287712097168,
          2.231093645095825,
          36.699974060058594,
          13.644673347473145,
          3.4923713207244873
         ],
         "yaxis": "y"
        }
       ],
       "layout": {
        "coloraxis": {
         "colorbar": {
          "title": {
           "text": "Rg Labels"
          }
         },
         "colorscale": [
          [
           0,
           "#0d0887"
          ],
          [
           0.1111111111111111,
           "#46039f"
          ],
          [
           0.2222222222222222,
           "#7201a8"
          ],
          [
           0.3333333333333333,
           "#9c179e"
          ],
          [
           0.4444444444444444,
           "#bd3786"
          ],
          [
           0.5555555555555556,
           "#d8576b"
          ],
          [
           0.6666666666666666,
           "#ed7953"
          ],
          [
           0.7777777777777778,
           "#fb9f3a"
          ],
          [
           0.8888888888888888,
           "#fdca26"
          ],
          [
           1,
           "#f0f921"
          ]
         ]
        },
        "legend": {
         "tracegroupgap": 0
        },
        "margin": {
         "t": 60
        },
        "template": {
         "data": {
          "bar": [
           {
            "error_x": {
             "color": "#2a3f5f"
            },
            "error_y": {
             "color": "#2a3f5f"
            },
            "marker": {
             "line": {
              "color": "#E5ECF6",
              "width": 0.5
             },
             "pattern": {
              "fillmode": "overlay",
              "size": 10,
              "solidity": 0.2
             }
            },
            "type": "bar"
           }
          ],
          "barpolar": [
           {
            "marker": {
             "line": {
              "color": "#E5ECF6",
              "width": 0.5
             },
             "pattern": {
              "fillmode": "overlay",
              "size": 10,
              "solidity": 0.2
             }
            },
            "type": "barpolar"
           }
          ],
          "carpet": [
           {
            "aaxis": {
             "endlinecolor": "#2a3f5f",
             "gridcolor": "white",
             "linecolor": "white",
             "minorgridcolor": "white",
             "startlinecolor": "#2a3f5f"
            },
            "baxis": {
             "endlinecolor": "#2a3f5f",
             "gridcolor": "white",
             "linecolor": "white",
             "minorgridcolor": "white",
             "startlinecolor": "#2a3f5f"
            },
            "type": "carpet"
           }
          ],
          "choropleth": [
           {
            "colorbar": {
             "outlinewidth": 0,
             "ticks": ""
            },
            "type": "choropleth"
           }
          ],
          "contour": [
           {
            "colorbar": {
             "outlinewidth": 0,
             "ticks": ""
            },
            "colorscale": [
             [
              0,
              "#0d0887"
             ],
             [
              0.1111111111111111,
              "#46039f"
             ],
             [
              0.2222222222222222,
              "#7201a8"
             ],
             [
              0.3333333333333333,
              "#9c179e"
             ],
             [
              0.4444444444444444,
              "#bd3786"
             ],
             [
              0.5555555555555556,
              "#d8576b"
             ],
             [
              0.6666666666666666,
              "#ed7953"
             ],
             [
              0.7777777777777778,
              "#fb9f3a"
             ],
             [
              0.8888888888888888,
              "#fdca26"
             ],
             [
              1,
              "#f0f921"
             ]
            ],
            "type": "contour"
           }
          ],
          "contourcarpet": [
           {
            "colorbar": {
             "outlinewidth": 0,
             "ticks": ""
            },
            "type": "contourcarpet"
           }
          ],
          "heatmap": [
           {
            "colorbar": {
             "outlinewidth": 0,
             "ticks": ""
            },
            "colorscale": [
             [
              0,
              "#0d0887"
             ],
             [
              0.1111111111111111,
              "#46039f"
             ],
             [
              0.2222222222222222,
              "#7201a8"
             ],
             [
              0.3333333333333333,
              "#9c179e"
             ],
             [
              0.4444444444444444,
              "#bd3786"
             ],
             [
              0.5555555555555556,
              "#d8576b"
             ],
             [
              0.6666666666666666,
              "#ed7953"
             ],
             [
              0.7777777777777778,
              "#fb9f3a"
             ],
             [
              0.8888888888888888,
              "#fdca26"
             ],
             [
              1,
              "#f0f921"
             ]
            ],
            "type": "heatmap"
           }
          ],
          "heatmapgl": [
           {
            "colorbar": {
             "outlinewidth": 0,
             "ticks": ""
            },
            "colorscale": [
             [
              0,
              "#0d0887"
             ],
             [
              0.1111111111111111,
              "#46039f"
             ],
             [
              0.2222222222222222,
              "#7201a8"
             ],
             [
              0.3333333333333333,
              "#9c179e"
             ],
             [
              0.4444444444444444,
              "#bd3786"
             ],
             [
              0.5555555555555556,
              "#d8576b"
             ],
             [
              0.6666666666666666,
              "#ed7953"
             ],
             [
              0.7777777777777778,
              "#fb9f3a"
             ],
             [
              0.8888888888888888,
              "#fdca26"
             ],
             [
              1,
              "#f0f921"
             ]
            ],
            "type": "heatmapgl"
           }
          ],
          "histogram": [
           {
            "marker": {
             "pattern": {
              "fillmode": "overlay",
              "size": 10,
              "solidity": 0.2
             }
            },
            "type": "histogram"
           }
          ],
          "histogram2d": [
           {
            "colorbar": {
             "outlinewidth": 0,
             "ticks": ""
            },
            "colorscale": [
             [
              0,
              "#0d0887"
             ],
             [
              0.1111111111111111,
              "#46039f"
             ],
             [
              0.2222222222222222,
              "#7201a8"
             ],
             [
              0.3333333333333333,
              "#9c179e"
             ],
             [
              0.4444444444444444,
              "#bd3786"
             ],
             [
              0.5555555555555556,
              "#d8576b"
             ],
             [
              0.6666666666666666,
              "#ed7953"
             ],
             [
              0.7777777777777778,
              "#fb9f3a"
             ],
             [
              0.8888888888888888,
              "#fdca26"
             ],
             [
              1,
              "#f0f921"
             ]
            ],
            "type": "histogram2d"
           }
          ],
          "histogram2dcontour": [
           {
            "colorbar": {
             "outlinewidth": 0,
             "ticks": ""
            },
            "colorscale": [
             [
              0,
              "#0d0887"
             ],
             [
              0.1111111111111111,
              "#46039f"
             ],
             [
              0.2222222222222222,
              "#7201a8"
             ],
             [
              0.3333333333333333,
              "#9c179e"
             ],
             [
              0.4444444444444444,
              "#bd3786"
             ],
             [
              0.5555555555555556,
              "#d8576b"
             ],
             [
              0.6666666666666666,
              "#ed7953"
             ],
             [
              0.7777777777777778,
              "#fb9f3a"
             ],
             [
              0.8888888888888888,
              "#fdca26"
             ],
             [
              1,
              "#f0f921"
             ]
            ],
            "type": "histogram2dcontour"
           }
          ],
          "mesh3d": [
           {
            "colorbar": {
             "outlinewidth": 0,
             "ticks": ""
            },
            "type": "mesh3d"
           }
          ],
          "parcoords": [
           {
            "line": {
             "colorbar": {
              "outlinewidth": 0,
              "ticks": ""
             }
            },
            "type": "parcoords"
           }
          ],
          "pie": [
           {
            "automargin": true,
            "type": "pie"
           }
          ],
          "scatter": [
           {
            "fillpattern": {
             "fillmode": "overlay",
             "size": 10,
             "solidity": 0.2
            },
            "type": "scatter"
           }
          ],
          "scatter3d": [
           {
            "line": {
             "colorbar": {
              "outlinewidth": 0,
              "ticks": ""
             }
            },
            "marker": {
             "colorbar": {
              "outlinewidth": 0,
              "ticks": ""
             }
            },
            "type": "scatter3d"
           }
          ],
          "scattercarpet": [
           {
            "marker": {
             "colorbar": {
              "outlinewidth": 0,
              "ticks": ""
             }
            },
            "type": "scattercarpet"
           }
          ],
          "scattergeo": [
           {
            "marker": {
             "colorbar": {
              "outlinewidth": 0,
              "ticks": ""
             }
            },
            "type": "scattergeo"
           }
          ],
          "scattergl": [
           {
            "marker": {
             "colorbar": {
              "outlinewidth": 0,
              "ticks": ""
             }
            },
            "type": "scattergl"
           }
          ],
          "scattermapbox": [
           {
            "marker": {
             "colorbar": {
              "outlinewidth": 0,
              "ticks": ""
             }
            },
            "type": "scattermapbox"
           }
          ],
          "scatterpolar": [
           {
            "marker": {
             "colorbar": {
              "outlinewidth": 0,
              "ticks": ""
             }
            },
            "type": "scatterpolar"
           }
          ],
          "scatterpolargl": [
           {
            "marker": {
             "colorbar": {
              "outlinewidth": 0,
              "ticks": ""
             }
            },
            "type": "scatterpolargl"
           }
          ],
          "scatterternary": [
           {
            "marker": {
             "colorbar": {
              "outlinewidth": 0,
              "ticks": ""
             }
            },
            "type": "scatterternary"
           }
          ],
          "surface": [
           {
            "colorbar": {
             "outlinewidth": 0,
             "ticks": ""
            },
            "colorscale": [
             [
              0,
              "#0d0887"
             ],
             [
              0.1111111111111111,
              "#46039f"
             ],
             [
              0.2222222222222222,
              "#7201a8"
             ],
             [
              0.3333333333333333,
              "#9c179e"
             ],
             [
              0.4444444444444444,
              "#bd3786"
             ],
             [
              0.5555555555555556,
              "#d8576b"
             ],
             [
              0.6666666666666666,
              "#ed7953"
             ],
             [
              0.7777777777777778,
              "#fb9f3a"
             ],
             [
              0.8888888888888888,
              "#fdca26"
             ],
             [
              1,
              "#f0f921"
             ]
            ],
            "type": "surface"
           }
          ],
          "table": [
           {
            "cells": {
             "fill": {
              "color": "#EBF0F8"
             },
             "line": {
              "color": "white"
             }
            },
            "header": {
             "fill": {
              "color": "#C8D4E3"
             },
             "line": {
              "color": "white"
             }
            },
            "type": "table"
           }
          ]
         },
         "layout": {
          "annotationdefaults": {
           "arrowcolor": "#2a3f5f",
           "arrowhead": 0,
           "arrowwidth": 1
          },
          "autotypenumbers": "strict",
          "coloraxis": {
           "colorbar": {
            "outlinewidth": 0,
            "ticks": ""
           }
          },
          "colorscale": {
           "diverging": [
            [
             0,
             "#8e0152"
            ],
            [
             0.1,
             "#c51b7d"
            ],
            [
             0.2,
             "#de77ae"
            ],
            [
             0.3,
             "#f1b6da"
            ],
            [
             0.4,
             "#fde0ef"
            ],
            [
             0.5,
             "#f7f7f7"
            ],
            [
             0.6,
             "#e6f5d0"
            ],
            [
             0.7,
             "#b8e186"
            ],
            [
             0.8,
             "#7fbc41"
            ],
            [
             0.9,
             "#4d9221"
            ],
            [
             1,
             "#276419"
            ]
           ],
           "sequential": [
            [
             0,
             "#0d0887"
            ],
            [
             0.1111111111111111,
             "#46039f"
            ],
            [
             0.2222222222222222,
             "#7201a8"
            ],
            [
             0.3333333333333333,
             "#9c179e"
            ],
            [
             0.4444444444444444,
             "#bd3786"
            ],
            [
             0.5555555555555556,
             "#d8576b"
            ],
            [
             0.6666666666666666,
             "#ed7953"
            ],
            [
             0.7777777777777778,
             "#fb9f3a"
            ],
            [
             0.8888888888888888,
             "#fdca26"
            ],
            [
             1,
             "#f0f921"
            ]
           ],
           "sequentialminus": [
            [
             0,
             "#0d0887"
            ],
            [
             0.1111111111111111,
             "#46039f"
            ],
            [
             0.2222222222222222,
             "#7201a8"
            ],
            [
             0.3333333333333333,
             "#9c179e"
            ],
            [
             0.4444444444444444,
             "#bd3786"
            ],
            [
             0.5555555555555556,
             "#d8576b"
            ],
            [
             0.6666666666666666,
             "#ed7953"
            ],
            [
             0.7777777777777778,
             "#fb9f3a"
            ],
            [
             0.8888888888888888,
             "#fdca26"
            ],
            [
             1,
             "#f0f921"
            ]
           ]
          },
          "colorway": [
           "#636efa",
           "#EF553B",
           "#00cc96",
           "#ab63fa",
           "#FFA15A",
           "#19d3f3",
           "#FF6692",
           "#B6E880",
           "#FF97FF",
           "#FECB52"
          ],
          "font": {
           "color": "#2a3f5f"
          },
          "geo": {
           "bgcolor": "white",
           "lakecolor": "white",
           "landcolor": "#E5ECF6",
           "showlakes": true,
           "showland": true,
           "subunitcolor": "white"
          },
          "hoverlabel": {
           "align": "left"
          },
          "hovermode": "closest",
          "mapbox": {
           "style": "light"
          },
          "paper_bgcolor": "white",
          "plot_bgcolor": "#E5ECF6",
          "polar": {
           "angularaxis": {
            "gridcolor": "white",
            "linecolor": "white",
            "ticks": ""
           },
           "bgcolor": "#E5ECF6",
           "radialaxis": {
            "gridcolor": "white",
            "linecolor": "white",
            "ticks": ""
           }
          },
          "scene": {
           "xaxis": {
            "backgroundcolor": "#E5ECF6",
            "gridcolor": "white",
            "gridwidth": 2,
            "linecolor": "white",
            "showbackground": true,
            "ticks": "",
            "zerolinecolor": "white"
           },
           "yaxis": {
            "backgroundcolor": "#E5ECF6",
            "gridcolor": "white",
            "gridwidth": 2,
            "linecolor": "white",
            "showbackground": true,
            "ticks": "",
            "zerolinecolor": "white"
           },
           "zaxis": {
            "backgroundcolor": "#E5ECF6",
            "gridcolor": "white",
            "gridwidth": 2,
            "linecolor": "white",
            "showbackground": true,
            "ticks": "",
            "zerolinecolor": "white"
           }
          },
          "shapedefaults": {
           "line": {
            "color": "#2a3f5f"
           }
          },
          "ternary": {
           "aaxis": {
            "gridcolor": "white",
            "linecolor": "white",
            "ticks": ""
           },
           "baxis": {
            "gridcolor": "white",
            "linecolor": "white",
            "ticks": ""
           },
           "bgcolor": "#E5ECF6",
           "caxis": {
            "gridcolor": "white",
            "linecolor": "white",
            "ticks": ""
           }
          },
          "title": {
           "x": 0.05
          },
          "xaxis": {
           "automargin": true,
           "gridcolor": "white",
           "linecolor": "white",
           "ticks": "",
           "title": {
            "standoff": 15
           },
           "zerolinecolor": "white",
           "zerolinewidth": 2
          },
          "yaxis": {
           "automargin": true,
           "gridcolor": "white",
           "linecolor": "white",
           "ticks": "",
           "title": {
            "standoff": 15
           },
           "zerolinecolor": "white",
           "zerolinewidth": 2
          }
         }
        },
        "xaxis": {
         "anchor": "y",
         "domain": [
          0,
          1
         ],
         "title": {
          "text": "x"
         }
        },
        "yaxis": {
         "anchor": "x",
         "domain": [
          0,
          1
         ],
         "title": {
          "text": "y"
         }
        }
       }
      }
     },
     "metadata": {},
     "output_type": "display_data"
    }
   ],
   "source": [
    "analysis.tsne_scatter_plot_2()"
   ]
  }
 ],
 "metadata": {
  "kernelspec": {
   "display_name": "tensorflowgpu",
   "language": "python",
   "name": "python3"
  },
  "language_info": {
   "codemirror_mode": {
    "name": "ipython",
    "version": 3
   },
   "file_extension": ".py",
   "mimetype": "text/x-python",
   "name": "python",
   "nbconvert_exporter": "python",
   "pygments_lexer": "ipython3",
   "version": "3.10.13"
  }
 },
 "nbformat": 4,
 "nbformat_minor": 2
}
