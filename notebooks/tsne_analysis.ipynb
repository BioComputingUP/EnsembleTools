{
 "cells": [
  {
   "cell_type": "markdown",
   "metadata": {},
   "source": [
    "# TSNE Analysis"
   ]
  },
  {
   "cell_type": "code",
   "execution_count": 1,
   "metadata": {},
   "outputs": [],
   "source": [
    "import sys\n",
    "sys.path.append('C:/Users/nikol/Documents/GitHub/EnsembleTools')"
   ]
  },
  {
   "cell_type": "code",
   "execution_count": 2,
   "metadata": {},
   "outputs": [],
   "source": [
    "from dpet.ensemble_analysis import EnsembleAnalysis\n",
    "import os\n",
    "os.environ[\"LOKY_MAX_CPU_COUNT\"] = \"8\""
   ]
  },
  {
   "cell_type": "markdown",
   "metadata": {},
   "source": [
    "## Download from Atlas and Load Data"
   ]
  },
  {
   "cell_type": "code",
   "execution_count": 3,
   "metadata": {},
   "outputs": [
    {
     "name": "stdout",
     "output_type": "stream",
     "text": [
      "Downloading entry 3a1g_B from Atlas.\n",
      "Download complete. Saved to: C:\\Users\\nikol\\Documents\\test_dir\\atlas\\3a1g_B.zip\n",
      "Downloaded file 3a1g_B.zip from Atlas.\n",
      "Extracted directory C:\\Users\\nikol\\Documents\\test_dir\\atlas.\n",
      "Copied and renamed C:\\Users\\nikol\\Documents\\test_dir\\atlas\\3a1g_B.pdb to C:\\Users\\nikol\\Documents\\test_dir\\atlas\\3a1g_B_prod_R1_fit.top.pdb.\n",
      "Copied and renamed C:\\Users\\nikol\\Documents\\test_dir\\atlas\\3a1g_B.pdb to C:\\Users\\nikol\\Documents\\test_dir\\atlas\\3a1g_B_prod_R2_fit.top.pdb.\n",
      "Copied and renamed C:\\Users\\nikol\\Documents\\test_dir\\atlas\\3a1g_B.pdb to C:\\Users\\nikol\\Documents\\test_dir\\atlas\\3a1g_B_prod_R3_fit.top.pdb.\n",
      "Analysing ensembles: ['3a1g_B_prod_R1_fit', '3a1g_B_prod_R2_fit', '3a1g_B_prod_R3_fit']\n"
     ]
    }
   ],
   "source": [
    "ens_codes = [\n",
    "    \"3a1g_B\"\n",
    "]\n",
    "data_dir = 'C:/Users/nikol/Documents/test_dir/atlas'\n",
    "\n",
    "analysis = EnsembleAnalysis(ens_codes, data_dir)\n",
    "analysis.download_from_database(database='atlas')"
   ]
  },
  {
   "cell_type": "code",
   "execution_count": 4,
   "metadata": {},
   "outputs": [
    {
     "name": "stdout",
     "output_type": "stream",
     "text": [
      "Trajectory already exists for ensemble 3a1g_B_prod_R1_fit. Loading trajectory.\n",
      "Trajectory already exists for ensemble 3a1g_B_prod_R2_fit. Loading trajectory.\n",
      "Trajectory already exists for ensemble 3a1g_B_prod_R3_fit. Loading trajectory.\n"
     ]
    }
   ],
   "source": [
    "analysis.generate_trajectories()"
   ]
  },
  {
   "cell_type": "code",
   "execution_count": 5,
   "metadata": {},
   "outputs": [],
   "source": [
    "analysis.random_sample_trajectories(sample_size=200)"
   ]
  },
  {
   "cell_type": "markdown",
   "metadata": {},
   "source": [
    "## Featurization"
   ]
  },
  {
   "cell_type": "code",
   "execution_count": 6,
   "metadata": {},
   "outputs": [
    {
     "name": "stdout",
     "output_type": "stream",
     "text": [
      "Performing feature extraction for Ensemble: 3a1g_B_prod_R1_fit.\n",
      "Transformed ensemble shape: (200, 78)\n",
      "Performing feature extraction for Ensemble: 3a1g_B_prod_R2_fit.\n",
      "Transformed ensemble shape: (200, 78)\n",
      "Performing feature extraction for Ensemble: 3a1g_B_prod_R3_fit.\n",
      "Transformed ensemble shape: (200, 78)\n",
      "Feature names: ['GLY2-PHI', 'SER3-PHI', 'MET4-PHI', 'GLU5-PHI', 'ARG6-PHI', 'ILE7-PHI', 'LYS8-PHI', 'GLU9-PHI', 'LEU10-PHI', 'ARG11-PHI', 'ASN12-PHI', 'LEU13-PHI', 'MET14-PHI', 'SER15-PHI', 'GLN16-PHI', 'SER17-PHI', 'ARG18-PHI', 'THR19-PHI', 'ARG20-PHI', 'GLU21-PHI', 'ILE22-PHI', 'LEU23-PHI', 'THR24-PHI', 'LYS25-PHI', 'THR26-PHI', 'THR27-PHI', 'VAL28-PHI', 'ASP29-PHI', 'HIS30-PHI', 'MET31-PHI', 'ALA32-PHI', 'ILE33-PHI', 'ILE34-PHI', 'LYS35-PHI', 'LYS36-PHI', 'TYR37-PHI', 'THR38-PHI', 'SER39-PHI', 'GLY40-PHI', 'GLY1-PSI', 'GLY2-PSI', 'SER3-PSI', 'MET4-PSI', 'GLU5-PSI', 'ARG6-PSI', 'ILE7-PSI', 'LYS8-PSI', 'GLU9-PSI', 'LEU10-PSI', 'ARG11-PSI', 'ASN12-PSI', 'LEU13-PSI', 'MET14-PSI', 'SER15-PSI', 'GLN16-PSI', 'SER17-PSI', 'ARG18-PSI', 'THR19-PSI', 'ARG20-PSI', 'GLU21-PSI', 'ILE22-PSI', 'LEU23-PSI', 'THR24-PSI', 'LYS25-PSI', 'THR26-PSI', 'THR27-PSI', 'VAL28-PSI', 'ASP29-PSI', 'HIS30-PSI', 'MET31-PSI', 'ALA32-PSI', 'ILE33-PSI', 'ILE34-PSI', 'LYS35-PSI', 'LYS36-PSI', 'TYR37-PSI', 'THR38-PSI', 'SER39-PSI']\n",
      "Concatenated featurized ensemble shape: (600, 78)\n"
     ]
    }
   ],
   "source": [
    "analysis.perform_feature_extraction(featurization='phi_psi')"
   ]
  },
  {
   "cell_type": "code",
   "execution_count": 7,
   "metadata": {},
   "outputs": [
    {
     "data": {
      "text/plain": [
       "600"
      ]
     },
     "execution_count": 7,
     "metadata": {},
     "output_type": "execute_result"
    }
   ],
   "source": [
    "rg = analysis.rg_calculator()\n",
    "len(rg)"
   ]
  },
  {
   "cell_type": "markdown",
   "metadata": {},
   "source": [
    "## Dimensionality Reduction"
   ]
  },
  {
   "cell_type": "code",
   "execution_count": 8,
   "metadata": {},
   "outputs": [
    {
     "name": "stdout",
     "output_type": "stream",
     "text": [
      "tsne is running...\n"
     ]
    },
    {
     "name": "stderr",
     "output_type": "stream",
     "text": [
      "c:\\Users\\nikol\\anaconda3\\envs\\tensorflowgpu\\lib\\site-packages\\sklearn\\cluster\\_kmeans.py:1446: UserWarning: KMeans is known to have a memory leak on Windows with MKL, when there are less chunks than available threads. You can avoid it by setting the environment variable OMP_NUM_THREADS=3.\n",
      "  warnings.warn(\n",
      "c:\\Users\\nikol\\anaconda3\\envs\\tensorflowgpu\\lib\\site-packages\\sklearn\\cluster\\_kmeans.py:1446: UserWarning: KMeans is known to have a memory leak on Windows with MKL, when there are less chunks than available threads. You can avoid it by setting the environment variable OMP_NUM_THREADS=3.\n",
      "  warnings.warn(\n",
      "c:\\Users\\nikol\\anaconda3\\envs\\tensorflowgpu\\lib\\site-packages\\sklearn\\cluster\\_kmeans.py:1446: UserWarning: KMeans is known to have a memory leak on Windows with MKL, when there are less chunks than available threads. You can avoid it by setting the environment variable OMP_NUM_THREADS=3.\n",
      "  warnings.warn(\n",
      "c:\\Users\\nikol\\anaconda3\\envs\\tensorflowgpu\\lib\\site-packages\\sklearn\\cluster\\_kmeans.py:1446: UserWarning: KMeans is known to have a memory leak on Windows with MKL, when there are less chunks than available threads. You can avoid it by setting the environment variable OMP_NUM_THREADS=3.\n",
      "  warnings.warn(\n",
      "c:\\Users\\nikol\\anaconda3\\envs\\tensorflowgpu\\lib\\site-packages\\sklearn\\cluster\\_kmeans.py:1446: UserWarning: KMeans is known to have a memory leak on Windows with MKL, when there are less chunks than available threads. You can avoid it by setting the environment variable OMP_NUM_THREADS=3.\n",
      "  warnings.warn(\n",
      "c:\\Users\\nikol\\anaconda3\\envs\\tensorflowgpu\\lib\\site-packages\\sklearn\\cluster\\_kmeans.py:1446: UserWarning: KMeans is known to have a memory leak on Windows with MKL, when there are less chunks than available threads. You can avoid it by setting the environment variable OMP_NUM_THREADS=3.\n",
      "  warnings.warn(\n",
      "c:\\Users\\nikol\\anaconda3\\envs\\tensorflowgpu\\lib\\site-packages\\sklearn\\cluster\\_kmeans.py:1446: UserWarning: KMeans is known to have a memory leak on Windows with MKL, when there are less chunks than available threads. You can avoid it by setting the environment variable OMP_NUM_THREADS=3.\n",
      "  warnings.warn(\n",
      "c:\\Users\\nikol\\anaconda3\\envs\\tensorflowgpu\\lib\\site-packages\\sklearn\\cluster\\_kmeans.py:1446: UserWarning: KMeans is known to have a memory leak on Windows with MKL, when there are less chunks than available threads. You can avoid it by setting the environment variable OMP_NUM_THREADS=3.\n",
      "  warnings.warn(\n",
      "c:\\Users\\nikol\\anaconda3\\envs\\tensorflowgpu\\lib\\site-packages\\sklearn\\cluster\\_kmeans.py:1446: UserWarning: KMeans is known to have a memory leak on Windows with MKL, when there are less chunks than available threads. You can avoid it by setting the environment variable OMP_NUM_THREADS=3.\n",
      "  warnings.warn(\n",
      "c:\\Users\\nikol\\anaconda3\\envs\\tensorflowgpu\\lib\\site-packages\\sklearn\\cluster\\_kmeans.py:1446: UserWarning: KMeans is known to have a memory leak on Windows with MKL, when there are less chunks than available threads. You can avoid it by setting the environment variable OMP_NUM_THREADS=3.\n",
      "  warnings.warn(\n",
      "c:\\Users\\nikol\\anaconda3\\envs\\tensorflowgpu\\lib\\site-packages\\sklearn\\cluster\\_kmeans.py:1446: UserWarning: KMeans is known to have a memory leak on Windows with MKL, when there are less chunks than available threads. You can avoid it by setting the environment variable OMP_NUM_THREADS=3.\n",
      "  warnings.warn(\n",
      "c:\\Users\\nikol\\anaconda3\\envs\\tensorflowgpu\\lib\\site-packages\\sklearn\\cluster\\_kmeans.py:1446: UserWarning: KMeans is known to have a memory leak on Windows with MKL, when there are less chunks than available threads. You can avoid it by setting the environment variable OMP_NUM_THREADS=3.\n",
      "  warnings.warn(\n",
      "c:\\Users\\nikol\\anaconda3\\envs\\tensorflowgpu\\lib\\site-packages\\sklearn\\cluster\\_kmeans.py:1446: UserWarning: KMeans is known to have a memory leak on Windows with MKL, when there are less chunks than available threads. You can avoid it by setting the environment variable OMP_NUM_THREADS=3.\n",
      "  warnings.warn(\n",
      "c:\\Users\\nikol\\anaconda3\\envs\\tensorflowgpu\\lib\\site-packages\\sklearn\\cluster\\_kmeans.py:1446: UserWarning: KMeans is known to have a memory leak on Windows with MKL, when there are less chunks than available threads. You can avoid it by setting the environment variable OMP_NUM_THREADS=3.\n",
      "  warnings.warn(\n",
      "c:\\Users\\nikol\\anaconda3\\envs\\tensorflowgpu\\lib\\site-packages\\sklearn\\cluster\\_kmeans.py:1446: UserWarning: KMeans is known to have a memory leak on Windows with MKL, when there are less chunks than available threads. You can avoid it by setting the environment variable OMP_NUM_THREADS=3.\n",
      "  warnings.warn(\n",
      "c:\\Users\\nikol\\anaconda3\\envs\\tensorflowgpu\\lib\\site-packages\\sklearn\\cluster\\_kmeans.py:1446: UserWarning: KMeans is known to have a memory leak on Windows with MKL, when there are less chunks than available threads. You can avoid it by setting the environment variable OMP_NUM_THREADS=3.\n",
      "  warnings.warn(\n"
     ]
    },
    {
     "name": "stdout",
     "output_type": "stream",
     "text": [
      "Best Perplexity: 50\n",
      "Best Number of Clusters: 3\n"
     ]
    },
    {
     "name": "stderr",
     "output_type": "stream",
     "text": [
      "c:\\Users\\nikol\\anaconda3\\envs\\tensorflowgpu\\lib\\site-packages\\sklearn\\cluster\\_kmeans.py:1446: UserWarning: KMeans is known to have a memory leak on Windows with MKL, when there are less chunks than available threads. You can avoid it by setting the environment variable OMP_NUM_THREADS=3.\n",
      "  warnings.warn(\n",
      "c:\\Users\\nikol\\anaconda3\\envs\\tensorflowgpu\\lib\\site-packages\\sklearn\\cluster\\_kmeans.py:1446: UserWarning: KMeans is known to have a memory leak on Windows with MKL, when there are less chunks than available threads. You can avoid it by setting the environment variable OMP_NUM_THREADS=3.\n",
      "  warnings.warn(\n",
      "c:\\Users\\nikol\\anaconda3\\envs\\tensorflowgpu\\lib\\site-packages\\sklearn\\cluster\\_kmeans.py:1446: UserWarning: KMeans is known to have a memory leak on Windows with MKL, when there are less chunks than available threads. You can avoid it by setting the environment variable OMP_NUM_THREADS=3.\n",
      "  warnings.warn(\n",
      "c:\\Users\\nikol\\anaconda3\\envs\\tensorflowgpu\\lib\\site-packages\\sklearn\\cluster\\_kmeans.py:1446: UserWarning: KMeans is known to have a memory leak on Windows with MKL, when there are less chunks than available threads. You can avoid it by setting the environment variable OMP_NUM_THREADS=3.\n",
      "  warnings.warn(\n",
      "c:\\Users\\nikol\\anaconda3\\envs\\tensorflowgpu\\lib\\site-packages\\sklearn\\cluster\\_kmeans.py:1446: UserWarning: KMeans is known to have a memory leak on Windows with MKL, when there are less chunks than available threads. You can avoid it by setting the environment variable OMP_NUM_THREADS=3.\n",
      "  warnings.warn(\n",
      "c:\\Users\\nikol\\anaconda3\\envs\\tensorflowgpu\\lib\\site-packages\\sklearn\\cluster\\_kmeans.py:1446: UserWarning: KMeans is known to have a memory leak on Windows with MKL, when there are less chunks than available threads. You can avoid it by setting the environment variable OMP_NUM_THREADS=3.\n",
      "  warnings.warn(\n",
      "c:\\Users\\nikol\\anaconda3\\envs\\tensorflowgpu\\lib\\site-packages\\sklearn\\cluster\\_kmeans.py:1446: UserWarning: KMeans is known to have a memory leak on Windows with MKL, when there are less chunks than available threads. You can avoid it by setting the environment variable OMP_NUM_THREADS=3.\n",
      "  warnings.warn(\n",
      "c:\\Users\\nikol\\anaconda3\\envs\\tensorflowgpu\\lib\\site-packages\\sklearn\\cluster\\_kmeans.py:1446: UserWarning: KMeans is known to have a memory leak on Windows with MKL, when there are less chunks than available threads. You can avoid it by setting the environment variable OMP_NUM_THREADS=3.\n",
      "  warnings.warn(\n"
     ]
    }
   ],
   "source": [
    "analysis.fit_dimensionality_reduction(method='tsne', perplexity_vals = [10, 50, 90], circular=True, range_n_clusters=range(2,10,1))"
   ]
  },
  {
   "cell_type": "markdown",
   "metadata": {},
   "source": [
    "## Analysis"
   ]
  },
  {
   "cell_type": "code",
   "execution_count": 9,
   "metadata": {},
   "outputs": [
    {
     "name": "stdout",
     "output_type": "stream",
     "text": [
      "[  3   7  10  13  14  17  38  46  49  58  63  66  67  74  77  86  90  96\n",
      " 104 105 107 111 117 119 124 125 126 127 128 142 147 151 153 156 159 162\n",
      " 163 168 174 179 182 184 196 200 201 202 203 204 205 206 207 208 209 210\n",
      " 211 212 213 214 215 216 217 218 219 220 221 222 223 224 225 226 227 228\n",
      " 229 230 231 232 233 234 235 236 237 238 239 240 241 242 243 244 245 246\n",
      " 247 248 249 250 251 252 253 254 255 256 257 258 259 260 261 262 263 264\n",
      " 265 266 267 268 269 270 271 272 273 274 275 276 277 278 279 280 281 282\n",
      " 283 284 285 286 287 288 289 290 291 292 293 294 295 296 297 298 299 300\n",
      " 301 302 303 304 305 306 307 308 309 310 311 312 313 314 315 316 317 318\n",
      " 319 320 321 322 323 324 325 326 327 328 329 330 331 332 333 334 335 336\n",
      " 337 338 339 340 341 342 343 344 345 346 347 348 349 350 351 352 353 354\n",
      " 355 356 357 358 359 360 361 362 363 364 365 366 367 368 369 370 371 372\n",
      " 373 374 375 376 377 378 379 380 381 382 383 384 385 386 387 388 389 390\n",
      " 391 392 393 394 395 396 397 398 399 410 417 422 427 430 441 448 453 456\n",
      " 465 466 468 472 489 496 498 499 500 501 508 510 512 514 515 517 518 523\n",
      " 528 535 536 537 539 542 543 548 549 550 551 562 582 585 588 593 597] 0\n",
      "[  0   1   2   4   5   6   8   9  11  12  15  16  18  19  20  21  22  23\n",
      "  24  25  26  27  28  29  30  31  32  33  34  35  36  37  39  40  41  42\n",
      "  43  44  45  47  48  50  51  52  53  54  55  56  57  59  60  61  62  64\n",
      "  65  68  69  70  71  72  73  75  76  78  79  80  81  82  83  84  85  87\n",
      "  88  89  91  92  93  94  95  97  98  99 100 101 102 103 106 108 109 110\n",
      " 112 113 114 115 116 118 120 121 122 123 129 130 131 132 133 134 135 136\n",
      " 137 138 139 140 141 143 144 145 146 148 149 150 152 154 155 157 158 160\n",
      " 161 164 165 166 167 169 170 171 172 173 175 176 177 178 180 181 183 185\n",
      " 186 187 188 189 190 191 192 193 194 195 197 198 199 416 486 570] 1\n"
     ]
    },
    {
     "data": {
      "image/png": "[encoded data removed]",
      "text/plain": [
       "<Figure size 1000x500 with 2 Axes>"
      ]
     },
     "metadata": {},
     "output_type": "display_data"
    }
   ],
   "source": [
    "analysis.tsne_ramachandran_plot()"
   ]
  },
  {
   "cell_type": "code",
   "execution_count": 10,
   "metadata": {},
   "outputs": [
    {
     "name": "stdout",
     "output_type": "stream",
     "text": [
      "[  3   7  10  13  14  17  38  46  49  58  63  66  67  74  77  86  90  96\n",
      " 104 105 107 111 117 119 124 125 126 127 128 142 147 151 153 156 159 162\n",
      " 163 168 174 179 182 184 196 200 201 202 203 204 205 206 207 208 209 210\n",
      " 211 212 213 214 215 216 217 218 219 220 221 222 223 224 225 226 227 228\n",
      " 229 230 231 232 233 234 235 236 237 238 239 240 241 242 243 244 245 246\n",
      " 247 248 249 250 251 252 253 254 255 256 257 258 259 260 261 262 263 264\n",
      " 265 266 267 268 269 270 271 272 273 274 275 276 277 278 279 280 281 282\n",
      " 283 284 285 286 287 288 289 290 291 292 293 294 295 296 297 298 299 300\n",
      " 301 302 303 304 305 306 307 308 309 310 311 312 313 314 315 316 317 318\n",
      " 319 320 321 322 323 324 325 326 327 328 329 330 331 332 333 334 335 336\n",
      " 337 338 339 340 341 342 343 344 345 346 347 348 349 350 351 352 353 354\n",
      " 355 356 357 358 359 360 361 362 363 364 365 366 367 368 369 370 371 372\n",
      " 373 374 375 376 377 378 379 380 381 382 383 384 385 386 387 388 389 390\n",
      " 391 392 393 394 395 396 397 398 399 410 417 422 427 430 441 448 453 456\n",
      " 465 466 468 472 489 496 498 499 500 501 508 510 512 514 515 517 518 523\n",
      " 528 535 536 537 539 542 543 548 549 550 551 562 582 585 588 593 597]\n",
      "[  0   1   2   4   5   6   8   9  11  12  15  16  18  19  20  21  22  23\n",
      "  24  25  26  27  28  29  30  31  32  33  34  35  36  37  39  40  41  42\n",
      "  43  44  45  47  48  50  51  52  53  54  55  56  57  59  60  61  62  64\n",
      "  65  68  69  70  71  72  73  75  76  78  79  80  81  82  83  84  85  87\n",
      "  88  89  91  92  93  94  95  97  98  99 100 101 102 103 106 108 109 110\n",
      " 112 113 114 115 116 118 120 121 122 123 129 130 131 132 133 134 135 136\n",
      " 137 138 139 140 141 143 144 145 146 148 149 150 152 154 155 157 158 160\n",
      " 161 164 165 166 167 169 170 171 172 173 175 176 177 178 180 181 183 185\n",
      " 186 187 188 189 190 191 192 193 194 195 197 198 199 416 486 570]\n"
     ]
    },
    {
     "data": {
      "image/png": "[encoded data removed]",
      "text/plain": [
       "<Figure size 1000x500 with 4 Axes>"
      ]
     },
     "metadata": {},
     "output_type": "display_data"
    }
   ],
   "source": [
    "analysis.tsne_ramachandran_plot_density()"
   ]
  },
  {
   "cell_type": "code",
   "execution_count": 11,
   "metadata": {},
   "outputs": [
    {
     "data": {
      "image/png": "[encoded data removed]",
      "text/plain": [
       "<Figure size 1400x400 with 5 Axes>"
      ]
     },
     "metadata": {},
     "output_type": "display_data"
    }
   ],
   "source": [
    "analysis.tsne_scatter_plot()"
   ]
  },
  {
   "cell_type": "code",
   "execution_count": 12,
   "metadata": {},
   "outputs": [
    {
     "data": {
      "application/vnd.plotly.v1+json": {
       "config": {
        "plotlyServerURL": "https://plot.ly"
       },
       "data": [
        {
         "customdata": [
          [
           0
          ],
          [
           1
          ],
          [
           2
          ],
          [
           3
          ],
          [
           4
          ],
          [
           5
          ],
          [
           6
          ],
          [
           7
          ],
          [
           8
          ],
          [
           9
          ],
          [
           10
          ],
          [
           11
          ],
          [
           12
          ],
          [
           13
          ],
          [
           14
          ],
          [
           15
          ],
          [
           16
          ],
          [
           17
          ],
          [
           18
          ],
          [
           19
          ],
          [
           20
          ],
          [
           21
          ],
          [
           22
          ],
          [
           23
          ],
          [
           24
          ],
          [
           25
          ],
          [
           26
          ],
          [
           27
          ],
          [
           28
          ],
          [
           29
          ],
          [
           30
          ],
          [
           31
          ],
          [
           32
          ],
          [
           33
          ],
          [
           34
          ],
          [
           35
          ],
          [
           36
          ],
          [
           37
          ],
          [
           38
          ],
          [
           39
          ],
          [
           40
          ],
          [
           41
          ],
          [
           42
          ],
          [
           43
          ],
          [
           44
          ],
          [
           45
          ],
          [
           46
          ],
          [
           47
          ],
          [
           48
          ],
          [
           49
          ],
          [
           50
          ],
          [
           51
          ],
          [
           52
          ],
          [
           53
          ],
          [
           54
          ],
          [
           55
          ],
          [
           56
          ],
          [
           57
          ],
          [
           58
          ],
          [
           59
          ],
          [
           60
          ],
          [
           61
          ],
          [
           62
          ],
          [
           63
          ],
          [
           64
          ],
          [
           65
          ],
          [
           66
          ],
          [
           67
          ],
          [
           68
          ],
          [
           69
          ],
          [
           70
          ],
          [
           71
          ],
          [
           72
          ],
          [
           73
          ],
          [
           74
          ],
          [
           75
          ],
          [
           76
          ],
          [
           77
          ],
          [
           78
          ],
          [
           79
          ],
          [
           80
          ],
          [
           81
          ],
          [
           82
          ],
          [
           83
          ],
          [
           84
          ],
          [
           85
          ],
          [
           86
          ],
          [
           87
          ],
          [
           88
          ],
          [
           89
          ],
          [
           90
          ],
          [
           91
          ],
          [
           92
          ],
          [
           93
          ],
          [
           94
          ],
          [
           95
          ],
          [
           96
          ],
          [
           97
          ],
          [
           98
          ],
          [
           99
          ],
          [
           100
          ],
          [
           101
          ],
          [
           102
          ],
          [
           103
          ],
          [
           104
          ],
          [
           105
          ],
          [
           106
          ],
          [
           107
          ],
          [
           108
          ],
          [
           109
          ],
          [
           110
          ],
          [
           111
          ],
          [
           112
          ],
          [
           113
          ],
          [
           114
          ],
          [
           115
          ],
          [
           116
          ],
          [
           117
          ],
          [
           118
          ],
          [
           119
          ],
          [
           120
          ],
          [
           121
          ],
          [
           122
          ],
          [
           123
          ],
          [
           124
          ],
          [
           125
          ],
          [
           126
          ],
          [
           127
          ],
          [
           128
          ],
          [
           129
          ],
          [
           130
          ],
          [
           131
          ],
          [
           132
          ],
          [
           133
          ],
          [
           134
          ],
          [
           135
          ],
          [
           136
          ],
          [
           137
          ],
          [
           138
          ],
          [
           139
          ],
          [
           140
          ],
          [
           141
          ],
          [
           142
          ],
          [
           143
          ],
          [
           144
          ],
          [
           145
          ],
          [
           146
          ],
          [
           147
          ],
          [
           148
          ],
          [
           149
          ],
          [
           150
          ],
          [
           151
          ],
          [
           152
          ],
          [
           153
          ],
          [
           154
          ],
          [
           155
          ],
          [
           156
          ],
          [
           157
          ],
          [
           158
          ],
          [
           159
          ],
          [
           160
          ],
          [
           161
          ],
          [
           162
          ],
          [
           163
          ],
          [
           164
          ],
          [
           165
          ],
          [
           166
          ],
          [
           167
          ],
          [
           168
          ],
          [
           169
          ],
          [
           170
          ],
          [
           171
          ],
          [
           172
          ],
          [
           173
          ],
          [
           174
          ],
          [
           175
          ],
          [
           176
          ],
          [
           177
          ],
          [
           178
          ],
          [
           179
          ],
          [
           180
          ],
          [
           181
          ],
          [
           182
          ],
          [
           183
          ],
          [
           184
          ],
          [
           185
          ],
          [
           186
          ],
          [
           187
          ],
          [
           188
          ],
          [
           189
          ],
          [
           190
          ],
          [
           191
          ],
          [
           192
          ],
          [
           193
          ],
          [
           194
          ],
          [
           195
          ],
          [
           196
          ],
          [
           197
          ],
          [
           198
          ],
          [
           199
          ],
          [
           200
          ],
          [
           201
          ],
          [
           202
          ],
          [
           203
          ],
          [
           204
          ],
          [
           205
          ],
          [
           206
          ],
          [
           207
          ],
          [
           208
          ],
          [
           209
          ],
          [
           210
          ],
          [
           211
          ],
          [
           212
          ],
          [
           213
          ],
          [
           214
          ],
          [
           215
          ],
          [
           216
          ],
          [
           217
          ],
          [
           218
          ],
          [
           219
          ],
          [
           220
          ],
          [
           221
          ],
          [
           222
          ],
          [
           223
          ],
          [
           224
          ],
          [
           225
          ],
          [
           226
          ],
          [
           227
          ],
          [
           228
          ],
          [
           229
          ],
          [
           230
          ],
          [
           231
          ],
          [
           232
          ],
          [
           233
          ],
          [
           234
          ],
          [
           235
          ],
          [
           236
          ],
          [
           237
          ],
          [
           238
          ],
          [
           239
          ],
          [
           240
          ],
          [
           241
          ],
          [
           242
          ],
          [
           243
          ],
          [
           244
          ],
          [
           245
          ],
          [
           246
          ],
          [
           247
          ],
          [
           248
          ],
          [
           249
          ],
          [
           250
          ],
          [
           251
          ],
          [
           252
          ],
          [
           253
          ],
          [
           254
          ],
          [
           255
          ],
          [
           256
          ],
          [
           257
          ],
          [
           258
          ],
          [
           259
          ],
          [
           260
          ],
          [
           261
          ],
          [
           262
          ],
          [
           263
          ],
          [
           264
          ],
          [
           265
          ],
          [
           266
          ],
          [
           267
          ],
          [
           268
          ],
          [
           269
          ],
          [
           270
          ],
          [
           271
          ],
          [
           272
          ],
          [
           273
          ],
          [
           274
          ],
          [
           275
          ],
          [
           276
          ],
          [
           277
          ],
          [
           278
          ],
          [
           279
          ],
          [
           280
          ],
          [
           281
          ],
          [
           282
          ],
          [
           283
          ],
          [
           284
          ],
          [
           285
          ],
          [
           286
          ],
          [
           287
          ],
          [
           288
          ],
          [
           289
          ],
          [
           290
          ],
          [
           291
          ],
          [
           292
          ],
          [
           293
          ],
          [
           294
          ],
          [
           295
          ],
          [
           296
          ],
          [
           297
          ],
          [
           298
          ],
          [
           299
          ],
          [
           300
          ],
          [
           301
          ],
          [
           302
          ],
          [
           303
          ],
          [
           304
          ],
          [
           305
          ],
          [
           306
          ],
          [
           307
          ],
          [
           308
          ],
          [
           309
          ],
          [
           310
          ],
          [
           311
          ],
          [
           312
          ],
          [
           313
          ],
          [
           314
          ],
          [
           315
          ],
          [
           316
          ],
          [
           317
          ],
          [
           318
          ],
          [
           319
          ],
          [
           320
          ],
          [
           321
          ],
          [
           322
          ],
          [
           323
          ],
          [
           324
          ],
          [
           325
          ],
          [
           326
          ],
          [
           327
          ],
          [
           328
          ],
          [
           329
          ],
          [
           330
          ],
          [
           331
          ],
          [
           332
          ],
          [
           333
          ],
          [
           334
          ],
          [
           335
          ],
          [
           336
          ],
          [
           337
          ],
          [
           338
          ],
          [
           339
          ],
          [
           340
          ],
          [
           341
          ],
          [
           342
          ],
          [
           343
          ],
          [
           344
          ],
          [
           345
          ],
          [
           346
          ],
          [
           347
          ],
          [
           348
          ],
          [
           349
          ],
          [
           350
          ],
          [
           351
          ],
          [
           352
          ],
          [
           353
          ],
          [
           354
          ],
          [
           355
          ],
          [
           356
          ],
          [
           357
          ],
          [
           358
          ],
          [
           359
          ],
          [
           360
          ],
          [
           361
          ],
          [
           362
          ],
          [
           363
          ],
          [
           364
          ],
          [
           365
          ],
          [
           366
          ],
          [
           367
          ],
          [
           368
          ],
          [
           369
          ],
          [
           370
          ],
          [
           371
          ],
          [
           372
          ],
          [
           373
          ],
          [
           374
          ],
          [
           375
          ],
          [
           376
          ],
          [
           377
          ],
          [
           378
          ],
          [
           379
          ],
          [
           380
          ],
          [
           381
          ],
          [
           382
          ],
          [
           383
          ],
          [
           384
          ],
          [
           385
          ],
          [
           386
          ],
          [
           387
          ],
          [
           388
          ],
          [
           389
          ],
          [
           390
          ],
          [
           391
          ],
          [
           392
          ],
          [
           393
          ],
          [
           394
          ],
          [
           395
          ],
          [
           396
          ],
          [
           397
          ],
          [
           398
          ],
          [
           399
          ],
          [
           400
          ],
          [
           401
          ],
          [
           402
          ],
          [
           403
          ],
          [
           404
          ],
          [
           405
          ],
          [
           406
          ],
          [
           407
          ],
          [
           408
          ],
          [
           409
          ],
          [
           410
          ],
          [
           411
          ],
          [
           412
          ],
          [
           413
          ],
          [
           414
          ],
          [
           415
          ],
          [
           416
          ],
          [
           417
          ],
          [
           418
          ],
          [
           419
          ],
          [
           420
          ],
          [
           421
          ],
          [
           422
          ],
          [
           423
          ],
          [
           424
          ],
          [
           425
          ],
          [
           426
          ],
          [
           427
          ],
          [
           428
          ],
          [
           429
          ],
          [
           430
          ],
          [
           431
          ],
          [
           432
          ],
          [
           433
          ],
          [
           434
          ],
          [
           435
          ],
          [
           436
          ],
          [
           437
          ],
          [
           438
          ],
          [
           439
          ],
          [
           440
          ],
          [
           441
          ],
          [
           442
          ],
          [
           443
          ],
          [
           444
          ],
          [
           445
          ],
          [
           446
          ],
          [
           447
          ],
          [
           448
          ],
          [
           449
          ],
          [
           450
          ],
          [
           451
          ],
          [
           452
          ],
          [
           453
          ],
          [
           454
          ],
          [
           455
          ],
          [
           456
          ],
          [
           457
          ],
          [
           458
          ],
          [
           459
          ],
          [
           460
          ],
          [
           461
          ],
          [
           462
          ],
          [
           463
          ],
          [
           464
          ],
          [
           465
          ],
          [
           466
          ],
          [
           467
          ],
          [
           468
          ],
          [
           469
          ],
          [
           470
          ],
          [
           471
          ],
          [
           472
          ],
          [
           473
          ],
          [
           474
          ],
          [
           475
          ],
          [
           476
          ],
          [
           477
          ],
          [
           478
          ],
          [
           479
          ],
          [
           480
          ],
          [
           481
          ],
          [
           482
          ],
          [
           483
          ],
          [
           484
          ],
          [
           485
          ],
          [
           486
          ],
          [
           487
          ],
          [
           488
          ],
          [
           489
          ],
          [
           490
          ],
          [
           491
          ],
          [
           492
          ],
          [
           493
          ],
          [
           494
          ],
          [
           495
          ],
          [
           496
          ],
          [
           497
          ],
          [
           498
          ],
          [
           499
          ],
          [
           500
          ],
          [
           501
          ],
          [
           502
          ],
          [
           503
          ],
          [
           504
          ],
          [
           505
          ],
          [
           506
          ],
          [
           507
          ],
          [
           508
          ],
          [
           509
          ],
          [
           510
          ],
          [
           511
          ],
          [
           512
          ],
          [
           513
          ],
          [
           514
          ],
          [
           515
          ],
          [
           516
          ],
          [
           517
          ],
          [
           518
          ],
          [
           519
          ],
          [
           520
          ],
          [
           521
          ],
          [
           522
          ],
          [
           523
          ],
          [
           524
          ],
          [
           525
          ],
          [
           526
          ],
          [
           527
          ],
          [
           528
          ],
          [
           529
          ],
          [
           530
          ],
          [
           531
          ],
          [
           532
          ],
          [
           533
          ],
          [
           534
          ],
          [
           535
          ],
          [
           536
          ],
          [
           537
          ],
          [
           538
          ],
          [
           539
          ],
          [
           540
          ],
          [
           541
          ],
          [
           542
          ],
          [
           543
          ],
          [
           544
          ],
          [
           545
          ],
          [
           546
          ],
          [
           547
          ],
          [
           548
          ],
          [
           549
          ],
          [
           550
          ],
          [
           551
          ],
          [
           552
          ],
          [
           553
          ],
          [
           554
          ],
          [
           555
          ],
          [
           556
          ],
          [
           557
          ],
          [
           558
          ],
          [
           559
          ],
          [
           560
          ],
          [
           561
          ],
          [
           562
          ],
          [
           563
          ],
          [
           564
          ],
          [
           565
          ],
          [
           566
          ],
          [
           567
          ],
          [
           568
          ],
          [
           569
          ],
          [
           570
          ],
          [
           571
          ],
          [
           572
          ],
          [
           573
          ],
          [
           574
          ],
          [
           575
          ],
          [
           576
          ],
          [
           577
          ],
          [
           578
          ],
          [
           579
          ],
          [
           580
          ],
          [
           581
          ],
          [
           582
          ],
          [
           583
          ],
          [
           584
          ],
          [
           585
          ],
          [
           586
          ],
          [
           587
          ],
          [
           588
          ],
          [
           589
          ],
          [
           590
          ],
          [
           591
          ],
          [
           592
          ],
          [
           593
          ],
          [
           594
          ],
          [
           595
          ],
          [
           596
          ],
          [
           597
          ],
          [
           598
          ],
          [
           599
          ]
         ],
         "hovertemplate": "x=%{x}<br>y=%{y}<br>Row=%{customdata[0]}<br>Rg Labels=%{marker.color}<extra></extra>",
         "legendgroup": "",
         "marker": {
          "color": [
           12.47262361355913,
           10.19304238799936,
           11.796660736825258,
           10.420883004949907,
           10.890074374994745,
           10.776926564988642,
           11.072114129251279,
           10.810192195833048,
           11.33734008076412,
           10.540055123636963,
           10.531781632741001,
           11.553869476372924,
           11.525730715869383,
           10.461012474828397,
           10.414634958826966,
           11.181402606877382,
           11.251519770697323,
           11.124037963176924,
           10.407396578562002,
           10.989365563404188,
           10.299553350367251,
           11.64384758309623,
           11.548442085418703,
           11.293006824215722,
           11.41916461057985,
           11.439734829960944,
           10.34424132198339,
           10.802877696170988,
           11.902644243709412,
           11.84659376868142,
           12.029971028928701,
           10.90884251624937,
           10.81798888395885,
           11.38343741112468,
           10.131863697099329,
           10.156469634748614,
           12.19968318101259,
           10.81795022380719,
           10.88815365629741,
           11.527035226945992,
           11.912880297630164,
           12.643608972572366,
           10.510607928512052,
           11.250665873319434,
           11.0695887767159,
           10.952597941477702,
           10.437519629138555,
           11.825344614352034,
           11.31303878245401,
           10.771677710892991,
           11.663749684010138,
           11.065308312493727,
           10.891331001248547,
           10.92683101821912,
           11.964228474200603,
           11.098120193979984,
           11.619527598600444,
           11.891601210453242,
           10.414826008097553,
           11.38195700988556,
           10.81821298112539,
           11.83349434333385,
           10.897804390477914,
           10.475541399667396,
           10.880006652818796,
           10.212090699966938,
           10.402631251265756,
           10.625290914387291,
           11.535390654362647,
           11.719282380428913,
           11.44585792595043,
           11.310698960993626,
           10.754507694430963,
           11.062829609397795,
           10.747243406170428,
           11.13972204897979,
           11.859074163865518,
           10.841384499554687,
           11.693395726320219,
           10.85811561774246,
           12.104368212057086,
           10.237500922349511,
           12.214514154613825,
           11.082222065639497,
           11.117814007454887,
           10.848495783948897,
           10.814943944842536,
           11.599716412272647,
           11.517895127491762,
           11.01383168550528,
           10.538509477503526,
           12.184148008701738,
           11.124319219544262,
           11.448565657586478,
           10.34363179744711,
           11.359150877033152,
           10.531214470421766,
           10.536665126616855,
           11.266297053297992,
           12.130256344060548,
           12.364925783229717,
           11.419208772347108,
           11.599244650535233,
           11.962242886326212,
           10.47038914375748,
           10.301346445256844,
           10.409233763066933,
           10.605497449834347,
           10.749537952989394,
           10.857151826791121,
           10.774323118062801,
           10.495547284901628,
           10.77097680654925,
           10.716102404725035,
           12.647009863286554,
           11.62847985570404,
           11.4504829976477,
           10.829928164614733,
           10.732731175262858,
           10.44610048579668,
           11.481129332874055,
           12.570633064743912,
           10.777946005611295,
           11.528720330615297,
           10.282040234267368,
           10.521432418013214,
           10.72166388890815,
           10.372027774912054,
           13.14395744092316,
           11.027321439342806,
           11.170522190623542,
           11.139083334190328,
           11.479947723402628,
           10.150168512481784,
           11.19671460052776,
           10.19021887460362,
           11.402164047324774,
           11.469143523704705,
           12.213345603491492,
           10.962008421176062,
           10.452752047000198,
           11.114085627543858,
           10.930322421380724,
           11.396205850540515,
           12.045723189306228,
           11.198042199822073,
           12.3356179612178,
           10.433426165961276,
           11.421454855868856,
           11.069775699948845,
           10.903810524001239,
           10.295592196726195,
           11.613949652027502,
           10.637531767116652,
           11.09796253331768,
           11.589972494078836,
           10.482846992969082,
           11.338390798193585,
           11.347271103713812,
           10.437287279027172,
           10.694757464327028,
           11.680290392844046,
           10.683159783827293,
           10.462074839229283,
           11.631432749563672,
           11.237911505872397,
           10.668159212252382,
           11.878432689502343,
           10.440658518349782,
           11.263100755552408,
           11.144548930401179,
           11.18496602920625,
           11.450189686400511,
           12.633767442695259,
           10.38513599382609,
           11.249613307265014,
           10.98708968033646,
           11.945444921259066,
           11.475193928039701,
           11.552160847743856,
           11.764673333747924,
           10.588925458523617,
           10.538332390500994,
           10.976478394983125,
           10.683616298147399,
           11.680603497062123,
           11.47057491753748,
           11.610409667208367,
           11.739981588929517,
           10.412732878673975,
           10.27870850053464,
           11.505812572665056,
           10.650697819316676,
           11.577929906469395,
           11.687318552266781,
           11.759225098038453,
           10.562557285969945,
           11.664250032516275,
           11.885631392993767,
           10.571776005061528,
           10.528779179812576,
           10.8388058001141,
           10.329391652227113,
           10.294163883817191,
           11.281780272552728,
           11.544022875956326,
           10.95011752393062,
           11.203431821108438,
           10.809985051679012,
           10.438275931603997,
           10.99475439072614,
           11.012064174556667,
           10.383574204904209,
           11.304747196624742,
           11.183796263836204,
           10.870122263573611,
           10.871105290252306,
           11.262780160015222,
           10.526793833337173,
           11.066501926699724,
           10.656893644629903,
           11.051691906658828,
           11.60855146726143,
           11.152725043017346,
           11.041434054523677,
           10.822791819193458,
           11.102899020835313,
           11.023384869005506,
           11.229000650790157,
           11.217785495661335,
           10.439836367454138,
           10.970144364370139,
           11.126255180033581,
           10.426684980457688,
           11.00212217867201,
           10.961651358950933,
           10.987333995000945,
           10.641601126156004,
           10.886270288097304,
           11.28883198145179,
           10.624190723242638,
           10.802484591555785,
           11.399305979287789,
           11.042514210849054,
           11.317548983302519,
           10.68062241834234,
           10.772488181354129,
           11.080574627459862,
           10.440585769921443,
           10.751343814766566,
           11.12099441014588,
           10.422101902153491,
           10.743629571576413,
           10.802524660659127,
           10.417491954236624,
           11.018117703890004,
           11.12483914136634,
           10.505934644648862,
           11.022005801549843,
           11.012383400172421,
           11.409910347388266,
           11.004820405338755,
           11.27771826636697,
           11.623516395986577,
           11.060534457508242,
           11.113382891035407,
           12.849867324448867,
           10.91742616172133,
           11.027690314156175,
           10.54793629046012,
           10.975879557671204,
           11.389467176472195,
           11.383316323254657,
           10.607764089275737,
           11.316707499487439,
           11.259486799970457,
           10.643627232101636,
           10.908034292953634,
           11.147748387796225,
           11.49054310412212,
           11.166626292698378,
           11.200783239858193,
           11.09525114357196,
           10.909352893204886,
           11.45468741097983,
           11.052221803808159,
           10.936983466840397,
           11.016339377496605,
           10.617051256996422,
           11.304338711723748,
           10.883289882101174,
           11.305315082768905,
           11.190242780487454,
           11.165594109759597,
           11.277977342875534,
           11.099778298587605,
           10.705296511717382,
           10.843346820865008,
           11.165377806827072,
           11.190314299741841,
           10.839293945568436,
           10.33162662566146,
           11.336189376679389,
           11.40130794918903,
           10.532214445457937,
           10.946177958766706,
           10.701274704922891,
           10.737199785940172,
           10.82056490309573,
           10.32201597766374,
           10.929420706567708,
           11.343015088962643,
           10.843597179334957,
           11.16643977517916,
           10.968864090209593,
           11.201263623955082,
           10.503867994669069,
           11.00326228249659,
           11.243515222961257,
           11.328456264824778,
           10.991516354352642,
           11.150240873713933,
           11.459595650589335,
           10.885775520740822,
           10.740425690077098,
           11.272911257092005,
           11.379289840995881,
           10.889763636362417,
           11.078997763626997,
           11.214087970260172,
           10.483525636975697,
           11.088394365774121,
           10.880531370291047,
           10.380344000071453,
           10.520562232400657,
           11.373226850765338,
           10.984273953136254,
           10.937026122895919,
           11.27615393961247,
           10.920828802875562,
           11.128476320623065,
           10.58710652888471,
           11.552290317667895,
           11.182750415971743,
           11.434759852768204,
           11.317452050004412,
           10.752644773159613,
           10.331188131045526,
           10.83335423985368,
           11.24957741887259,
           11.294932110719177,
           11.058782962627463,
           11.19862549905035,
           11.088792053752666,
           11.48031107574331,
           11.366014392863752,
           10.952679013200337,
           10.58992949080119,
           11.22108770504922,
           11.106203933532665,
           10.905392500348457,
           11.240496427313321,
           11.524621751163842,
           11.501369512644734,
           11.288595825823982,
           10.862076849104202,
           11.19156907835844,
           11.033573505797204,
           10.870574726911997,
           11.392563127381791,
           13.473156746488948,
           10.945823090346174,
           10.83545858324215,
           10.775083350652972,
           10.9623225686005,
           11.17888737367789,
           10.303649652266705,
           10.99179531501531,
           10.567210366240811,
           10.976204850057487,
           10.539439814824483,
           10.756010996406477,
           11.133641032138033,
           11.137856557382865,
           11.254910223134804,
           11.054807257384894,
           11.160984075377627,
           10.784288402277822,
           10.655791004103337,
           10.769729564342757,
           11.033486938292146,
           11.134719041353504,
           11.19961088764687,
           11.30190687633574,
           11.419548375053047,
           11.26164383919821,
           10.509675811414212,
           10.397682703079452,
           11.113390873494414,
           10.811037907232654,
           11.194792349076767,
           11.254041941457952,
           10.881234204658167,
           11.236300714828623,
           11.341968564013857,
           11.125674895023705,
           10.892577159373872,
           11.225383311977255,
           10.514907360308976,
           11.099935324104269,
           11.003631385967523,
           10.915452669570051,
           10.728149672596013,
           11.097918754561462,
           11.30747532262523,
           11.046570891249294,
           11.137536352094157,
           11.12747096533001,
           11.10826573011188,
           11.216967235327235,
           11.078284265463335,
           11.281716324536507,
           11.234561634161576,
           11.15707657864691,
           11.06192986080294,
           10.815632413235042,
           10.967829066222023,
           11.179565716814462,
           11.43110777124554,
           11.167094524843318,
           12.613407979671374,
           10.909351371972596,
           10.924453179776698,
           10.940701669515956,
           11.126708149655729,
           11.18569336651774,
           11.123774533271142,
           10.979660247421954,
           11.264853774172021,
           10.999291087366565,
           11.317582557907054,
           10.769559425191684,
           10.955692341167769,
           11.082680085454509,
           11.084922793848435,
           10.73194110460185,
           10.760710305854136,
           10.775857931818567,
           11.46996761659074,
           11.167351810667496,
           11.006273179846097,
           11.296698105148181,
           11.15487227457164,
           10.840059309328439,
           11.188152538617334,
           10.880445995774835,
           13.232723507670235,
           10.99607504401045,
           11.244414052561174,
           10.962829585177321,
           10.95280647010778,
           11.268146548538908,
           11.338367439776283,
           10.888687685526147,
           11.225640986681766,
           11.455726317654449,
           10.934498300091988,
           11.187674261162906,
           11.646348173838408,
           11.151579932793732,
           11.153609207055998,
           10.844461809493971,
           11.028172139351906,
           10.932822044690575,
           10.733134018076127,
           11.108047901350018,
           10.681080606197305,
           11.167444858741275,
           10.985584027688255,
           11.045880306759841,
           11.181957629261756,
           10.999598840155702,
           10.981626350375668,
           10.941358419383349,
           10.84381908137999,
           11.487310885078408,
           11.36863911176621,
           11.118708659788183,
           11.283004280282064,
           12.37108006716317,
           10.86168276913331,
           11.123654248664433,
           10.92555648497054,
           11.164716914370294,
           11.116395034039563,
           10.805514821787375,
           11.284983966376824,
           10.768626118434476,
           11.278871140490079,
           11.431646774419042,
           11.650261265700031,
           13.15854876908312,
           11.368367583343073,
           11.216631731721542,
           10.857325399644711,
           11.035790940530248,
           11.37638520841923,
           11.123573459388075,
           11.376091730356242,
           10.706341349741457,
           11.365379778252375,
           11.283267654678326,
           10.819116994847025,
           10.98035784658357,
           11.999992857572998,
           13.359162562675166,
           11.283135864087555,
           11.152071395744883,
           11.660020499251209,
           11.435733421778336,
           10.946617090989916,
           11.25105345034992,
           11.059539499758033,
           14.127177087490049,
           11.063841108729012,
           10.97877925936406,
           11.221689241669424,
           11.137592085554015,
           10.909944005813227,
           11.05423098511202,
           11.103984274462222,
           10.970430281650621,
           11.163918298453932,
           11.16747103571306,
           10.893464681776662,
           11.316446898474036,
           11.196884733481816,
           10.983580629319349,
           10.990845420618268,
           11.162174909252847,
           10.894200894327197,
           10.893001901954914,
           11.105933077575862,
           11.24059728035231,
           10.820980262602708,
           11.338662295843044,
           10.91466180529067,
           11.003830259337871,
           13.685993959586618,
           13.495165833690299,
           11.387198851406373,
           13.711317114853227,
           11.190805542399387,
           10.97130895460568,
           10.709322467938476,
           10.930853376369292,
           10.9921614299554,
           11.1541277220251,
           10.95105175173031,
           11.077809779882944,
           10.824221930184567,
           10.938494708163276,
           13.077364140177014,
           10.839877213966586,
           11.209720773603646,
           11.301260484014461,
           11.114332789014851,
           11.218632489877322,
           11.227061689247948,
           11.271958558145034,
           11.242327983844294,
           10.695220186466639,
           11.252800856357918,
           10.759447042079284,
           10.867358446558931,
           11.155689698327112,
           11.155768665766495,
           10.854076453403685,
           11.172607484796869,
           10.383222395885078,
           10.693118309411947,
           10.915817854942054,
           11.663362597733249,
           11.109340839358126,
           10.741714589981893,
           11.257099587592162,
           11.450490607895654,
           11.36598941967387,
           11.048473012888927,
           11.521815312411992,
           10.77988154888661,
           11.329301324206423,
           11.25539247256464,
           11.17198646808588,
           11.173874779353035,
           11.12261419647593,
           10.844253842986998,
           11.754642707533572,
           11.297481193833987,
           11.604812200257122
          ],
          "coloraxis": "coloraxis",
          "symbol": "circle"
         },
         "mode": "markers",
         "name": "",
         "orientation": "v",
         "showlegend": false,
         "type": "scatter",
         "x": [
          -5.599298000335693,
          8.613892555236816,
          -2.651495933532715,
          -15.322985649108887,
          8.154948234558105,
          5.321577072143555,
          1.9415727853775024,
          -13.4776611328125,
          1.2334098815917969,
          6.675179481506348,
          -15.123002052307129,
          -1.8611335754394531,
          -1.7629971504211426,
          -18.533472061157227,
          -12.514845848083496,
          5.661518573760986,
          1.347607135772705,
          -11.994444847106934,
          8.257412910461426,
          6.885069847106934,
          5.511415481567383,
          -1.0054869651794434,
          -5.060415744781494,
          1.3760547637939453,
          -0.4808533191680908,
          -0.03994769603013992,
          6.664609432220459,
          8.731537818908691,
          -5.694818496704102,
          -1.2286509275436401,
          -4.694540023803711,
          7.339140892028809,
          7.291517734527588,
          0.46987998485565186,
          6.414421558380127,
          5.429274559020996,
          -4.230371952056885,
          7.178064346313477,
          -13.247910499572754,
          0.3661908507347107,
          -4.211768627166748,
          -4.829481601715088,
          8.540140151977539,
          1.8243937492370605,
          -0.14353454113006592,
          6.278628349304199,
          -15.505805969238281,
          -1.6692291498184204,
          1.8212310075759888,
          -12.534566879272461,
          -6.167846202850342,
          -5.692056655883789,
          5.685604572296143,
          8.641988754272461,
          -4.066553115844727,
          2.417351484298706,
          -0.48971590399742126,
          -1.2582879066467285,
          -18.432130813598633,
          1.8169920444488525,
          7.183605194091797,
          -1.7090390920639038,
          6.505597114562988,
          -15.321249008178711,
          7.634476661682129,
          7.024558067321777,
          -12.09023380279541,
          -15.417140007019043,
          1.927284836769104,
          0.42665672302246094,
          -3.669680595397949,
          0.4750669598579407,
          6.9216790199279785,
          8.630306243896484,
          -18.324369430541992,
          -2.8088812828063965,
          -0.97802734375,
          -13.742201805114746,
          -0.7021209597587585,
          8.347723960876465,
          -2.123032808303833,
          5.523876190185547,
          -4.481019973754883,
          6.892367839813232,
          3.7996912002563477,
          7.981986999511719,
          -18.75783920288086,
          -0.5103778839111328,
          -2.277270793914795,
          6.568057060241699,
          -14.913827896118164,
          -4.69228982925415,
          -2.487691879272461,
          -2.7060110569000244,
          6.61464786529541,
          -3.8144819736480713,
          -13.570660591125488,
          8.543335914611816,
          1.203644037246704,
          -3.1582305431365967,
          -6.052338123321533,
          2.4987404346466064,
          -2.8089635372161865,
          3.158599615097046,
          -15.808284759521484,
          -11.962848663330078,
          6.968712329864502,
          -15.788406372070312,
          4.634347438812256,
          6.131225109100342,
          5.833157062530518,
          -15.081990242004395,
          6.968161106109619,
          6.882082462310791,
          -5.914943695068359,
          -1.0141321420669556,
          -0.08620187640190125,
          -15.674713134765625,
          8.823221206665039,
          -12.847319602966309,
          -0.5649086236953735,
          -6.542039394378662,
          7.015159606933594,
          0.5816918015480042,
          -12.499751091003418,
          -16.21630859375,
          -16.341495513916016,
          -16.216753005981445,
          -12.759957313537598,
          6.115668773651123,
          -2.823364734649658,
          1.7250020503997803,
          0.4308256208896637,
          6.3998703956604,
          1.638486385345459,
          8.659990310668945,
          0.21207359433174133,
          -0.8002853989601135,
          -3.7196836471557617,
          7.8827362060546875,
          8.066988945007324,
          1.9349504709243774,
          -14.81662654876709,
          -4.203529357910156,
          -5.038721084594727,
          2.4615209102630615,
          -6.010433673858643,
          -18.082134246826172,
          0.3575339913368225,
          6.475959300994873,
          6.594386100769043,
          -12.413588523864746,
          1.4586929082870483,
          -12.870584487915039,
          1.4603034257888794,
          -3.6901326179504395,
          -16.75890350341797,
          -1.4285506010055542,
          -1.2577948570251465,
          -12.821985244750977,
          7.515895843505859,
          -1.4873650074005127,
          -17.9107666015625,
          -14.234872817993164,
          -3.973489999771118,
          -1.8812609910964966,
          5.435891151428223,
          -3.5663645267486572,
          -18.821144104003906,
          1.2539331912994385,
          -5.822734355926514,
          7.040512561798096,
          -0.08938471972942352,
          -5.7010931968688965,
          -18.288496017456055,
          2.2564618587493896,
          8.196621894836426,
          -1.5150163173675537,
          0.7746981978416443,
          -12.630313873291016,
          -2.4127399921417236,
          6.736825942993164,
          -16.311595916748047,
          3.5843777656555176,
          -15.508133888244629,
          0.8539851903915405,
          0.4165038466453552,
          -4.769055366516113,
          -0.5768625736236572,
          8.831090927124023,
          8.392582893371582,
          -3.2429587841033936,
          5.955183029174805,
          -2.6144039630889893,
          -0.3612610995769501,
          0.6286045908927917,
          -18.15531349182129,
          0.48308247327804565,
          -4.0963544845581055,
          7.322590351104736,
          -11.844785690307617,
          -7.895599365234375,
          -10.911836624145508,
          -10.047812461853027,
          -1.4700167179107666,
          -15.0735445022583,
          -14.176215171813965,
          -4.978785991668701,
          -15.444167137145996,
          -10.283933639526367,
          -3.4910151958465576,
          -13.750387191772461,
          -8.649367332458496,
          -13.314908027648926,
          -14.70203685760498,
          -12.64696216583252,
          -17.69607162475586,
          -3.2973568439483643,
          -9.182493209838867,
          -5.500572681427002,
          -11.434428215026855,
          -5.416308403015137,
          -5.028133869171143,
          -1.0180290937423706,
          -15.469413757324219,
          -8.011697769165039,
          -2.2745728492736816,
          -2.4269630908966064,
          -13.482441902160645,
          -13.341367721557617,
          -10.344655990600586,
          -15.350686073303223,
          2.3743813037872314,
          -7.556997299194336,
          1.438970685005188,
          -16.316667556762695,
          -13.516858100891113,
          -10.959871292114258,
          -13.031109809875488,
          -0.008303279057145119,
          -7.429617881774902,
          -8.819411277770996,
          -0.5825204253196716,
          -2.155924081802368,
          -6.716582298278809,
          -13.815973281860352,
          -17.411624908447266,
          -12.811600685119629,
          -12.36937141418457,
          -11.709477424621582,
          -14.329423904418945,
          -10.354143142700195,
          -11.931486129760742,
          -4.807701110839844,
          -10.277791023254395,
          -11.791629791259766,
          -13.120427131652832,
          -10.177321434020996,
          -17.123119354248047,
          -7.070128440856934,
          -1.6803126335144043,
          -13.960905075073242,
          -12.211986541748047,
          -3.6540768146514893,
          -2.702732563018799,
          -13.344067573547363,
          -12.671051025390625,
          -7.068323612213135,
          2.8507986068725586,
          -5.821288108825684,
          -6.46535062789917,
          -2.8004345893859863,
          -2.259139060974121,
          -11.940102577209473,
          -0.370885968208313,
          -13.081686019897461,
          -4.730180740356445,
          -2.239030122756958,
          -3.6706702709198,
          -4.862836837768555,
          -3.0298614501953125,
          -0.024907320737838745,
          -3.4420454502105713,
          -17.934585571289062,
          -3.3353042602539062,
          -4.255376815795898,
          -2.471510887145996,
          -4.09037446975708,
          -10.12685489654541,
          -7.412147045135498,
          -18.34585952758789,
          -0.447308748960495,
          -2.2004027366638184,
          -4.093804359436035,
          -4.951444149017334,
          -2.122586727142334,
          -13.846685409545898,
          -3.3730075359344482,
          -13.815606117248535,
          2.6846868991851807,
          -16.41699981689453,
          -12.002650260925293,
          -0.5380078554153442,
          2.43027663230896,
          -12.634445190429688,
          -7.781596660614014,
          -9.582822799682617,
          -13.848552703857422,
          -16.333139419555664,
          -11.412574768066406,
          -17.530900955200195,
          -0.551646888256073,
          -12.937485694885254,
          -3.298441171646118,
          -3.2782392501831055,
          -1.426662564277649,
          -9.426666259765625,
          -4.0218095779418945,
          1.9336280822753906,
          -4.6957478523254395,
          -18.233715057373047,
          -3.607776403427124,
          -4.238112926483154,
          -14.880437850952148,
          -11.199408531188965,
          1.9881317615509033,
          0.35835087299346924,
          -7.5790863037109375,
          -4.725986003875732,
          -2.8653054237365723,
          -11.934782981872559,
          1.5289944410324097,
          -9.370857238769531,
          -10.493995666503906,
          -10.334464073181152,
          -2.936131715774536,
          -17.312978744506836,
          -17.50119400024414,
          -2.969290256500244,
          -13.31729507446289,
          -2.6252641677856445,
          -6.843105316162109,
          -1.2984720468521118,
          -3.3610615730285645,
          -4.408471584320068,
          1.7597614526748657,
          -11.910588264465332,
          -11.224095344543457,
          -7.339487075805664,
          -12.73563289642334,
          -1.4825516939163208,
          -11.028852462768555,
          -0.2175179123878479,
          2.5558178424835205,
          -2.1219635009765625,
          -3.428037643432617,
          -12.272116661071777,
          -7.450457572937012,
          -3.168830156326294,
          -5.164636611938477,
          -14.002685546875,
          -4.217306137084961,
          2.30208158493042,
          -4.920973777770996,
          -0.7601339221000671,
          -13.725576400756836,
          -0.9397526979446411,
          -11.846256256103516,
          -13.993526458740234,
          -3.323329448699951,
          -12.736531257629395,
          -15.857752799987793,
          -18.37908363342285,
          -5.499514579772949,
          -3.458536386489868,
          1.6384546756744385,
          -7.4633989334106445,
          -13.453763961791992,
          -3.6680827140808105,
          -15.817728996276855,
          -11.082566261291504,
          -16.756418228149414,
          -2.9658310413360596,
          2.1042065620422363,
          -2.1968886852264404,
          -13.307069778442383,
          -4.069162368774414,
          -18.442188262939453,
          -17.13738441467285,
          -16.35173797607422,
          -4.185585975646973,
          -3.6411263942718506,
          -2.955467939376831,
          -14.061050415039062,
          -1.9834386110305786,
          -10.393485069274902,
          -13.209683418273926,
          -10.707113265991211,
          -14.354169845581055,
          -16.567813873291016,
          18.46082305908203,
          16.735397338867188,
          1.8634451627731323,
          16.71416664123535,
          11.156758308410645,
          11.029379844665527,
          17.716203689575195,
          19.093477249145508,
          17.531909942626953,
          11.950605392456055,
          -5.254027843475342,
          14.786892890930176,
          18.729963302612305,
          13.224879264831543,
          16.827486038208008,
          10.225977897644043,
          1.1523048877716064,
          0.07006918638944626,
          10.967184066772461,
          7.666313648223877,
          14.362076759338379,
          19.00482177734375,
          0.08520548045635223,
          9.348366737365723,
          17.314407348632812,
          16.62421226501465,
          12.128376960754395,
          1.084718942642212,
          13.267579078674316,
          19.02776527404785,
          -7.083494663238525,
          16.63330841064453,
          15.663110733032227,
          18.932851791381836,
          18.903091430664062,
          10.054677963256836,
          15.773054122924805,
          19.41267204284668,
          12.629690170288086,
          13.711380958557129,
          14.378945350646973,
          -6.9057698249816895,
          15.643526077270508,
          13.16413402557373,
          8.404052734375,
          13.493440628051758,
          18.014602661132812,
          17.568443298339844,
          -3.0080761909484863,
          12.641528129577637,
          14.572954177856445,
          18.414443969726562,
          16.57413673400879,
          -1.743384599685669,
          6.8380045890808105,
          17.78546714782715,
          -6.843232154846191,
          17.54557228088379,
          2.1669952869415283,
          17.649946212768555,
          18.11282730102539,
          18.39670181274414,
          10.567108154296875,
          18.19212532043457,
          9.135679244995117,
          -5.640940189361572,
          -0.1140364482998848,
          10.62646484375,
          -2.7483792304992676,
          7.945483207702637,
          18.599390029907227,
          16.722572326660156,
          -3.140016555786133,
          14.008792877197266,
          1.6740045547485352,
          12.650177001953125,
          13.712808609008789,
          13.160652160644531,
          18.776962280273438,
          11.157973289489746,
          7.3274312019348145,
          19.308609008789062,
          7.2451982498168945,
          12.096051216125488,
          16.244686126708984,
          10.333971977233887,
          0.22900336980819702,
          12.112669944763184,
          17.10610580444336,
          -7.577554225921631,
          14.570150375366211,
          12.979904174804688,
          18.121936798095703,
          12.890999794006348,
          11.557951927185059,
          16.932464599609375,
          -1.8639920949935913,
          18.666292190551758,
          -1.520317554473877,
          -3.1534039974212646,
          -1.570054054260254,
          -6.480359077453613,
          16.80490493774414,
          17.944368362426758,
          15.903949737548828,
          7.918231964111328,
          1.8066741228103638,
          11.176087379455566,
          1.0761487483978271,
          18.40671730041504,
          -0.7116334438323975,
          19.685380935668945,
          -0.05023246258497238,
          14.22628116607666,
          -7.2381086349487305,
          -7.328291893005371,
          11.430254936218262,
          0.5186704397201538,
          -2.4334704875946045,
          13.45899772644043,
          18.44830894470215,
          17.129953384399414,
          16.42684555053711,
          -8.81058120727539,
          16.72736930847168,
          19.699134826660156,
          1.8389371633529663,
          13.556594848632812,
          -6.321875095367432,
          9.541146278381348,
          17.927034378051758,
          18.880857467651367,
          11.966452598571777,
          13.843836784362793,
          13.261452674865723,
          -6.813573360443115,
          -6.980138301849365,
          -1.057207465171814,
          11.81484603881836,
          -5.568536758422852,
          19.203153610229492,
          16.321910858154297,
          -2.5411651134490967,
          -0.8183276653289795,
          18.36583137512207,
          6.70424747467041,
          8.011184692382812,
          18.842267990112305,
          -6.487738132476807,
          -6.41779899597168,
          -1.8529627323150635,
          -9.417457580566406,
          15.698826789855957,
          8.441576957702637,
          17.277299880981445,
          7.838959217071533,
          13.615748405456543,
          16.657089233398438,
          16.43785858154297,
          12.498051643371582,
          15.476831436157227,
          14.637716293334961,
          -6.667461395263672,
          16.72805404663086,
          16.35300636291504,
          11.716811180114746,
          15.889416694641113,
          17.85641098022461,
          9.205360412597656,
          18.984519958496094,
          1.2787394523620605,
          13.1056489944458,
          15.04745101928711,
          18.542949676513672,
          12.883094787597656,
          16.160892486572266,
          12.71084213256836,
          13.204886436462402,
          9.37095832824707,
          14.369833946228027,
          16.710214614868164,
          15.87060832977295,
          -0.8133714199066162,
          14.640107154846191,
          13.415876388549805,
          -1.3866753578186035,
          11.82279109954834,
          7.448484897613525,
          1.5956016778945923,
          12.77111530303955,
          18.41383171081543,
          10.396614074707031,
          12.513123512268066,
          -1.301515817642212,
          18.556095123291016,
          17.523181915283203,
          18.730295181274414,
          -2.050584077835083,
          17.20009994506836,
          10.400650024414062
         ],
         "xaxis": "x",
         "y": [
          -14.089221954345703,
          -14.767882347106934,
          -15.126914024353027,
          -0.9925584197044373,
          -23.36433982849121,
          -22.90610122680664,
          -18.347108840942383,
          -1.0122507810592651,
          -13.915019989013672,
          -19.70279884338379,
          -4.159972190856934,
          -13.164529800415039,
          -17.28614616394043,
          -1.7412700653076172,
          -4.830965995788574,
          -23.047826766967773,
          -15.816216468811035,
          -0.399755597114563,
          -19.987714767456055,
          -23.462406158447266,
          -12.209327697753906,
          -16.26140594482422,
          -16.734493255615234,
          -17.249929428100586,
          -17.39005470275879,
          -16.29313850402832,
          -17.11032485961914,
          -23.860469818115234,
          -19.609024047851562,
          -15.161314964294434,
          -19.264896392822266,
          -22.135643005371094,
          -23.03076934814453,
          -13.215779304504395,
          -15.213497161865234,
          -12.143521308898926,
          -17.65781593322754,
          -22.319046020507812,
          -1.1722726821899414,
          -15.499078750610352,
          -18.44966697692871,
          -13.656826972961426,
          -14.4685697555542,
          -17.249252319335938,
          -19.882246017456055,
          -23.553604125976562,
          0.7138877511024475,
          -14.325916290283203,
          -14.14583683013916,
          -4.89018440246582,
          -16.109264373779297,
          -17.909372329711914,
          -22.320676803588867,
          -20.130422592163086,
          -18.201066970825195,
          -17.010662078857422,
          -13.74362564086914,
          -14.78307056427002,
          -1.9024053812026978,
          -11.116379737854004,
          -22.56154441833496,
          -14.321920394897461,
          -23.297870635986328,
          -0.43004435300827026,
          -24.534767150878906,
          -16.60431671142578,
          -3.5532851219177246,
          0.5008978843688965,
          -13.428215980529785,
          -14.946595191955566,
          -16.767927169799805,
          -12.399431228637695,
          -16.732290267944336,
          -19.883365631103516,
          -1.5020304918289185,
          -19.3604736328125,
          -13.048271179199219,
          -1.1165944337844849,
          -13.033475875854492,
          -20.9135684967041,
          -16.186555862426758,
          -12.186087608337402,
          -18.103757858276367,
          -23.542322158813477,
          -20.736366271972656,
          -24.830537796020508,
          -2.4279563426971436,
          -13.649429321289062,
          -17.76519012451172,
          -24.26314926147461,
          -3.760934352874756,
          -19.12708854675293,
          -20.04660415649414,
          -18.83315086364746,
          -19.284114837646484,
          -12.654059410095215,
          -1.0631859302520752,
          -14.430312156677246,
          -15.74479866027832,
          -18.336830139160156,
          -14.230727195739746,
          -17.389076232910156,
          -15.22939682006836,
          -12.76164436340332,
          -0.22997333109378815,
          -5.723944664001465,
          -15.838302612304688,
          0.6603307127952576,
          -23.47626495361328,
          -25.09988021850586,
          -24.12645149230957,
          -0.805626392364502,
          -23.74870491027832,
          -21.312355041503906,
          -13.987642288208008,
          -16.2827205657959,
          -14.011962890625,
          -3.394285202026367,
          -23.782209396362305,
          -3.677624225616455,
          -15.400849342346191,
          -14.523616790771484,
          -24.98933982849121,
          -14.059953689575195,
          -5.00110387802124,
          -2.455265760421753,
          -2.334332227706909,
          0.47500213980674744,
          1.8235726356506348,
          -22.041515350341797,
          -19.830320358276367,
          -11.19898796081543,
          -16.57283592224121,
          -17.098115921020508,
          -15.456212043762207,
          -15.085410118103027,
          -17.768465042114258,
          -12.575321197509766,
          -18.70258331298828,
          -22.94753074645996,
          -18.29358673095703,
          -16.776531219482422,
          -2.4099297523498535,
          -20.273500442504883,
          -16.736661911010742,
          -15.909660339355469,
          -15.605360984802246,
          -1.7595363855361938,
          -11.294934272766113,
          -22.560518264770508,
          -23.835477828979492,
          -3.2293701171875,
          -12.516830444335938,
          -3.939897060394287,
          -17.983749389648438,
          -16.492387771606445,
          -1.2197188138961792,
          -18.592403411865234,
          -15.481395721435547,
          -3.856423854827881,
          -24.43375015258789,
          -13.611114501953125,
          -2.1963257789611816,
          -2.954282283782959,
          -12.505602836608887,
          -18.40419578552246,
          -24.15953254699707,
          -17.785066604614258,
          -1.935928463935852,
          -17.0400333404541,
          -17.963603973388672,
          -25.142667770385742,
          -14.166316032409668,
          -14.837305068969727,
          -2.6256632804870605,
          -15.101357460021973,
          -22.610902786254883,
          -11.557953834533691,
          -13.621278762817383,
          -0.5900647044181824,
          -17.850400924682617,
          -19.692686080932617,
          -2.196920394897461,
          -14.782432556152344,
          -3.480642080307007,
          -14.45982551574707,
          -12.13041877746582,
          -15.02243423461914,
          -11.754761695861816,
          -20.068675994873047,
          -16.004175186157227,
          -12.865839958190918,
          -21.24628257751465,
          -17.5916805267334,
          -17.03428077697754,
          -13.362943649291992,
          -2.1912896633148193,
          -16.436725616455078,
          -18.822111129760742,
          -16.532760620117188,
          6.134822368621826,
          6.974809646606445,
          10.553777694702148,
          11.234721183776855,
          8.660665512084961,
          12.569561958312988,
          4.528494834899902,
          12.459207534790039,
          11.262892723083496,
          11.947198867797852,
          12.436233520507812,
          12.341882705688477,
          13.722175598144531,
          10.149964332580566,
          11.939942359924316,
          5.88102912902832,
          11.659880638122559,
          14.9052152633667,
          10.596325874328613,
          11.29853343963623,
          7.625798225402832,
          9.965344429016113,
          16.415292739868164,
          10.87438678741455,
          10.106283187866211,
          6.7027788162231445,
          7.731500625610352,
          14.206735610961914,
          9.746089935302734,
          13.713289260864258,
          11.038238525390625,
          10.689115524291992,
          16.778596878051758,
          15.527091026306152,
          15.964595794677734,
          9.829894065856934,
          10.819742202758789,
          9.003687858581543,
          10.9439115524292,
          10.560547828674316,
          14.321480751037598,
          9.766456604003906,
          14.439957618713379,
          9.837739944458008,
          9.150948524475098,
          5.876126766204834,
          10.518630027770996,
          10.679366111755371,
          6.504234790802002,
          5.057185173034668,
          11.921433448791504,
          9.13077163696289,
          5.683405876159668,
          10.635566711425781,
          11.015116691589355,
          11.846263885498047,
          12.175443649291992,
          6.604011535644531,
          10.71475601196289,
          6.672736167907715,
          13.89846134185791,
          11.418153762817383,
          13.52409553527832,
          14.329822540283203,
          15.16170597076416,
          12.311163902282715,
          0.34240514039993286,
          7.141874313354492,
          16.432228088378906,
          10.872665405273438,
          7.734575271606445,
          9.246536254882812,
          8.698771476745605,
          5.105769634246826,
          9.309501647949219,
          14.169060707092285,
          8.320717811584473,
          15.36205768585205,
          16.163570404052734,
          16.25249481201172,
          9.009099006652832,
          10.35557746887207,
          9.982547760009766,
          10.738205909729004,
          13.955693244934082,
          10.900070190429688,
          11.210474967956543,
          8.018900871276855,
          9.015542030334473,
          11.878759384155273,
          10.995333671569824,
          10.690996170043945,
          16.122432708740234,
          10.988723754882812,
          14.973010063171387,
          16.02738380432129,
          4.50466251373291,
          15.0968599319458,
          10.714242935180664,
          16.713346481323242,
          5.017354965209961,
          7.043503761291504,
          9.364967346191406,
          15.325611114501953,
          6.223268508911133,
          6.610049247741699,
          11.434443473815918,
          6.175568103790283,
          5.018496513366699,
          9.943150520324707,
          10.89517879486084,
          13.508857727050781,
          6.434867858886719,
          10.660669326782227,
          10.467726707458496,
          15.058753967285156,
          10.285444259643555,
          8.654557228088379,
          16.264490127563477,
          15.37708854675293,
          11.165985107421875,
          9.345864295959473,
          14.36404800415039,
          4.696925163269043,
          5.117645263671875,
          15.169276237487793,
          10.598262786865234,
          7.045962810516357,
          12.167238235473633,
          8.736593246459961,
          9.623919486999512,
          16.272109985351562,
          8.110320091247559,
          9.979889869689941,
          6.507943630218506,
          13.489760398864746,
          11.615546226501465,
          11.492730140686035,
          10.573126792907715,
          4.520497798919678,
          10.785490989685059,
          15.115734100341797,
          10.33578109741211,
          10.918176651000977,
          14.498246192932129,
          15.236952781677246,
          5.2409586906433105,
          9.308850288391113,
          14.55252742767334,
          11.526606559753418,
          12.041661262512207,
          11.191813468933105,
          11.955584526062012,
          16.973865509033203,
          13.748379707336426,
          11.624676704406738,
          10.94504451751709,
          15.30305004119873,
          17.110319137573242,
          16.345569610595703,
          4.053016662597656,
          9.870409965515137,
          15.127948760986328,
          16.422264099121094,
          9.879996299743652,
          6.704596519470215,
          8.700870513916016,
          14.619978904724121,
          6.182522296905518,
          14.420753479003906,
          1.972124457359314,
          9.475566864013672,
          10.456122398376465,
          9.469619750976562,
          15.943355560302734,
          14.971012115478516,
          15.200329780578613,
          13.74330997467041,
          7.236967086791992,
          10.74520206451416,
          6.5818562507629395,
          9.629701614379883,
          12.066489219665527,
          16.037817001342773,
          13.193593978881836,
          13.832199096679688,
          13.610445976257324,
          11.742061614990234,
          9.38236141204834,
          5.02528715133667,
          9.365525245666504,
          15.085491180419922,
          15.365484237670898,
          13.47883129119873,
          12.056422233581543,
          13.80584716796875,
          7.75922966003418,
          9.866364479064941,
          10.594344139099121,
          9.87653923034668,
          4.382230758666992,
          8.276382446289062,
          -1.0471384525299072,
          4.432782173156738,
          3.38527774810791,
          3.2333767414093018,
          -0.8041433691978455,
          8.693278312683105,
          8.441256523132324,
          1.2512463331222534,
          -1.843157172203064,
          1.3076965808868408,
          9.910745620727539,
          0.7776585817337036,
          1.0239160060882568,
          -0.09637591242790222,
          -3.8931052684783936,
          -0.3617827892303467,
          4.8484392166137695,
          2.848829746246338,
          3.1210224628448486,
          8.79057502746582,
          -1.1576528549194336,
          3.3571255207061768,
          9.2526216506958,
          5.861278533935547,
          -0.4857499301433563,
          1.4712053537368774,
          2.7841436862945557,
          5.045407295227051,
          0.32897937297821045,
          5.060801982879639,
          -1.125817894935608,
          9.026779174804688,
          8.252972602844238,
          3.549896717071533,
          4.07286262512207,
          9.416982650756836,
          4.094717025756836,
          -0.24344168603420258,
          3.0676727294921875,
          -2.004472494125366,
          -0.16163523495197296,
          0.27751821279525757,
          0.6553809642791748,
          6.513174057006836,
          -2.023266553878784,
          -3.2191033363342285,
          -2.7701523303985596,
          -1.1852912902832031,
          0.22123320400714874,
          3.7545788288116455,
          -0.0017744750948622823,
          -0.99809330701828,
          0.8952115774154663,
          -2.723327875137329,
          -1.0413681268692017,
          8.864571571350098,
          -1.3558355569839478,
          -0.5448477268218994,
          8.046290397644043,
          8.050464630126953,
          -0.4106166362762451,
          -0.07410082221031189,
          -0.7395584583282471,
          -1.189297080039978,
          -0.6738097071647644,
          3.1666245460510254,
          -3.713413715362549,
          3.0319228172302246,
          3.407379627227783,
          5.0502729415893555,
          -2.5589590072631836,
          6.00625467300415,
          -3.195725440979004,
          -0.2881070673465729,
          6.988561630249023,
          -1.9457565546035767,
          7.787565231323242,
          3.6048576831817627,
          3.3219003677368164,
          -3.9722936153411865,
          3.234743356704712,
          -1.334236979484558,
          4.88326358795166,
          1.8056846857070923,
          -3.6118292808532715,
          2.5675108432769775,
          4.720145225524902,
          0.34273561835289,
          6.747594356536865,
          0.7180338501930237,
          -0.33215010166168213,
          0.43880170583724976,
          2.3338840007781982,
          9.668917655944824,
          0.1233581006526947,
          9.46144962310791,
          0.14824514091014862,
          -3.0083179473876953,
          0.81242436170578,
          0.10358574986457825,
          4.0132832527160645,
          4.747054100036621,
          6.215188503265381,
          2.163114309310913,
          -0.9896413683891296,
          -2.041764974594116,
          1.2577297687530518,
          -2.4728286266326904,
          -2.7951900959014893,
          9.062209129333496,
          -0.6563045382499695,
          -0.9447481632232666,
          -2.1266541481018066,
          0.609515905380249,
          -2.147705554962158,
          0.30432912707328796,
          -1.9547899961471558,
          2.859839677810669,
          8.574975967407227,
          6.81441068649292,
          4.89910888671875,
          0.322551429271698,
          0.22211281955242157,
          7.2545881271362305,
          -1.9208334684371948,
          -0.11693721264600754,
          -2.148475408554077,
          0.44221654534339905,
          9.830166816711426,
          -1.7569936513900757,
          2.3583295345306396,
          0.8790992498397827,
          -1.6967546939849854,
          -2.7775022983551025,
          -2.4730358123779297,
          1.4365936517715454,
          4.279480934143066,
          -1.435811161994934,
          -3.7422287464141846,
          0.5199387073516846,
          0.035528384149074554,
          1.9425160884857178,
          -1.7531728744506836,
          0.793225884437561,
          3.9190938472747803,
          5.457274913787842,
          0.8386062979698181,
          0.964796245098114,
          -3.149524211883545,
          1.5894227027893066,
          -1.7289319038391113,
          3.2111752033233643,
          9.202866554260254,
          3.691633462905884,
          -0.49904865026474,
          4.062447547912598,
          -0.5551623702049255,
          -0.6034706234931946,
          5.588039875030518,
          1.0245723724365234,
          0.3174896538257599,
          -2.221137046813965,
          -0.5719169974327087,
          -0.5304053425788879,
          -0.17578071355819702,
          4.093669414520264,
          -1.5136390924453735,
          4.741365909576416,
          -3.8110032081604004,
          5.789491176605225,
          1.255428433418274,
          -2.1071314811706543,
          6.654533386230469,
          0.23952755331993103,
          -1.4307798147201538,
          -2.6388065814971924,
          0.4060017764568329,
          7.110073089599609,
          -2.066588878631592,
          -2.7993953227996826,
          -1.3297771215438843,
          1.0246504545211792,
          6.511666297912598,
          1.3433624505996704,
          2.560739278793335,
          1.964336633682251,
          -0.022652359679341316,
          3.826852321624756,
          -2.0450191497802734,
          1.7438944578170776,
          3.0676944255828857,
          -1.2379509210586548,
          4.98873233795166,
          4.440276145935059,
          -2.0771656036376953,
          -2.1810286045074463,
          5.550732135772705,
          1.597771167755127
         ],
         "yaxis": "y"
        }
       ],
       "layout": {
        "coloraxis": {
         "colorbar": {
          "title": {
           "text": "Rg Labels"
          }
         },
         "colorscale": [
          [
           0,
           "#0d0887"
          ],
          [
           0.1111111111111111,
           "#46039f"
          ],
          [
           0.2222222222222222,
           "#7201a8"
          ],
          [
           0.3333333333333333,
           "#9c179e"
          ],
          [
           0.4444444444444444,
           "#bd3786"
          ],
          [
           0.5555555555555556,
           "#d8576b"
          ],
          [
           0.6666666666666666,
           "#ed7953"
          ],
          [
           0.7777777777777778,
           "#fb9f3a"
          ],
          [
           0.8888888888888888,
           "#fdca26"
          ],
          [
           1,
           "#f0f921"
          ]
         ]
        },
        "legend": {
         "tracegroupgap": 0
        },
        "margin": {
         "t": 60
        },
        "template": {
         "data": {
          "bar": [
           {
            "error_x": {
             "color": "#2a3f5f"
            },
            "error_y": {
             "color": "#2a3f5f"
            },
            "marker": {
             "line": {
              "color": "#E5ECF6",
              "width": 0.5
             },
             "pattern": {
              "fillmode": "overlay",
              "size": 10,
              "solidity": 0.2
             }
            },
            "type": "bar"
           }
          ],
          "barpolar": [
           {
            "marker": {
             "line": {
              "color": "#E5ECF6",
              "width": 0.5
             },
             "pattern": {
              "fillmode": "overlay",
              "size": 10,
              "solidity": 0.2
             }
            },
            "type": "barpolar"
           }
          ],
          "carpet": [
           {
            "aaxis": {
             "endlinecolor": "#2a3f5f",
             "gridcolor": "white",
             "linecolor": "white",
             "minorgridcolor": "white",
             "startlinecolor": "#2a3f5f"
            },
            "baxis": {
             "endlinecolor": "#2a3f5f",
             "gridcolor": "white",
             "linecolor": "white",
             "minorgridcolor": "white",
             "startlinecolor": "#2a3f5f"
            },
            "type": "carpet"
           }
          ],
          "choropleth": [
           {
            "colorbar": {
             "outlinewidth": 0,
             "ticks": ""
            },
            "type": "choropleth"
           }
          ],
          "contour": [
           {
            "colorbar": {
             "outlinewidth": 0,
             "ticks": ""
            },
            "colorscale": [
             [
              0,
              "#0d0887"
             ],
             [
              0.1111111111111111,
              "#46039f"
             ],
             [
              0.2222222222222222,
              "#7201a8"
             ],
             [
              0.3333333333333333,
              "#9c179e"
             ],
             [
              0.4444444444444444,
              "#bd3786"
             ],
             [
              0.5555555555555556,
              "#d8576b"
             ],
             [
              0.6666666666666666,
              "#ed7953"
             ],
             [
              0.7777777777777778,
              "#fb9f3a"
             ],
             [
              0.8888888888888888,
              "#fdca26"
             ],
             [
              1,
              "#f0f921"
             ]
            ],
            "type": "contour"
           }
          ],
          "contourcarpet": [
           {
            "colorbar": {
             "outlinewidth": 0,
             "ticks": ""
            },
            "type": "contourcarpet"
           }
          ],
          "heatmap": [
           {
            "colorbar": {
             "outlinewidth": 0,
             "ticks": ""
            },
            "colorscale": [
             [
              0,
              "#0d0887"
             ],
             [
              0.1111111111111111,
              "#46039f"
             ],
             [
              0.2222222222222222,
              "#7201a8"
             ],
             [
              0.3333333333333333,
              "#9c179e"
             ],
             [
              0.4444444444444444,
              "#bd3786"
             ],
             [
              0.5555555555555556,
              "#d8576b"
             ],
             [
              0.6666666666666666,
              "#ed7953"
             ],
             [
              0.7777777777777778,
              "#fb9f3a"
             ],
             [
              0.8888888888888888,
              "#fdca26"
             ],
             [
              1,
              "#f0f921"
             ]
            ],
            "type": "heatmap"
           }
          ],
          "heatmapgl": [
           {
            "colorbar": {
             "outlinewidth": 0,
             "ticks": ""
            },
            "colorscale": [
             [
              0,
              "#0d0887"
             ],
             [
              0.1111111111111111,
              "#46039f"
             ],
             [
              0.2222222222222222,
              "#7201a8"
             ],
             [
              0.3333333333333333,
              "#9c179e"
             ],
             [
              0.4444444444444444,
              "#bd3786"
             ],
             [
              0.5555555555555556,
              "#d8576b"
             ],
             [
              0.6666666666666666,
              "#ed7953"
             ],
             [
              0.7777777777777778,
              "#fb9f3a"
             ],
             [
              0.8888888888888888,
              "#fdca26"
             ],
             [
              1,
              "#f0f921"
             ]
            ],
            "type": "heatmapgl"
           }
          ],
          "histogram": [
           {
            "marker": {
             "pattern": {
              "fillmode": "overlay",
              "size": 10,
              "solidity": 0.2
             }
            },
            "type": "histogram"
           }
          ],
          "histogram2d": [
           {
            "colorbar": {
             "outlinewidth": 0,
             "ticks": ""
            },
            "colorscale": [
             [
              0,
              "#0d0887"
             ],
             [
              0.1111111111111111,
              "#46039f"
             ],
             [
              0.2222222222222222,
              "#7201a8"
             ],
             [
              0.3333333333333333,
              "#9c179e"
             ],
             [
              0.4444444444444444,
              "#bd3786"
             ],
             [
              0.5555555555555556,
              "#d8576b"
             ],
             [
              0.6666666666666666,
              "#ed7953"
             ],
             [
              0.7777777777777778,
              "#fb9f3a"
             ],
             [
              0.8888888888888888,
              "#fdca26"
             ],
             [
              1,
              "#f0f921"
             ]
            ],
            "type": "histogram2d"
           }
          ],
          "histogram2dcontour": [
           {
            "colorbar": {
             "outlinewidth": 0,
             "ticks": ""
            },
            "colorscale": [
             [
              0,
              "#0d0887"
             ],
             [
              0.1111111111111111,
              "#46039f"
             ],
             [
              0.2222222222222222,
              "#7201a8"
             ],
             [
              0.3333333333333333,
              "#9c179e"
             ],
             [
              0.4444444444444444,
              "#bd3786"
             ],
             [
              0.5555555555555556,
              "#d8576b"
             ],
             [
              0.6666666666666666,
              "#ed7953"
             ],
             [
              0.7777777777777778,
              "#fb9f3a"
             ],
             [
              0.8888888888888888,
              "#fdca26"
             ],
             [
              1,
              "#f0f921"
             ]
            ],
            "type": "histogram2dcontour"
           }
          ],
          "mesh3d": [
           {
            "colorbar": {
             "outlinewidth": 0,
             "ticks": ""
            },
            "type": "mesh3d"
           }
          ],
          "parcoords": [
           {
            "line": {
             "colorbar": {
              "outlinewidth": 0,
              "ticks": ""
             }
            },
            "type": "parcoords"
           }
          ],
          "pie": [
           {
            "automargin": true,
            "type": "pie"
           }
          ],
          "scatter": [
           {
            "fillpattern": {
             "fillmode": "overlay",
             "size": 10,
             "solidity": 0.2
            },
            "type": "scatter"
           }
          ],
          "scatter3d": [
           {
            "line": {
             "colorbar": {
              "outlinewidth": 0,
              "ticks": ""
             }
            },
            "marker": {
             "colorbar": {
              "outlinewidth": 0,
              "ticks": ""
             }
            },
            "type": "scatter3d"
           }
          ],
          "scattercarpet": [
           {
            "marker": {
             "colorbar": {
              "outlinewidth": 0,
              "ticks": ""
             }
            },
            "type": "scattercarpet"
           }
          ],
          "scattergeo": [
           {
            "marker": {
             "colorbar": {
              "outlinewidth": 0,
              "ticks": ""
             }
            },
            "type": "scattergeo"
           }
          ],
          "scattergl": [
           {
            "marker": {
             "colorbar": {
              "outlinewidth": 0,
              "ticks": ""
             }
            },
            "type": "scattergl"
           }
          ],
          "scattermapbox": [
           {
            "marker": {
             "colorbar": {
              "outlinewidth": 0,
              "ticks": ""
             }
            },
            "type": "scattermapbox"
           }
          ],
          "scatterpolar": [
           {
            "marker": {
             "colorbar": {
              "outlinewidth": 0,
              "ticks": ""
             }
            },
            "type": "scatterpolar"
           }
          ],
          "scatterpolargl": [
           {
            "marker": {
             "colorbar": {
              "outlinewidth": 0,
              "ticks": ""
             }
            },
            "type": "scatterpolargl"
           }
          ],
          "scatterternary": [
           {
            "marker": {
             "colorbar": {
              "outlinewidth": 0,
              "ticks": ""
             }
            },
            "type": "scatterternary"
           }
          ],
          "surface": [
           {
            "colorbar": {
             "outlinewidth": 0,
             "ticks": ""
            },
            "colorscale": [
             [
              0,
              "#0d0887"
             ],
             [
              0.1111111111111111,
              "#46039f"
             ],
             [
              0.2222222222222222,
              "#7201a8"
             ],
             [
              0.3333333333333333,
              "#9c179e"
             ],
             [
              0.4444444444444444,
              "#bd3786"
             ],
             [
              0.5555555555555556,
              "#d8576b"
             ],
             [
              0.6666666666666666,
              "#ed7953"
             ],
             [
              0.7777777777777778,
              "#fb9f3a"
             ],
             [
              0.8888888888888888,
              "#fdca26"
             ],
             [
              1,
              "#f0f921"
             ]
            ],
            "type": "surface"
           }
          ],
          "table": [
           {
            "cells": {
             "fill": {
              "color": "#EBF0F8"
             },
             "line": {
              "color": "white"
             }
            },
            "header": {
             "fill": {
              "color": "#C8D4E3"
             },
             "line": {
              "color": "white"
             }
            },
            "type": "table"
           }
          ]
         },
         "layout": {
          "annotationdefaults": {
           "arrowcolor": "#2a3f5f",
           "arrowhead": 0,
           "arrowwidth": 1
          },
          "autotypenumbers": "strict",
          "coloraxis": {
           "colorbar": {
            "outlinewidth": 0,
            "ticks": ""
           }
          },
          "colorscale": {
           "diverging": [
            [
             0,
             "#8e0152"
            ],
            [
             0.1,
             "#c51b7d"
            ],
            [
             0.2,
             "#de77ae"
            ],
            [
             0.3,
             "#f1b6da"
            ],
            [
             0.4,
             "#fde0ef"
            ],
            [
             0.5,
             "#f7f7f7"
            ],
            [
             0.6,
             "#e6f5d0"
            ],
            [
             0.7,
             "#b8e186"
            ],
            [
             0.8,
             "#7fbc41"
            ],
            [
             0.9,
             "#4d9221"
            ],
            [
             1,
             "#276419"
            ]
           ],
           "sequential": [
            [
             0,
             "#0d0887"
            ],
            [
             0.1111111111111111,
             "#46039f"
            ],
            [
             0.2222222222222222,
             "#7201a8"
            ],
            [
             0.3333333333333333,
             "#9c179e"
            ],
            [
             0.4444444444444444,
             "#bd3786"
            ],
            [
             0.5555555555555556,
             "#d8576b"
            ],
            [
             0.6666666666666666,
             "#ed7953"
            ],
            [
             0.7777777777777778,
             "#fb9f3a"
            ],
            [
             0.8888888888888888,
             "#fdca26"
            ],
            [
             1,
             "#f0f921"
            ]
           ],
           "sequentialminus": [
            [
             0,
             "#0d0887"
            ],
            [
             0.1111111111111111,
             "#46039f"
            ],
            [
             0.2222222222222222,
             "#7201a8"
            ],
            [
             0.3333333333333333,
             "#9c179e"
            ],
            [
             0.4444444444444444,
             "#bd3786"
            ],
            [
             0.5555555555555556,
             "#d8576b"
            ],
            [
             0.6666666666666666,
             "#ed7953"
            ],
            [
             0.7777777777777778,
             "#fb9f3a"
            ],
            [
             0.8888888888888888,
             "#fdca26"
            ],
            [
             1,
             "#f0f921"
            ]
           ]
          },
          "colorway": [
           "#636efa",
           "#EF553B",
           "#00cc96",
           "#ab63fa",
           "#FFA15A",
           "#19d3f3",
           "#FF6692",
           "#B6E880",
           "#FF97FF",
           "#FECB52"
          ],
          "font": {
           "color": "#2a3f5f"
          },
          "geo": {
           "bgcolor": "white",
           "lakecolor": "white",
           "landcolor": "#E5ECF6",
           "showlakes": true,
           "showland": true,
           "subunitcolor": "white"
          },
          "hoverlabel": {
           "align": "left"
          },
          "hovermode": "closest",
          "mapbox": {
           "style": "light"
          },
          "paper_bgcolor": "white",
          "plot_bgcolor": "#E5ECF6",
          "polar": {
           "angularaxis": {
            "gridcolor": "white",
            "linecolor": "white",
            "ticks": ""
           },
           "bgcolor": "#E5ECF6",
           "radialaxis": {
            "gridcolor": "white",
            "linecolor": "white",
            "ticks": ""
           }
          },
          "scene": {
           "xaxis": {
            "backgroundcolor": "#E5ECF6",
            "gridcolor": "white",
            "gridwidth": 2,
            "linecolor": "white",
            "showbackground": true,
            "ticks": "",
            "zerolinecolor": "white"
           },
           "yaxis": {
            "backgroundcolor": "#E5ECF6",
            "gridcolor": "white",
            "gridwidth": 2,
            "linecolor": "white",
            "showbackground": true,
            "ticks": "",
            "zerolinecolor": "white"
           },
           "zaxis": {
            "backgroundcolor": "#E5ECF6",
            "gridcolor": "white",
            "gridwidth": 2,
            "linecolor": "white",
            "showbackground": true,
            "ticks": "",
            "zerolinecolor": "white"
           }
          },
          "shapedefaults": {
           "line": {
            "color": "#2a3f5f"
           }
          },
          "ternary": {
           "aaxis": {
            "gridcolor": "white",
            "linecolor": "white",
            "ticks": ""
           },
           "baxis": {
            "gridcolor": "white",
            "linecolor": "white",
            "ticks": ""
           },
           "bgcolor": "#E5ECF6",
           "caxis": {
            "gridcolor": "white",
            "linecolor": "white",
            "ticks": ""
           }
          },
          "title": {
           "x": 0.05
          },
          "xaxis": {
           "automargin": true,
           "gridcolor": "white",
           "linecolor": "white",
           "ticks": "",
           "title": {
            "standoff": 15
           },
           "zerolinecolor": "white",
           "zerolinewidth": 2
          },
          "yaxis": {
           "automargin": true,
           "gridcolor": "white",
           "linecolor": "white",
           "ticks": "",
           "title": {
            "standoff": 15
           },
           "zerolinecolor": "white",
           "zerolinewidth": 2
          }
         }
        },
        "xaxis": {
         "anchor": "y",
         "domain": [
          0,
          1
         ],
         "title": {
          "text": "x"
         }
        },
        "yaxis": {
         "anchor": "x",
         "domain": [
          0,
          1
         ],
         "title": {
          "text": "y"
         }
        }
       }
      }
     },
     "metadata": {},
     "output_type": "display_data"
    }
   ],
   "source": [
    "analysis.tsne_scatter_plot_2()"
   ]
  }
 ],
 "metadata": {
  "kernelspec": {
   "display_name": "tensorflowgpu",
   "language": "python",
   "name": "python3"
  },
  "language_info": {
   "codemirror_mode": {
    "name": "ipython",
    "version": 3
   },
   "file_extension": ".py",
   "mimetype": "text/x-python",
   "name": "python",
   "nbconvert_exporter": "python",
   "pygments_lexer": "ipython3",
   "version": "3.10.13"
  }
 },
 "nbformat": 4,
 "nbformat_minor": 2
}
