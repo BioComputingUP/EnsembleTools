{
 "cells": [
  {
   "cell_type": "markdown",
   "metadata": {},
   "source": [
    "# TSNE Analysis"
   ]
  },
  {
   "cell_type": "code",
   "execution_count": 2,
   "metadata": {},
   "outputs": [],
   "source": [
    "import sys\n",
    "sys.path.append('C:/Users/nikol/Documents/GitHub/EnsembleTools')"
   ]
  },
  {
   "cell_type": "code",
   "execution_count": 3,
   "metadata": {},
   "outputs": [],
   "source": [
    "from dpet.ensemble_analysis import EnsembleAnalysis\n",
    "import os\n",
    "os.environ[\"LOKY_MAX_CPU_COUNT\"] = \"8\""
   ]
  },
  {
   "cell_type": "markdown",
   "metadata": {},
   "source": [
    "## Download from PED and Load Data"
   ]
  },
  {
   "cell_type": "code",
   "execution_count": 4,
   "metadata": {},
   "outputs": [
    {
     "name": "stdout",
     "output_type": "stream",
     "text": [
      "Entry 3a1g_B_prod_R1_fit does not match the pattern and will be skipped.\n",
      "Entry 3a1g_B_prod_R2_fit does not match the pattern and will be skipped.\n",
      "Entry 3a1g_B_prod_R3_fit does not match the pattern and will be skipped.\n"
     ]
    }
   ],
   "source": [
    "ens_codes = [\n",
    "    \"3a1g_B_prod_R1_fit\",\n",
    "    \"3a1g_B_prod_R2_fit\",\n",
    "    \"3a1g_B_prod_R3_fit\"\n",
    "]\n",
    "data_dir = 'C:/Users/nikol/Documents/test_dir/3a1g_B'\n",
    "\n",
    "analysis = EnsembleAnalysis(ens_codes, data_dir)\n",
    "analysis.download_from_database(database='ped')"
   ]
  },
  {
   "cell_type": "code",
   "execution_count": 5,
   "metadata": {},
   "outputs": [
    {
     "name": "stdout",
     "output_type": "stream",
     "text": [
      "Trajectory already exists for ensemble 3a1g_B_prod_R1_fit. Loading trajectory.\n",
      "Trajectory already exists for ensemble 3a1g_B_prod_R2_fit. Loading trajectory.\n",
      "Trajectory already exists for ensemble 3a1g_B_prod_R3_fit. Loading trajectory.\n"
     ]
    }
   ],
   "source": [
    "analysis.generate_trajectories()"
   ]
  },
  {
   "cell_type": "markdown",
   "metadata": {},
   "source": [
    "## Featurization"
   ]
  },
  {
   "cell_type": "code",
   "execution_count": 6,
   "metadata": {},
   "outputs": [
    {
     "name": "stdout",
     "output_type": "stream",
     "text": [
      "Performing feature extraction for Ensemble: 3a1g_B_prod_R1_fit.\n",
      "Transformed ensemble shape: (200, 78)\n",
      "Performing feature extraction for Ensemble: 3a1g_B_prod_R2_fit.\n",
      "Transformed ensemble shape: (200, 78)\n",
      "Performing feature extraction for Ensemble: 3a1g_B_prod_R3_fit.\n",
      "Transformed ensemble shape: (200, 78)\n",
      "Feature names: ['GLY2-PHI', 'SER3-PHI', 'MET4-PHI', 'GLU5-PHI', 'ARG6-PHI', 'ILE7-PHI', 'LYS8-PHI', 'GLU9-PHI', 'LEU10-PHI', 'ARG11-PHI', 'ASN12-PHI', 'LEU13-PHI', 'MET14-PHI', 'SER15-PHI', 'GLN16-PHI', 'SER17-PHI', 'ARG18-PHI', 'THR19-PHI', 'ARG20-PHI', 'GLU21-PHI', 'ILE22-PHI', 'LEU23-PHI', 'THR24-PHI', 'LYS25-PHI', 'THR26-PHI', 'THR27-PHI', 'VAL28-PHI', 'ASP29-PHI', 'HIS30-PHI', 'MET31-PHI', 'ALA32-PHI', 'ILE33-PHI', 'ILE34-PHI', 'LYS35-PHI', 'LYS36-PHI', 'TYR37-PHI', 'THR38-PHI', 'SER39-PHI', 'GLY40-PHI', 'GLY1-PSI', 'GLY2-PSI', 'SER3-PSI', 'MET4-PSI', 'GLU5-PSI', 'ARG6-PSI', 'ILE7-PSI', 'LYS8-PSI', 'GLU9-PSI', 'LEU10-PSI', 'ARG11-PSI', 'ASN12-PSI', 'LEU13-PSI', 'MET14-PSI', 'SER15-PSI', 'GLN16-PSI', 'SER17-PSI', 'ARG18-PSI', 'THR19-PSI', 'ARG20-PSI', 'GLU21-PSI', 'ILE22-PSI', 'LEU23-PSI', 'THR24-PSI', 'LYS25-PSI', 'THR26-PSI', 'THR27-PSI', 'VAL28-PSI', 'ASP29-PSI', 'HIS30-PSI', 'MET31-PSI', 'ALA32-PSI', 'ILE33-PSI', 'ILE34-PSI', 'LYS35-PSI', 'LYS36-PSI', 'TYR37-PSI', 'THR38-PSI', 'SER39-PSI']\n",
      "Concatenated featurized ensemble shape: (600, 78)\n"
     ]
    }
   ],
   "source": [
    "analysis.perform_feature_extraction(featurization='phi_psi')"
   ]
  },
  {
   "cell_type": "code",
   "execution_count": 7,
   "metadata": {},
   "outputs": [
    {
     "data": {
      "text/plain": [
       "600"
      ]
     },
     "execution_count": 7,
     "metadata": {},
     "output_type": "execute_result"
    }
   ],
   "source": [
    "rg = analysis.rg_calculator()\n",
    "len(rg)"
   ]
  },
  {
   "cell_type": "markdown",
   "metadata": {},
   "source": [
    "## Dimensionality Reduction"
   ]
  },
  {
   "cell_type": "code",
   "execution_count": 8,
   "metadata": {},
   "outputs": [
    {
     "name": "stdout",
     "output_type": "stream",
     "text": [
      "tsne is running...\n"
     ]
    },
    {
     "name": "stderr",
     "output_type": "stream",
     "text": [
      "c:\\Users\\nikol\\anaconda3\\envs\\tensorflowgpu\\lib\\site-packages\\sklearn\\cluster\\_kmeans.py:1446: UserWarning: KMeans is known to have a memory leak on Windows with MKL, when there are less chunks than available threads. You can avoid it by setting the environment variable OMP_NUM_THREADS=3.\n",
      "  warnings.warn(\n",
      "c:\\Users\\nikol\\anaconda3\\envs\\tensorflowgpu\\lib\\site-packages\\sklearn\\cluster\\_kmeans.py:1446: UserWarning: KMeans is known to have a memory leak on Windows with MKL, when there are less chunks than available threads. You can avoid it by setting the environment variable OMP_NUM_THREADS=3.\n",
      "  warnings.warn(\n",
      "c:\\Users\\nikol\\anaconda3\\envs\\tensorflowgpu\\lib\\site-packages\\sklearn\\cluster\\_kmeans.py:1446: UserWarning: KMeans is known to have a memory leak on Windows with MKL, when there are less chunks than available threads. You can avoid it by setting the environment variable OMP_NUM_THREADS=3.\n",
      "  warnings.warn(\n",
      "c:\\Users\\nikol\\anaconda3\\envs\\tensorflowgpu\\lib\\site-packages\\sklearn\\cluster\\_kmeans.py:1446: UserWarning: KMeans is known to have a memory leak on Windows with MKL, when there are less chunks than available threads. You can avoid it by setting the environment variable OMP_NUM_THREADS=3.\n",
      "  warnings.warn(\n",
      "c:\\Users\\nikol\\anaconda3\\envs\\tensorflowgpu\\lib\\site-packages\\sklearn\\cluster\\_kmeans.py:1446: UserWarning: KMeans is known to have a memory leak on Windows with MKL, when there are less chunks than available threads. You can avoid it by setting the environment variable OMP_NUM_THREADS=3.\n",
      "  warnings.warn(\n",
      "c:\\Users\\nikol\\anaconda3\\envs\\tensorflowgpu\\lib\\site-packages\\sklearn\\cluster\\_kmeans.py:1446: UserWarning: KMeans is known to have a memory leak on Windows with MKL, when there are less chunks than available threads. You can avoid it by setting the environment variable OMP_NUM_THREADS=3.\n",
      "  warnings.warn(\n",
      "c:\\Users\\nikol\\anaconda3\\envs\\tensorflowgpu\\lib\\site-packages\\sklearn\\cluster\\_kmeans.py:1446: UserWarning: KMeans is known to have a memory leak on Windows with MKL, when there are less chunks than available threads. You can avoid it by setting the environment variable OMP_NUM_THREADS=3.\n",
      "  warnings.warn(\n",
      "c:\\Users\\nikol\\anaconda3\\envs\\tensorflowgpu\\lib\\site-packages\\sklearn\\cluster\\_kmeans.py:1446: UserWarning: KMeans is known to have a memory leak on Windows with MKL, when there are less chunks than available threads. You can avoid it by setting the environment variable OMP_NUM_THREADS=3.\n",
      "  warnings.warn(\n",
      "c:\\Users\\nikol\\anaconda3\\envs\\tensorflowgpu\\lib\\site-packages\\sklearn\\cluster\\_kmeans.py:1446: UserWarning: KMeans is known to have a memory leak on Windows with MKL, when there are less chunks than available threads. You can avoid it by setting the environment variable OMP_NUM_THREADS=3.\n",
      "  warnings.warn(\n",
      "c:\\Users\\nikol\\anaconda3\\envs\\tensorflowgpu\\lib\\site-packages\\sklearn\\cluster\\_kmeans.py:1446: UserWarning: KMeans is known to have a memory leak on Windows with MKL, when there are less chunks than available threads. You can avoid it by setting the environment variable OMP_NUM_THREADS=3.\n",
      "  warnings.warn(\n",
      "c:\\Users\\nikol\\anaconda3\\envs\\tensorflowgpu\\lib\\site-packages\\sklearn\\cluster\\_kmeans.py:1446: UserWarning: KMeans is known to have a memory leak on Windows with MKL, when there are less chunks than available threads. You can avoid it by setting the environment variable OMP_NUM_THREADS=3.\n",
      "  warnings.warn(\n",
      "c:\\Users\\nikol\\anaconda3\\envs\\tensorflowgpu\\lib\\site-packages\\sklearn\\cluster\\_kmeans.py:1446: UserWarning: KMeans is known to have a memory leak on Windows with MKL, when there are less chunks than available threads. You can avoid it by setting the environment variable OMP_NUM_THREADS=3.\n",
      "  warnings.warn(\n",
      "c:\\Users\\nikol\\anaconda3\\envs\\tensorflowgpu\\lib\\site-packages\\sklearn\\cluster\\_kmeans.py:1446: UserWarning: KMeans is known to have a memory leak on Windows with MKL, when there are less chunks than available threads. You can avoid it by setting the environment variable OMP_NUM_THREADS=3.\n",
      "  warnings.warn(\n",
      "c:\\Users\\nikol\\anaconda3\\envs\\tensorflowgpu\\lib\\site-packages\\sklearn\\cluster\\_kmeans.py:1446: UserWarning: KMeans is known to have a memory leak on Windows with MKL, when there are less chunks than available threads. You can avoid it by setting the environment variable OMP_NUM_THREADS=3.\n",
      "  warnings.warn(\n",
      "c:\\Users\\nikol\\anaconda3\\envs\\tensorflowgpu\\lib\\site-packages\\sklearn\\cluster\\_kmeans.py:1446: UserWarning: KMeans is known to have a memory leak on Windows with MKL, when there are less chunks than available threads. You can avoid it by setting the environment variable OMP_NUM_THREADS=3.\n",
      "  warnings.warn(\n",
      "c:\\Users\\nikol\\anaconda3\\envs\\tensorflowgpu\\lib\\site-packages\\sklearn\\cluster\\_kmeans.py:1446: UserWarning: KMeans is known to have a memory leak on Windows with MKL, when there are less chunks than available threads. You can avoid it by setting the environment variable OMP_NUM_THREADS=3.\n",
      "  warnings.warn(\n"
     ]
    },
    {
     "name": "stdout",
     "output_type": "stream",
     "text": [
      "Best Perplexity: 50\n",
      "Best Number of Clusters: 3\n"
     ]
    },
    {
     "name": "stderr",
     "output_type": "stream",
     "text": [
      "c:\\Users\\nikol\\anaconda3\\envs\\tensorflowgpu\\lib\\site-packages\\sklearn\\cluster\\_kmeans.py:1446: UserWarning: KMeans is known to have a memory leak on Windows with MKL, when there are less chunks than available threads. You can avoid it by setting the environment variable OMP_NUM_THREADS=3.\n",
      "  warnings.warn(\n",
      "c:\\Users\\nikol\\anaconda3\\envs\\tensorflowgpu\\lib\\site-packages\\sklearn\\cluster\\_kmeans.py:1446: UserWarning: KMeans is known to have a memory leak on Windows with MKL, when there are less chunks than available threads. You can avoid it by setting the environment variable OMP_NUM_THREADS=3.\n",
      "  warnings.warn(\n",
      "c:\\Users\\nikol\\anaconda3\\envs\\tensorflowgpu\\lib\\site-packages\\sklearn\\cluster\\_kmeans.py:1446: UserWarning: KMeans is known to have a memory leak on Windows with MKL, when there are less chunks than available threads. You can avoid it by setting the environment variable OMP_NUM_THREADS=3.\n",
      "  warnings.warn(\n",
      "c:\\Users\\nikol\\anaconda3\\envs\\tensorflowgpu\\lib\\site-packages\\sklearn\\cluster\\_kmeans.py:1446: UserWarning: KMeans is known to have a memory leak on Windows with MKL, when there are less chunks than available threads. You can avoid it by setting the environment variable OMP_NUM_THREADS=3.\n",
      "  warnings.warn(\n",
      "c:\\Users\\nikol\\anaconda3\\envs\\tensorflowgpu\\lib\\site-packages\\sklearn\\cluster\\_kmeans.py:1446: UserWarning: KMeans is known to have a memory leak on Windows with MKL, when there are less chunks than available threads. You can avoid it by setting the environment variable OMP_NUM_THREADS=3.\n",
      "  warnings.warn(\n",
      "c:\\Users\\nikol\\anaconda3\\envs\\tensorflowgpu\\lib\\site-packages\\sklearn\\cluster\\_kmeans.py:1446: UserWarning: KMeans is known to have a memory leak on Windows with MKL, when there are less chunks than available threads. You can avoid it by setting the environment variable OMP_NUM_THREADS=3.\n",
      "  warnings.warn(\n",
      "c:\\Users\\nikol\\anaconda3\\envs\\tensorflowgpu\\lib\\site-packages\\sklearn\\cluster\\_kmeans.py:1446: UserWarning: KMeans is known to have a memory leak on Windows with MKL, when there are less chunks than available threads. You can avoid it by setting the environment variable OMP_NUM_THREADS=3.\n",
      "  warnings.warn(\n",
      "c:\\Users\\nikol\\anaconda3\\envs\\tensorflowgpu\\lib\\site-packages\\sklearn\\cluster\\_kmeans.py:1446: UserWarning: KMeans is known to have a memory leak on Windows with MKL, when there are less chunks than available threads. You can avoid it by setting the environment variable OMP_NUM_THREADS=3.\n",
      "  warnings.warn(\n"
     ]
    }
   ],
   "source": [
    "analysis.fit_dimensionality_reduction(method='tsne', perplexity_vals = [10, 50, 90], circular=True, range_n_clusters=range(2,10,1))"
   ]
  },
  {
   "cell_type": "markdown",
   "metadata": {},
   "source": [
    "## Analysis"
   ]
  },
  {
   "cell_type": "code",
   "execution_count": 8,
   "metadata": {},
   "outputs": [
    {
     "name": "stdout",
     "output_type": "stream",
     "text": [
      "[427 428 429 430 431 432 440 443 444 445 446 447 448 449 450 451 452 453\n",
      " 454 455 456 457 458 459 460 461 462 463 464 465 466 467 468 469 470 471\n",
      " 472 473 474 475 476 477 478 479 480 481 482 483 484 485 486 487 488 489\n",
      " 490 491 492 493 494 495 496 497 498 499 500 501 502 503 504 505 506 507\n",
      " 508 509 510 511 512 513 514 515 516 517 518 519 520 521 522 523 524 525\n",
      " 526 527 528 529 530 531 532 533 534 535 536 537 538 539 540 541 542 543\n",
      " 544 545 546 547 548 549 550 551 552 553 554 555 556 557 558 559 560 561\n",
      " 562 563 564 565 566 567 568 569 570 571 572 573 574 575 576 577 578 579\n",
      " 580 581 582 583 584 585 586 587 588 589 590 591 592 593 594 595 596 597\n",
      " 598 599] 0\n",
      "[  0   1   2   3   4   5   6   7   8   9  10  11  12  13  14  15  16  17\n",
      "  18  19  20  21  22  23  24  25  26  27  28  29  30  31  32  33  34  36\n",
      "  37  38  39 200 201 202 203 204 205 206 207 208 209 210 211 212 213 214\n",
      " 215 216 217 218 219 220 221 222 223 224 225 226 227 228 229 230 231 232\n",
      " 233 234 235 236 237 238 239 240 241 242 243 244 245 246 247 248 249 250\n",
      " 251 252 253 254 255 256 257 258 259 260 261 262 263 264 265 266 267 268\n",
      " 269 270 271 272 273 274 275 276 277 278 279 280 281 282 283 284 285 286\n",
      " 287 288 289 290 291 292 293 294 295 296 297 298 299 300 301 302 303 304\n",
      " 305 306 307 308 309 310 311 312 313 314 315 316 317 318 319 320 321 322\n",
      " 323 324 325 326 327 328 329 330 331 332 333 334 335 336 337 338 339 340\n",
      " 341 342 343 344 345 346 347 348 349 350 351 352 353 354 355 356 357 358\n",
      " 359 360 361 362 363 364 365 366 367 368 369 370 371 372 373 374 375 376\n",
      " 377 378 379 380 381 382 383 384 385 386 387 388 389 390 391 392 393 394\n",
      " 395 396 397 398 399 400 401 402 403 404 405 406 407 408 409 410 411 412\n",
      " 413 414 415 416 417 418 419 420 421 422 423 424 425 426 433 434 435 436\n",
      " 437 438 439 441 442] 1\n"
     ]
    },
    {
     "data": {
      "image/png": "[encoded data removed]",
      "text/plain": [
       "<Figure size 1000x500 with 2 Axes>"
      ]
     },
     "metadata": {},
     "output_type": "display_data"
    }
   ],
   "source": [
    "analysis.tsne_ramachandran_plot()"
   ]
  },
  {
   "cell_type": "code",
   "execution_count": 9,
   "metadata": {},
   "outputs": [
    {
     "name": "stdout",
     "output_type": "stream",
     "text": [
      "[  0   1   2   3   4   5   6   7   8   9  10  11  12  13  14  15  16  17\n",
      "  18  19  20  21  22  23  24  25  26  27  28  29  30  31  32  33  34  36\n",
      "  37  38  39 200 201 202 203 204 205 206 207 208 209 210 211 212 213 214\n",
      " 215 216 217 218 219 220 221 222 223 224 225 226 227 228 229 230 231 232\n",
      " 233 234 235 236 237 238 239 240 241 242 243 244 245 246 247 248 249 250\n",
      " 251 252 253 254 255 256 257 258 259 260 261 262 263 264 265 266 267 268\n",
      " 269 270 271 272 273 274 275 276 277 278 279 280 281 282 283 284 285 286\n",
      " 287 288 289 290 291 292 293 294 295 296 297 298 299 300 301 302 303 304\n",
      " 305 306 307 308 309 310 311 312 313 314 315 316 317 318 319 320 321 322\n",
      " 323 324 325 326 327 328 329 330 331 332 333 334 335 336 337 338 339 340\n",
      " 341 342 343 344 345 346 347 348 349 350 351 352 353 354 355 356 357 358\n",
      " 359 360 361 362 363 364 365 366 367 368 369 370 371 372 373 374 375 376\n",
      " 377 378 379 380 381 382 383 384 385 386 387 388 389 390 391 392 393 394\n",
      " 395 396 397 398 399 400 401 402 403 404 405 406 407 408 409 410 411 412\n",
      " 413 414 415 416 417 418 419 420 421 422 423 424 425 426 433 434 435 436\n",
      " 437 438 439 441 442]\n",
      "[427 428 429 430 431 432 440 443 444 445 446 447 448 449 450 451 452 453\n",
      " 454 455 456 457 458 459 460 461 462 463 464 465 466 467 468 469 470 471\n",
      " 472 473 474 475 476 477 478 479 480 481 482 483 484 485 486 487 488 489\n",
      " 490 491 492 493 494 495 496 497 498 499 500 501 502 503 504 505 506 507\n",
      " 508 509 510 511 512 513 514 515 516 517 518 519 520 521 522 523 524 525\n",
      " 526 527 528 529 530 531 532 533 534 535 536 537 538 539 540 541 542 543\n",
      " 544 545 546 547 548 549 550 551 552 553 554 555 556 557 558 559 560 561\n",
      " 562 563 564 565 566 567 568 569 570 571 572 573 574 575 576 577 578 579\n",
      " 580 581 582 583 584 585 586 587 588 589 590 591 592 593 594 595 596 597\n",
      " 598 599]\n"
     ]
    },
    {
     "data": {
      "image/png": "[encoded data removed]",
      "text/plain": [
       "<Figure size 1000x500 with 4 Axes>"
      ]
     },
     "metadata": {},
     "output_type": "display_data"
    }
   ],
   "source": [
    "analysis.tsne_ramachandran_plot_density()"
   ]
  },
  {
   "cell_type": "code",
   "execution_count": 10,
   "metadata": {},
   "outputs": [
    {
     "data": {
      "image/png": "[encoded data removed]",
      "text/plain": [
       "<Figure size 1400x400 with 5 Axes>"
      ]
     },
     "metadata": {},
     "output_type": "display_data"
    }
   ],
   "source": [
    "analysis.tsne_scatter_plot()"
   ]
  },
  {
   "cell_type": "code",
   "execution_count": 11,
   "metadata": {},
   "outputs": [
    {
     "data": {
      "application/vnd.plotly.v1+json": {
       "config": {
        "plotlyServerURL": "https://plot.ly"
       },
       "data": [
        {
         "customdata": [
          [
           0
          ],
          [
           1
          ],
          [
           2
          ],
          [
           3
          ],
          [
           4
          ],
          [
           5
          ],
          [
           6
          ],
          [
           7
          ],
          [
           8
          ],
          [
           9
          ],
          [
           10
          ],
          [
           11
          ],
          [
           12
          ],
          [
           13
          ],
          [
           14
          ],
          [
           15
          ],
          [
           16
          ],
          [
           17
          ],
          [
           18
          ],
          [
           19
          ],
          [
           20
          ],
          [
           21
          ],
          [
           22
          ],
          [
           23
          ],
          [
           24
          ],
          [
           25
          ],
          [
           26
          ],
          [
           27
          ],
          [
           28
          ],
          [
           29
          ],
          [
           30
          ],
          [
           31
          ],
          [
           32
          ],
          [
           33
          ],
          [
           34
          ],
          [
           35
          ],
          [
           36
          ],
          [
           37
          ],
          [
           38
          ],
          [
           39
          ],
          [
           40
          ],
          [
           41
          ],
          [
           42
          ],
          [
           43
          ],
          [
           44
          ],
          [
           45
          ],
          [
           46
          ],
          [
           47
          ],
          [
           48
          ],
          [
           49
          ],
          [
           50
          ],
          [
           51
          ],
          [
           52
          ],
          [
           53
          ],
          [
           54
          ],
          [
           55
          ],
          [
           56
          ],
          [
           57
          ],
          [
           58
          ],
          [
           59
          ],
          [
           60
          ],
          [
           61
          ],
          [
           62
          ],
          [
           63
          ],
          [
           64
          ],
          [
           65
          ],
          [
           66
          ],
          [
           67
          ],
          [
           68
          ],
          [
           69
          ],
          [
           70
          ],
          [
           71
          ],
          [
           72
          ],
          [
           73
          ],
          [
           74
          ],
          [
           75
          ],
          [
           76
          ],
          [
           77
          ],
          [
           78
          ],
          [
           79
          ],
          [
           80
          ],
          [
           81
          ],
          [
           82
          ],
          [
           83
          ],
          [
           84
          ],
          [
           85
          ],
          [
           86
          ],
          [
           87
          ],
          [
           88
          ],
          [
           89
          ],
          [
           90
          ],
          [
           91
          ],
          [
           92
          ],
          [
           93
          ],
          [
           94
          ],
          [
           95
          ],
          [
           96
          ],
          [
           97
          ],
          [
           98
          ],
          [
           99
          ],
          [
           100
          ],
          [
           101
          ],
          [
           102
          ],
          [
           103
          ],
          [
           104
          ],
          [
           105
          ],
          [
           106
          ],
          [
           107
          ],
          [
           108
          ],
          [
           109
          ],
          [
           110
          ],
          [
           111
          ],
          [
           112
          ],
          [
           113
          ],
          [
           114
          ],
          [
           115
          ],
          [
           116
          ],
          [
           117
          ],
          [
           118
          ],
          [
           119
          ],
          [
           120
          ],
          [
           121
          ],
          [
           122
          ],
          [
           123
          ],
          [
           124
          ],
          [
           125
          ],
          [
           126
          ],
          [
           127
          ],
          [
           128
          ],
          [
           129
          ],
          [
           130
          ],
          [
           131
          ],
          [
           132
          ],
          [
           133
          ],
          [
           134
          ],
          [
           135
          ],
          [
           136
          ],
          [
           137
          ],
          [
           138
          ],
          [
           139
          ],
          [
           140
          ],
          [
           141
          ],
          [
           142
          ],
          [
           143
          ],
          [
           144
          ],
          [
           145
          ],
          [
           146
          ],
          [
           147
          ],
          [
           148
          ],
          [
           149
          ],
          [
           150
          ],
          [
           151
          ],
          [
           152
          ],
          [
           153
          ],
          [
           154
          ],
          [
           155
          ],
          [
           156
          ],
          [
           157
          ],
          [
           158
          ],
          [
           159
          ],
          [
           160
          ],
          [
           161
          ],
          [
           162
          ],
          [
           163
          ],
          [
           164
          ],
          [
           165
          ],
          [
           166
          ],
          [
           167
          ],
          [
           168
          ],
          [
           169
          ],
          [
           170
          ],
          [
           171
          ],
          [
           172
          ],
          [
           173
          ],
          [
           174
          ],
          [
           175
          ],
          [
           176
          ],
          [
           177
          ],
          [
           178
          ],
          [
           179
          ],
          [
           180
          ],
          [
           181
          ],
          [
           182
          ],
          [
           183
          ],
          [
           184
          ],
          [
           185
          ],
          [
           186
          ],
          [
           187
          ],
          [
           188
          ],
          [
           189
          ],
          [
           190
          ],
          [
           191
          ],
          [
           192
          ],
          [
           193
          ],
          [
           194
          ],
          [
           195
          ],
          [
           196
          ],
          [
           197
          ],
          [
           198
          ],
          [
           199
          ],
          [
           200
          ],
          [
           201
          ],
          [
           202
          ],
          [
           203
          ],
          [
           204
          ],
          [
           205
          ],
          [
           206
          ],
          [
           207
          ],
          [
           208
          ],
          [
           209
          ],
          [
           210
          ],
          [
           211
          ],
          [
           212
          ],
          [
           213
          ],
          [
           214
          ],
          [
           215
          ],
          [
           216
          ],
          [
           217
          ],
          [
           218
          ],
          [
           219
          ],
          [
           220
          ],
          [
           221
          ],
          [
           222
          ],
          [
           223
          ],
          [
           224
          ],
          [
           225
          ],
          [
           226
          ],
          [
           227
          ],
          [
           228
          ],
          [
           229
          ],
          [
           230
          ],
          [
           231
          ],
          [
           232
          ],
          [
           233
          ],
          [
           234
          ],
          [
           235
          ],
          [
           236
          ],
          [
           237
          ],
          [
           238
          ],
          [
           239
          ],
          [
           240
          ],
          [
           241
          ],
          [
           242
          ],
          [
           243
          ],
          [
           244
          ],
          [
           245
          ],
          [
           246
          ],
          [
           247
          ],
          [
           248
          ],
          [
           249
          ],
          [
           250
          ],
          [
           251
          ],
          [
           252
          ],
          [
           253
          ],
          [
           254
          ],
          [
           255
          ],
          [
           256
          ],
          [
           257
          ],
          [
           258
          ],
          [
           259
          ],
          [
           260
          ],
          [
           261
          ],
          [
           262
          ],
          [
           263
          ],
          [
           264
          ],
          [
           265
          ],
          [
           266
          ],
          [
           267
          ],
          [
           268
          ],
          [
           269
          ],
          [
           270
          ],
          [
           271
          ],
          [
           272
          ],
          [
           273
          ],
          [
           274
          ],
          [
           275
          ],
          [
           276
          ],
          [
           277
          ],
          [
           278
          ],
          [
           279
          ],
          [
           280
          ],
          [
           281
          ],
          [
           282
          ],
          [
           283
          ],
          [
           284
          ],
          [
           285
          ],
          [
           286
          ],
          [
           287
          ],
          [
           288
          ],
          [
           289
          ],
          [
           290
          ],
          [
           291
          ],
          [
           292
          ],
          [
           293
          ],
          [
           294
          ],
          [
           295
          ],
          [
           296
          ],
          [
           297
          ],
          [
           298
          ],
          [
           299
          ],
          [
           300
          ],
          [
           301
          ],
          [
           302
          ],
          [
           303
          ],
          [
           304
          ],
          [
           305
          ],
          [
           306
          ],
          [
           307
          ],
          [
           308
          ],
          [
           309
          ],
          [
           310
          ],
          [
           311
          ],
          [
           312
          ],
          [
           313
          ],
          [
           314
          ],
          [
           315
          ],
          [
           316
          ],
          [
           317
          ],
          [
           318
          ],
          [
           319
          ],
          [
           320
          ],
          [
           321
          ],
          [
           322
          ],
          [
           323
          ],
          [
           324
          ],
          [
           325
          ],
          [
           326
          ],
          [
           327
          ],
          [
           328
          ],
          [
           329
          ],
          [
           330
          ],
          [
           331
          ],
          [
           332
          ],
          [
           333
          ],
          [
           334
          ],
          [
           335
          ],
          [
           336
          ],
          [
           337
          ],
          [
           338
          ],
          [
           339
          ],
          [
           340
          ],
          [
           341
          ],
          [
           342
          ],
          [
           343
          ],
          [
           344
          ],
          [
           345
          ],
          [
           346
          ],
          [
           347
          ],
          [
           348
          ],
          [
           349
          ],
          [
           350
          ],
          [
           351
          ],
          [
           352
          ],
          [
           353
          ],
          [
           354
          ],
          [
           355
          ],
          [
           356
          ],
          [
           357
          ],
          [
           358
          ],
          [
           359
          ],
          [
           360
          ],
          [
           361
          ],
          [
           362
          ],
          [
           363
          ],
          [
           364
          ],
          [
           365
          ],
          [
           366
          ],
          [
           367
          ],
          [
           368
          ],
          [
           369
          ],
          [
           370
          ],
          [
           371
          ],
          [
           372
          ],
          [
           373
          ],
          [
           374
          ],
          [
           375
          ],
          [
           376
          ],
          [
           377
          ],
          [
           378
          ],
          [
           379
          ],
          [
           380
          ],
          [
           381
          ],
          [
           382
          ],
          [
           383
          ],
          [
           384
          ],
          [
           385
          ],
          [
           386
          ],
          [
           387
          ],
          [
           388
          ],
          [
           389
          ],
          [
           390
          ],
          [
           391
          ],
          [
           392
          ],
          [
           393
          ],
          [
           394
          ],
          [
           395
          ],
          [
           396
          ],
          [
           397
          ],
          [
           398
          ],
          [
           399
          ],
          [
           400
          ],
          [
           401
          ],
          [
           402
          ],
          [
           403
          ],
          [
           404
          ],
          [
           405
          ],
          [
           406
          ],
          [
           407
          ],
          [
           408
          ],
          [
           409
          ],
          [
           410
          ],
          [
           411
          ],
          [
           412
          ],
          [
           413
          ],
          [
           414
          ],
          [
           415
          ],
          [
           416
          ],
          [
           417
          ],
          [
           418
          ],
          [
           419
          ],
          [
           420
          ],
          [
           421
          ],
          [
           422
          ],
          [
           423
          ],
          [
           424
          ],
          [
           425
          ],
          [
           426
          ],
          [
           427
          ],
          [
           428
          ],
          [
           429
          ],
          [
           430
          ],
          [
           431
          ],
          [
           432
          ],
          [
           433
          ],
          [
           434
          ],
          [
           435
          ],
          [
           436
          ],
          [
           437
          ],
          [
           438
          ],
          [
           439
          ],
          [
           440
          ],
          [
           441
          ],
          [
           442
          ],
          [
           443
          ],
          [
           444
          ],
          [
           445
          ],
          [
           446
          ],
          [
           447
          ],
          [
           448
          ],
          [
           449
          ],
          [
           450
          ],
          [
           451
          ],
          [
           452
          ],
          [
           453
          ],
          [
           454
          ],
          [
           455
          ],
          [
           456
          ],
          [
           457
          ],
          [
           458
          ],
          [
           459
          ],
          [
           460
          ],
          [
           461
          ],
          [
           462
          ],
          [
           463
          ],
          [
           464
          ],
          [
           465
          ],
          [
           466
          ],
          [
           467
          ],
          [
           468
          ],
          [
           469
          ],
          [
           470
          ],
          [
           471
          ],
          [
           472
          ],
          [
           473
          ],
          [
           474
          ],
          [
           475
          ],
          [
           476
          ],
          [
           477
          ],
          [
           478
          ],
          [
           479
          ],
          [
           480
          ],
          [
           481
          ],
          [
           482
          ],
          [
           483
          ],
          [
           484
          ],
          [
           485
          ],
          [
           486
          ],
          [
           487
          ],
          [
           488
          ],
          [
           489
          ],
          [
           490
          ],
          [
           491
          ],
          [
           492
          ],
          [
           493
          ],
          [
           494
          ],
          [
           495
          ],
          [
           496
          ],
          [
           497
          ],
          [
           498
          ],
          [
           499
          ],
          [
           500
          ],
          [
           501
          ],
          [
           502
          ],
          [
           503
          ],
          [
           504
          ],
          [
           505
          ],
          [
           506
          ],
          [
           507
          ],
          [
           508
          ],
          [
           509
          ],
          [
           510
          ],
          [
           511
          ],
          [
           512
          ],
          [
           513
          ],
          [
           514
          ],
          [
           515
          ],
          [
           516
          ],
          [
           517
          ],
          [
           518
          ],
          [
           519
          ],
          [
           520
          ],
          [
           521
          ],
          [
           522
          ],
          [
           523
          ],
          [
           524
          ],
          [
           525
          ],
          [
           526
          ],
          [
           527
          ],
          [
           528
          ],
          [
           529
          ],
          [
           530
          ],
          [
           531
          ],
          [
           532
          ],
          [
           533
          ],
          [
           534
          ],
          [
           535
          ],
          [
           536
          ],
          [
           537
          ],
          [
           538
          ],
          [
           539
          ],
          [
           540
          ],
          [
           541
          ],
          [
           542
          ],
          [
           543
          ],
          [
           544
          ],
          [
           545
          ],
          [
           546
          ],
          [
           547
          ],
          [
           548
          ],
          [
           549
          ],
          [
           550
          ],
          [
           551
          ],
          [
           552
          ],
          [
           553
          ],
          [
           554
          ],
          [
           555
          ],
          [
           556
          ],
          [
           557
          ],
          [
           558
          ],
          [
           559
          ],
          [
           560
          ],
          [
           561
          ],
          [
           562
          ],
          [
           563
          ],
          [
           564
          ],
          [
           565
          ],
          [
           566
          ],
          [
           567
          ],
          [
           568
          ],
          [
           569
          ],
          [
           570
          ],
          [
           571
          ],
          [
           572
          ],
          [
           573
          ],
          [
           574
          ],
          [
           575
          ],
          [
           576
          ],
          [
           577
          ],
          [
           578
          ],
          [
           579
          ],
          [
           580
          ],
          [
           581
          ],
          [
           582
          ],
          [
           583
          ],
          [
           584
          ],
          [
           585
          ],
          [
           586
          ],
          [
           587
          ],
          [
           588
          ],
          [
           589
          ],
          [
           590
          ],
          [
           591
          ],
          [
           592
          ],
          [
           593
          ],
          [
           594
          ],
          [
           595
          ],
          [
           596
          ],
          [
           597
          ],
          [
           598
          ],
          [
           599
          ]
         ],
         "hovertemplate": "x=%{x}<br>y=%{y}<br>Row=%{customdata[0]}<br>Rg Labels=%{marker.color}<extra></extra>",
         "legendgroup": "",
         "marker": {
          "color": [
           12.548914114134678,
           13.764653017105308,
           11.850339605299604,
           10.775857772894447,
           10.9912390175562,
           10.721029447584232,
           10.807022932134212,
           10.485944289716143,
           10.689255767351186,
           10.420857309470694,
           10.50625696904375,
           10.677068831906828,
           10.4189912348761,
           10.436363556599012,
           10.320751751535175,
           10.502286174889186,
           10.28511862996407,
           10.368607692153915,
           10.665332538345567,
           10.472695740053313,
           10.57090844109982,
           10.24698743082018,
           10.716745364084318,
           10.782027893341803,
           10.491188899741207,
           10.962871453771317,
           10.567832153322112,
           10.657883913604545,
           10.627584284372535,
           10.558485504691957,
           10.768583943456388,
           10.68262957307981,
           10.55766309626299,
           10.42582081087673,
           10.527618488390187,
           10.374497378662557,
           10.548549004515195,
           10.44413955023775,
           10.438207672000512,
           10.418479954131444,
           10.246544773242846,
           10.15127348722154,
           10.128147660150011,
           10.332434541921124,
           10.090274742835275,
           10.103496751356314,
           10.434594178278516,
           10.233370979997565,
           10.143599772323302,
           10.566915533883478,
           10.470421263606616,
           10.45099807992748,
           10.310927448550709,
           10.686509535581388,
           10.509354203047002,
           10.50426617087348,
           10.444050773581349,
           10.555505930154805,
           10.721829167637942,
           10.274134844049794,
           10.320562212220972,
           10.138410586765671,
           10.333070724113544,
           10.425897806496227,
           10.548440449812833,
           10.528023377497057,
           10.440048447395052,
           10.549943643445568,
           10.523939626437237,
           10.933882810335326,
           11.158140515334779,
           10.832634907144099,
           10.94060305337379,
           10.606178327040304,
           10.51159910566582,
           10.685407019945785,
           11.287668290309089,
           10.661188081651673,
           10.755418142199778,
           10.876268524135362,
           10.886425728212256,
           11.02827534371671,
           10.823695837278802,
           10.916527055528833,
           10.602195302178266,
           10.905586466419965,
           10.790928451910947,
           10.931650777451182,
           11.483879903064713,
           10.685724821576919,
           10.910504553837372,
           11.149483825337798,
           10.715532840250411,
           10.88534265936312,
           10.981933197351964,
           11.195614935023794,
           11.13987324157128,
           11.150298295648046,
           11.142190183389255,
           10.817793179192513,
           10.911948732785353,
           10.758258362117381,
           11.128121867525744,
           10.86026270122476,
           11.077359876416269,
           10.380065006003143,
           10.048645988516176,
           10.106457167792735,
           10.356884721703,
           10.540750226951491,
           11.59089851135411,
           11.30408230107001,
           12.023884172167318,
           11.775190340799806,
           11.81998009214458,
           11.804776172734393,
           11.532866849599925,
           12.207204160816476,
           11.880199208577714,
           12.145203651220957,
           12.313120479939233,
           12.449515219895117,
           12.52228101694685,
           11.886293313054777,
           12.193205435771937,
           12.212166814060428,
           11.863930160140843,
           12.007934660447766,
           12.119512353717532,
           12.015735530528087,
           11.724850317046457,
           12.048995578695239,
           11.913646309340955,
           11.79056043390805,
           12.314232371711292,
           11.426194842345108,
           11.913477582559954,
           11.809148126970255,
           11.539802714007536,
           11.776775476812773,
           11.63356319968301,
           11.628434530598827,
           11.86109472908325,
           11.56870619916521,
           11.334767570467864,
           11.110520188925786,
           11.173543973927112,
           11.521988630251172,
           11.427215198184559,
           11.49175639152478,
           11.220888724332497,
           11.371258611059755,
           11.413543108497535,
           11.574352511700363,
           11.560456396053826,
           11.476728002987324,
           11.531909337587864,
           11.599836131719481,
           11.592280386876364,
           11.5187561670872,
           11.47639484502198,
           11.936823167227104,
           11.734684964034816,
           11.75486224103335,
           11.56507749871221,
           11.600454347164291,
           11.58474920440897,
           11.493174982819546,
           11.54978688602399,
           11.62891188709185,
           11.422849009362253,
           11.632618445212131,
           11.713132102753871,
           12.135482088201229,
           11.7165696681332,
           11.596950400321337,
           11.71504329523454,
           11.761749900982624,
           11.922555653928042,
           11.40954151120525,
           11.432880640731804,
           11.555023023143118,
           11.191413749375185,
           11.128756525614998,
           11.180583198054673,
           11.094249898983533,
           11.39473043422404,
           11.298522587196398,
           11.330481546844325,
           11.050106427416138,
           11.119834044796908,
           11.252447493285944,
           11.145324202625735,
           11.357471850527812,
           11.32572540579975,
           11.13976378641101,
           11.563525346276545,
           11.015586734250126,
           11.19637031111603,
           11.318286975268578,
           12.548914114134678,
           11.941016712650438,
           10.914478785024313,
           10.949609811019826,
           10.994058204322874,
           11.223041624768504,
           10.764967737599637,
           10.871286358514157,
           11.923544192024673,
           10.686157092657446,
           10.696761496815261,
           10.45857187605754,
           10.37621411650621,
           10.426628989073903,
           10.652560203931692,
           10.758534861105238,
           10.83086751974259,
           10.456220373387751,
           10.716537974717186,
           10.478654002940914,
           10.514466096044066,
           10.463119582291247,
           10.747068199091478,
           10.894643359928475,
           10.728707738192773,
           10.57201513096941,
           10.775298348676436,
           10.667767044384677,
           10.578742743396816,
           10.723938204605192,
           10.457213296723722,
           10.602090896253015,
           10.542018011207508,
           10.498167105030964,
           10.791737739861944,
           10.595885167657892,
           10.836359405910574,
           10.645581846119349,
           10.44201369944913,
           10.669067910289511,
           10.820659558317526,
           10.87111639150856,
           10.78745140510022,
           10.739882898754228,
           10.423270386718162,
           10.371378993977284,
           10.589094007421236,
           10.37442075559461,
           10.44025242475017,
           10.432260562752147,
           10.454636297899647,
           10.492467005410946,
           10.470743335783402,
           10.374198163230817,
           10.741899515918071,
           10.7853588178059,
           10.80675535875693,
           10.620664153997035,
           11.195560762448958,
           11.247186922241676,
           11.339809976874971,
           11.171175851240386,
           11.255097028566736,
           11.256117000048267,
           11.224391789782917,
           11.34184116529548,
           11.27387874040745,
           10.952697868476806,
           11.103192132599656,
           11.162918139666154,
           11.16871618297,
           11.437629343582227,
           11.116707596113741,
           11.202959167695834,
           11.463964955785462,
           11.290832357966753,
           10.960983172727738,
           10.72278506806978,
           10.811302291598492,
           11.201952262877558,
           11.04077291742476,
           11.382546510313961,
           11.306574052960329,
           11.269134952540032,
           10.927552004866284,
           11.380495487787526,
           11.000282706789095,
           11.273812289384393,
           11.328407548331015,
           11.401503313527284,
           11.466200292855302,
           11.203497582950654,
           11.267133784688868,
           11.082038858451655,
           11.562981205757964,
           11.346559353028809,
           11.482521905744383,
           11.469591613151842,
           11.304318438892631,
           10.932737196977731,
           11.151441886028943,
           11.336291954284006,
           11.301262917038157,
           11.51326488022095,
           11.391973858838808,
           10.983800378383624,
           11.132101775672371,
           11.044629585802554,
           11.261221143390456,
           11.36008846782888,
           11.075134470121164,
           11.058772063645371,
           11.077000794012303,
           11.060728346076367,
           11.211178644556892,
           10.979003851511703,
           11.23897515958349,
           11.045175070086415,
           11.223883547841991,
           11.579215141290813,
           11.409934490378745,
           11.191056973592596,
           11.409983931042277,
           11.350630311087002,
           11.349771768191847,
           11.434714657130849,
           11.589312330933595,
           11.20018310819799,
           11.368651181548934,
           10.97317694429776,
           11.280450122399927,
           11.442539015062163,
           11.366857987145707,
           11.2107116271911,
           11.142358257285592,
           11.148111789885537,
           11.227686272268453,
           11.087969922616905,
           11.095599753062725,
           11.507033342098369,
           11.132235050367427,
           11.155244868474572,
           11.0805934707569,
           11.11959703012394,
           11.120149770998601,
           11.123859443426396,
           11.127273415313306,
           11.123167044116771,
           11.10570154554184,
           11.38084141825676,
           11.068982118383639,
           10.921284440880271,
           11.370061352887284,
           11.383649274634069,
           11.14185319624143,
           11.122065144870346,
           11.210243180963124,
           11.035664935600265,
           10.908673008715372,
           11.283261228383497,
           11.10030281841407,
           11.232585964209608,
           10.924240180119277,
           10.845308856717281,
           10.848928200439598,
           11.064787689473022,
           10.8102966193143,
           10.805421825484142,
           11.009244335770381,
           10.877303234564264,
           10.868499537009912,
           11.1818860473496,
           10.973682919724396,
           10.64273238212963,
           10.69606836085999,
           10.836793974948025,
           10.784091724691848,
           10.855842055614964,
           11.009050762903371,
           11.16374702181314,
           11.264779469852268,
           11.116245898463346,
           10.779255289447713,
           10.915271848633099,
           10.994056866963358,
           11.180706911163796,
           11.307437567664742,
           11.341445652426625,
           11.037092588321,
           10.785560655957996,
           11.244225468458136,
           11.1478861213068,
           11.069570348562106,
           10.993015897898058,
           11.386408697852985,
           11.053417288207957,
           11.215996814980542,
           10.881823022927474,
           11.12053487554329,
           11.201927657361288,
           12.548914114134678,
           12.152847821879478,
           14.981541787332997,
           14.283331416002625,
           12.737186463222535,
           12.946974263871809,
           13.945717391423049,
           13.526097741407483,
           13.549199677588897,
           13.692773209834519,
           12.240655944771513,
           11.60473332622496,
           11.069095957302814,
           11.27993427534651,
           11.012269578020945,
           11.886009195396383,
           11.810513357853182,
           11.271025743402722,
           11.203493892385758,
           11.167412684323113,
           11.580457010861391,
           11.868473432144153,
           11.474137031512806,
           11.34490293283183,
           11.922914630253834,
           11.607337090600868,
           11.707009114843935,
           11.295394589068879,
           11.250372898331385,
           11.16943522456195,
           11.16691754517005,
           11.184118210620685,
           11.052122458548574,
           11.304762895844204,
           11.286787689958773,
           10.962963440070743,
           11.244680420908697,
           10.893717948188064,
           11.03181519919707,
           10.924117365304998,
           11.212211253487459,
           11.496918485641343,
           11.265338762599725,
           10.998220699444675,
           10.83847776805201,
           10.792077804057023,
           11.225012200170806,
           11.232656225084883,
           11.420596171339874,
           11.252561954175937,
           10.975007023035605,
           11.007756666274975,
           11.05282288803246,
           11.332376939784371,
           11.185344516638745,
           10.716773076818667,
           11.109020423587829,
           10.960800656185949,
           11.079012512637869,
           11.249520334851034,
           11.02507981914,
           11.06219020679047,
           10.955835455359011,
           11.0448633496222,
           10.917024512490483,
           10.915784120333328,
           10.966937221379972,
           11.107073241647347,
           11.02002446680514,
           10.996668432273335,
           10.954440980638175,
           10.97524874929377,
           11.156202496842038,
           11.169579089703818,
           11.002899869531097,
           10.661800917809295,
           10.756598649108307,
           10.912044848188414,
           10.779909918600252,
           10.790961076616705,
           11.183408578813996,
           10.900675245844786,
           10.922672550768784,
           11.251118547286652,
           10.918127333242765,
           10.924525890678183,
           10.952486214720242,
           11.042465705206194,
           10.994695149048809,
           11.210857226390445,
           11.06799564199524,
           11.281764189010046,
           11.296157532189,
           11.296916957677949,
           10.963019154172702,
           10.841962709474817,
           10.78929238627998,
           10.902135569084589,
           10.914898411787963,
           10.844076600883687,
           10.735724707416258,
           10.745145624421452,
           10.725779321750453,
           10.83724835492669,
           10.859886311421143,
           10.808356298319053,
           10.612673825756325,
           11.04824317990137,
           10.790675177612455,
           11.312715270581876,
           10.89919004535004,
           11.100145510716356,
           10.971512990777626,
           11.315924384113302,
           11.104314918184352,
           11.131068329386146,
           11.068722033438704,
           11.130717772793318,
           11.126890634182836,
           11.418356952415223,
           11.297410346821653,
           11.226726678231556,
           11.199401393656645,
           11.207191971361564,
           11.03096822394133,
           10.895863187669352,
           11.091021544010895,
           11.215937809050871,
           11.176152273627649,
           11.078471930508522,
           11.231157087111999,
           10.979971483288287,
           11.306137865470387,
           11.156553945461887,
           11.180163798954679,
           11.414812462099393,
           11.30996464808362,
           11.282386189023264,
           11.480283181139,
           11.421308778298469,
           10.928640645838922,
           10.912826583263994,
           11.251754097034992,
           11.3848246200632,
           10.884198353917203,
           10.87894252591316,
           10.89154933988712,
           11.187224345999269,
           11.172930530658302,
           10.988306544635991,
           11.044322849912431,
           11.073907469665139,
           10.990690255547912,
           11.065872114968089,
           11.040590098629433,
           10.805435655174318,
           11.253140225416091,
           11.097246079633019,
           11.262991639364541,
           11.117854126499779,
           11.23915420770672,
           11.062248932497589,
           10.961548742350285,
           10.918186455062536,
           11.116089277237315,
           11.263704855867097,
           11.248866263460332,
           10.925617281140648,
           10.990657060623747,
           11.148935857802517,
           11.081491088871172,
           11.220398785869177,
           11.043545435545703,
           11.117673750454163,
           11.217948290960747,
           11.113621775978382,
           10.87913707585269,
           10.916716699613199,
           10.840415356379506,
           11.086137565440863,
           11.53704860519625,
           11.22630117057171,
           11.334986874415227,
           11.18983408230319,
           11.076832132836739,
           11.236326096969176,
           11.610062153182906,
           10.638332383020213,
           10.584053940251692,
           10.523209146540825,
           10.562349503112438,
           10.6986581874271,
           10.869199045660618,
           11.007832479830238,
           10.751610715665281,
           10.604907655753573,
           10.85277956069059,
           10.93274067639616,
           10.725080977426407,
           10.828280179528045
          ],
          "coloraxis": "coloraxis",
          "symbol": "circle"
         },
         "mode": "markers",
         "name": "",
         "orientation": "v",
         "showlegend": false,
         "type": "scatter",
         "x": [
          8.941829681396484,
          9.225685119628906,
          8.233824729919434,
          9.872964859008789,
          9.475502014160156,
          8.95848560333252,
          9.90296459197998,
          9.88255500793457,
          8.069812774658203,
          9.355416297912598,
          7.415616512298584,
          7.438576698303223,
          13.383807182312012,
          10.4139404296875,
          12.778026580810547,
          13.281015396118164,
          11.691221237182617,
          13.046893119812012,
          12.541098594665527,
          12.702573776245117,
          12.490659713745117,
          12.335765838623047,
          13.099852561950684,
          10.977348327636719,
          11.978226661682129,
          12.093156814575195,
          11.097103118896484,
          10.923460960388184,
          10.911344528198242,
          9.460054397583008,
          10.360906600952148,
          9.591310501098633,
          9.287954330444336,
          9.765362739562988,
          8.147750854492188,
          9.412479400634766,
          9.09422779083252,
          8.831993103027344,
          7.482642650604248,
          7.450470447540283,
          7.2484049797058105,
          6.5482611656188965,
          6.809587478637695,
          4.461246490478516,
          4.408270359039307,
          5.956246852874756,
          6.157618999481201,
          5.5275983810424805,
          5.519314289093018,
          4.531203746795654,
          4.65321683883667,
          5.013420581817627,
          4.4520134925842285,
          6.372682094573975,
          6.356893539428711,
          4.821938514709473,
          4.783030033111572,
          3.75211238861084,
          4.048801898956299,
          5.189380645751953,
          6.970128536224365,
          6.837569236755371,
          7.392223358154297,
          7.651864528656006,
          5.689294815063477,
          6.2713117599487305,
          5.445511341094971,
          5.955193519592285,
          6.157297611236572,
          7.899697780609131,
          6.811351776123047,
          7.930370330810547,
          6.434518337249756,
          8.018518447875977,
          7.904547214508057,
          5.9675116539001465,
          6.174302101135254,
          6.73608922958374,
          6.4588823318481445,
          6.72979211807251,
          4.647167682647705,
          6.6932878494262695,
          7.464141368865967,
          7.246497631072998,
          6.662775993347168,
          6.423115253448486,
          6.037938594818115,
          4.761927127838135,
          5.114231586456299,
          3.4463582038879395,
          4.91867733001709,
          5.411407470703125,
          5.266224384307861,
          5.1641011238098145,
          4.474395275115967,
          4.889074325561523,
          5.451480388641357,
          5.614548206329346,
          5.7153778076171875,
          5.311197280883789,
          5.680294513702393,
          4.0914506912231445,
          4.70550012588501,
          8.214363098144531,
          3.6227545738220215,
          3.0529754161834717,
          3.0121450424194336,
          3.027463436126709,
          2.749253273010254,
          2.874281644821167,
          1.011116862297058,
          0.821869969367981,
          -4.589466094970703,
          -8.198304176330566,
          -8.575636863708496,
          -6.6843037605285645,
          -7.060255527496338,
          -6.776531219482422,
          -5.77180290222168,
          -4.768681526184082,
          -4.555583477020264,
          -7.048745632171631,
          -6.752488136291504,
          -7.470897197723389,
          -6.114123344421387,
          -7.729891777038574,
          -7.118352890014648,
          -6.892361164093018,
          -7.001915454864502,
          -6.796417713165283,
          -6.73697566986084,
          -6.2106804847717285,
          -7.165708541870117,
          -7.2453718185424805,
          -6.495673656463623,
          -5.7763237953186035,
          -5.197738170623779,
          -1.8933383226394653,
          -1.691819429397583,
          -2.514981508255005,
          -4.382835388183594,
          -1.7749122381210327,
          -0.8687702417373657,
          -1.2819658517837524,
          -3.035778522491455,
          -2.3418450355529785,
          -2.3365824222564697,
          -3.3873798847198486,
          -1.3849315643310547,
          -1.3071045875549316,
          -5.784553527832031,
          -5.3810224533081055,
          -1.586838960647583,
          -1.9500540494918823,
          -3.8673007488250732,
          -0.41012465953826904,
          -2.6360788345336914,
          -1.85537588596344,
          -0.9247354865074158,
          -2.678553342819214,
          -2.5197596549987793,
          -3.867490291595459,
          -3.157224416732788,
          -2.636286973953247,
          -2.978339910507202,
          -2.9647510051727295,
          -3.511247396469116,
          -3.5160105228424072,
          -0.7180724740028381,
          -2.9084322452545166,
          -3.8234410285949707,
          -3.6167662143707275,
          0.23079679906368256,
          -1.89678955078125,
          -4.113636493682861,
          -3.796313524246216,
          -3.443119525909424,
          -6.014711856842041,
          -6.27979040145874,
          -5.534812927246094,
          -6.10488224029541,
          -5.643951416015625,
          -8.395898818969727,
          -8.85617733001709,
          -0.5266415476799011,
          -0.4072258174419403,
          -1.5114363431930542,
          -1.2900348901748657,
          -2.5045366287231445,
          -2.629511594772339,
          -1.9910691976547241,
          -2.2004334926605225,
          -2.2730653285980225,
          -1.7873849868774414,
          -8.865793228149414,
          -7.832253456115723,
          -4.917445659637451,
          -1.0757579803466797,
          -0.9184108972549438,
          -2.843930721282959,
          8.941829681396484,
          11.07463264465332,
          12.617012023925781,
          12.605732917785645,
          12.609877586364746,
          10.630537986755371,
          10.591117858886719,
          10.963600158691406,
          10.563194274902344,
          6.966247081756592,
          -1.6175458431243896,
          3.49861741065979,
          3.56732177734375,
          3.5035274028778076,
          7.597362995147705,
          5.698897838592529,
          7.1668267250061035,
          7.147009372711182,
          6.913999080657959,
          8.496537208557129,
          8.232144355773926,
          8.392297744750977,
          9.651092529296875,
          8.422452926635742,
          9.474037170410156,
          10.316009521484375,
          9.622312545776367,
          9.404152870178223,
          9.296319961547852,
          9.210309982299805,
          9.732540130615234,
          9.465248107910156,
          8.54464340209961,
          7.54741907119751,
          6.576784133911133,
          10.279935836791992,
          10.451847076416016,
          10.343823432922363,
          9.9292631149292,
          9.818212509155273,
          9.894577980041504,
          10.591833114624023,
          9.241266250610352,
          7.873557090759277,
          7.889577388763428,
          9.543267250061035,
          8.502084732055664,
          9.67862606048584,
          9.27573299407959,
          10.379281044006348,
          8.72921085357666,
          8.689457893371582,
          9.027119636535645,
          9.420012474060059,
          8.36800479888916,
          8.871225357055664,
          10.99527645111084,
          8.218565940856934,
          7.811628818511963,
          -1.2128385305404663,
          -0.9515993595123291,
          -0.011657683178782463,
          0.6344956755638123,
          -0.035858359187841415,
          -0.38677218556404114,
          0.45911523699760437,
          3.597038507461548,
          1.0123372077941895,
          5.159435272216797,
          -2.3521573543548584,
          1.6267521381378174,
          1.6883262395858765,
          2.7823143005371094,
          5.7872819900512695,
          1.8769423961639404,
          2.1455254554748535,
          2.3549373149871826,
          2.473273277282715,
          3.561713933944702,
          3.5283279418945312,
          4.323345184326172,
          0.5864512920379639,
          0.5427665710449219,
          2.7856435775756836,
          2.7992401123046875,
          2.670485496520996,
          2.395845651626587,
          3.2453460693359375,
          0.9311359524726868,
          3.638681411743164,
          -0.6233554482460022,
          1.2864439487457275,
          2.0272974967956543,
          3.7044825553894043,
          5.101233005523682,
          3.3949482440948486,
          4.261090278625488,
          4.525239944458008,
          6.668633460998535,
          4.150657653808594,
          3.7128472328186035,
          2.2073779106140137,
          4.145658016204834,
          1.8497817516326904,
          1.9089102745056152,
          0.10979415476322174,
          1.1001672744750977,
          0.09730514138936996,
          -0.14398203790187836,
          1.8351010084152222,
          -0.13091441988945007,
          0.387262225151062,
          -0.4401100277900696,
          -0.01391251478344202,
          1.4043596982955933,
          0.455439954996109,
          0.7016648650169373,
          1.5984479188919067,
          1.3670786619186401,
          1.9288121461868286,
          3.039980411529541,
          -0.4777279794216156,
          0.45702940225601196,
          0.6967610120773315,
          1.1046885251998901,
          0.42904824018478394,
          0.9522829651832581,
          4.929523468017578,
          1.5120936632156372,
          -0.5575037598609924,
          0.4630490243434906,
          4.896834373474121,
          3.2822935581207275,
          4.561504364013672,
          6.8306169509887695,
          5.815842151641846,
          10.32812213897705,
          10.50430679321289,
          14.641871452331543,
          12.93465518951416,
          14.304972648620605,
          13.482185363769531,
          11.648120880126953,
          12.166889190673828,
          15.104175567626953,
          12.008906364440918,
          14.101895332336426,
          11.981710433959961,
          14.136906623840332,
          13.544609069824219,
          13.27585220336914,
          12.515545845031738,
          13.177306175231934,
          11.474897384643555,
          14.51893138885498,
          12.243451118469238,
          12.435806274414062,
          13.336081504821777,
          13.704164505004883,
          12.543123245239258,
          12.619807243347168,
          14.509443283081055,
          14.352356910705566,
          14.24555778503418,
          14.285052299499512,
          14.918726921081543,
          13.739717483520508,
          13.733173370361328,
          14.612190246582031,
          13.877252578735352,
          14.45700454711914,
          14.10104751586914,
          8.83588695526123,
          14.67037582397461,
          15.232632637023926,
          7.865157604217529,
          6.610654354095459,
          7.607220649719238,
          7.382571697235107,
          5.601133823394775,
          5.078800678253174,
          4.153573036193848,
          3.948706865310669,
          4.750159740447998,
          4.432166576385498,
          4.329334259033203,
          3.79581880569458,
          3.8629462718963623,
          5.073047637939453,
          5.035641670227051,
          5.248335361480713,
          6.4253692626953125,
          6.068490028381348,
          6.138105392456055,
          6.838214874267578,
          5.397161960601807,
          7.01584529876709,
          5.850727558135986,
          5.494964122772217,
          5.914610385894775,
          8.941829681396484,
          9.326826095581055,
          8.616874694824219,
          1.7899768352508545,
          2.919095039367676,
          4.32674503326416,
          4.375962257385254,
          3.907188653945923,
          3.703986644744873,
          3.8467724323272705,
          3.603492021560669,
          2.8770296573638916,
          3.749685287475586,
          3.605085611343384,
          2.7839107513427734,
          3.0754191875457764,
          1.6889095306396484,
          1.961778163909912,
          2.5572152137756348,
          2.0558338165283203,
          0.6984738111495972,
          -0.05965506657958031,
          -0.6583476662635803,
          -0.9654012322425842,
          -1.6739403009414673,
          -1.5260893106460571,
          -1.8704127073287964,
          -2.905910015106201,
          -3.135014295578003,
          -3.517683506011963,
          -4.662313461303711,
          -3.649890184402466,
          -3.6824734210968018,
          -2.34393310546875,
          -0.05062489211559296,
          -1.1441339254379272,
          -1.4695117473602295,
          -0.8058285117149353,
          -0.7339887619018555,
          -0.1910785734653473,
          -1.880836009979248,
          -0.4906585216522217,
          0.4628632366657257,
          -2.299675703048706,
          -1.920767068862915,
          -1.8927555084228516,
          -2.328664541244507,
          -3.1474123001098633,
          -2.9849536418914795,
          -2.9231772422790527,
          -2.7119672298431396,
          -3.7208361625671387,
          -15.687073707580566,
          -15.992738723754883,
          -10.106728553771973,
          -16.070863723754883,
          -13.989736557006836,
          -14.529668807983398,
          -14.80722713470459,
          -14.091819763183594,
          -14.33696460723877,
          -15.481664657592773,
          -14.316468238830566,
          -15.469499588012695,
          -15.510682106018066,
          -15.703668594360352,
          -12.981377601623535,
          -13.608343124389648,
          -14.160667419433594,
          -15.757243156433105,
          -15.335060119628906,
          -13.873363494873047,
          -14.637057304382324,
          -14.797762870788574,
          -16.97549819946289,
          -18.740596771240234,
          -13.844714164733887,
          -12.854227066040039,
          -14.128020286560059,
          -13.664192199707031,
          -13.52176570892334,
          -13.793252944946289,
          -17.604238510131836,
          -18.091793060302734,
          -18.413915634155273,
          -16.998193740844727,
          -17.376617431640625,
          -17.46340560913086,
          -17.78900909423828,
          -16.794843673706055,
          -16.83664321899414,
          -17.10258674621582,
          -17.07501220703125,
          -17.32207489013672,
          -18.097763061523438,
          -18.14168357849121,
          -19.83017921447754,
          -20.22175407409668,
          -20.414939880371094,
          -20.191633224487305,
          -20.041244506835938,
          -20.19191551208496,
          -20.02712059020996,
          -19.440927505493164,
          -20.698888778686523,
          -19.290987014770508,
          -20.399328231811523,
          -22.461851119995117,
          -22.185470581054688,
          -22.461008071899414,
          -22.327333450317383,
          -22.1198787689209,
          -22.039182662963867,
          -8.589040756225586,
          -9.376696586608887,
          -10.7368745803833,
          -9.758450508117676,
          -9.874429702758789,
          -9.279255867004395,
          -9.690123558044434,
          -9.579259872436523,
          -19.265628814697266,
          -10.38914680480957,
          -9.733508110046387,
          -9.40466022491455,
          -11.444022178649902,
          -8.682859420776367,
          -18.845863342285156,
          -10.935120582580566,
          -11.594161987304688,
          -11.062853813171387,
          -10.188541412353516,
          -10.257437705993652,
          -11.217140197753906,
          -10.122426986694336,
          -11.111785888671875,
          -12.157143592834473,
          -15.92996597290039,
          -11.695340156555176,
          -10.798192024230957,
          -10.81901741027832,
          -12.143021583557129,
          -10.180917739868164,
          -11.94795036315918,
          -10.325596809387207,
          -9.832879066467285,
          -12.533658981323242,
          -12.906869888305664,
          -12.38661003112793,
          -13.020819664001465,
          -12.930688858032227,
          -12.672762870788574,
          -13.352975845336914,
          -12.412071228027344,
          -14.837898254394531,
          -14.987241744995117,
          -13.425117492675781,
          -13.284865379333496,
          -14.265737533569336,
          -14.587719917297363,
          -14.1610107421875,
          -13.704463005065918,
          -12.729317665100098,
          -11.94747257232666,
          -14.496344566345215,
          -15.69311809539795,
          -13.720987319946289,
          -13.342782974243164,
          -13.934842109680176,
          -14.40967845916748,
          -15.203690528869629,
          -14.052781105041504,
          -12.76169204711914,
          -14.343002319335938,
          -11.995833396911621,
          -13.00242805480957,
          -14.189799308776855,
          -12.370235443115234,
          -14.49685001373291,
          -13.91592788696289,
          -10.901002883911133,
          -13.683752059936523,
          -13.089486122131348,
          -13.151754379272461,
          -12.303317070007324,
          -13.069379806518555,
          -15.132430076599121,
          -13.866188049316406,
          -14.17070484161377,
          -13.77712631225586,
          -13.430947303771973,
          -14.335865020751953,
          -12.104393005371094,
          -12.428159713745117,
          -11.399819374084473,
          -11.772285461425781,
          -11.374468803405762,
          -11.645345687866211,
          -10.61859130859375,
          -10.959500312805176
         ],
         "xaxis": "x",
         "y": [
          -2.2884631156921387,
          -0.6646208167076111,
          -1.4099396467208862,
          0.8849168419837952,
          1.277646780014038,
          0.08902659267187119,
          0.37667760252952576,
          0.6912792921066284,
          0.8703247308731079,
          1.7633357048034668,
          1.1093502044677734,
          0.9479220509529114,
          -0.08324109762907028,
          2.4736621379852295,
          1.342751383781433,
          1.261459469795227,
          0.6610691547393799,
          1.5465015172958374,
          1.695894479751587,
          0.7037966847419739,
          1.493735432624817,
          1.3826417922973633,
          1.9105465412139893,
          1.9980515241622925,
          2.656937599182129,
          3.0324652194976807,
          2.5564537048339844,
          2.9846651554107666,
          3.3458704948425293,
          3.3392040729522705,
          4.067813396453857,
          4.726029872894287,
          3.9349365234375,
          3.7575595378875732,
          4.180438995361328,
          5.186087608337402,
          3.8641197681427,
          2.966700553894043,
          4.337014198303223,
          4.319613456726074,
          5.504932403564453,
          6.435985088348389,
          5.74061918258667,
          6.264388084411621,
          6.243043422698975,
          8.21458625793457,
          7.281991481781006,
          11.355342864990234,
          11.907790184020996,
          13.405569076538086,
          12.562505722045898,
          12.95438003540039,
          12.361775398254395,
          12.18991756439209,
          12.548931121826172,
          13.329361915588379,
          13.470959663391113,
          13.028128623962402,
          14.030397415161133,
          14.47768783569336,
          14.777473449707031,
          15.71652889251709,
          15.104724884033203,
          15.65127182006836,
          14.64181900024414,
          14.978376388549805,
          15.335930824279785,
          15.154792785644531,
          15.98473834991455,
          16.355491638183594,
          16.587419509887695,
          17.581613540649414,
          16.912141799926758,
          18.06548309326172,
          17.583953857421875,
          17.477684020996094,
          19.689395904541016,
          19.822839736938477,
          21.070043563842773,
          20.75649642944336,
          19.90192222595215,
          21.148799896240234,
          19.99810028076172,
          20.18751335144043,
          19.070463180541992,
          21.82756805419922,
          20.044166564941406,
          20.66083335876465,
          19.422243118286133,
          20.04842758178711,
          21.127105712890625,
          21.50870704650879,
          18.919458389282227,
          19.494308471679688,
          20.053272247314453,
          20.341630935668945,
          21.010459899902344,
          20.434389114379883,
          20.85065460205078,
          20.181976318359375,
          19.262256622314453,
          20.9025936126709,
          18.84638023376465,
          20.760744094848633,
          17.891292572021484,
          16.27971839904785,
          15.965707778930664,
          15.89795970916748,
          17.878541946411133,
          17.94901466369629,
          15.96544361114502,
          15.943710327148438,
          11.485085487365723,
          13.673986434936523,
          13.48373794555664,
          18.529985427856445,
          18.606225967407227,
          18.735097885131836,
          19.125438690185547,
          19.806316375732422,
          19.152565002441406,
          19.280078887939453,
          18.104379653930664,
          17.59640121459961,
          14.15664291381836,
          15.328332901000977,
          16.402517318725586,
          16.296449661254883,
          16.075876235961914,
          14.865657806396484,
          14.141013145446777,
          16.478452682495117,
          15.869016647338867,
          15.63831901550293,
          16.849445343017578,
          16.513519287109375,
          17.243183135986328,
          14.16093635559082,
          14.683568954467773,
          15.167710304260254,
          15.961714744567871,
          15.1806001663208,
          12.591991424560547,
          12.465033531188965,
          12.279932022094727,
          11.68382740020752,
          11.735184669494629,
          19.555822372436523,
          15.991509437561035,
          15.527904510498047,
          13.455642700195312,
          14.006693840026855,
          15.414794921875,
          15.866620063781738,
          13.256991386413574,
          14.71944522857666,
          13.40283489227295,
          12.83032512664795,
          13.82197380065918,
          14.39020824432373,
          13.849507331848145,
          14.45599365234375,
          14.120489120483398,
          13.961946487426758,
          16.27033042907715,
          15.457235336303711,
          15.698512077331543,
          16.34037971496582,
          17.077871322631836,
          15.648849487304688,
          17.42681312561035,
          17.39326286315918,
          13.613434791564941,
          16.11764144897461,
          14.793845176696777,
          15.509544372558594,
          14.267839431762695,
          15.232447624206543,
          15.048881530761719,
          16.539382934570312,
          15.73183536529541,
          16.10714340209961,
          17.057531356811523,
          16.795745849609375,
          17.850292205810547,
          17.93402862548828,
          17.492948532104492,
          17.879518508911133,
          17.867460250854492,
          17.084897994995117,
          18.763809204101562,
          18.43922996520996,
          17.691797256469727,
          18.108192443847656,
          15.649006843566895,
          16.670408248901367,
          12.846786499023438,
          13.815729141235352,
          16.131004333496094,
          16.727619171142578,
          -2.2884631156921387,
          -1.0392905473709106,
          -5.3843159675598145,
          -4.912798881530762,
          -4.8805742263793945,
          -4.492340564727783,
          -4.621400833129883,
          -5.259640693664551,
          -4.652157783508301,
          -7.909329414367676,
          -16.72304916381836,
          -6.388401508331299,
          -7.247383117675781,
          -7.1989240646362305,
          -7.026451110839844,
          -7.554558753967285,
          -6.6489129066467285,
          -6.527270317077637,
          -6.281803607940674,
          -6.334719181060791,
          -6.896838665008545,
          -6.817050457000732,
          -6.881268501281738,
          -5.192885398864746,
          -8.129297256469727,
          -7.2056074142456055,
          -6.595378875732422,
          -6.121632099151611,
          -7.330027103424072,
          -6.987015247344971,
          -5.844499111175537,
          -8.0765380859375,
          -8.385732650756836,
          -9.243229866027832,
          -9.68308162689209,
          -9.281028747558594,
          -12.295259475708008,
          -13.529577255249023,
          -12.284967422485352,
          -12.836181640625,
          -11.550152778625488,
          -11.262699127197266,
          -10.968907356262207,
          -10.082986831665039,
          -9.913461685180664,
          -8.81241226196289,
          -11.577680587768555,
          -11.958782196044922,
          -10.365931510925293,
          -12.64083480834961,
          -9.769111633300781,
          -12.595208168029785,
          -9.872241973876953,
          -11.799365043640137,
          -11.796844482421875,
          -13.0167875289917,
          -12.625555992126465,
          -11.383749961853027,
          -12.438467025756836,
          -12.279720306396484,
          -12.107939720153809,
          -11.20035457611084,
          -11.743184089660645,
          -12.879711151123047,
          -11.295165061950684,
          -12.118380546569824,
          -12.79730224609375,
          -10.46287727355957,
          -11.681863784790039,
          -13.949183464050293,
          -12.235783576965332,
          -12.609551429748535,
          -12.286065101623535,
          -11.78840160369873,
          -13.345767974853516,
          -12.44172477722168,
          -11.185602188110352,
          -13.522770881652832,
          -14.906478881835938,
          -10.600077629089355,
          -13.441728591918945,
          -13.81023120880127,
          -13.044848442077637,
          -10.353662490844727,
          -11.537877082824707,
          -11.834203720092773,
          -10.576499938964844,
          -13.148292541503906,
          -12.974493026733398,
          -14.083731651306152,
          -13.923114776611328,
          -10.614741325378418,
          -14.528458595275879,
          -13.107295989990234,
          -12.966647148132324,
          -14.246692657470703,
          -14.886787414550781,
          -14.894257545471191,
          -15.435049057006836,
          -11.562776565551758,
          -11.150647163391113,
          -13.39198112487793,
          -12.095209121704102,
          -16.925701141357422,
          -17.20139503479004,
          -16.7385196685791,
          -17.667766571044922,
          -16.516803741455078,
          -17.710832595825195,
          -18.810258865356445,
          -18.398006439208984,
          -18.01506996154785,
          -17.472156524658203,
          -18.93738555908203,
          -17.30140495300293,
          -17.26755142211914,
          -17.01804542541504,
          -15.900769233703613,
          -16.31794548034668,
          -19.124773025512695,
          -16.611347198486328,
          -15.455938339233398,
          -14.937297821044922,
          -15.929527282714844,
          -16.781597137451172,
          -16.074583053588867,
          -15.68546199798584,
          -13.801155090332031,
          -15.412834167480469,
          -16.333019256591797,
          -13.43184757232666,
          -14.352190017700195,
          -13.325297355651855,
          -9.4234619140625,
          -11.586376190185547,
          -10.498211860656738,
          -10.365727424621582,
          -10.498991966247559,
          -10.836420059204102,
          -11.963191032409668,
          -8.846442222595215,
          -8.426390647888184,
          -10.245174407958984,
          -10.189488410949707,
          -9.330222129821777,
          -10.603089332580566,
          -11.06796932220459,
          -9.169307708740234,
          -10.044830322265625,
          -10.060571670532227,
          -9.225882530212402,
          -8.342207908630371,
          -8.99051570892334,
          -9.450345993041992,
          -9.627752304077148,
          -9.036988258361816,
          -11.05128288269043,
          -11.08133316040039,
          -10.457082748413086,
          -11.37887191772461,
          -10.653792381286621,
          -11.800868034362793,
          -12.365876197814941,
          -14.177703857421875,
          -14.582807540893555,
          -14.45521354675293,
          -14.600415229797363,
          -14.844511032104492,
          -14.316905975341797,
          -14.544754028320312,
          -12.23906421661377,
          -13.212517738342285,
          -16.14337730407715,
          -13.247014045715332,
          -13.87328815460205,
          -15.734994888305664,
          -13.886241912841797,
          -15.675317764282227,
          -15.6914644241333,
          -17.76492691040039,
          -17.968242645263672,
          -17.513696670532227,
          -18.706010818481445,
          -11.023398399353027,
          -17.384340286254883,
          -16.939577102661133,
          -16.930442810058594,
          -17.97393798828125,
          -16.99486541748047,
          -17.089569091796875,
          -18.568748474121094,
          -18.562549591064453,
          -19.124469757080078,
          -19.203092575073242,
          -19.179227828979492,
          -20.479122161865234,
          -19.35045051574707,
          -18.00410270690918,
          -20.193363189697266,
          -19.08677864074707,
          -2.2884631156921387,
          -0.7987496256828308,
          -1.5010230541229248,
          1.5945557355880737,
          1.0409010648727417,
          0.530560314655304,
          -0.7413423657417297,
          0.8936314582824707,
          1.2147210836410522,
          0.41857752203941345,
          -1.3949143886566162,
          -0.006045182701200247,
          -0.8550686836242676,
          -0.7793015837669373,
          -0.053140897303819656,
          -0.6973354816436768,
          -1.1169633865356445,
          -1.296281337738037,
          -0.863008439540863,
          -1.811396837234497,
          0.1575118601322174,
          -1.1779574155807495,
          -1.5230478048324585,
          -1.7439414262771606,
          -2.5459487438201904,
          -2.41550350189209,
          -4.257685661315918,
          -3.115710973739624,
          -3.1519429683685303,
          -1.8772133588790894,
          -2.6912178993225098,
          -3.9080443382263184,
          -3.05094313621521,
          -2.918001651763916,
          1.4042251110076904,
          -0.8230075836181641,
          -1.2182824611663818,
          1.6714750528335571,
          1.6540294885635376,
          -1.0869539976119995,
          0.6183623671531677,
          0.18874694406986237,
          0.4219334125518799,
          1.8939363956451416,
          2.189866065979004,
          2.667236566543579,
          0.8246315121650696,
          0.1823505312204361,
          0.10510599613189697,
          1.6587907075881958,
          1.1833381652832031,
          1.7736848592758179,
          -4.4562811851501465,
          -4.863453388214111,
          -3.557091474533081,
          0.9523714184761047,
          1.1058067083358765,
          0.043488506227731705,
          -1.1811702251434326,
          -1.3752340078353882,
          0.039380114525556564,
          1.2659028768539429,
          -0.593929648399353,
          -1.8282510042190552,
          -0.46312859654426575,
          0.2571392357349396,
          0.1755015254020691,
          0.3471757769584656,
          -0.4526626467704773,
          -1.3712551593780518,
          2.090331792831421,
          -0.798491895198822,
          0.7266015410423279,
          -1.3008112907409668,
          -1.764252781867981,
          0.11302339285612106,
          1.5692555904388428,
          0.3939859867095947,
          -1.2867062091827393,
          0.7956395745277405,
          1.0640672445297241,
          1.5205132961273193,
          -1.3292224407196045,
          0.8662341833114624,
          -0.026999574154615402,
          -0.0033620642498135567,
          1.244083046913147,
          0.16799208521842957,
          -0.5979190468788147,
          -0.7750844955444336,
          -2.5271596908569336,
          -2.4398345947265625,
          -2.160224437713623,
          -1.2813607454299927,
          -2.585188150405884,
          -2.50154447555542,
          -1.8980207443237305,
          -0.7447008490562439,
          -1.3673374652862549,
          -1.159704327583313,
          -1.347419023513794,
          -0.40042850375175476,
          -1.1589463949203491,
          -0.7640399932861328,
          -0.7196277976036072,
          -0.8290477991104126,
          -2.4803504943847656,
          -1.8382582664489746,
          -1.4739567041397095,
          -2.7089269161224365,
          -2.9946353435516357,
          -3.270284414291382,
          -3.418078660964966,
          -0.7975881099700928,
          -1.0598698854446411,
          2.505599021911621,
          2.9410109519958496,
          3.147216320037842,
          1.4724608659744263,
          2.5699312686920166,
          1.954892635345459,
          -2.2510194778442383,
          2.1742050647735596,
          0.8549056649208069,
          -0.0506305918097496,
          0.6925749182701111,
          -3.3287835121154785,
          -3.67793869972229,
          -1.874455213546753,
          0.5026754140853882,
          -1.889404058456421,
          -0.6089282035827637,
          -0.06844083964824677,
          -3.699566125869751,
          -2.2564117908477783,
          -3.0950567722320557,
          -3.38582706451416,
          -3.518172025680542,
          -2.5217742919921875,
          -0.3886221647262573,
          -0.30425167083740234,
          1.3526266813278198,
          -1.472422480583191,
          -0.7879475951194763,
          -1.210485577583313,
          -2.2286980152130127,
          -1.6735576391220093,
          -1.6830180883407593,
          -1.8677154779434204,
          -2.136375904083252,
          -2.9740524291992188,
          -2.5549941062927246,
          -3.519723415374756,
          -2.558422565460205,
          -5.478734493255615,
          -6.244243144989014,
          -4.732896327972412,
          -4.973520278930664,
          -5.1921515464782715,
          -5.003844261169434,
          -4.959009647369385,
          -5.618276119232178,
          -5.6035919189453125,
          -5.035602569580078,
          -6.6980977058410645,
          -6.642177581787109,
          -6.214859485626221,
          -6.012014865875244,
          -5.783768653869629,
          -6.544129848480225,
          -5.858367919921875,
          -5.472270488739014,
          -7.776094436645508,
          -8.758371353149414,
          -9.479994773864746,
          -8.676544189453125,
          -9.507278442382812,
          -10.892763137817383,
          -10.433553695678711,
          -9.992642402648926,
          -8.83090877532959,
          -9.553312301635742,
          -9.969313621520996,
          -10.12914752960205,
          -10.311012268066406,
          -9.69243335723877,
          -10.352245330810547,
          -11.136966705322266,
          -10.194286346435547,
          -8.95312786102295,
          -10.661166191101074,
          -7.906021595001221,
          -8.161107063293457,
          -6.811392784118652,
          -6.760696887969971,
          -7.440128803253174,
          -7.387059688568115,
          -6.035412788391113,
          -5.949864864349365,
          -6.479728698730469
         ],
         "yaxis": "y"
        }
       ],
       "layout": {
        "coloraxis": {
         "colorbar": {
          "title": {
           "text": "Rg Labels"
          }
         },
         "colorscale": [
          [
           0,
           "#0d0887"
          ],
          [
           0.1111111111111111,
           "#46039f"
          ],
          [
           0.2222222222222222,
           "#7201a8"
          ],
          [
           0.3333333333333333,
           "#9c179e"
          ],
          [
           0.4444444444444444,
           "#bd3786"
          ],
          [
           0.5555555555555556,
           "#d8576b"
          ],
          [
           0.6666666666666666,
           "#ed7953"
          ],
          [
           0.7777777777777778,
           "#fb9f3a"
          ],
          [
           0.8888888888888888,
           "#fdca26"
          ],
          [
           1,
           "#f0f921"
          ]
         ]
        },
        "legend": {
         "tracegroupgap": 0
        },
        "margin": {
         "t": 60
        },
        "template": {
         "data": {
          "bar": [
           {
            "error_x": {
             "color": "#2a3f5f"
            },
            "error_y": {
             "color": "#2a3f5f"
            },
            "marker": {
             "line": {
              "color": "#E5ECF6",
              "width": 0.5
             },
             "pattern": {
              "fillmode": "overlay",
              "size": 10,
              "solidity": 0.2
             }
            },
            "type": "bar"
           }
          ],
          "barpolar": [
           {
            "marker": {
             "line": {
              "color": "#E5ECF6",
              "width": 0.5
             },
             "pattern": {
              "fillmode": "overlay",
              "size": 10,
              "solidity": 0.2
             }
            },
            "type": "barpolar"
           }
          ],
          "carpet": [
           {
            "aaxis": {
             "endlinecolor": "#2a3f5f",
             "gridcolor": "white",
             "linecolor": "white",
             "minorgridcolor": "white",
             "startlinecolor": "#2a3f5f"
            },
            "baxis": {
             "endlinecolor": "#2a3f5f",
             "gridcolor": "white",
             "linecolor": "white",
             "minorgridcolor": "white",
             "startlinecolor": "#2a3f5f"
            },
            "type": "carpet"
           }
          ],
          "choropleth": [
           {
            "colorbar": {
             "outlinewidth": 0,
             "ticks": ""
            },
            "type": "choropleth"
           }
          ],
          "contour": [
           {
            "colorbar": {
             "outlinewidth": 0,
             "ticks": ""
            },
            "colorscale": [
             [
              0,
              "#0d0887"
             ],
             [
              0.1111111111111111,
              "#46039f"
             ],
             [
              0.2222222222222222,
              "#7201a8"
             ],
             [
              0.3333333333333333,
              "#9c179e"
             ],
             [
              0.4444444444444444,
              "#bd3786"
             ],
             [
              0.5555555555555556,
              "#d8576b"
             ],
             [
              0.6666666666666666,
              "#ed7953"
             ],
             [
              0.7777777777777778,
              "#fb9f3a"
             ],
             [
              0.8888888888888888,
              "#fdca26"
             ],
             [
              1,
              "#f0f921"
             ]
            ],
            "type": "contour"
           }
          ],
          "contourcarpet": [
           {
            "colorbar": {
             "outlinewidth": 0,
             "ticks": ""
            },
            "type": "contourcarpet"
           }
          ],
          "heatmap": [
           {
            "colorbar": {
             "outlinewidth": 0,
             "ticks": ""
            },
            "colorscale": [
             [
              0,
              "#0d0887"
             ],
             [
              0.1111111111111111,
              "#46039f"
             ],
             [
              0.2222222222222222,
              "#7201a8"
             ],
             [
              0.3333333333333333,
              "#9c179e"
             ],
             [
              0.4444444444444444,
              "#bd3786"
             ],
             [
              0.5555555555555556,
              "#d8576b"
             ],
             [
              0.6666666666666666,
              "#ed7953"
             ],
             [
              0.7777777777777778,
              "#fb9f3a"
             ],
             [
              0.8888888888888888,
              "#fdca26"
             ],
             [
              1,
              "#f0f921"
             ]
            ],
            "type": "heatmap"
           }
          ],
          "heatmapgl": [
           {
            "colorbar": {
             "outlinewidth": 0,
             "ticks": ""
            },
            "colorscale": [
             [
              0,
              "#0d0887"
             ],
             [
              0.1111111111111111,
              "#46039f"
             ],
             [
              0.2222222222222222,
              "#7201a8"
             ],
             [
              0.3333333333333333,
              "#9c179e"
             ],
             [
              0.4444444444444444,
              "#bd3786"
             ],
             [
              0.5555555555555556,
              "#d8576b"
             ],
             [
              0.6666666666666666,
              "#ed7953"
             ],
             [
              0.7777777777777778,
              "#fb9f3a"
             ],
             [
              0.8888888888888888,
              "#fdca26"
             ],
             [
              1,
              "#f0f921"
             ]
            ],
            "type": "heatmapgl"
           }
          ],
          "histogram": [
           {
            "marker": {
             "pattern": {
              "fillmode": "overlay",
              "size": 10,
              "solidity": 0.2
             }
            },
            "type": "histogram"
           }
          ],
          "histogram2d": [
           {
            "colorbar": {
             "outlinewidth": 0,
             "ticks": ""
            },
            "colorscale": [
             [
              0,
              "#0d0887"
             ],
             [
              0.1111111111111111,
              "#46039f"
             ],
             [
              0.2222222222222222,
              "#7201a8"
             ],
             [
              0.3333333333333333,
              "#9c179e"
             ],
             [
              0.4444444444444444,
              "#bd3786"
             ],
             [
              0.5555555555555556,
              "#d8576b"
             ],
             [
              0.6666666666666666,
              "#ed7953"
             ],
             [
              0.7777777777777778,
              "#fb9f3a"
             ],
             [
              0.8888888888888888,
              "#fdca26"
             ],
             [
              1,
              "#f0f921"
             ]
            ],
            "type": "histogram2d"
           }
          ],
          "histogram2dcontour": [
           {
            "colorbar": {
             "outlinewidth": 0,
             "ticks": ""
            },
            "colorscale": [
             [
              0,
              "#0d0887"
             ],
             [
              0.1111111111111111,
              "#46039f"
             ],
             [
              0.2222222222222222,
              "#7201a8"
             ],
             [
              0.3333333333333333,
              "#9c179e"
             ],
             [
              0.4444444444444444,
              "#bd3786"
             ],
             [
              0.5555555555555556,
              "#d8576b"
             ],
             [
              0.6666666666666666,
              "#ed7953"
             ],
             [
              0.7777777777777778,
              "#fb9f3a"
             ],
             [
              0.8888888888888888,
              "#fdca26"
             ],
             [
              1,
              "#f0f921"
             ]
            ],
            "type": "histogram2dcontour"
           }
          ],
          "mesh3d": [
           {
            "colorbar": {
             "outlinewidth": 0,
             "ticks": ""
            },
            "type": "mesh3d"
           }
          ],
          "parcoords": [
           {
            "line": {
             "colorbar": {
              "outlinewidth": 0,
              "ticks": ""
             }
            },
            "type": "parcoords"
           }
          ],
          "pie": [
           {
            "automargin": true,
            "type": "pie"
           }
          ],
          "scatter": [
           {
            "fillpattern": {
             "fillmode": "overlay",
             "size": 10,
             "solidity": 0.2
            },
            "type": "scatter"
           }
          ],
          "scatter3d": [
           {
            "line": {
             "colorbar": {
              "outlinewidth": 0,
              "ticks": ""
             }
            },
            "marker": {
             "colorbar": {
              "outlinewidth": 0,
              "ticks": ""
             }
            },
            "type": "scatter3d"
           }
          ],
          "scattercarpet": [
           {
            "marker": {
             "colorbar": {
              "outlinewidth": 0,
              "ticks": ""
             }
            },
            "type": "scattercarpet"
           }
          ],
          "scattergeo": [
           {
            "marker": {
             "colorbar": {
              "outlinewidth": 0,
              "ticks": ""
             }
            },
            "type": "scattergeo"
           }
          ],
          "scattergl": [
           {
            "marker": {
             "colorbar": {
              "outlinewidth": 0,
              "ticks": ""
             }
            },
            "type": "scattergl"
           }
          ],
          "scattermapbox": [
           {
            "marker": {
             "colorbar": {
              "outlinewidth": 0,
              "ticks": ""
             }
            },
            "type": "scattermapbox"
           }
          ],
          "scatterpolar": [
           {
            "marker": {
             "colorbar": {
              "outlinewidth": 0,
              "ticks": ""
             }
            },
            "type": "scatterpolar"
           }
          ],
          "scatterpolargl": [
           {
            "marker": {
             "colorbar": {
              "outlinewidth": 0,
              "ticks": ""
             }
            },
            "type": "scatterpolargl"
           }
          ],
          "scatterternary": [
           {
            "marker": {
             "colorbar": {
              "outlinewidth": 0,
              "ticks": ""
             }
            },
            "type": "scatterternary"
           }
          ],
          "surface": [
           {
            "colorbar": {
             "outlinewidth": 0,
             "ticks": ""
            },
            "colorscale": [
             [
              0,
              "#0d0887"
             ],
             [
              0.1111111111111111,
              "#46039f"
             ],
             [
              0.2222222222222222,
              "#7201a8"
             ],
             [
              0.3333333333333333,
              "#9c179e"
             ],
             [
              0.4444444444444444,
              "#bd3786"
             ],
             [
              0.5555555555555556,
              "#d8576b"
             ],
             [
              0.6666666666666666,
              "#ed7953"
             ],
             [
              0.7777777777777778,
              "#fb9f3a"
             ],
             [
              0.8888888888888888,
              "#fdca26"
             ],
             [
              1,
              "#f0f921"
             ]
            ],
            "type": "surface"
           }
          ],
          "table": [
           {
            "cells": {
             "fill": {
              "color": "#EBF0F8"
             },
             "line": {
              "color": "white"
             }
            },
            "header": {
             "fill": {
              "color": "#C8D4E3"
             },
             "line": {
              "color": "white"
             }
            },
            "type": "table"
           }
          ]
         },
         "layout": {
          "annotationdefaults": {
           "arrowcolor": "#2a3f5f",
           "arrowhead": 0,
           "arrowwidth": 1
          },
          "autotypenumbers": "strict",
          "coloraxis": {
           "colorbar": {
            "outlinewidth": 0,
            "ticks": ""
           }
          },
          "colorscale": {
           "diverging": [
            [
             0,
             "#8e0152"
            ],
            [
             0.1,
             "#c51b7d"
            ],
            [
             0.2,
             "#de77ae"
            ],
            [
             0.3,
             "#f1b6da"
            ],
            [
             0.4,
             "#fde0ef"
            ],
            [
             0.5,
             "#f7f7f7"
            ],
            [
             0.6,
             "#e6f5d0"
            ],
            [
             0.7,
             "#b8e186"
            ],
            [
             0.8,
             "#7fbc41"
            ],
            [
             0.9,
             "#4d9221"
            ],
            [
             1,
             "#276419"
            ]
           ],
           "sequential": [
            [
             0,
             "#0d0887"
            ],
            [
             0.1111111111111111,
             "#46039f"
            ],
            [
             0.2222222222222222,
             "#7201a8"
            ],
            [
             0.3333333333333333,
             "#9c179e"
            ],
            [
             0.4444444444444444,
             "#bd3786"
            ],
            [
             0.5555555555555556,
             "#d8576b"
            ],
            [
             0.6666666666666666,
             "#ed7953"
            ],
            [
             0.7777777777777778,
             "#fb9f3a"
            ],
            [
             0.8888888888888888,
             "#fdca26"
            ],
            [
             1,
             "#f0f921"
            ]
           ],
           "sequentialminus": [
            [
             0,
             "#0d0887"
            ],
            [
             0.1111111111111111,
             "#46039f"
            ],
            [
             0.2222222222222222,
             "#7201a8"
            ],
            [
             0.3333333333333333,
             "#9c179e"
            ],
            [
             0.4444444444444444,
             "#bd3786"
            ],
            [
             0.5555555555555556,
             "#d8576b"
            ],
            [
             0.6666666666666666,
             "#ed7953"
            ],
            [
             0.7777777777777778,
             "#fb9f3a"
            ],
            [
             0.8888888888888888,
             "#fdca26"
            ],
            [
             1,
             "#f0f921"
            ]
           ]
          },
          "colorway": [
           "#636efa",
           "#EF553B",
           "#00cc96",
           "#ab63fa",
           "#FFA15A",
           "#19d3f3",
           "#FF6692",
           "#B6E880",
           "#FF97FF",
           "#FECB52"
          ],
          "font": {
           "color": "#2a3f5f"
          },
          "geo": {
           "bgcolor": "white",
           "lakecolor": "white",
           "landcolor": "#E5ECF6",
           "showlakes": true,
           "showland": true,
           "subunitcolor": "white"
          },
          "hoverlabel": {
           "align": "left"
          },
          "hovermode": "closest",
          "mapbox": {
           "style": "light"
          },
          "paper_bgcolor": "white",
          "plot_bgcolor": "#E5ECF6",
          "polar": {
           "angularaxis": {
            "gridcolor": "white",
            "linecolor": "white",
            "ticks": ""
           },
           "bgcolor": "#E5ECF6",
           "radialaxis": {
            "gridcolor": "white",
            "linecolor": "white",
            "ticks": ""
           }
          },
          "scene": {
           "xaxis": {
            "backgroundcolor": "#E5ECF6",
            "gridcolor": "white",
            "gridwidth": 2,
            "linecolor": "white",
            "showbackground": true,
            "ticks": "",
            "zerolinecolor": "white"
           },
           "yaxis": {
            "backgroundcolor": "#E5ECF6",
            "gridcolor": "white",
            "gridwidth": 2,
            "linecolor": "white",
            "showbackground": true,
            "ticks": "",
            "zerolinecolor": "white"
           },
           "zaxis": {
            "backgroundcolor": "#E5ECF6",
            "gridcolor": "white",
            "gridwidth": 2,
            "linecolor": "white",
            "showbackground": true,
            "ticks": "",
            "zerolinecolor": "white"
           }
          },
          "shapedefaults": {
           "line": {
            "color": "#2a3f5f"
           }
          },
          "ternary": {
           "aaxis": {
            "gridcolor": "white",
            "linecolor": "white",
            "ticks": ""
           },
           "baxis": {
            "gridcolor": "white",
            "linecolor": "white",
            "ticks": ""
           },
           "bgcolor": "#E5ECF6",
           "caxis": {
            "gridcolor": "white",
            "linecolor": "white",
            "ticks": ""
           }
          },
          "title": {
           "x": 0.05
          },
          "xaxis": {
           "automargin": true,
           "gridcolor": "white",
           "linecolor": "white",
           "ticks": "",
           "title": {
            "standoff": 15
           },
           "zerolinecolor": "white",
           "zerolinewidth": 2
          },
          "yaxis": {
           "automargin": true,
           "gridcolor": "white",
           "linecolor": "white",
           "ticks": "",
           "title": {
            "standoff": 15
           },
           "zerolinecolor": "white",
           "zerolinewidth": 2
          }
         }
        },
        "xaxis": {
         "anchor": "y",
         "domain": [
          0,
          1
         ],
         "title": {
          "text": "x"
         }
        },
        "yaxis": {
         "anchor": "x",
         "domain": [
          0,
          1
         ],
         "title": {
          "text": "y"
         }
        }
       }
      }
     },
     "metadata": {},
     "output_type": "display_data"
    }
   ],
   "source": [
    "analysis.tsne_scatter_plot_2()"
   ]
  }
 ],
 "metadata": {
  "kernelspec": {
   "display_name": "tensorflowgpu",
   "language": "python",
   "name": "python3"
  },
  "language_info": {
   "codemirror_mode": {
    "name": "ipython",
    "version": 3
   },
   "file_extension": ".py",
   "mimetype": "text/x-python",
   "name": "python",
   "nbconvert_exporter": "python",
   "pygments_lexer": "ipython3",
   "version": "3.10.13"
  }
 },
 "nbformat": 4,
 "nbformat_minor": 2
}
