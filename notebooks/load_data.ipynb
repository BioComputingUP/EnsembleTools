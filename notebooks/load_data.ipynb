{
 "cells": [
  {
   "cell_type": "code",
   "execution_count": 1,
   "metadata": {},
   "outputs": [
    {
     "name": "stderr",
     "output_type": "stream",
     "text": [
      "c:\\Users\\nikol\\anaconda3\\envs\\tensorflowgpu\\lib\\site-packages\\tqdm\\auto.py:21: TqdmWarning: IProgress not found. Please update jupyter and ipywidgets. See https://ipywidgets.readthedocs.io/en/stable/user_install.html\n",
      "  from .autonotebook import tqdm as notebook_tqdm\n"
     ]
    },
    {
     "name": "stdout",
     "output_type": "stream",
     "text": [
      "File already exists. Skipping download.\n",
      "Extracted file C:\\Users\\nikol\\Documents\\test_dir\\testington\\3a1g_B.zip.\n",
      "Ensemble PED00157e001 already downloaded. Skipping.\n",
      "File PED00157e001.pdb already exists. Skipping extraction.\n",
      "3a1g_B_prod_R1_fit\n",
      "Loading trajectory for 3a1g_B_prod_R1_fit...\n",
      "3a1g_B_prod_R2_fit\n",
      "Loading trajectory for 3a1g_B_prod_R2_fit...\n",
      "3a1g_B_prod_R3_fit\n",
      "Loading trajectory for 3a1g_B_prod_R3_fit...\n",
      "PED00157e001\n",
      "Generating trajectory for PED00157e001...\n",
      "Generated trajectory saved to C:\\Users\\nikol\\Documents\\test_dir\\testington.\n",
      "PED00156e001\n",
      "Generating trajectory for PED00156e001...\n",
      "Generated trajectory saved to C:\\Users\\nikol\\Documents\\test_dir\\testington.\n",
      "PED00158e001\n",
      "Loading trajectory for PED00158e001...\n"
     ]
    },
    {
     "data": {
      "text/plain": [
       "{'3a1g_B_prod_R1_fit': <mdtraj.Trajectory with 10001 frames, 658 atoms, 40 residues, and unitcells at 0x1279b5ca980>,\n",
       " '3a1g_B_prod_R2_fit': <mdtraj.Trajectory with 10001 frames, 658 atoms, 40 residues, and unitcells at 0x1279b787e50>,\n",
       " '3a1g_B_prod_R3_fit': <mdtraj.Trajectory with 10001 frames, 658 atoms, 40 residues, and unitcells at 0x1279b703e80>,\n",
       " 'PED00157e001': <mdtraj.Trajectory with 100 frames, 939 atoms, 59 residues, without unitcells at 0x1279b71f580>,\n",
       " 'PED00156e001': <mdtraj.Trajectory with 100 frames, 941 atoms, 59 residues, without unitcells at 0x127b14f1bd0>,\n",
       " 'PED00158e001': <mdtraj.Trajectory with 88 frames, 939 atoms, 59 residues, without unitcells at 0x127b12eca90>}"
      ]
     },
     "execution_count": 1,
     "metadata": {},
     "output_type": "execute_result"
    }
   ],
   "source": [
    "import sys\n",
    "sys.path.append('C:/Users/nikol/Documents/GitHub/EnsembleTools')\n",
    "\n",
    "from dpet.ensemble import Ensemble\n",
    "from dpet.ensemble_analysis import EnsembleAnalysis\n",
    "\n",
    "ensembles = [\n",
    "    Ensemble(ens_code='3a1g_B', database='atlas'),\n",
    "    Ensemble(ens_code='PED00157e001', database='ped'),\n",
    "    Ensemble(ens_code='PED00156e001', data_path='C:/Users/nikol/Documents/test_dir/testington/PED00156e001.pdb'),\n",
    "    Ensemble(ens_code='PED00158e001', data_path='C:/Users/nikol/Documents/test_dir/ped/PED00158e001.dcd', top_path='C:/Users/nikol/Documents/test_dir/ped/PED00158e001.top.pdb')\n",
    "]\n",
    "\n",
    "analysis = EnsembleAnalysis(ensembles=ensembles, output_dir='C:/Users/nikol/Documents/test_dir/testington')\n",
    "analysis.load_trajectories()"
   ]
  }
 ],
 "metadata": {
  "kernelspec": {
   "display_name": "tensorflowgpu",
   "language": "python",
   "name": "python3"
  },
  "language_info": {
   "codemirror_mode": {
    "name": "ipython",
    "version": 3
   },
   "file_extension": ".py",
   "mimetype": "text/x-python",
   "name": "python",
   "nbconvert_exporter": "python",
   "pygments_lexer": "ipython3",
   "version": "3.10.13"
  }
 },
 "nbformat": 4,
 "nbformat_minor": 2
}
