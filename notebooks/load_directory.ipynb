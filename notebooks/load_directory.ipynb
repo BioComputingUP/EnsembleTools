{
 "cells": [
  {
   "cell_type": "markdown",
   "metadata": {},
   "source": [
    "# Loading directories with multiple files for each ensemble"
   ]
  },
  {
   "cell_type": "code",
   "execution_count": 1,
   "metadata": {},
   "outputs": [],
   "source": [
    "import sys\n",
    "sys.path.append('/home/hamid/Desktop/EnsembleTools')"
   ]
  },
  {
   "cell_type": "code",
   "execution_count": 2,
   "metadata": {},
   "outputs": [
    {
     "name": "stderr",
     "output_type": "stream",
     "text": [
      "c:\\Users\\nikol\\anaconda3\\envs\\tensorflowgpu\\lib\\site-packages\\tqdm\\auto.py:21: TqdmWarning: IProgress not found. Please update jupyter and ipywidgets. See https://ipywidgets.readthedocs.io/en/stable/user_install.html\n",
      "  from .autonotebook import tqdm as notebook_tqdm\n"
     ]
    },
    {
     "name": "stdout",
     "output_type": "stream",
     "text": [
      "Generating trajectory for Ensemble1...\n",
      "Generated trajectory saved to C:\\Users\\nikol\\Documents\\test_dir\\folder_.\n",
      "Generating trajectory for Ensemble2...\n",
      "Generated trajectory saved to C:\\Users\\nikol\\Documents\\test_dir\\folder_.\n",
      "Generating trajectory for Ensemble3...\n",
      "Generated trajectory saved to C:\\Users\\nikol\\Documents\\test_dir\\folder_.\n",
      "200 conformations sampled from Ensemble1 trajectory.\n",
      "200 conformations sampled from Ensemble2 trajectory.\n",
      "200 conformations sampled from Ensemble3 trajectory.\n",
      "Performing feature extraction for Ensemble: Ensemble1.\n",
      "Transformed ensemble shape: (200, 182)\n",
      "Performing feature extraction for Ensemble: Ensemble2.\n",
      "Transformed ensemble shape: (200, 182)\n",
      "Performing feature extraction for Ensemble: Ensemble3.\n",
      "Transformed ensemble shape: (200, 182)\n",
      "Feature names: ['SER0-PHI', 'MET0-PHI', 'THR0-PHI', 'PRO0-PHI', 'SER0-PHI', 'THR0-PHI', 'PRO0-PHI', 'PRO0-PHI', 'ARG0-PHI', 'SER0-PHI', 'ARG0-PHI', 'GLY0-PHI', 'THR0-PHI', 'ARG0-PHI', 'TYR0-PHI', 'LEU0-PHI', 'ALA0-PHI', 'GLN0-PHI', 'PRO0-PHI', 'SER0-PHI', 'GLY0-PHI', 'ASN0-PHI', 'THR0-PHI', 'SER0-PHI', 'SER0-PHI', 'SER1-PHI', 'ALA1-PHI', 'LEU1-PHI', 'MET1-PHI', 'GLN1-PHI', 'GLY1-PHI', 'GLN1-PHI', 'LYS1-PHI', 'THR1-PHI', 'PRO1-PHI', 'GLN1-PHI', 'LYS1-PHI', 'PRO1-PHI', 'SER1-PHI', 'GLN1-PHI', 'ASN1-PHI', 'LEU1-PHI', 'VAL1-PHI', 'PRO1-PHI', 'VAL1-PHI', 'THR1-PHI', 'PRO1-PHI', 'SER1-PHI', 'THR1-PHI', 'THR1-PHI', 'LYS1-PHI', 'SER2-PHI', 'PHE2-PHI', 'LYS2-PHI', 'ASN2-PHI', 'ALA2-PHI', 'PRO2-PHI', 'LEU2-PHI', 'LEU2-PHI', 'ALA2-PHI', 'PRO2-PHI', 'PRO2-PHI', 'ASN2-PHI', 'SER2-PHI', 'ASN2-PHI', 'MET2-PHI', 'GLY2-PHI', 'MET2-PHI', 'THR2-PHI', 'SER2-PHI', 'PRO2-PHI', 'PHE2-PHI', 'ASN2-PHI', 'GLY2-PHI', 'LEU2-PHI', 'THR2-PHI', 'SER2-PHI', 'PRO3-PHI', 'GLN3-PHI', 'ARG3-PHI', 'SER3-PHI', 'PRO3-PHI', 'PHE3-PHI', 'PRO3-PHI', 'LYS3-PHI', 'SER3-PHI', 'SER3-PHI', 'VAL3-PHI', 'LYS3-PHI', 'ARG3-PHI', 'THR3-PHI', 'GLY0-PSI', 'SER0-PSI', 'MET0-PSI', 'THR0-PSI', 'PRO0-PSI', 'SER0-PSI', 'THR0-PSI', 'PRO0-PSI', 'PRO0-PSI', 'ARG0-PSI', 'SER0-PSI', 'ARG0-PSI', 'GLY0-PSI', 'THR0-PSI', 'ARG0-PSI', 'TYR0-PSI', 'LEU0-PSI', 'ALA0-PSI', 'GLN0-PSI', 'PRO0-PSI', 'SER0-PSI', 'GLY0-PSI', 'ASN0-PSI', 'THR0-PSI', 'SER0-PSI', 'SER0-PSI', 'SER1-PSI', 'ALA1-PSI', 'LEU1-PSI', 'MET1-PSI', 'GLN1-PSI', 'GLY1-PSI', 'GLN1-PSI', 'LYS1-PSI', 'THR1-PSI', 'PRO1-PSI', 'GLN1-PSI', 'LYS1-PSI', 'PRO1-PSI', 'SER1-PSI', 'GLN1-PSI', 'ASN1-PSI', 'LEU1-PSI', 'VAL1-PSI', 'PRO1-PSI', 'VAL1-PSI', 'THR1-PSI', 'PRO1-PSI', 'SER1-PSI', 'THR1-PSI', 'THR1-PSI', 'LYS1-PSI', 'SER2-PSI', 'PHE2-PSI', 'LYS2-PSI', 'ASN2-PSI', 'ALA2-PSI', 'PRO2-PSI', 'LEU2-PSI', 'LEU2-PSI', 'ALA2-PSI', 'PRO2-PSI', 'PRO2-PSI', 'ASN2-PSI', 'SER2-PSI', 'ASN2-PSI', 'MET2-PSI', 'GLY2-PSI', 'MET2-PSI', 'THR2-PSI', 'SER2-PSI', 'PRO2-PSI', 'PHE2-PSI', 'ASN2-PSI', 'GLY2-PSI', 'LEU2-PSI', 'THR2-PSI', 'SER2-PSI', 'PRO3-PSI', 'GLN3-PSI', 'ARG3-PSI', 'SER3-PSI', 'PRO3-PSI', 'PHE3-PSI', 'PRO3-PSI', 'LYS3-PSI', 'SER3-PSI', 'SER3-PSI', 'VAL3-PSI', 'LYS3-PSI', 'ARG3-PSI']\n",
      "Concatenated featurized ensemble shape: (600, 182)\n",
      "tsne is running...\n"
     ]
    },
    {
     "name": "stderr",
     "output_type": "stream",
     "text": [
      "c:\\Users\\nikol\\anaconda3\\envs\\tensorflowgpu\\lib\\site-packages\\joblib\\externals\\loky\\backend\\context.py:136: UserWarning: Could not find the number of physical cores for the following reason:\n",
      "found 0 physical cores < 1\n",
      "Returning the number of logical cores instead. You can silence this warning by setting LOKY_MAX_CPU_COUNT to the number of cores you want to use.\n",
      "  warnings.warn(\n",
      "  File \"c:\\Users\\nikol\\anaconda3\\envs\\tensorflowgpu\\lib\\site-packages\\joblib\\externals\\loky\\backend\\context.py\", line 282, in _count_physical_cores\n",
      "    raise ValueError(f\"found {cpu_count_physical} physical cores < 1\")\n",
      "c:\\Users\\nikol\\anaconda3\\envs\\tensorflowgpu\\lib\\site-packages\\sklearn\\cluster\\_kmeans.py:1446: UserWarning: KMeans is known to have a memory leak on Windows with MKL, when there are less chunks than available threads. You can avoid it by setting the environment variable OMP_NUM_THREADS=3.\n",
      "  warnings.warn(\n",
      "c:\\Users\\nikol\\anaconda3\\envs\\tensorflowgpu\\lib\\site-packages\\sklearn\\cluster\\_kmeans.py:1446: UserWarning: KMeans is known to have a memory leak on Windows with MKL, when there are less chunks than available threads. You can avoid it by setting the environment variable OMP_NUM_THREADS=3.\n",
      "  warnings.warn(\n",
      "c:\\Users\\nikol\\anaconda3\\envs\\tensorflowgpu\\lib\\site-packages\\sklearn\\cluster\\_kmeans.py:1446: UserWarning: KMeans is known to have a memory leak on Windows with MKL, when there are less chunks than available threads. You can avoid it by setting the environment variable OMP_NUM_THREADS=3.\n",
      "  warnings.warn(\n",
      "c:\\Users\\nikol\\anaconda3\\envs\\tensorflowgpu\\lib\\site-packages\\sklearn\\cluster\\_kmeans.py:1446: UserWarning: KMeans is known to have a memory leak on Windows with MKL, when there are less chunks than available threads. You can avoid it by setting the environment variable OMP_NUM_THREADS=3.\n",
      "  warnings.warn(\n",
      "c:\\Users\\nikol\\anaconda3\\envs\\tensorflowgpu\\lib\\site-packages\\sklearn\\cluster\\_kmeans.py:1446: UserWarning: KMeans is known to have a memory leak on Windows with MKL, when there are less chunks than available threads. You can avoid it by setting the environment variable OMP_NUM_THREADS=3.\n",
      "  warnings.warn(\n",
      "c:\\Users\\nikol\\anaconda3\\envs\\tensorflowgpu\\lib\\site-packages\\sklearn\\cluster\\_kmeans.py:1446: UserWarning: KMeans is known to have a memory leak on Windows with MKL, when there are less chunks than available threads. You can avoid it by setting the environment variable OMP_NUM_THREADS=3.\n",
      "  warnings.warn(\n",
      "c:\\Users\\nikol\\anaconda3\\envs\\tensorflowgpu\\lib\\site-packages\\sklearn\\cluster\\_kmeans.py:1446: UserWarning: KMeans is known to have a memory leak on Windows with MKL, when there are less chunks than available threads. You can avoid it by setting the environment variable OMP_NUM_THREADS=3.\n",
      "  warnings.warn(\n",
      "c:\\Users\\nikol\\anaconda3\\envs\\tensorflowgpu\\lib\\site-packages\\sklearn\\cluster\\_kmeans.py:1446: UserWarning: KMeans is known to have a memory leak on Windows with MKL, when there are less chunks than available threads. You can avoid it by setting the environment variable OMP_NUM_THREADS=3.\n",
      "  warnings.warn(\n",
      "c:\\Users\\nikol\\anaconda3\\envs\\tensorflowgpu\\lib\\site-packages\\sklearn\\cluster\\_kmeans.py:1446: UserWarning: KMeans is known to have a memory leak on Windows with MKL, when there are less chunks than available threads. You can avoid it by setting the environment variable OMP_NUM_THREADS=3.\n",
      "  warnings.warn(\n",
      "c:\\Users\\nikol\\anaconda3\\envs\\tensorflowgpu\\lib\\site-packages\\sklearn\\cluster\\_kmeans.py:1446: UserWarning: KMeans is known to have a memory leak on Windows with MKL, when there are less chunks than available threads. You can avoid it by setting the environment variable OMP_NUM_THREADS=3.\n",
      "  warnings.warn(\n",
      "c:\\Users\\nikol\\anaconda3\\envs\\tensorflowgpu\\lib\\site-packages\\sklearn\\cluster\\_kmeans.py:1446: UserWarning: KMeans is known to have a memory leak on Windows with MKL, when there are less chunks than available threads. You can avoid it by setting the environment variable OMP_NUM_THREADS=3.\n",
      "  warnings.warn(\n",
      "c:\\Users\\nikol\\anaconda3\\envs\\tensorflowgpu\\lib\\site-packages\\sklearn\\cluster\\_kmeans.py:1446: UserWarning: KMeans is known to have a memory leak on Windows with MKL, when there are less chunks than available threads. You can avoid it by setting the environment variable OMP_NUM_THREADS=3.\n",
      "  warnings.warn(\n",
      "c:\\Users\\nikol\\anaconda3\\envs\\tensorflowgpu\\lib\\site-packages\\sklearn\\cluster\\_kmeans.py:1446: UserWarning: KMeans is known to have a memory leak on Windows with MKL, when there are less chunks than available threads. You can avoid it by setting the environment variable OMP_NUM_THREADS=3.\n",
      "  warnings.warn(\n",
      "c:\\Users\\nikol\\anaconda3\\envs\\tensorflowgpu\\lib\\site-packages\\sklearn\\cluster\\_kmeans.py:1446: UserWarning: KMeans is known to have a memory leak on Windows with MKL, when there are less chunks than available threads. You can avoid it by setting the environment variable OMP_NUM_THREADS=3.\n",
      "  warnings.warn(\n",
      "c:\\Users\\nikol\\anaconda3\\envs\\tensorflowgpu\\lib\\site-packages\\sklearn\\cluster\\_kmeans.py:1446: UserWarning: KMeans is known to have a memory leak on Windows with MKL, when there are less chunks than available threads. You can avoid it by setting the environment variable OMP_NUM_THREADS=3.\n",
      "  warnings.warn(\n",
      "c:\\Users\\nikol\\anaconda3\\envs\\tensorflowgpu\\lib\\site-packages\\sklearn\\cluster\\_kmeans.py:1446: UserWarning: KMeans is known to have a memory leak on Windows with MKL, when there are less chunks than available threads. You can avoid it by setting the environment variable OMP_NUM_THREADS=3.\n",
      "  warnings.warn(\n",
      "c:\\Users\\nikol\\anaconda3\\envs\\tensorflowgpu\\lib\\site-packages\\sklearn\\cluster\\_kmeans.py:1446: UserWarning: KMeans is known to have a memory leak on Windows with MKL, when there are less chunks than available threads. You can avoid it by setting the environment variable OMP_NUM_THREADS=3.\n",
      "  warnings.warn(\n",
      "c:\\Users\\nikol\\anaconda3\\envs\\tensorflowgpu\\lib\\site-packages\\sklearn\\cluster\\_kmeans.py:1446: UserWarning: KMeans is known to have a memory leak on Windows with MKL, when there are less chunks than available threads. You can avoid it by setting the environment variable OMP_NUM_THREADS=3.\n",
      "  warnings.warn(\n",
      "c:\\Users\\nikol\\anaconda3\\envs\\tensorflowgpu\\lib\\site-packages\\sklearn\\cluster\\_kmeans.py:1446: UserWarning: KMeans is known to have a memory leak on Windows with MKL, when there are less chunks than available threads. You can avoid it by setting the environment variable OMP_NUM_THREADS=3.\n",
      "  warnings.warn(\n",
      "c:\\Users\\nikol\\anaconda3\\envs\\tensorflowgpu\\lib\\site-packages\\sklearn\\cluster\\_kmeans.py:1446: UserWarning: KMeans is known to have a memory leak on Windows with MKL, when there are less chunks than available threads. You can avoid it by setting the environment variable OMP_NUM_THREADS=3.\n",
      "  warnings.warn(\n",
      "c:\\Users\\nikol\\anaconda3\\envs\\tensorflowgpu\\lib\\site-packages\\sklearn\\cluster\\_kmeans.py:1446: UserWarning: KMeans is known to have a memory leak on Windows with MKL, when there are less chunks than available threads. You can avoid it by setting the environment variable OMP_NUM_THREADS=3.\n",
      "  warnings.warn(\n",
      "c:\\Users\\nikol\\anaconda3\\envs\\tensorflowgpu\\lib\\site-packages\\sklearn\\cluster\\_kmeans.py:1446: UserWarning: KMeans is known to have a memory leak on Windows with MKL, when there are less chunks than available threads. You can avoid it by setting the environment variable OMP_NUM_THREADS=3.\n",
      "  warnings.warn(\n",
      "c:\\Users\\nikol\\anaconda3\\envs\\tensorflowgpu\\lib\\site-packages\\sklearn\\cluster\\_kmeans.py:1446: UserWarning: KMeans is known to have a memory leak on Windows with MKL, when there are less chunks than available threads. You can avoid it by setting the environment variable OMP_NUM_THREADS=3.\n",
      "  warnings.warn(\n",
      "c:\\Users\\nikol\\anaconda3\\envs\\tensorflowgpu\\lib\\site-packages\\sklearn\\cluster\\_kmeans.py:1446: UserWarning: KMeans is known to have a memory leak on Windows with MKL, when there are less chunks than available threads. You can avoid it by setting the environment variable OMP_NUM_THREADS=3.\n",
      "  warnings.warn(\n"
     ]
    },
    {
     "name": "stdout",
     "output_type": "stream",
     "text": [
      "Best Perplexity: 4\n",
      "Best Number of Clusters: 2\n"
     ]
    },
    {
     "name": "stderr",
     "output_type": "stream",
     "text": [
      "c:\\Users\\nikol\\anaconda3\\envs\\tensorflowgpu\\lib\\site-packages\\sklearn\\cluster\\_kmeans.py:1446: UserWarning: KMeans is known to have a memory leak on Windows with MKL, when there are less chunks than available threads. You can avoid it by setting the environment variable OMP_NUM_THREADS=3.\n",
      "  warnings.warn(\n",
      "c:\\Users\\nikol\\anaconda3\\envs\\tensorflowgpu\\lib\\site-packages\\sklearn\\cluster\\_kmeans.py:1446: UserWarning: KMeans is known to have a memory leak on Windows with MKL, when there are less chunks than available threads. You can avoid it by setting the environment variable OMP_NUM_THREADS=3.\n",
      "  warnings.warn(\n",
      "c:\\Users\\nikol\\anaconda3\\envs\\tensorflowgpu\\lib\\site-packages\\sklearn\\cluster\\_kmeans.py:1446: UserWarning: KMeans is known to have a memory leak on Windows with MKL, when there are less chunks than available threads. You can avoid it by setting the environment variable OMP_NUM_THREADS=3.\n",
      "  warnings.warn(\n",
      "c:\\Users\\nikol\\anaconda3\\envs\\tensorflowgpu\\lib\\site-packages\\sklearn\\cluster\\_kmeans.py:1446: UserWarning: KMeans is known to have a memory leak on Windows with MKL, when there are less chunks than available threads. You can avoid it by setting the environment variable OMP_NUM_THREADS=3.\n",
      "  warnings.warn(\n",
      "c:\\Users\\nikol\\anaconda3\\envs\\tensorflowgpu\\lib\\site-packages\\sklearn\\cluster\\_kmeans.py:1446: UserWarning: KMeans is known to have a memory leak on Windows with MKL, when there are less chunks than available threads. You can avoid it by setting the environment variable OMP_NUM_THREADS=3.\n",
      "  warnings.warn(\n",
      "c:\\Users\\nikol\\anaconda3\\envs\\tensorflowgpu\\lib\\site-packages\\sklearn\\cluster\\_kmeans.py:1446: UserWarning: KMeans is known to have a memory leak on Windows with MKL, when there are less chunks than available threads. You can avoid it by setting the environment variable OMP_NUM_THREADS=3.\n",
      "  warnings.warn(\n",
      "c:\\Users\\nikol\\anaconda3\\envs\\tensorflowgpu\\lib\\site-packages\\sklearn\\cluster\\_kmeans.py:1446: UserWarning: KMeans is known to have a memory leak on Windows with MKL, when there are less chunks than available threads. You can avoid it by setting the environment variable OMP_NUM_THREADS=3.\n",
      "  warnings.warn(\n",
      "c:\\Users\\nikol\\anaconda3\\envs\\tensorflowgpu\\lib\\site-packages\\sklearn\\cluster\\_kmeans.py:1446: UserWarning: KMeans is known to have a memory leak on Windows with MKL, when there are less chunks than available threads. You can avoid it by setting the environment variable OMP_NUM_THREADS=3.\n",
      "  warnings.warn(\n"
     ]
    }
   ],
   "source": [
    "from dpet.ensemble import Ensemble\n",
    "from dpet.ensemble_analysis import EnsembleAnalysis\n",
    "\n",
    "ensembles = [\n",
    "    Ensemble(\"Ensemble1\", \"C:/Users/nikol/Documents/test_dir/folder_/folder_1\"),\n",
    "    Ensemble(\"Ensemble2\", \"C:/Users/nikol/Documents/test_dir/folder_/folder_2\"),\n",
    "    Ensemble(\"Ensemble3\", \"C:/Users/nikol/Documents/test_dir/folder_/folder_3\")\n",
    "]\n",
    "data_dir = 'C:/Users/nikol/Documents/test_dir/folder_'\n",
    "featurization_params = {'featurization': \"phi_psi\"}\n",
    "reduce_dim_params = {'method': \"tsne\"}\n",
    "\n",
    "analysis = EnsembleAnalysis(ensembles, data_dir)\n",
    "analysis.execute_pipeline(featurization_params=featurization_params, reduce_dim_params=reduce_dim_params, subsample_size=200)"
   ]
  }
 ],
 "metadata": {
  "kernelspec": {
   "display_name": "tensorflowgpu",
   "language": "python",
   "name": "python3"
  },
  "language_info": {
   "codemirror_mode": {
    "name": "ipython",
    "version": 3
   },
   "file_extension": ".py",
   "mimetype": "text/x-python",
   "name": "python",
   "nbconvert_exporter": "python",
   "pygments_lexer": "ipython3",
   "version": "3.11.5"
  }
 },
 "nbformat": 4,
 "nbformat_minor": 2
}
