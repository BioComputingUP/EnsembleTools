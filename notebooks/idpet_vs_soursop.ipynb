{
 "cells": [
  {
   "cell_type": "markdown",
   "metadata": {},
   "source": [
    "# IDPET and SOURSOP "
   ]
  },
  {
   "cell_type": "code",
   "execution_count": 2,
   "metadata": {},
   "outputs": [
    {
     "name": "stderr",
     "output_type": "stream",
     "text": [
      "/home/hamid/miniconda3/envs/metapredict/lib/python3.11/site-packages/tqdm/auto.py:21: TqdmWarning: IProgress not found. Please update jupyter and ipywidgets. See https://ipywidgets.readthedocs.io/en/stable/user_install.html\n",
      "  from .autonotebook import tqdm as notebook_tqdm\n"
     ]
    },
    {
     "name": "stdout",
     "output_type": "stream",
     "text": [
      "dcdplugin) detected standard 32-bit DCD file of native endianness\n",
      "dcdplugin) CHARMM format DCD file (also NAMD 2.1 and later)\n"
     ]
    }
   ],
   "source": [
    "from idpet.ensemble import Ensemble\n",
    "from idpet.ensemble_analysis import EnsembleAnalysis\n",
    "from idpet.visualization import Visualization\n",
    "\n",
    "ensembles = [\n",
    "\n",
    "    Ensemble('PED00543e001', database='ped'), #The ensemble derived from Random pool\n",
    "]\n",
    "# Add the path to a directory you wish in order to save the analysis\n",
    "\n",
    "analysis = EnsembleAnalysis(ensembles)\n",
    "analysis.load_trajectories() # load the trajectories which already downloaded from PED for upcoming analysis\n",
    "# analysis.random_sample_trajectories(sample_size=88)\n",
    "vis = Visualization(analysis=analysis) # make the visualization object for visualizing ensemble features  "
   ]
  },
  {
   "cell_type": "code",
   "execution_count": null,
   "metadata": {},
   "outputs": [
    {
     "name": "stdout",
     "output_type": "stream",
     "text": [
      "dcdplugin) detected standard 32-bit DCD file of native endianness\n",
      "dcdplugin) CHARMM format DCD file (also NAMD 2.1 and later)\n"
     ]
    }
   ],
   "source": [
    "from soursop.sstrajectory import SSTrajectory\n",
    "import numpy as np\n",
    "\n",
    "# read in a trajectory\n",
    "TrajOb = SSTrajectory('../example/PED00543e001.dcd', '../example/PED00543e001.top.pdb')\n",
    "# get the first protein chain (this is an SSProtein object)\n",
    "ProtObj = TrajOb.proteinTrajectoryList[0]\n"
   ]
  },
  {
   "cell_type": "code",
   "execution_count": 13,
   "metadata": {},
   "outputs": [
    {
     "data": {
      "text/plain": [
       "array([52.47064139, 53.28093382, 70.47608833, ..., 17.11466242,\n",
       "       19.51946562, 20.39115836], shape=(2998,))"
      ]
     },
     "execution_count": 13,
     "metadata": {},
     "output_type": "execute_result"
    }
   ],
   "source": [
    "ProtObj.get_end_to_end_distance(mode='CA')"
   ]
  },
  {
   "cell_type": "code",
   "execution_count": 15,
   "metadata": {},
   "outputs": [
    {
     "data": {
      "text/plain": [
       "{'PED00543e001': array([5.247064 , 5.3280935, 7.047609 , ..., 1.7114662, 1.9519465,\n",
       "        2.039116 ], shape=(2998,), dtype=float32)}"
      ]
     },
     "execution_count": 15,
     "metadata": {},
     "output_type": "execute_result"
    }
   ],
   "source": [
    "analysis.get_features(featurization='end_to_end')"
   ]
  },
  {
   "cell_type": "code",
   "execution_count": 16,
   "metadata": {},
   "outputs": [
    {
     "name": "stdout",
     "output_type": "stream",
     "text": [
      "STATUS: On frame 500 of 2998 [computing gyration tensor]\n",
      "STATUS: On frame 1000 of 2998 [computing gyration tensor]\n",
      "STATUS: On frame 1500 of 2998 [computing gyration tensor]\n",
      "STATUS: On frame 2000 of 2998 [computing gyration tensor]\n",
      "STATUS: On frame 2500 of 2998 [computing gyration tensor]\n"
     ]
    },
    {
     "data": {
      "text/plain": [
       "array([0.3047543 , 0.59121666, 0.18895871, ..., 0.13490255, 0.10698341,\n",
       "       0.04224003], shape=(2998,))"
      ]
     },
     "execution_count": 16,
     "metadata": {},
     "output_type": "execute_result"
    }
   ],
   "source": [
    "ProtObj.get_asphericity()"
   ]
  },
  {
   "cell_type": "code",
   "execution_count": 17,
   "metadata": {},
   "outputs": [
    {
     "data": {
      "text/plain": [
       "{'PED00543e001': array([0.3044025 , 0.59062586, 0.18861549, ..., 0.13501289, 0.10713172,\n",
       "        0.0422199 ], shape=(2998,))}"
      ]
     },
     "execution_count": 17,
     "metadata": {},
     "output_type": "execute_result"
    }
   ],
   "source": [
    "analysis.get_features(featurization='asphericity')"
   ]
  }
 ],
 "metadata": {
  "kernelspec": {
   "display_name": "metapredict",
   "language": "python",
   "name": "python3"
  },
  "language_info": {
   "codemirror_mode": {
    "name": "ipython",
    "version": 3
   },
   "file_extension": ".py",
   "mimetype": "text/x-python",
   "name": "python",
   "nbconvert_exporter": "python",
   "pygments_lexer": "ipython3",
   "version": "3.11.14"
  }
 },
 "nbformat": 4,
 "nbformat_minor": 4
}
